{
 "cells": [
  {
   "cell_type": "markdown",
   "metadata": {},
   "source": [
    "Librerias"
   ]
  },
  {
   "cell_type": "code",
   "execution_count": 4,
   "metadata": {},
   "outputs": [],
   "source": [
    "import pandas as pd\n",
    "from scipy import stats\n",
    "import numpy as np\n",
    "import matplotlib.pyplot as plt\n",
    "import seaborn as sns"
   ]
  },
  {
   "cell_type": "markdown",
   "metadata": {},
   "source": [
    "Datos"
   ]
  },
  {
   "cell_type": "code",
   "execution_count": 5,
   "metadata": {},
   "outputs": [
    {
     "data": {
      "text/html": [
       "<div>\n",
       "<style scoped>\n",
       "    .dataframe tbody tr th:only-of-type {\n",
       "        vertical-align: middle;\n",
       "    }\n",
       "\n",
       "    .dataframe tbody tr th {\n",
       "        vertical-align: top;\n",
       "    }\n",
       "\n",
       "    .dataframe thead th {\n",
       "        text-align: right;\n",
       "    }\n",
       "</style>\n",
       "<table border=\"1\" class=\"dataframe\">\n",
       "  <thead>\n",
       "    <tr style=\"text-align: right;\">\n",
       "      <th></th>\n",
       "      <th>subject</th>\n",
       "      <th>therapy</th>\n",
       "      <th>before</th>\n",
       "      <th>after</th>\n",
       "    </tr>\n",
       "  </thead>\n",
       "  <tbody>\n",
       "    <tr>\n",
       "      <th>0</th>\n",
       "      <td>1</td>\n",
       "      <td>cb</td>\n",
       "      <td>80.5</td>\n",
       "      <td>82.2</td>\n",
       "    </tr>\n",
       "    <tr>\n",
       "      <th>1</th>\n",
       "      <td>2</td>\n",
       "      <td>cb</td>\n",
       "      <td>84.9</td>\n",
       "      <td>85.6</td>\n",
       "    </tr>\n",
       "    <tr>\n",
       "      <th>2</th>\n",
       "      <td>3</td>\n",
       "      <td>cb</td>\n",
       "      <td>81.5</td>\n",
       "      <td>81.4</td>\n",
       "    </tr>\n",
       "    <tr>\n",
       "      <th>3</th>\n",
       "      <td>4</td>\n",
       "      <td>cb</td>\n",
       "      <td>82.6</td>\n",
       "      <td>81.9</td>\n",
       "    </tr>\n",
       "    <tr>\n",
       "      <th>4</th>\n",
       "      <td>5</td>\n",
       "      <td>cb</td>\n",
       "      <td>79.9</td>\n",
       "      <td>76.4</td>\n",
       "    </tr>\n",
       "  </tbody>\n",
       "</table>\n",
       "</div>"
      ],
      "text/plain": [
       "   subject therapy  before  after\n",
       "0        1      cb    80.5   82.2\n",
       "1        2      cb    84.9   85.6\n",
       "2        3      cb    81.5   81.4\n",
       "3        4      cb    82.6   81.9\n",
       "4        5      cb    79.9   76.4"
      ]
     },
     "execution_count": 5,
     "metadata": {},
     "output_type": "execute_result"
    }
   ],
   "source": [
    "data = pd.read_csv('Anorexia.dat', sep='\\\\s+')\n",
    "data.head()"
   ]
  },
  {
   "cell_type": "markdown",
   "metadata": {},
   "source": [
    "- Calcula la diferencia de peso después y antes del período de tratamiento\n",
    "- Calcula la diferencia de peso después y antes del período de tratamiento\n",
    "- Enfócate únicamente en los datos de terapia cognitivo conductual (\"cb\" en la base de datos)\n",
    "- Calcula un intervalo del 95% de confianza para la media poblacional μ, suponiendo que los datos se distribuyen normal"
   ]
  },
  {
   "cell_type": "code",
   "execution_count": 6,
   "metadata": {},
   "outputs": [
    {
     "name": "stdout",
     "output_type": "stream",
     "text": [
      "Media de diferencia: 3.01\n",
      "Desviación estándar: 7.31\n",
      "Tamaño de muestra (n): 29\n",
      "Intervalo de confianza del 95% para μ: (0.23, 5.79)\n"
     ]
    }
   ],
   "source": [
    "cb_data = data[data['therapy'] == 'cb'].copy()\n",
    "cb_data['diferencia'] = cb_data['after'] - cb_data['before']\n",
    "\n",
    "n = len(cb_data)                # Tamaño de muestra\n",
    "media = cb_data['diferencia'].mean()  # Media de las diferencias\n",
    "std = cb_data['diferencia'].std(ddof=1)  # Desviación estándar de las diferencias\n",
    "error_std = std / np.sqrt(n)     # Error estándar de la media\n",
    "\n",
    "# Obtener el valor crítico t \n",
    "confianza = 0.95\n",
    "grados_libertad = n - 1\n",
    "t_critico = stats.t.ppf((1 + confianza) / 2, grados_libertad)\n",
    "\n",
    "# Calcular intervalo de confianza\n",
    "intervalo_inf = media - t_critico * error_std\n",
    "intervalo_sup = media + t_critico * error_std\n",
    "\n",
    "print(f\"Media de diferencia: {media:.2f}\")\n",
    "print(f\"Desviación estándar: {std:.2f}\")\n",
    "print(f\"Tamaño de muestra (n): {n}\")\n",
    "print(f\"Intervalo de confianza del 95% para μ: ({intervalo_inf:.2f}, {intervalo_sup:.2f})\")"
   ]
  },
  {
   "cell_type": "code",
   "execution_count": 7,
   "metadata": {},
   "outputs": [
    {
     "name": "stdout",
     "output_type": "stream",
     "text": [
      "\n",
      "--- Intervalo del 99% de confianza ---\n",
      "Media de diferencia: 3.01 kg\n",
      "Intervalo del 99% para μ: (-0.74, 6.76) kg\n"
     ]
    }
   ],
   "source": [
    "# Intervalo del 99% \n",
    "confianza_99 = 0.99\n",
    "t_critico_99 = stats.t.ppf((1 + confianza_99) / 2, grados_libertad)\n",
    "intervalo_inf_99 = media - t_critico_99 * error_std\n",
    "intervalo_sup_99 = media + t_critico_99 * error_std\n",
    "\n",
    "# Mostrar resultados\n",
    "print(\"\\n--- Intervalo del 99% de confianza ---\")\n",
    "print(f\"Media de diferencia: {media:.2f} kg\")\n",
    "print(f\"Intervalo del 99% para μ: ({intervalo_inf_99:.2f}, {intervalo_sup_99:.2f}) kg\")"
   ]
  },
  {
   "cell_type": "markdown",
   "metadata": {},
   "source": [
    "¿Qué es lo que observas?\n",
    "\n",
    "Podemos ver que la media media sigue siendo la misma , pero los intervalos cambian pero no varian mucho , pues el humbral en el intervalo no bambia mucho uno con respecto al otro. Tambien nos puede decir que no existen muchos datos atipicos.   "
   ]
  },
  {
   "cell_type": "markdown",
   "metadata": {},
   "source": [
    "Histograma"
   ]
  },
  {
   "cell_type": "code",
   "execution_count": 8,
   "metadata": {},
   "outputs": [
    {
     "data": {
      "image/png": "[encoded data removed]",
      "text/plain": [
       "<Figure size 800x500 with 1 Axes>"
      ]
     },
     "metadata": {},
     "output_type": "display_data"
    }
   ],
   "source": [
    "sns.set(style=\"whitegrid\")\n",
    "plt.figure(figsize=(8, 5))\n",
    "sns.histplot(data=cb_data, x='diferencia', bins=6, kde=True, color='skyblue', edgecolor='black')\n",
    "plt.axvline(x=0, color='red', linestyle='--', label='Sin cambio (diferencia = 0)')\n",
    "plt.title('Distribución de diferencias de peso (Terapia \"cb\")')\n",
    "plt.xlabel('Diferencia de peso (after - before) [kg]')\n",
    "plt.ylabel('Frecuencia')\n",
    "plt.legend()\n",
    "plt.show()"
   ]
  },
  {
   "cell_type": "markdown",
   "metadata": {},
   "source": [
    "Parece ser una normal pero faltan mas datos para ver si es normal o tiende a una normal. La media parece estar en cero, al igual que tiene cola pesada en izquierda. "
   ]
  },
  {
   "cell_type": "code",
   "execution_count": 10,
   "metadata": {},
   "outputs": [],
   "source": [
    "from scipy.stats import bootstrap"
   ]
  },
  {
   "cell_type": "code",
   "execution_count": null,
   "metadata": {},
   "outputs": [
    {
     "name": "stdout",
     "output_type": "stream",
     "text": [
      "Media observada: 3.01 kg\n",
      "Intervalo bootstrap 95%: (0.48, 5.64) kg\n",
      "\n",
      "--- Comparación ---\n",
      "Intervalo t-student 95%: (-1.75, 0.85) kg\n",
      "Intervalo bootstrap 95%: (0.48, 5.64) kg\n"
     ]
    }
   ],
   "source": [
    "cb_data = data[data['therapy'] == 'cb'].copy()\n",
    "cb_data['diferencia'] = cb_data['after'] - cb_data['before']\n",
    "diferencias = cb_data['diferencia'].values\n",
    "n_resamples = 10_000  # Número de remuestreos\n",
    "confianza = 0.95\n",
    "\n",
    "data_bootstrap = (diferencias,)  #\n",
    "\n",
    "# Calcular intervalo de confianza bootstrap para la MEDIA\n",
    "res = bootstrap(\n",
    "    data_bootstrap,\n",
    "    statistic=np.mean,  \n",
    "    n_resamples=n_resamples,\n",
    "    confidence_level=confianza,\n",
    "    method='percentile'  # Método percentil (alternativa: 'basic')\n",
    ")\n",
    "\n",
    "intervalo_bootstrap = res.confidence_interval\n",
    "media_observada = np.mean(diferencias)\n",
    "\n",
    "# Resultados\n",
    "print(f\"Media observada: {media_observada:.2f} kg\")\n",
    "print(f\"Intervalo bootstrap {confianza*100:.0f}%: ({intervalo_bootstrap.low:.2f}, {intervalo_bootstrap.high:.2f}) kg\")\n",
    "\n",
    "print(\"\\n--- Comparación ---\")\n",
    "print(\"Intervalo t-student 95%: (-1.75, 0.85) kg\")  \n",
    "print(f\"Intervalo bootstrap 95%: ({intervalo_bootstrap.low:.2f}, {intervalo_bootstrap.high:.2f}) kg\")"
   ]
  },
  {
   "cell_type": "markdown",
   "metadata": {},
   "source": [
    "Veamos que : \n",
    "\n",
    "- Distribución no normal: Los datos podrían tener outliers (como el valor -3.5 en tu muestra original) o asimetría, lo que afecta al método t (que se asume normalidad).\n",
    "\n",
    "- Bootstrap: Al no depender de supuestos distribucionales, el bootstrap captura mejor la variabilidad real de los datos, especialmente con muestras pequeñas.\n",
    "\n",
    "- Sensibilidad a outliers: Si en el remuestreo bootstrap el valor -3.5 aparece menos, la media se desplaza hacia valores positivos."
   ]
  }
 ],
 "metadata": {
  "kernelspec": {
   "display_name": "Python 3",
   "language": "python",
   "name": "python3"
  },
  "language_info": {
   "codemirror_mode": {
    "name": "ipython",
    "version": 3
   },
   "file_extension": ".py",
   "mimetype": "text/x-python",
   "name": "python",
   "nbconvert_exporter": "python",
   "pygments_lexer": "ipython3",
   "version": "3.13.0"
  }
 },
 "nbformat": 4,
 "nbformat_minor": 2
}
