{
 "cells": [
  {
   "cell_type": "markdown",
   "metadata": {},
   "source": [
    "Para una distribución hopotetica normal de parámetros $\\mu$=50 y $\\sigma$=1.5 que da lugar a una muestra $\\bar{X_{1}}$, ..., $\\bar{X_{n}}$.(utiliza el n de tu elección) comprueba a traves de simulación que un 95% de los intervalos de confianza bootstrap de cobertura de 0.95 para $\\sigma$ contienen el verdadero parámetro $\\sigma$"
   ]
  },
  {
   "cell_type": "code",
   "execution_count": 6,
   "metadata": {},
   "outputs": [
    {
     "name": "stdout",
     "output_type": "stream",
     "text": [
      "Proporción de intervalos que contienen σ verdadero: 0.9300\n"
     ]
    }
   ],
   "source": [
    "import numpy as np\n",
    "from sklearn.utils import resample\n",
    "\n",
    "mu = 50\n",
    "sigma_true = 1.5\n",
    "n = 100  \n",
    "n_bootstrap = 1000  #  muestras bootstrap por simulación\n",
    "n_simulations = 1000  # simulaciones para calcular la cobertura\n",
    "\n",
    "# Lista de intervalos que cubre el sigma verdadero en cada simulación\n",
    "covers = []  \n",
    "\n",
    "for _ in range(n_simulations):\n",
    "    # 1. Generar muestra original\n",
    "    original_sample = np.random.normal(mu, sigma_true, n)\n",
    "    \n",
    "    # Muestras bootstrap y calculamox sus desviaciones estándar\n",
    "    bootstrap_sigmas = []\n",
    "    for __ in range(n_bootstrap):\n",
    "        bootstrap_sample = resample(original_sample, replace=True, n_samples=n)\n",
    "        bootstrap_sigma = np.std(bootstrap_sample, ddof=1)  \n",
    "        bootstrap_sigmas.append(bootstrap_sigma)\n",
    "    \n",
    "    lower = np.percentile(bootstrap_sigmas, 2.5)\n",
    "    upper = np.percentile(bootstrap_sigmas, 97.5)\n",
    "    \n",
    "    # Vemos que el intervalo cubre el sigma verdadero\n",
    "    cover = (lower <= sigma_true) and (sigma_true <= upper)\n",
    "    covers.append(cover)  \n",
    "\n",
    "\n",
    "coverage_proportion = np.mean(covers)\n",
    "print(f\"Proporción de intervalos que contienen σ verdadero: {coverage_proportion:.4f}\")"
   ]
  }
 ],
 "metadata": {
  "kernelspec": {
   "display_name": "Python 3",
   "language": "python",
   "name": "python3"
  },
  "language_info": {
   "codemirror_mode": {
    "name": "ipython",
    "version": 3
   },
   "file_extension": ".py",
   "mimetype": "text/x-python",
   "name": "python",
   "nbconvert_exporter": "python",
   "pygments_lexer": "ipython3",
   "version": "3.13.0"
  }
 },
 "nbformat": 4,
 "nbformat_minor": 2
}
