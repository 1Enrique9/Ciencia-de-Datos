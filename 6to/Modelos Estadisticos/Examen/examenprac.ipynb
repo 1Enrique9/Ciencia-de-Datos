{
 "cells": [
  {
   "cell_type": "code",
   "execution_count": 43,
   "id": "74a4e9b9",
   "metadata": {},
   "outputs": [],
   "source": [
    "import pandas as pd \n"
   ]
  },
  {
   "cell_type": "code",
   "execution_count": 44,
   "id": "ee537252",
   "metadata": {},
   "outputs": [
    {
     "data": {
      "text/html": [
       "<div>\n",
       "<style scoped>\n",
       "    .dataframe tbody tr th:only-of-type {\n",
       "        vertical-align: middle;\n",
       "    }\n",
       "\n",
       "    .dataframe tbody tr th {\n",
       "        vertical-align: top;\n",
       "    }\n",
       "\n",
       "    .dataframe thead th {\n",
       "        text-align: right;\n",
       "    }\n",
       "</style>\n",
       "<table border=\"1\" class=\"dataframe\">\n",
       "  <thead>\n",
       "    <tr style=\"text-align: right;\">\n",
       "      <th></th>\n",
       "      <th>POLVIEWS</th>\n",
       "      <th>PARTYID</th>\n",
       "      <th>YEAR</th>\n",
       "    </tr>\n",
       "  </thead>\n",
       "  <tbody>\n",
       "    <tr>\n",
       "      <th>0</th>\n",
       "      <td>4</td>\n",
       "      <td>2</td>\n",
       "      <td>1974</td>\n",
       "    </tr>\n",
       "    <tr>\n",
       "      <th>1</th>\n",
       "      <td>5</td>\n",
       "      <td>0</td>\n",
       "      <td>1974</td>\n",
       "    </tr>\n",
       "    <tr>\n",
       "      <th>2</th>\n",
       "      <td>6</td>\n",
       "      <td>0</td>\n",
       "      <td>1974</td>\n",
       "    </tr>\n",
       "    <tr>\n",
       "      <th>3</th>\n",
       "      <td>6</td>\n",
       "      <td>0</td>\n",
       "      <td>1974</td>\n",
       "    </tr>\n",
       "    <tr>\n",
       "      <th>4</th>\n",
       "      <td>6</td>\n",
       "      <td>1</td>\n",
       "      <td>1974</td>\n",
       "    </tr>\n",
       "  </tbody>\n",
       "</table>\n",
       "</div>"
      ],
      "text/plain": [
       "   POLVIEWS  PARTYID  YEAR\n",
       "0         4        2  1974\n",
       "1         5        0  1974\n",
       "2         6        0  1974\n",
       "3         6        0  1974\n",
       "4         6        1  1974"
      ]
     },
     "execution_count": 44,
     "metadata": {},
     "output_type": "execute_result"
    }
   ],
   "source": [
    "df = pd.read_csv('sub-data.csv')\n",
    "df.head()"
   ]
  },
  {
   "cell_type": "code",
   "execution_count": 45,
   "id": "799cb272",
   "metadata": {},
   "outputs": [
    {
     "data": {
      "text/html": [
       "<div>\n",
       "<style scoped>\n",
       "    .dataframe tbody tr th:only-of-type {\n",
       "        vertical-align: middle;\n",
       "    }\n",
       "\n",
       "    .dataframe tbody tr th {\n",
       "        vertical-align: top;\n",
       "    }\n",
       "\n",
       "    .dataframe thead th {\n",
       "        text-align: right;\n",
       "    }\n",
       "</style>\n",
       "<table border=\"1\" class=\"dataframe\">\n",
       "  <thead>\n",
       "    <tr style=\"text-align: right;\">\n",
       "      <th></th>\n",
       "      <th>orientacion politica</th>\n",
       "      <th>partido</th>\n",
       "      <th>YEAR</th>\n",
       "    </tr>\n",
       "  </thead>\n",
       "  <tbody>\n",
       "    <tr>\n",
       "      <th>0</th>\n",
       "      <td>4</td>\n",
       "      <td>2</td>\n",
       "      <td>1974</td>\n",
       "    </tr>\n",
       "    <tr>\n",
       "      <th>1</th>\n",
       "      <td>5</td>\n",
       "      <td>0</td>\n",
       "      <td>1974</td>\n",
       "    </tr>\n",
       "    <tr>\n",
       "      <th>2</th>\n",
       "      <td>6</td>\n",
       "      <td>0</td>\n",
       "      <td>1974</td>\n",
       "    </tr>\n",
       "    <tr>\n",
       "      <th>3</th>\n",
       "      <td>6</td>\n",
       "      <td>0</td>\n",
       "      <td>1974</td>\n",
       "    </tr>\n",
       "    <tr>\n",
       "      <th>4</th>\n",
       "      <td>6</td>\n",
       "      <td>1</td>\n",
       "      <td>1974</td>\n",
       "    </tr>\n",
       "  </tbody>\n",
       "</table>\n",
       "</div>"
      ],
      "text/plain": [
       "   orientacion politica  partido  YEAR\n",
       "0                     4        2  1974\n",
       "1                     5        0  1974\n",
       "2                     6        0  1974\n",
       "3                     6        0  1974\n",
       "4                     6        1  1974"
      ]
     },
     "execution_count": 45,
     "metadata": {},
     "output_type": "execute_result"
    }
   ],
   "source": [
    "#Renombrara las columnas de Polviews a orientacion politica y Partyid a partido\n",
    "df.rename(columns={'POLVIEWS': 'orientacion politica', 'PARTYID': 'partido'}, inplace=True)\n",
    "df.head()"
   ]
  },
  {
   "cell_type": "code",
   "execution_count": 46,
   "id": "13eb46fa",
   "metadata": {},
   "outputs": [
    {
     "data": {
      "text/html": [
       "<div>\n",
       "<style scoped>\n",
       "    .dataframe tbody tr th:only-of-type {\n",
       "        vertical-align: middle;\n",
       "    }\n",
       "\n",
       "    .dataframe tbody tr th {\n",
       "        vertical-align: top;\n",
       "    }\n",
       "\n",
       "    .dataframe thead th {\n",
       "        text-align: right;\n",
       "    }\n",
       "</style>\n",
       "<table border=\"1\" class=\"dataframe\">\n",
       "  <thead>\n",
       "    <tr style=\"text-align: right;\">\n",
       "      <th></th>\n",
       "      <th>orientacion politica</th>\n",
       "      <th>partido</th>\n",
       "      <th>YEAR</th>\n",
       "    </tr>\n",
       "  </thead>\n",
       "  <tbody>\n",
       "    <tr>\n",
       "      <th>1</th>\n",
       "      <td>5</td>\n",
       "      <td>0</td>\n",
       "      <td>1974</td>\n",
       "    </tr>\n",
       "    <tr>\n",
       "      <th>2</th>\n",
       "      <td>6</td>\n",
       "      <td>0</td>\n",
       "      <td>1974</td>\n",
       "    </tr>\n",
       "    <tr>\n",
       "      <th>3</th>\n",
       "      <td>6</td>\n",
       "      <td>0</td>\n",
       "      <td>1974</td>\n",
       "    </tr>\n",
       "    <tr>\n",
       "      <th>7</th>\n",
       "      <td>5</td>\n",
       "      <td>0</td>\n",
       "      <td>1974</td>\n",
       "    </tr>\n",
       "    <tr>\n",
       "      <th>9</th>\n",
       "      <td>6</td>\n",
       "      <td>0</td>\n",
       "      <td>1974</td>\n",
       "    </tr>\n",
       "    <tr>\n",
       "      <th>...</th>\n",
       "      <td>...</td>\n",
       "      <td>...</td>\n",
       "      <td>...</td>\n",
       "    </tr>\n",
       "    <tr>\n",
       "      <th>3801</th>\n",
       "      <td>1</td>\n",
       "      <td>0</td>\n",
       "      <td>2018</td>\n",
       "    </tr>\n",
       "    <tr>\n",
       "      <th>3803</th>\n",
       "      <td>3</td>\n",
       "      <td>0</td>\n",
       "      <td>2018</td>\n",
       "    </tr>\n",
       "    <tr>\n",
       "      <th>3812</th>\n",
       "      <td>5</td>\n",
       "      <td>6</td>\n",
       "      <td>2018</td>\n",
       "    </tr>\n",
       "    <tr>\n",
       "      <th>3821</th>\n",
       "      <td>6</td>\n",
       "      <td>6</td>\n",
       "      <td>2018</td>\n",
       "    </tr>\n",
       "    <tr>\n",
       "      <th>3822</th>\n",
       "      <td>4</td>\n",
       "      <td>6</td>\n",
       "      <td>2018</td>\n",
       "    </tr>\n",
       "  </tbody>\n",
       "</table>\n",
       "<p>952 rows × 3 columns</p>\n",
       "</div>"
      ],
      "text/plain": [
       "      orientacion politica  partido  YEAR\n",
       "1                        5        0  1974\n",
       "2                        6        0  1974\n",
       "3                        6        0  1974\n",
       "7                        5        0  1974\n",
       "9                        6        0  1974\n",
       "...                    ...      ...   ...\n",
       "3801                     1        0  2018\n",
       "3803                     3        0  2018\n",
       "3812                     5        6  2018\n",
       "3821                     6        6  2018\n",
       "3822                     4        6  2018\n",
       "\n",
       "[952 rows x 3 columns]"
      ]
     },
     "execution_count": 46,
     "metadata": {},
     "output_type": "execute_result"
    }
   ],
   "source": [
    "# Quearme con orientacion \n",
    "df=df.drop(df[df[\"orientacion politica\"]==8].index)\n",
    "df=df.drop(df[df[\"orientacion politica\"]==9].index)\n",
    "df=df.drop(df[df[\"orientacion politica\"]==0].index)\n",
    "#quedarme solo con 0 y 6 en PartyID\n",
    "df = df[df[\"partido\"].isin([0, 6])]\n",
    "df"
   ]
  },
  {
   "cell_type": "code",
   "execution_count": 47,
   "id": "6006f7ea",
   "metadata": {},
   "outputs": [
    {
     "data": {
      "text/html": [
       "<div>\n",
       "<style scoped>\n",
       "    .dataframe tbody tr th:only-of-type {\n",
       "        vertical-align: middle;\n",
       "    }\n",
       "\n",
       "    .dataframe tbody tr th {\n",
       "        vertical-align: top;\n",
       "    }\n",
       "\n",
       "    .dataframe thead th {\n",
       "        text-align: right;\n",
       "    }\n",
       "</style>\n",
       "<table border=\"1\" class=\"dataframe\">\n",
       "  <thead>\n",
       "    <tr style=\"text-align: right;\">\n",
       "      <th></th>\n",
       "      <th>orientacion politica</th>\n",
       "      <th>partido</th>\n",
       "      <th>YEAR</th>\n",
       "    </tr>\n",
       "  </thead>\n",
       "  <tbody>\n",
       "    <tr>\n",
       "      <th>1</th>\n",
       "      <td>5</td>\n",
       "      <td>0</td>\n",
       "      <td>1974</td>\n",
       "    </tr>\n",
       "    <tr>\n",
       "      <th>2</th>\n",
       "      <td>6</td>\n",
       "      <td>0</td>\n",
       "      <td>1974</td>\n",
       "    </tr>\n",
       "    <tr>\n",
       "      <th>3</th>\n",
       "      <td>6</td>\n",
       "      <td>0</td>\n",
       "      <td>1974</td>\n",
       "    </tr>\n",
       "    <tr>\n",
       "      <th>7</th>\n",
       "      <td>5</td>\n",
       "      <td>0</td>\n",
       "      <td>1974</td>\n",
       "    </tr>\n",
       "    <tr>\n",
       "      <th>9</th>\n",
       "      <td>6</td>\n",
       "      <td>0</td>\n",
       "      <td>1974</td>\n",
       "    </tr>\n",
       "  </tbody>\n",
       "</table>\n",
       "</div>"
      ],
      "text/plain": [
       "   orientacion politica  partido  YEAR\n",
       "1                     5        0  1974\n",
       "2                     6        0  1974\n",
       "3                     6        0  1974\n",
       "7                     5        0  1974\n",
       "9                     6        0  1974"
      ]
     },
     "execution_count": 47,
     "metadata": {},
     "output_type": "execute_result"
    }
   ],
   "source": [
    "df_1974 = df[df['YEAR'] == 1974]\n",
    "df_2018 = df[df['YEAR'] == 2018]\n",
    "df_1974.head()"
   ]
  },
  {
   "cell_type": "code",
   "execution_count": null,
   "id": "ca7cafcc",
   "metadata": {},
   "outputs": [],
   "source": [
    "# Función para el intervalo de confianza de una diferencia de medias, suponiendo distr. pivotal t de student\n",
    "from scipy.stats import t    # Necesario para la definición de la función\n",
    "import numpy as np\n",
    "def interv_conf_dosmedias(y1, y2, m_var = True, alfa = 0.05):\n",
    "    n1 = len(y1); n2 = len(y2)\n",
    "    v1 = np.var(y1, ddof = 1); v2 = np.var(y2, ddof = 1)\n",
    "    if m_var:\n",
    "        df = n1+n2-2\n",
    "        var_resta = (((n1-1)*v1+(n2-1)*v2)/(n1+n2-2))*(1/n1+1/n2)\n",
    "    else:\n",
    "        df = (v1/n1+v2/n2)**2/(v1**2/(n1**2*(n1-1))+v2**2/(n2**2*(n2-1)))\n",
    "        var_resta = v1/n1+v2/n2\n",
    "    se = np.sqrt(var_resta)\n",
    "    t_a = t.isf(alfa/2,df)\n",
    "    resta_medias = np.mean(y1)-np.mean(y2)\n",
    "    interv_conf = resta_medias+np.array([-1, 1])*t_a*se\n",
    "    confianza = 1-alfa\n",
    "    return resta_medias, interv_conf, confianza, df\n",
    "\n",
    "# Función para t-test de dos muestras ind.\n",
    "from scipy.stats import ttest_ind\n",
    "# Para echarle un oclayo a la documentación\n",
    "help(ttest_ind)"
   ]
  },
  {
   "cell_type": "code",
   "execution_count": 49,
   "id": "814f0ab3",
   "metadata": {},
   "outputs": [
    {
     "name": "stdout",
     "output_type": "stream",
     "text": [
      "Año 1974\n",
      "Diferencia de medias: -0.940645270699962\n",
      "Intervalo de confianza al 95.0%: [-1.2636247  -0.61766584]\n",
      "Grados de libertad: 330.00\n"
     ]
    }
   ],
   "source": [
    "grupo_0 = df_1974[df_1974[\"partido\"] == 0][\"orientacion politica\"]\n",
    "grupo_6 = df_1974[df_1974[\"partido\"] == 6][\"orientacion politica\"]\n",
    "resta_medias, intervalo, conf, grados_libertad = interv_conf_dosmedias(grupo_0, grupo_6, m_var=True, alfa=0.05)\n",
    "\n",
    "print(f\"Año 1974\")\n",
    "print(f\"Diferencia de medias: {resta_medias}\")\n",
    "print(f\"Intervalo de confianza al {conf*100:.1f}%: {intervalo}\")\n",
    "print(f\"Grados de libertad: {grados_libertad:.2f}\")"
   ]
  },
  {
   "cell_type": "code",
   "execution_count": 50,
   "id": "92facd09",
   "metadata": {},
   "outputs": [
    {
     "name": "stdout",
     "output_type": "stream",
     "text": [
      "Año 2018\n",
      "Diferencia de medias: -2.741934092477571\n",
      "Intervalo de confianza al 95.0%: [-2.95530577 -2.52856242]\n",
      "Grados de libertad: 618.00\n"
     ]
    }
   ],
   "source": [
    "grupo_0 = df_2018[df_2018[\"partido\"] == 0][\"orientacion politica\"]\n",
    "grupo_6 = df_2018[df_2018[\"partido\"] == 6][\"orientacion politica\"]\n",
    "resta_medias, intervalo, conf, grados_libertad = interv_conf_dosmedias(grupo_0, grupo_6, m_var=True, alfa=0.05)\n",
    "\n",
    "print(f\"Año 2018\")\n",
    "print(f\"Diferencia de medias: {resta_medias}\")\n",
    "print(f\"Intervalo de confianza al {conf*100:.1f}%: {intervalo}\")\n",
    "print(f\"Grados de libertad: {grados_libertad:.2f}\")"
   ]
  },
  {
   "cell_type": "markdown",
   "id": "79a3de6e",
   "metadata": {},
   "source": [
    "Podemos ver que en 2018 como tenemos mas datos eso puede ayudar a que sea mas preciso , pero como vemos que la media entre ambos estan en un intervalo ma chico pero son valores altos , lo que nos dice que las medias son mas altos son mas altas entre amos grupos para el 2018 por lo que hoy en dia exiten los grupos mas polarizados.  Ahroa bien en 1974 como no tenemos la misma cantidad de datos (esto se puede deber a que antes los datos se registraban a hoja y papel por lo que se perdia mucha info) entonces su rango es mas amplio y no es tan preciso pero sus media no tiene tanta diferencia lo que nos dice que no habia mucha diferencia o polarizacion entre grupos"
   ]
  },
  {
   "cell_type": "markdown",
   "id": "a1116e79",
   "metadata": {},
   "source": [
    "# Prueba de hipotesis "
   ]
  },
  {
   "cell_type": "markdown",
   "id": "0356afd7",
   "metadata": {},
   "source": [
    "1974"
   ]
  },
  {
   "cell_type": "code",
   "execution_count": 51,
   "id": "bc2c590b",
   "metadata": {},
   "outputs": [
    {
     "name": "stdout",
     "output_type": "stream",
     "text": [
      "Estadístico t: -5.729211084761955\n",
      "Valor p: 2.2741011426597366e-08\n"
     ]
    }
   ],
   "source": [
    "grupo_0 = df_1974[df_1974[\"partido\"] == 0][\"orientacion politica\"]\n",
    "grupo_6 = df_1974[df_1974[\"partido\"] == 6][\"orientacion politica\"]\n",
    "t_stat, p_val = ttest_ind(grupo_0, grupo_6, equal_var=True)  \n",
    "\n",
    "print(\"Estadístico t:\", t_stat)\n",
    "print(\"Valor p:\", p_val)\n"
   ]
  },
  {
   "cell_type": "code",
   "execution_count": 53,
   "id": "8af7cd81",
   "metadata": {},
   "outputs": [
    {
     "name": "stdout",
     "output_type": "stream",
     "text": [
      "Rechazamos H₀: hay evidencia de diferencia en las medias.\n"
     ]
    }
   ],
   "source": [
    "if p_val < 0.05:\n",
    "    print(\"Rechazamos H₀: hay evidencia de diferencia en las medias.\")\n",
    "else:\n",
    "    print(\"No se rechaza H₀: no hay evidencia suficiente para afirmar diferencia en las medias.\")"
   ]
  },
  {
   "cell_type": "markdown",
   "id": "bf423249",
   "metadata": {},
   "source": [
    "2018"
   ]
  },
  {
   "cell_type": "code",
   "execution_count": 52,
   "id": "49e6e058",
   "metadata": {},
   "outputs": [
    {
     "name": "stdout",
     "output_type": "stream",
     "text": [
      "Estadístico t: -25.235953181450288\n",
      "Valor p: 4.009417938864369e-97\n"
     ]
    }
   ],
   "source": [
    "grupo_0 = df_2018[df_2018[\"partido\"] == 0][\"orientacion politica\"]\n",
    "grupo_6 = df_2018[df_2018[\"partido\"] == 6][\"orientacion politica\"]\n",
    "t_stat, p_val = ttest_ind(grupo_0, grupo_6, equal_var=True)  \n",
    "\n",
    "print(\"Estadístico t:\", t_stat)\n",
    "print(\"Valor p:\", p_val)\n"
   ]
  },
  {
   "cell_type": "code",
   "execution_count": 54,
   "id": "76584823",
   "metadata": {},
   "outputs": [
    {
     "name": "stdout",
     "output_type": "stream",
     "text": [
      "Rechazamos H₀: hay evidencia de diferencia en las medias.\n"
     ]
    }
   ],
   "source": [
    "if p_val < 0.05:\n",
    "    print(\"Rechazamos H₀: hay evidencia de diferencia en las medias.\")\n",
    "else:\n",
    "    print(\"No se rechaza H₀: no hay evidencia suficiente para afirmar diferencia en las medias.\")"
   ]
  },
  {
   "cell_type": "markdown",
   "id": "6be64942",
   "metadata": {},
   "source": [
    "Como se rechaza en los dos casos las medias no son las mismas existe evidencia de la estadísticamente significativa de que la media de orientación política difiere entre los votantes de los partidos 0 y 6, tanto en 1974 como en 2018."
   ]
  },
  {
   "cell_type": "markdown",
   "id": "c5439321",
   "metadata": {},
   "source": [
    "En cuanto al contexto histroico es importante resaltar que en1974, la diferencia ideológica entre estos dos grupos ya era significativa.\n",
    "\n",
    "En 2018, esa diferencia sigue siendo significativa , pero puede ser incluso aun mas pues esta en un valor de e-97.\n",
    "\n"
   ]
  },
  {
   "cell_type": "markdown",
   "id": "294c3cdf",
   "metadata": {},
   "source": [
    "Me da mas informacion una prueba de hipotesis , por que puedes comparar y queremos tomar decisiones, pero si queremos esrtimar es mejor un intevalo de confianza.  Queremos una respuesta concreta"
   ]
  }
 ],
 "metadata": {
  "kernelspec": {
   "display_name": "Python 3",
   "language": "python",
   "name": "python3"
  },
  "language_info": {
   "codemirror_mode": {
    "name": "ipython",
    "version": 3
   },
   "file_extension": ".py",
   "mimetype": "text/x-python",
   "name": "python",
   "nbconvert_exporter": "python",
   "pygments_lexer": "ipython3",
   "version": "3.13.0"
  }
 },
 "nbformat": 4,
 "nbformat_minor": 5
}
