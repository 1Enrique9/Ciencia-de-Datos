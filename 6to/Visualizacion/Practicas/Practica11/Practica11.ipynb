{
 "cells": [
  {
   "cell_type": "markdown",
   "id": "244a5fdc",
   "metadata": {},
   "source": [
    "# Ejercicio 1"
   ]
  },
  {
   "cell_type": "code",
   "execution_count": null,
   "id": "0e7651e6",
   "metadata": {},
   "outputs": [],
   "source": [
    "import pandas as pd\n",
    "import folium\n",
    "from folium.plugins import MarkerCluster\n",
    "\n",
    "# Cargar los datos\n",
    "df = pd.read_csv('plane_routes_with_coordinates.csv')\n",
    "\n",
    "# Crear mapa base\n",
    "world_map = folium.Map(location=[20, 0], zoom_start=2)\n",
    "\n",
    "# Agrupar marcadores para mejor visualización\n",
    "marker_cluster = MarkerCluster().add_to(world_map)\n",
    "\n",
    "# Diccionario para almacenar aeropuertos ya procesados\n",
    "processed_airports = {}\n",
    "\n",
    "# Procesar cada ruta\n",
    "for idx, row in df.iterrows():\n",
    "    # Coordenadas de origen y destino\n",
    "    source_coords = (row['source lat'], row['source lon'])\n",
    "    dest_coords = (row['destination lat'], row['destination lon'])\n",
    "    \n",
    "    # Solo procesar si las coordenadas son válidas (no 0,0)\n",
    "    if source_coords != (0.0, 0.0) and dest_coords != (0.0, 0.0):\n",
    "        # Aeropuerto de origen\n",
    "        if row['source airport'] not in processed_airports:\n",
    "            folium.Marker(\n",
    "                location=source_coords,\n",
    "                popup=f\"{row['source airport name']}, {row['source city']}, {row['source country']}\",\n",
    "                tooltip=row['source airport'],\n",
    "                icon=folium.Icon(color='blue', icon='plane', prefix='fa')\n",
    "            ).add_to(marker_cluster)\n",
    "            processed_airports[row['source airport']] = True\n",
    "        \n",
    "        # Aeropuerto de destino\n",
    "        if row['destination airport'] not in processed_airports:\n",
    "            folium.Marker(\n",
    "                location=dest_coords,\n",
    "                popup=f\"{row['destination airport name']}, {row['destination city']}, {row['destination country']}\",\n",
    "                tooltip=row['destination airport'],\n",
    "                icon=folium.Icon(color='green', icon='plane', prefix='fa')\n",
    "            ).add_to(marker_cluster)\n",
    "            processed_airports[row['destination airport']] = True\n",
    "        \n",
    "        # Línea de ruta\n",
    "        folium.PolyLine(\n",
    "            locations=[source_coords, dest_coords],\n",
    "            color='gray',\n",
    "            weight=1,\n",
    "            opacity=0.5,\n",
    "            tooltip=f\"{row['source airport']} to {row['destination airport']}\"\n",
    "        ).add_to(world_map)\n",
    "\n",
    "# Mostrar el mapa\n",
    "world_map.save('world_airport_operations.html')\n",
    "world_map"
   ]
  },
  {
   "cell_type": "markdown",
   "id": "4181b196",
   "metadata": {},
   "source": [
    "# Ejercicio 2"
   ]
  },
  {
   "cell_type": "code",
   "execution_count": 3,
   "id": "8d3d359d",
   "metadata": {},
   "outputs": [
    {
     "data": {
      "application/vnd.plotly.v1+json": {
       "config": {
        "plotlyServerURL": "https://plot.ly"
       },
       "data": [
        {
         "customdata": [
          [
           "SWEDEN",
           1
          ],
          [
           "SPAIN",
           2
          ],
          [
           "BRAZIL",
           3
          ],
          [
           "UNITED STATES OF AMERICA",
           2
          ],
          [
           "SPAIN",
           2
          ],
          [
           "ARGENTINA",
           2
          ],
          [
           "GERMANY",
           1
          ],
          [
           "RUSSIAN FEDERATION",
           4
          ],
          [
           "SWEDEN",
           2
          ],
          [
           "UNITED STATES OF AMERICA",
           2
          ],
          [
           "BULGARIA",
           2
          ],
          [
           "FRANCE",
           2
          ],
          [
           "RUSSIAN FEDERATION",
           4
          ],
          [
           "UNITED KINGDOM",
           2
          ],
          [
           "SWITZERLAND",
           2
          ],
          [
           "GERMANY",
           2
          ],
          [
           "UNITED STATES OF AMERICA",
           1
          ],
          [
           "RUSSIAN FEDERATION",
           4
          ],
          [
           "FRANCE",
           4
          ],
          [
           "KAZAKHSTAN",
           1
          ],
          [
           "SLOVAK REPUBLIC",
           5
          ],
          [
           "UNITED STATES OF AMERICA",
           1
          ],
          [
           "NETHERLANDS",
           1
          ],
          [
           "UNITED KINGDOM",
           2
          ],
          [
           "UNITED STATES OF AMERICA",
           2
          ],
          [
           "FRANCE",
           1
          ],
          [
           "GERMANY",
           1
          ],
          [
           "UNITED STATES OF AMERICA",
           3
          ],
          [
           "CANADA",
           8
          ],
          [
           "GERMANY",
           1
          ],
          [
           "UNITED STATES OF AMERICA",
           2
          ],
          [
           "FRANCE",
           5
          ],
          [
           "IRAN, ISLAMIC REPUBLIC OF",
           1
          ],
          [
           "UNITED STATES OF AMERICA",
           2
          ],
          [
           "UNITED STATES OF AMERICA",
           1
          ],
          [
           "UNITED STATES OF AMERICA",
           2
          ],
          [
           "ITALY",
           1
          ],
          [
           "UNITED STATES OF AMERICA",
           2
          ],
          [
           "FRANCE",
           4
          ],
          [
           "CHINA",
           1
          ],
          [
           "ROMANIA",
           2
          ],
          [
           "CHINA",
           2
          ],
          [
           "UNITED KINGDOM",
           4
          ],
          [
           "PAKISTAN",
           4
          ],
          [
           "UKRAINE",
           4
          ],
          [
           "TAIWAN, CHINA",
           2
          ],
          [
           "FRANCE",
           7
          ],
          [
           "FRANCE",
           3
          ],
          [
           "FRANCE",
           2
          ],
          [
           "UNITED STATES OF AMERICA",
           1
          ],
          [
           "SPAIN",
           1
          ],
          [
           "UNITED STATES OF AMERICA",
           1
          ],
          [
           "UNITED STATES OF AMERICA",
           2
          ],
          [
           "UNITED STATES OF AMERICA",
           1
          ],
          [
           "FRANCE",
           1
          ],
          [
           "FRANCE",
           4
          ],
          [
           "UNITED STATES OF AMERICA",
           1
          ],
          [
           "UNITED STATES OF AMERICA",
           1
          ],
          [
           "FRANCE",
           4
          ],
          [
           "CANADA",
           4
          ],
          [
           "UNITED STATES OF AMERICA",
           1
          ],
          [
           "UNITED STATES OF AMERICA",
           2
          ],
          [
           "NETHERLANDS",
           1
          ],
          [
           "BELGIUM",
           4
          ],
          [
           "UNITED STATES OF AMERICA",
           2
          ],
          [
           "CANADA",
           1
          ],
          [
           "UNITED KINGDOM",
           2
          ],
          [
           "UNITED STATES OF AMERICA",
           3
          ],
          [
           "UNITED STATES OF AMERICA",
           1
          ],
          [
           "CZECH REPUBLIC",
           4
          ],
          [
           "UNITED KINGDOM",
           4
          ],
          [
           "UNITED STATES OF AMERICA",
           1
          ],
          [
           "ARGENTINA",
           1
          ],
          [
           "GERMANY",
           1
          ],
          [
           "UNITED STATES OF AMERICA",
           3
          ],
          [
           "CHINA",
           2
          ],
          [
           "UNITED STATES OF AMERICA",
           2
          ],
          [
           "FRANCE",
           2
          ],
          [
           "UNITED STATES OF AMERICA",
           1
          ],
          [
           "FRANCE",
           3
          ],
          [
           "SWEDEN",
           3
          ],
          [
           "UNITED STATES OF AMERICA",
           1
          ],
          [
           "UNITED STATES OF AMERICA",
           1
          ],
          [
           "JAPAN",
           1
          ],
          [
           "JAPAN",
           6
          ],
          [
           "JAPAN",
           4
          ],
          [
           "CHINA",
           3
          ],
          [
           "ITALY",
           1
          ],
          [
           "JAPAN",
           4
          ],
          [
           "CANADA",
           2
          ],
          [
           "SWITZERLAND",
           1
          ],
          [
           "FRANCE",
           2
          ],
          [
           "GERMANY",
           1
          ],
          [
           "UNITED STATES OF AMERICA",
           1
          ],
          [
           "FRANCE",
           6
          ],
          [
           "GERMANY",
           5
          ],
          [
           "GERMANY",
           1
          ],
          [
           "CHINA",
           2
          ],
          [
           "GERMANY",
           3
          ],
          [
           "UNITED STATES OF AMERICA",
           1
          ],
          [
           "UNITED STATES OF AMERICA",
           1
          ],
          [
           "CHINA",
           2
          ],
          [
           "UNITED STATES OF AMERICA",
           1
          ],
          [
           "JAPAN",
           5
          ],
          [
           "UNITED KINGDOM",
           2
          ],
          [
           "UNITED STATES OF AMERICA",
           2
          ],
          [
           "GERMANY",
           1
          ],
          [
           "UNITED KINGDOM",
           4
          ],
          [
           "JAPAN",
           1
          ],
          [
           "UNITED KINGDOM",
           2
          ],
          [
           "UNITED KINGDOM",
           2
          ],
          [
           "CHINA",
           4
          ],
          [
           "UNITED STATES OF AMERICA",
           1
          ],
          [
           "UNITED STATES OF AMERICA",
           1
          ],
          [
           "UNITED KINGDOM",
           2
          ],
          [
           "UNITED KINGDOM",
           2
          ],
          [
           "LITHUANIA",
           2
          ],
          [
           "JAPAN",
           3
          ],
          [
           "UNITED STATES OF AMERICA",
           3
          ],
          [
           "GERMANY",
           2
          ],
          [
           "SPAIN",
           1
          ],
          [
           "JAPAN",
           1
          ],
          [
           "INDIA",
           4
          ],
          [
           "INDIA",
           4
          ],
          [
           "RUSSIAN FEDERATION",
           4
          ],
          [
           "PAKISTAN",
           1
          ],
          [
           "JAPAN",
           7
          ],
          [
           "UNITED STATES OF AMERICA",
           1
          ],
          [
           "UKRAINE",
           4
          ],
          [
           "GERMANY",
           1
          ],
          [
           "SOUTH AFRICA",
           2
          ],
          [
           "RUSSIAN FEDERATION",
           4
          ],
          [
           "KOREA, REPUBLIC OF",
           8
          ],
          [
           "BULGARIA",
           6
          ],
          [
           "SLOVENIA",
           1
          ],
          [
           "GERMANY",
           1
          ],
          [
           "INDIA",
           2
          ],
          [
           "TAIWAN, CHINA",
           2
          ],
          [
           "RUSSIAN FEDERATION",
           5
          ],
          [
           "UNITED STATES OF AMERICA",
           1
          ],
          [
           "MEXICO",
           2
          ],
          [
           "UNITED STATES OF AMERICA",
           2
          ],
          [
           "ITALY",
           1
          ],
          [
           "SWITZERLAND",
           1
          ],
          [
           "RUSSIAN FEDERATION",
           4
          ],
          [
           "RUSSIAN FEDERATION",
           2
          ],
          [
           "UNITED STATES OF AMERICA",
           2
          ],
          [
           "CHINA",
           4
          ],
          [
           "GERMANY",
           1
          ],
          [
           "FINLAND",
           2
          ],
          [
           "SWITZERLAND",
           1
          ],
          [
           "TAIWAN, CHINA",
           2
          ],
          [
           "TAIWAN, CHINA",
           2
          ],
          [
           "INDIA",
           3
          ],
          [
           "UNITED STATES OF AMERICA",
           1
          ],
          [
           "FRANCE",
           3
          ],
          [
           "UNITED STATES OF AMERICA",
           2
          ],
          [
           "ARMENIA",
           2
          ],
          [
           "JAPAN",
           3
          ],
          [
           "UNITED STATES OF AMERICA",
           3
          ],
          [
           "SLOVAK REPUBLIC",
           4
          ],
          [
           "BELGIUM",
           1
          ],
          [
           "JAPAN",
           1
          ],
          [
           "UNITED STATES OF AMERICA",
           1
          ],
          [
           "SWITZERLAND",
           1
          ],
          [
           "GERMANY",
           1
          ],
          [
           "GERMANY",
           1
          ],
          [
           "INDIA",
           2
          ],
          [
           "GERMANY",
           2
          ],
          [
           "GERMANY",
           1
          ],
          [
           "UNITED STATES OF AMERICA",
           2
          ],
          [
           "CHINA",
           4
          ],
          [
           "FRANCE",
           2
          ],
          [
           "UNITED STATES OF AMERICA",
           2
          ],
          [
           "RUSSIAN FEDERATION",
           5
          ],
          [
           "RUSSIAN FEDERATION",
           2
          ],
          [
           "RUSSIAN FEDERATION",
           1
          ],
          [
           "GERMANY",
           1
          ],
          [
           "UNITED STATES OF AMERICA",
           3
          ],
          [
           "JAPAN",
           4
          ],
          [
           "JAPAN",
           1
          ],
          [
           "UNITED KINGDOM",
           2
          ],
          [
           "FINLAND",
           3
          ],
          [
           "JAPAN",
           3
          ],
          [
           "SWEDEN",
           3
          ],
          [
           "UNITED STATES OF AMERICA",
           1
          ],
          [
           "HUNGARY",
           4
          ],
          [
           "UNITED STATES OF AMERICA",
           1
          ],
          [
           "UNITED STATES OF AMERICA",
           3
          ],
          [
           "FRANCE",
           4
          ],
          [
           "UNITED STATES OF AMERICA",
           1
          ],
          [
           "UNITED STATES OF AMERICA",
           3
          ],
          [
           "FRANCE",
           2
          ],
          [
           "UNITED STATES OF AMERICA",
           1
          ],
          [
           "GERMANY",
           2
          ],
          [
           "CANADA",
           8
          ],
          [
           "UNITED STATES OF AMERICA",
           1
          ],
          [
           "UNITED STATES OF AMERICA",
           1
          ],
          [
           "UNITED STATES OF AMERICA",
           2
          ],
          [
           "CANADA",
           1
          ],
          [
           "UNITED STATES OF AMERICA",
           2
          ],
          [
           "CHINA",
           9
          ],
          [
           "UNITED STATES OF AMERICA",
           2
          ],
          [
           "UNITED STATES OF AMERICA",
           1
          ],
          [
           "INDIA",
           8
          ],
          [
           "UNITED STATES OF AMERICA",
           1
          ],
          [
           "GERMANY",
           1
          ],
          [
           "SWEDEN",
           4
          ],
          [
           "UNITED STATES OF AMERICA",
           1
          ],
          [
           "CANADA",
           1
          ],
          [
           "UKRAINE",
           4
          ],
          [
           "FRANCE",
           2
          ],
          [
           "UNITED STATES OF AMERICA",
           2
          ],
          [
           "UNITED STATES OF AMERICA",
           3
          ],
          [
           "CHINA",
           2
          ],
          [
           "SPAIN",
           1
          ],
          [
           "UNITED STATES OF AMERICA",
           1
          ],
          [
           "UNITED STATES OF AMERICA",
           1
          ],
          [
           "UNITED KINGDOM",
           5
          ],
          [
           "JAPAN",
           2
          ],
          [
           "UNITED STATES OF AMERICA",
           2
          ],
          [
           "UNITED STATES OF AMERICA",
           1
          ],
          [
           "JAPAN",
           2
          ],
          [
           "JAPAN",
           3
          ],
          [
           "KOREA, REPUBLIC OF",
           2
          ],
          [
           "UNITED STATES OF AMERICA",
           1
          ],
          [
           "UNITED STATES OF AMERICA",
           1
          ],
          [
           "UNITED KINGDOM",
           3
          ],
          [
           "RUSSIAN FEDERATION",
           3
          ],
          [
           "UNITED STATES OF AMERICA",
           2
          ],
          [
           "UKRAINE",
           3
          ],
          [
           "FRANCE",
           2
          ],
          [
           "FRANCE",
           2
          ],
          [
           "UNITED STATES OF AMERICA",
           2
          ],
          [
           "GERMANY",
           1
          ],
          [
           "UNITED STATES OF AMERICA",
           2
          ],
          [
           "UNITED STATES OF AMERICA",
           2
          ],
          [
           "CHINA",
           2
          ],
          [
           "JAPAN",
           4
          ],
          [
           "INDIA",
           4
          ],
          [
           "CZECH REPUBLIC",
           2
          ],
          [
           "UNITED STATES OF AMERICA",
           2
          ],
          [
           "GERMANY",
           1
          ],
          [
           "CHINA",
           2
          ],
          [
           "BELGIUM",
           3
          ],
          [
           "JAPAN",
           2
          ],
          [
           "JAPAN",
           3
          ],
          [
           "UNITED KINGDOM",
           2
          ],
          [
           "UNITED KINGDOM",
           2
          ],
          [
           "FRANCE",
           4
          ],
          [
           "SPAIN",
           1
          ],
          [
           "UNITED STATES OF AMERICA",
           1
          ],
          [
           "JAPAN",
           2
          ],
          [
           "UNITED STATES OF AMERICA",
           2
          ],
          [
           "KOREA, REPUBLIC OF",
           6
          ],
          [
           "GERMANY",
           1
          ],
          [
           "GERMANY",
           1
          ],
          [
           "UNITED STATES OF AMERICA",
           1
          ],
          [
           "SPAIN",
           2
          ],
          [
           "UNITED STATES OF AMERICA",
           1
          ],
          [
           "RUSSIAN FEDERATION",
           2
          ],
          [
           "UNITED STATES OF AMERICA",
           1
          ],
          [
           "UNITED STATES OF AMERICA",
           2
          ],
          [
           "RUSSIAN FEDERATION",
           4
          ],
          [
           "UNITED STATES OF AMERICA",
           1
          ],
          [
           "UNITED STATES OF AMERICA",
           2
          ],
          [
           "UNITED KINGDOM",
           1
          ],
          [
           "UNITED STATES OF AMERICA",
           1
          ],
          [
           "KOREA, REPUBLIC OF",
           4
          ],
          [
           "GERMANY",
           1
          ],
          [
           "UNITED KINGDOM",
           2
          ],
          [
           "CHINA",
           3
          ],
          [
           "UNITED STATES OF AMERICA",
           1
          ],
          [
           "KOREA, REPUBLIC OF",
           6
          ],
          [
           "UKRAINE",
           6
          ],
          [
           "UNITED STATES OF AMERICA",
           2
          ]
         ],
         "hovertemplate": "<b>%{hovertext}</b><br><br>numreactor=%{marker.color}<br>latitude=%{lat}<br>longitude=%{lon}<br>country=%{customdata[0]}<extra></extra>",
         "hovertext": [
          "AGESTA",
          "ALMARAZ",
          "ANGRA",
          "ARKANSAS ONE",
          "ASCO",
          "ATUCHA",
          "AVR",
          "BALAKOVO",
          "BARSEBACK",
          "BEAVER VALLEY",
          "BELENE",
          "BELLEVILLE",
          "BELOYARSKY",
          "BERKELEY",
          "BEZNAU",
          "BIBLIS",
          "BIG ROCK POINT",
          "BILIBINO",
          "BLAYAIS",
          "BN-350",
          "BOHUNICE",
          "BONUS",
          "BORSSELE",
          "BRADWELL",
          "BRAIDWOOD",
          "BRENNILIS",
          "BROKDORF (KBR)",
          "BROWNS FERRY",
          "BRUCE",
          "BRUNSBUETTEL",
          "BRUNSWICK",
          "BUGEY",
          "BUSHEHR",
          "BYRON",
          "CALLAWAY",
          "CALVERT CLIFFS",
          "CAORSO",
          "CATAWBA",
          "CATTENOM",
          "CEFR",
          "CERNAVODA",
          "CHANG JIANG",
          "CHAPELCROSS",
          "CHASNUPP",
          "CHERNOBYL",
          "CHIN SHAN",
          "CHINON",
          "CHOOZ",
          "CIVAUX",
          "CLINTON",
          "COFRENTES",
          "COLUMBIA",
          "COMANCHE PEAK",
          "COOPER",
          "CREYS-MALVILLE",
          "CRUAS",
          "CRYSTAL RIVER",
          "CVTR",
          "DAMPIERRE",
          "DARLINGTON",
          "DAVIS BESSE",
          "DIABLO CANYON",
          "DODEWARRD",
          "DOEL",
          "DONALD COOK",
          "DOUGLAS POINT",
          "DOUNREAY",
          "DRESDEN",
          "DUANE ARNOLD",
          "DUKOVANY",
          "DUNGENESS",
          "ELK RIVER",
          "EMBALSE",
          "EMSLAND (KKE)",
          "ENRICO FERMI",
          "FANGCHENGGANG",
          "FARLEY",
          "FESSENHEIM",
          "FITZPATRICK",
          "FLAMANVILLE",
          "FORSMARK",
          "FORT CALHOUN",
          "FORT ST. VRAIN",
          "FUGEN ATR",
          "FUKUSHIMA-DAIICHI",
          "FUKUSHIMA-DAINI",
          "FUQING",
          "GARIGLIANO",
          "GENKAI",
          "GENTILLY",
          "GOESGEN",
          "GOLFECH",
          "GRAFENRHEINFELD (KKG)",
          "GRAND GULF",
          "GRAVELINES",
          "GREIFSWALD",
          "GROHNDE (KWG)",
          "GUANGDONG",
          "GUNDREMMINGEN",
          "H.B. ROBINSON",
          "HADDAM NECK",
          "HAIYANG",
          "HALLAM",
          "HAMAOKA",
          "HARTLEPOOL",
          "HATCH",
          "HDR GROSSWELZHEIM",
          "HEYSHAM",
          "HIGASHI DORI",
          "HINKLEY POINT A",
          "HINKLEY POINT B",
          "HONGYANHE",
          "HOPE CREEK",
          "HUMBOLDT BAY",
          "HUNTERSTON A",
          "HUNTERSTON B",
          "IGNALINA",
          "IKATA",
          "INDIAN POINT",
          "ISAR",
          "JOSE CABRERA",
          "JPDR",
          "KAIGA",
          "KAKRAPAR",
          "KALININ",
          "KANUPP",
          "KASHIWAZAKI KARIWA",
          "KEWAUNEE",
          "KHMELNITSKI",
          "KNK",
          "KOEBERG",
          "KOLA",
          "KORI",
          "KOZLODUY",
          "KRSKO",
          "KRUEMMEL",
          "KUDANKULAM",
          "KUOSHENG",
          "KURSK",
          "LACROSSE",
          "LAGUNA VERDE",
          "LASALLE",
          "LATINA",
          "LEIBSTADT",
          "LENINGRAD",
          "LENINGRAD-2",
          "LIMERICK",
          "LINGAO",
          "LINGEN",
          "LOVIISA",
          "LUCENS",
          "LUNGMEN",
          "MAANSHAN",
          "MADRAS",
          "MAINE YANKEE",
          "MARCOULE",
          "MCGUIRE",
          "METSAMOR",
          "MIHAMA",
          "MILLSTONE",
          "MOCHOVCE",
          "MOL",
          "MONJU",
          "MONTICELLO",
          "MUEHLEBERG",
          "MUELHEIM-KAERLICH",
          "MZFR",
          "NARORA",
          "NECKARWESTHEIM",
          "NIEDERAICHBACH",
          "NINE MILE POINT",
          "NINGDE",
          "NOGENT",
          "NORTH ANNA",
          "NOVOVORONEZH",
          "NOVOVORONEZH-2",
          "OBNINSK",
          "OBRIGHEIM",
          "OCONEE",
          "OHI",
          "OHMA",
          "OLDBURY",
          "OLKILUOTO",
          "ONAGAWA",
          "OSKARSHAMN",
          "OYSTER CREEK",
          "PAKS",
          "PALISADES",
          "PALO VERDE",
          "PALUEL",
          "PATHFINDER",
          "PEACH BOTTOM",
          "PENLY",
          "PERRY",
          "PHILIPPSBURG",
          "PICKERING",
          "PILGRIM",
          "PIQUA",
          "POINT BEACH",
          "POINT LEPREAU",
          "PRAIRIE ISLAND",
          "QINSHAN",
          "QUAD CITIES",
          "R.E. GINNA",
          "RAJASTHAN",
          "RANCHO SECO-1",
          "RHEINSBERG",
          "RINGHALS",
          "RIVER BEND",
          "ROLPHTON NPD",
          "ROVNO",
          "SAINT LAURENT",
          "SALEM",
          "SAN ONOFRE",
          "SANMEN",
          "SANTA MARIA DE GARONA",
          "SAXTON",
          "SEABROOK",
          "SELLAFIELD",
          "SENDAI",
          "SEQUOYAH",
          "SHEARON HARRIS",
          "SHIKA",
          "SHIMANE",
          "SHIN-WOLSONG",
          "SHIPPINGPORT",
          "SHOREHAM",
          "SIZEWELL",
          "SMOLENSK",
          "SOUTH TEXAS",
          "SOUTH UKRAINE",
          "ST. ALBAN",
          "ST. LAURENT",
          "ST. LUCIE",
          "STADE",
          "SURRY",
          "SUSQUEHANNA",
          "TAISHAN",
          "TAKAHAMA",
          "TARAPUR",
          "TEMELIN",
          "THREE MILE ISLAND",
          "THTR",
          "TIANWAN",
          "TIHANGE",
          "TOKAI",
          "TOMARI",
          "TORNESS",
          "TRAWSFYNYDD",
          "TRICASTIN",
          "TRILLO",
          "TROJAN",
          "TSURUGA",
          "TURKEY POINT",
          "ULCHIN",
          "UNTERWESER",
          "VAK KAHL",
          "VALLECITOS",
          "VANDELLOS",
          "VERMONT YANKEE",
          "VILYUCHINSK",
          "VIRGIL C. SUMMER",
          "VOGTLE",
          "VOLGODONSK",
          "WATERFORD",
          "WATTS BAR",
          "WINFRITH",
          "WOLF CREEK",
          "WOLSONG",
          "WUERGASSEN (KWW)",
          "WYLFA",
          "YANGJIANG",
          "YANKEE",
          "YONGGWANG",
          "ZAPOROZHE",
          "ZION"
         ],
         "lat": [
          59.206022,
          39.8081,
          -23.007857,
          35.31032,
          41.2,
          -33.968002,
          50.903056,
          52.092935,
          55.744444,
          40.6219,
          43.62944,
          47.5075,
          56.85,
          51.6925,
          47.552148,
          49.709305,
          45.358889,
          68.050658,
          45.255907,
          43.607,
          48.494444,
          18.366389,
          51.431623,
          51.741389,
          41.2436,
          48.3533,
          53.850833,
          34.7042,
          44.326136,
          53.891667,
          33.9583,
          45.7956,
          28.828851,
          42.075,
          38.7583,
          38.4347,
          45.07206,
          35.0514,
          49.4136,
          39.740929,
          44.322169,
          19.423056,
          55.01566,
          32.390929,
          51.389553,
          25.286254,
          47.230649,
          50.09,
          46.456031,
          40.1719,
          39.2167,
          46.471111,
          32.2978,
          40.3619,
          45.758333,
          44.6314,
          28.9572,
          34.2625,
          47.7339,
          43.869268,
          41.5972,
          35.2117,
          51.899722,
          51.325278,
          41.9761,
          44.326667,
          58.57814,
          41.3897,
          42.1006,
          49.086876,
          50.913889,
          45.295172,
          -32.232154,
          52.474231,
          41.9633,
          21.615298,
          31.2228,
          47.9064,
          43.5239,
          49.5358,
          60.402788,
          41.5208,
          40.244444,
          35.754444,
          37.42164,
          37.316229,
          25.448056,
          41.258315,
          33.5167,
          46.39461,
          47.365781,
          44.10618,
          49.984086,
          32.0075,
          51.0161,
          54.140586,
          52.035,
          22.597144,
          48.5167,
          34.4053,
          41.481944,
          36.708333,
          40.55925,
          34.620877,
          54.634824,
          31.9342,
          50.055145,
          54.029927,
          41.188056,
          51.208739,
          51.209034,
          39.801944,
          39.4678,
          40.741322,
          55.720224,
          55.722222,
          55.604444,
          33.491289,
          41.2714,
          48.604532,
          40.349167,
          36.458461,
          14.865026,
          21.236525,
          57.90525,
          24.845343,
          37.431451,
          44.3431,
          50.302462,
          49.1,
          -33.676152,
          67.466811,
          35.321269,
          43.742627,
          45.937981,
          53.41,
          8.168889,
          25.202723,
          51.676772,
          43.560062,
          19.720238,
          41.2439,
          41.42529,
          47.601314,
          59.846021,
          59.8305,
          40.226339,
          22.60611,
          52.482247,
          60.370582,
          46.692778,
          25.038611,
          21.958257,
          12.553056,
          43.954023,
          44.143333,
          35.4322,
          40.183594,
          35.70253,
          41.3086,
          48.26615,
          51.22342,
          35.740278,
          45.3333,
          46.969029,
          50.408056,
          49.104247,
          28.159867,
          49.041749,
          48.604628,
          43.5222,
          27.045,
          48.5172,
          38.0608,
          51.2833,
          51.275,
          55.084167,
          49.364444,
          34.7917,
          35.541057,
          41.509722,
          51.648671,
          61.236345,
          38.4,
          57.414743,
          39.8142,
          46.5725,
          42.3222,
          33.3897,
          49.8581,
          43.603611,
          39.7589,
          49.9756,
          41.8011,
          49.25279,
          43.810436,
          41.9444,
          40.132317,
          44.2808,
          45.068694,
          44.6194,
          30.435681,
          41.7261,
          43.277653,
          24.872911,
          38.345278,
          53.146992,
          57.260141,
          30.7572,
          46.186667,
          51.328086,
          47.72,
          39.4628,
          33.3703,
          29.101111,
          42.774412,
          40.226944,
          42.8981,
          54.4205,
          31.833542,
          35.2233,
          35.6333,
          37.05999,
          35.539583,
          35.721747,
          40.621111,
          40.961111,
          52.215,
          54.1667,
          28.795,
          47.812171,
          45.405,
          47.7203,
          27.3486,
          53.62,
          37.1656,
          41.0917,
          21.917778,
          35.522563,
          19.828785,
          49.176113,
          40.1531,
          51.679167,
          34.687468,
          50.533374,
          36.466624,
          43.03592,
          55.968423,
          52.924864,
          44.3297,
          40.700464,
          46.038333,
          35.7497,
          25.435,
          37.093025,
          53.4277,
          50.059119,
          37.613267,
          40.950996,
          42.7803,
          59.931389,
          34.2958,
          33.1419,
          47.599342,
          29.995,
          35.6028,
          50.682,
          38.2389,
          35.711463,
          51.639167,
          53.4167,
          21.708333,
          42.727839,
          35.41113,
          47.511809,
          42.446428
         ],
         "legendgroup": "",
         "lon": [
          18.082872,
          -5.69694,
          -44.458098,
          -93.231289,
          0.56667,
          -59.20374,
          6.421111,
          47.956762,
          12.920833,
          -80.4339,
          25.189345,
          2.8775,
          61.3167,
          -2.493611,
          8.228175,
          8.414744,
          -85.197222,
          166.539698,
          -0.691883,
          51.283,
          17.681944,
          -67.268611,
          3.717595,
          0.896944,
          -88.2289,
          -3.872203,
          9.344722,
          -87.1186,
          -81.594719,
          9.201667,
          -78.0106,
          5.27,
          50.892757,
          -89.2819,
          -91.7817,
          -76.4419,
          9.87214,
          -81.0694,
          6.21639,
          116.030139,
          28.058041,
          108.8125,
          -3.22605,
          71.463095,
          30.099147,
          121.587677,
          0.169521,
          4.78944,
          0.654284,
          -88.8342,
          -1.05,
          -119.333889,
          -97.785,
          -95.6411,
          5.472222,
          4.75556,
          -82.6989,
          -81.329167,
          2.51611,
          -78.722457,
          -83.0864,
          -120.854,
          5.686111,
          4.259356,
          -86.5664,
          -81.6,
          -3.75233,
          -88.2711,
          -91.7772,
          16.13826,
          0.963889,
          -93.5567,
          -64.443385,
          7.317858,
          -83.2586,
          108.347253,
          -85.1125,
          7.56528,
          -76.3983,
          -1.88139,
          18.173758,
          -96.0767,
          -104.874167,
          136.016389,
          141.034658,
          141.026181,
          119.450556,
          13.834781,
          129.833,
          -72.356225,
          7.967914,
          0.844447,
          10.184669,
          -91.0481,
          2.14417,
          13.664422,
          9.413333,
          114.543139,
          10.4,
          -80.1586,
          -72.499167,
          121.383333,
          -96.784711,
          138.144207,
          -1.18081,
          -82.3444,
          8.984869,
          -2.914384,
          141.390278,
          -3.133743,
          -3.127477,
          121.475,
          -75.5381,
          -124.209044,
          -4.896656,
          -4.89,
          26.56,
          132.309631,
          -73.9525,
          12.295608,
          -2.884444,
          140.606342,
          74.438709,
          73.350193,
          35.062775,
          66.788517,
          138.597852,
          -87.5361,
          26.646865,
          8.433,
          18.433098,
          32.473832,
          129.294517,
          23.775239,
          15.516218,
          10.408889,
          77.7125,
          121.662638,
          35.606607,
          -91.231485,
          -96.405252,
          -88.6708,
          12.807246,
          8.183893,
          29.041052,
          29.0571,
          -75.586916,
          114.553247,
          7.304518,
          26.346856,
          6.8275,
          121.924167,
          120.751748,
          80.173333,
          -69.694494,
          4.709444,
          -80.9483,
          44.153421,
          135.963167,
          -72.1681,
          18.458943,
          5.099126,
          135.988056,
          -93.8483,
          7.26882,
          7.49,
          8.432339,
          78.408658,
          9.174601,
          12.303986,
          -76.41,
          120.283333,
          3.52,
          -77.7906,
          39.2167,
          39.2,
          36.569722,
          9.076389,
          -82.8986,
          135.653948,
          140.910278,
          -2.57107,
          21.443385,
          141.5,
          16.671728,
          -74.2064,
          18.8542,
          -86.3153,
          -112.862,
          0.63306,
          -96.6375,
          -76.2692,
          1.21194,
          -81.1433,
          8.436948,
          -79.065926,
          -70.5794,
          -84.234767,
          -87.5361,
          -66.454582,
          -92.6331,
          120.947735,
          -90.31,
          -77.309254,
          75.620019,
          -121.121667,
          12.99015,
          12.111538,
          -91.3317,
          -77.657778,
          25.89903,
          1.5775,
          -75.5358,
          -117.557,
          121.641944,
          -3.206815,
          -78.241944,
          -70.8514,
          -3.4975,
          130.189984,
          -85.0878,
          -78.9561,
          136.726869,
          132.997495,
          129.478471,
          -80.435278,
          -72.865,
          1.61972,
          33.2333,
          -96.0481,
          31.217726,
          4.75556,
          1.57917,
          -80.2464,
          9.530833,
          -76.6983,
          -76.1486,
          112.981944,
          135.504677,
          72.661201,
          14.3819,
          -76.725,
          7.971667,
          119.459851,
          5.273377,
          140.609604,
          140.513203,
          -2.408406,
          -3.948439,
          4.73222,
          -2.623286,
          -122.885,
          136.021,
          -80.3314,
          129.383285,
          8.480197,
          8.987278,
          -121.840164,
          0.866517,
          -72.5158,
          30.258056,
          -81.3203,
          -81.7647,
          42.371878,
          -90.4711,
          -84.7903,
          -2.261,
          -95.6889,
          129.474808,
          9.391389,
          -4.48333,
          112.261111,
          -72.929108,
          126.41619,
          34.58546,
          -87.803003
         ],
         "marker": {
          "color": [
           1,
           2,
           3,
           2,
           2,
           2,
           1,
           4,
           2,
           2,
           2,
           2,
           4,
           2,
           2,
           2,
           1,
           4,
           4,
           1,
           5,
           1,
           1,
           2,
           2,
           1,
           1,
           3,
           8,
           1,
           2,
           5,
           1,
           2,
           1,
           2,
           1,
           2,
           4,
           1,
           2,
           2,
           4,
           4,
           4,
           2,
           7,
           3,
           2,
           1,
           1,
           1,
           2,
           1,
           1,
           4,
           1,
           1,
           4,
           4,
           1,
           2,
           1,
           4,
           2,
           1,
           2,
           3,
           1,
           4,
           4,
           1,
           1,
           1,
           3,
           2,
           2,
           2,
           1,
           3,
           3,
           1,
           1,
           1,
           6,
           4,
           3,
           1,
           4,
           2,
           1,
           2,
           1,
           1,
           6,
           5,
           1,
           2,
           3,
           1,
           1,
           2,
           1,
           5,
           2,
           2,
           1,
           4,
           1,
           2,
           2,
           4,
           1,
           1,
           2,
           2,
           2,
           3,
           3,
           2,
           1,
           1,
           4,
           4,
           4,
           1,
           7,
           1,
           4,
           1,
           2,
           4,
           8,
           6,
           1,
           1,
           2,
           2,
           5,
           1,
           2,
           2,
           1,
           1,
           4,
           2,
           2,
           4,
           1,
           2,
           1,
           2,
           2,
           3,
           1,
           3,
           2,
           2,
           3,
           3,
           4,
           1,
           1,
           1,
           1,
           1,
           1,
           2,
           2,
           1,
           2,
           4,
           2,
           2,
           5,
           2,
           1,
           1,
           3,
           4,
           1,
           2,
           3,
           3,
           3,
           1,
           4,
           1,
           3,
           4,
           1,
           3,
           2,
           1,
           2,
           8,
           1,
           1,
           2,
           1,
           2,
           9,
           2,
           1,
           8,
           1,
           1,
           4,
           1,
           1,
           4,
           2,
           2,
           3,
           2,
           1,
           1,
           1,
           5,
           2,
           2,
           1,
           2,
           3,
           2,
           1,
           1,
           3,
           3,
           2,
           3,
           2,
           2,
           2,
           1,
           2,
           2,
           2,
           4,
           4,
           2,
           2,
           1,
           2,
           3,
           2,
           3,
           2,
           2,
           4,
           1,
           1,
           2,
           2,
           6,
           1,
           1,
           1,
           2,
           1,
           2,
           1,
           2,
           4,
           1,
           2,
           1,
           1,
           4,
           1,
           2,
           3,
           1,
           6,
           6,
           2
          ],
          "coloraxis": "coloraxis",
          "size": [
           1,
           2,
           3,
           2,
           2,
           2,
           1,
           4,
           2,
           2,
           2,
           2,
           4,
           2,
           2,
           2,
           1,
           4,
           4,
           1,
           5,
           1,
           1,
           2,
           2,
           1,
           1,
           3,
           8,
           1,
           2,
           5,
           1,
           2,
           1,
           2,
           1,
           2,
           4,
           1,
           2,
           2,
           4,
           4,
           4,
           2,
           7,
           3,
           2,
           1,
           1,
           1,
           2,
           1,
           1,
           4,
           1,
           1,
           4,
           4,
           1,
           2,
           1,
           4,
           2,
           1,
           2,
           3,
           1,
           4,
           4,
           1,
           1,
           1,
           3,
           2,
           2,
           2,
           1,
           3,
           3,
           1,
           1,
           1,
           6,
           4,
           3,
           1,
           4,
           2,
           1,
           2,
           1,
           1,
           6,
           5,
           1,
           2,
           3,
           1,
           1,
           2,
           1,
           5,
           2,
           2,
           1,
           4,
           1,
           2,
           2,
           4,
           1,
           1,
           2,
           2,
           2,
           3,
           3,
           2,
           1,
           1,
           4,
           4,
           4,
           1,
           7,
           1,
           4,
           1,
           2,
           4,
           8,
           6,
           1,
           1,
           2,
           2,
           5,
           1,
           2,
           2,
           1,
           1,
           4,
           2,
           2,
           4,
           1,
           2,
           1,
           2,
           2,
           3,
           1,
           3,
           2,
           2,
           3,
           3,
           4,
           1,
           1,
           1,
           1,
           1,
           1,
           2,
           2,
           1,
           2,
           4,
           2,
           2,
           5,
           2,
           1,
           1,
           3,
           4,
           1,
           2,
           3,
           3,
           3,
           1,
           4,
           1,
           3,
           4,
           1,
           3,
           2,
           1,
           2,
           8,
           1,
           1,
           2,
           1,
           2,
           9,
           2,
           1,
           8,
           1,
           1,
           4,
           1,
           1,
           4,
           2,
           2,
           3,
           2,
           1,
           1,
           1,
           5,
           2,
           2,
           1,
           2,
           3,
           2,
           1,
           1,
           3,
           3,
           2,
           3,
           2,
           2,
           2,
           1,
           2,
           2,
           2,
           4,
           4,
           2,
           2,
           1,
           2,
           3,
           2,
           3,
           2,
           2,
           4,
           1,
           1,
           2,
           2,
           6,
           1,
           1,
           1,
           2,
           1,
           2,
           1,
           2,
           4,
           1,
           2,
           1,
           1,
           4,
           1,
           2,
           3,
           1,
           6,
           6,
           2
          ],
          "sizemode": "area",
          "sizeref": 0.0225
         },
         "mode": "markers",
         "name": "",
         "showlegend": false,
         "subplot": "mapbox",
         "type": "scattermapbox"
        }
       ],
       "layout": {
        "coloraxis": {
         "colorbar": {
          "title": {
           "text": "numreactor"
          }
         },
         "colorscale": [
          [
           0,
           "rgb(255,255,204)"
          ],
          [
           0.125,
           "rgb(255,237,160)"
          ],
          [
           0.25,
           "rgb(254,217,118)"
          ],
          [
           0.375,
           "rgb(254,178,76)"
          ],
          [
           0.5,
           "rgb(253,141,60)"
          ],
          [
           0.625,
           "rgb(252,78,42)"
          ],
          [
           0.75,
           "rgb(227,26,28)"
          ],
          [
           0.875,
           "rgb(189,0,38)"
          ],
          [
           1,
           "rgb(128,0,38)"
          ]
         ]
        },
        "height": 800,
        "legend": {
         "itemsizing": "constant",
         "tracegroupgap": 0
        },
        "mapbox": {
         "center": {
          "lat": 41.46487301449275,
          "lon": -0.8331544239130443
         },
         "domain": {
          "x": [
           0,
           1
          ],
          "y": [
           0,
           1
          ]
         },
         "style": "carto-positron",
         "zoom": 1
        },
        "margin": {
         "b": 0,
         "l": 0,
         "r": 0,
         "t": 50
        },
        "template": {
         "data": {
          "bar": [
           {
            "error_x": {
             "color": "#2a3f5f"
            },
            "error_y": {
             "color": "#2a3f5f"
            },
            "marker": {
             "line": {
              "color": "#E5ECF6",
              "width": 0.5
             },
             "pattern": {
              "fillmode": "overlay",
              "size": 10,
              "solidity": 0.2
             }
            },
            "type": "bar"
           }
          ],
          "barpolar": [
           {
            "marker": {
             "line": {
              "color": "#E5ECF6",
              "width": 0.5
             },
             "pattern": {
              "fillmode": "overlay",
              "size": 10,
              "solidity": 0.2
             }
            },
            "type": "barpolar"
           }
          ],
          "carpet": [
           {
            "aaxis": {
             "endlinecolor": "#2a3f5f",
             "gridcolor": "white",
             "linecolor": "white",
             "minorgridcolor": "white",
             "startlinecolor": "#2a3f5f"
            },
            "baxis": {
             "endlinecolor": "#2a3f5f",
             "gridcolor": "white",
             "linecolor": "white",
             "minorgridcolor": "white",
             "startlinecolor": "#2a3f5f"
            },
            "type": "carpet"
           }
          ],
          "choropleth": [
           {
            "colorbar": {
             "outlinewidth": 0,
             "ticks": ""
            },
            "type": "choropleth"
           }
          ],
          "contour": [
           {
            "colorbar": {
             "outlinewidth": 0,
             "ticks": ""
            },
            "colorscale": [
             [
              0,
              "#0d0887"
             ],
             [
              0.1111111111111111,
              "#46039f"
             ],
             [
              0.2222222222222222,
              "#7201a8"
             ],
             [
              0.3333333333333333,
              "#9c179e"
             ],
             [
              0.4444444444444444,
              "#bd3786"
             ],
             [
              0.5555555555555556,
              "#d8576b"
             ],
             [
              0.6666666666666666,
              "#ed7953"
             ],
             [
              0.7777777777777778,
              "#fb9f3a"
             ],
             [
              0.8888888888888888,
              "#fdca26"
             ],
             [
              1,
              "#f0f921"
             ]
            ],
            "type": "contour"
           }
          ],
          "contourcarpet": [
           {
            "colorbar": {
             "outlinewidth": 0,
             "ticks": ""
            },
            "type": "contourcarpet"
           }
          ],
          "heatmap": [
           {
            "colorbar": {
             "outlinewidth": 0,
             "ticks": ""
            },
            "colorscale": [
             [
              0,
              "#0d0887"
             ],
             [
              0.1111111111111111,
              "#46039f"
             ],
             [
              0.2222222222222222,
              "#7201a8"
             ],
             [
              0.3333333333333333,
              "#9c179e"
             ],
             [
              0.4444444444444444,
              "#bd3786"
             ],
             [
              0.5555555555555556,
              "#d8576b"
             ],
             [
              0.6666666666666666,
              "#ed7953"
             ],
             [
              0.7777777777777778,
              "#fb9f3a"
             ],
             [
              0.8888888888888888,
              "#fdca26"
             ],
             [
              1,
              "#f0f921"
             ]
            ],
            "type": "heatmap"
           }
          ],
          "heatmapgl": [
           {
            "colorbar": {
             "outlinewidth": 0,
             "ticks": ""
            },
            "colorscale": [
             [
              0,
              "#0d0887"
             ],
             [
              0.1111111111111111,
              "#46039f"
             ],
             [
              0.2222222222222222,
              "#7201a8"
             ],
             [
              0.3333333333333333,
              "#9c179e"
             ],
             [
              0.4444444444444444,
              "#bd3786"
             ],
             [
              0.5555555555555556,
              "#d8576b"
             ],
             [
              0.6666666666666666,
              "#ed7953"
             ],
             [
              0.7777777777777778,
              "#fb9f3a"
             ],
             [
              0.8888888888888888,
              "#fdca26"
             ],
             [
              1,
              "#f0f921"
             ]
            ],
            "type": "heatmapgl"
           }
          ],
          "histogram": [
           {
            "marker": {
             "pattern": {
              "fillmode": "overlay",
              "size": 10,
              "solidity": 0.2
             }
            },
            "type": "histogram"
           }
          ],
          "histogram2d": [
           {
            "colorbar": {
             "outlinewidth": 0,
             "ticks": ""
            },
            "colorscale": [
             [
              0,
              "#0d0887"
             ],
             [
              0.1111111111111111,
              "#46039f"
             ],
             [
              0.2222222222222222,
              "#7201a8"
             ],
             [
              0.3333333333333333,
              "#9c179e"
             ],
             [
              0.4444444444444444,
              "#bd3786"
             ],
             [
              0.5555555555555556,
              "#d8576b"
             ],
             [
              0.6666666666666666,
              "#ed7953"
             ],
             [
              0.7777777777777778,
              "#fb9f3a"
             ],
             [
              0.8888888888888888,
              "#fdca26"
             ],
             [
              1,
              "#f0f921"
             ]
            ],
            "type": "histogram2d"
           }
          ],
          "histogram2dcontour": [
           {
            "colorbar": {
             "outlinewidth": 0,
             "ticks": ""
            },
            "colorscale": [
             [
              0,
              "#0d0887"
             ],
             [
              0.1111111111111111,
              "#46039f"
             ],
             [
              0.2222222222222222,
              "#7201a8"
             ],
             [
              0.3333333333333333,
              "#9c179e"
             ],
             [
              0.4444444444444444,
              "#bd3786"
             ],
             [
              0.5555555555555556,
              "#d8576b"
             ],
             [
              0.6666666666666666,
              "#ed7953"
             ],
             [
              0.7777777777777778,
              "#fb9f3a"
             ],
             [
              0.8888888888888888,
              "#fdca26"
             ],
             [
              1,
              "#f0f921"
             ]
            ],
            "type": "histogram2dcontour"
           }
          ],
          "mesh3d": [
           {
            "colorbar": {
             "outlinewidth": 0,
             "ticks": ""
            },
            "type": "mesh3d"
           }
          ],
          "parcoords": [
           {
            "line": {
             "colorbar": {
              "outlinewidth": 0,
              "ticks": ""
             }
            },
            "type": "parcoords"
           }
          ],
          "pie": [
           {
            "automargin": true,
            "type": "pie"
           }
          ],
          "scatter": [
           {
            "fillpattern": {
             "fillmode": "overlay",
             "size": 10,
             "solidity": 0.2
            },
            "type": "scatter"
           }
          ],
          "scatter3d": [
           {
            "line": {
             "colorbar": {
              "outlinewidth": 0,
              "ticks": ""
             }
            },
            "marker": {
             "colorbar": {
              "outlinewidth": 0,
              "ticks": ""
             }
            },
            "type": "scatter3d"
           }
          ],
          "scattercarpet": [
           {
            "marker": {
             "colorbar": {
              "outlinewidth": 0,
              "ticks": ""
             }
            },
            "type": "scattercarpet"
           }
          ],
          "scattergeo": [
           {
            "marker": {
             "colorbar": {
              "outlinewidth": 0,
              "ticks": ""
             }
            },
            "type": "scattergeo"
           }
          ],
          "scattergl": [
           {
            "marker": {
             "colorbar": {
              "outlinewidth": 0,
              "ticks": ""
             }
            },
            "type": "scattergl"
           }
          ],
          "scattermapbox": [
           {
            "marker": {
             "colorbar": {
              "outlinewidth": 0,
              "ticks": ""
             }
            },
            "type": "scattermapbox"
           }
          ],
          "scatterpolar": [
           {
            "marker": {
             "colorbar": {
              "outlinewidth": 0,
              "ticks": ""
             }
            },
            "type": "scatterpolar"
           }
          ],
          "scatterpolargl": [
           {
            "marker": {
             "colorbar": {
              "outlinewidth": 0,
              "ticks": ""
             }
            },
            "type": "scatterpolargl"
           }
          ],
          "scatterternary": [
           {
            "marker": {
             "colorbar": {
              "outlinewidth": 0,
              "ticks": ""
             }
            },
            "type": "scatterternary"
           }
          ],
          "surface": [
           {
            "colorbar": {
             "outlinewidth": 0,
             "ticks": ""
            },
            "colorscale": [
             [
              0,
              "#0d0887"
             ],
             [
              0.1111111111111111,
              "#46039f"
             ],
             [
              0.2222222222222222,
              "#7201a8"
             ],
             [
              0.3333333333333333,
              "#9c179e"
             ],
             [
              0.4444444444444444,
              "#bd3786"
             ],
             [
              0.5555555555555556,
              "#d8576b"
             ],
             [
              0.6666666666666666,
              "#ed7953"
             ],
             [
              0.7777777777777778,
              "#fb9f3a"
             ],
             [
              0.8888888888888888,
              "#fdca26"
             ],
             [
              1,
              "#f0f921"
             ]
            ],
            "type": "surface"
           }
          ],
          "table": [
           {
            "cells": {
             "fill": {
              "color": "#EBF0F8"
             },
             "line": {
              "color": "white"
             }
            },
            "header": {
             "fill": {
              "color": "#C8D4E3"
             },
             "line": {
              "color": "white"
             }
            },
            "type": "table"
           }
          ]
         },
         "layout": {
          "annotationdefaults": {
           "arrowcolor": "#2a3f5f",
           "arrowhead": 0,
           "arrowwidth": 1
          },
          "autotypenumbers": "strict",
          "coloraxis": {
           "colorbar": {
            "outlinewidth": 0,
            "ticks": ""
           }
          },
          "colorscale": {
           "diverging": [
            [
             0,
             "#8e0152"
            ],
            [
             0.1,
             "#c51b7d"
            ],
            [
             0.2,
             "#de77ae"
            ],
            [
             0.3,
             "#f1b6da"
            ],
            [
             0.4,
             "#fde0ef"
            ],
            [
             0.5,
             "#f7f7f7"
            ],
            [
             0.6,
             "#e6f5d0"
            ],
            [
             0.7,
             "#b8e186"
            ],
            [
             0.8,
             "#7fbc41"
            ],
            [
             0.9,
             "#4d9221"
            ],
            [
             1,
             "#276419"
            ]
           ],
           "sequential": [
            [
             0,
             "#0d0887"
            ],
            [
             0.1111111111111111,
             "#46039f"
            ],
            [
             0.2222222222222222,
             "#7201a8"
            ],
            [
             0.3333333333333333,
             "#9c179e"
            ],
            [
             0.4444444444444444,
             "#bd3786"
            ],
            [
             0.5555555555555556,
             "#d8576b"
            ],
            [
             0.6666666666666666,
             "#ed7953"
            ],
            [
             0.7777777777777778,
             "#fb9f3a"
            ],
            [
             0.8888888888888888,
             "#fdca26"
            ],
            [
             1,
             "#f0f921"
            ]
           ],
           "sequentialminus": [
            [
             0,
             "#0d0887"
            ],
            [
             0.1111111111111111,
             "#46039f"
            ],
            [
             0.2222222222222222,
             "#7201a8"
            ],
            [
             0.3333333333333333,
             "#9c179e"
            ],
            [
             0.4444444444444444,
             "#bd3786"
            ],
            [
             0.5555555555555556,
             "#d8576b"
            ],
            [
             0.6666666666666666,
             "#ed7953"
            ],
            [
             0.7777777777777778,
             "#fb9f3a"
            ],
            [
             0.8888888888888888,
             "#fdca26"
            ],
            [
             1,
             "#f0f921"
            ]
           ]
          },
          "colorway": [
           "#636efa",
           "#EF553B",
           "#00cc96",
           "#ab63fa",
           "#FFA15A",
           "#19d3f3",
           "#FF6692",
           "#B6E880",
           "#FF97FF",
           "#FECB52"
          ],
          "font": {
           "color": "#2a3f5f"
          },
          "geo": {
           "bgcolor": "white",
           "lakecolor": "white",
           "landcolor": "#E5ECF6",
           "showlakes": true,
           "showland": true,
           "subunitcolor": "white"
          },
          "hoverlabel": {
           "align": "left"
          },
          "hovermode": "closest",
          "mapbox": {
           "style": "light"
          },
          "paper_bgcolor": "white",
          "plot_bgcolor": "#E5ECF6",
          "polar": {
           "angularaxis": {
            "gridcolor": "white",
            "linecolor": "white",
            "ticks": ""
           },
           "bgcolor": "#E5ECF6",
           "radialaxis": {
            "gridcolor": "white",
            "linecolor": "white",
            "ticks": ""
           }
          },
          "scene": {
           "xaxis": {
            "backgroundcolor": "#E5ECF6",
            "gridcolor": "white",
            "gridwidth": 2,
            "linecolor": "white",
            "showbackground": true,
            "ticks": "",
            "zerolinecolor": "white"
           },
           "yaxis": {
            "backgroundcolor": "#E5ECF6",
            "gridcolor": "white",
            "gridwidth": 2,
            "linecolor": "white",
            "showbackground": true,
            "ticks": "",
            "zerolinecolor": "white"
           },
           "zaxis": {
            "backgroundcolor": "#E5ECF6",
            "gridcolor": "white",
            "gridwidth": 2,
            "linecolor": "white",
            "showbackground": true,
            "ticks": "",
            "zerolinecolor": "white"
           }
          },
          "shapedefaults": {
           "line": {
            "color": "#2a3f5f"
           }
          },
          "ternary": {
           "aaxis": {
            "gridcolor": "white",
            "linecolor": "white",
            "ticks": ""
           },
           "baxis": {
            "gridcolor": "white",
            "linecolor": "white",
            "ticks": ""
           },
           "bgcolor": "#E5ECF6",
           "caxis": {
            "gridcolor": "white",
            "linecolor": "white",
            "ticks": ""
           }
          },
          "title": {
           "x": 0.05
          },
          "xaxis": {
           "automargin": true,
           "gridcolor": "white",
           "linecolor": "white",
           "ticks": "",
           "title": {
            "standoff": 15
           },
           "zerolinecolor": "white",
           "zerolinewidth": 2
          },
          "yaxis": {
           "automargin": true,
           "gridcolor": "white",
           "linecolor": "white",
           "ticks": "",
           "title": {
            "standoff": 15
           },
           "zerolinecolor": "white",
           "zerolinewidth": 2
          }
         }
        },
        "title": {
         "text": "Ubicación de plantas nucleares en el mundo y número de reactores",
         "x": 0.5
        }
       }
      }
     },
     "metadata": {},
     "output_type": "display_data"
    },
    {
     "ename": "ValueError",
     "evalue": "\nImage export using the \"kaleido\" engine requires the kaleido package,\nwhich can be installed using pip:\n    $ pip install -U kaleido\n",
     "output_type": "error",
     "traceback": [
      "\u001b[1;31m---------------------------------------------------------------------------\u001b[0m",
      "\u001b[1;31mValueError\u001b[0m                                Traceback (most recent call last)",
      "Cell \u001b[1;32mIn[3], line 34\u001b[0m\n\u001b[0;32m     31\u001b[0m fig\u001b[38;5;241m.\u001b[39mshow()\n\u001b[0;32m     33\u001b[0m \u001b[38;5;66;03m# Guardar como imagen PNG\u001b[39;00m\n\u001b[1;32m---> 34\u001b[0m \u001b[43mfig\u001b[49m\u001b[38;5;241;43m.\u001b[39;49m\u001b[43mwrite_image\u001b[49m\u001b[43m(\u001b[49m\u001b[38;5;124;43m\"\u001b[39;49m\u001b[38;5;124;43mmapa_plantas_nucleares.png\u001b[39;49m\u001b[38;5;124;43m\"\u001b[39;49m\u001b[43m,\u001b[49m\u001b[43m \u001b[49m\u001b[43mscale\u001b[49m\u001b[38;5;241;43m=\u001b[39;49m\u001b[38;5;241;43m2\u001b[39;49m\u001b[43m)\u001b[49m  \u001b[38;5;66;03m# scale=2 para mejor resolución\u001b[39;00m\n",
      "File \u001b[1;32mc:\\Users\\ENRIQUE\\AppData\\Local\\Programs\\Python\\Python313\\Lib\\site-packages\\plotly\\basedatatypes.py:3835\u001b[0m, in \u001b[0;36mBaseFigure.write_image\u001b[1;34m(self, *args, **kwargs)\u001b[0m\n\u001b[0;32m   3775\u001b[0m \u001b[38;5;250m\u001b[39m\u001b[38;5;124;03m\"\"\"\u001b[39;00m\n\u001b[0;32m   3776\u001b[0m \u001b[38;5;124;03mConvert a figure to a static image and write it to a file or writeable\u001b[39;00m\n\u001b[0;32m   3777\u001b[0m \u001b[38;5;124;03mobject\u001b[39;00m\n\u001b[1;32m   (...)\u001b[0m\n\u001b[0;32m   3831\u001b[0m \u001b[38;5;124;03mNone\u001b[39;00m\n\u001b[0;32m   3832\u001b[0m \u001b[38;5;124;03m\"\"\"\u001b[39;00m\n\u001b[0;32m   3833\u001b[0m \u001b[38;5;28;01mimport\u001b[39;00m \u001b[38;5;21;01mplotly\u001b[39;00m\u001b[38;5;21;01m.\u001b[39;00m\u001b[38;5;21;01mio\u001b[39;00m \u001b[38;5;28;01mas\u001b[39;00m \u001b[38;5;21;01mpio\u001b[39;00m\n\u001b[1;32m-> 3835\u001b[0m \u001b[38;5;28;01mreturn\u001b[39;00m \u001b[43mpio\u001b[49m\u001b[38;5;241;43m.\u001b[39;49m\u001b[43mwrite_image\u001b[49m\u001b[43m(\u001b[49m\u001b[38;5;28;43mself\u001b[39;49m\u001b[43m,\u001b[49m\u001b[43m \u001b[49m\u001b[38;5;241;43m*\u001b[39;49m\u001b[43margs\u001b[49m\u001b[43m,\u001b[49m\u001b[43m \u001b[49m\u001b[38;5;241;43m*\u001b[39;49m\u001b[38;5;241;43m*\u001b[39;49m\u001b[43mkwargs\u001b[49m\u001b[43m)\u001b[49m\n",
      "File \u001b[1;32mc:\\Users\\ENRIQUE\\AppData\\Local\\Programs\\Python\\Python313\\Lib\\site-packages\\plotly\\io\\_kaleido.py:266\u001b[0m, in \u001b[0;36mwrite_image\u001b[1;34m(fig, file, format, scale, width, height, validate, engine)\u001b[0m\n\u001b[0;32m    250\u001b[0m             \u001b[38;5;28;01mraise\u001b[39;00m \u001b[38;5;167;01mValueError\u001b[39;00m(\n\u001b[0;32m    251\u001b[0m \u001b[38;5;250m                \u001b[39m\u001b[38;5;124;03m\"\"\"\u001b[39;00m\n\u001b[0;32m    252\u001b[0m \u001b[38;5;124;03mCannot infer image type from output path '{file}'.\u001b[39;00m\n\u001b[1;32m   (...)\u001b[0m\n\u001b[0;32m    260\u001b[0m                 )\n\u001b[0;32m    261\u001b[0m             )\n\u001b[0;32m    263\u001b[0m     \u001b[38;5;66;03m# Request image\u001b[39;00m\n\u001b[0;32m    264\u001b[0m     \u001b[38;5;66;03m# -------------\u001b[39;00m\n\u001b[0;32m    265\u001b[0m     \u001b[38;5;66;03m# Do this first so we don't create a file if image conversion fails\u001b[39;00m\n\u001b[1;32m--> 266\u001b[0m     img_data \u001b[38;5;241m=\u001b[39m \u001b[43mto_image\u001b[49m\u001b[43m(\u001b[49m\n\u001b[0;32m    267\u001b[0m \u001b[43m        \u001b[49m\u001b[43mfig\u001b[49m\u001b[43m,\u001b[49m\n\u001b[0;32m    268\u001b[0m \u001b[43m        \u001b[49m\u001b[38;5;28;43mformat\u001b[39;49m\u001b[38;5;241;43m=\u001b[39;49m\u001b[38;5;28;43mformat\u001b[39;49m\u001b[43m,\u001b[49m\n\u001b[0;32m    269\u001b[0m \u001b[43m        \u001b[49m\u001b[43mscale\u001b[49m\u001b[38;5;241;43m=\u001b[39;49m\u001b[43mscale\u001b[49m\u001b[43m,\u001b[49m\n\u001b[0;32m    270\u001b[0m \u001b[43m        \u001b[49m\u001b[43mwidth\u001b[49m\u001b[38;5;241;43m=\u001b[39;49m\u001b[43mwidth\u001b[49m\u001b[43m,\u001b[49m\n\u001b[0;32m    271\u001b[0m \u001b[43m        \u001b[49m\u001b[43mheight\u001b[49m\u001b[38;5;241;43m=\u001b[39;49m\u001b[43mheight\u001b[49m\u001b[43m,\u001b[49m\n\u001b[0;32m    272\u001b[0m \u001b[43m        \u001b[49m\u001b[43mvalidate\u001b[49m\u001b[38;5;241;43m=\u001b[39;49m\u001b[43mvalidate\u001b[49m\u001b[43m,\u001b[49m\n\u001b[0;32m    273\u001b[0m \u001b[43m        \u001b[49m\u001b[43mengine\u001b[49m\u001b[38;5;241;43m=\u001b[39;49m\u001b[43mengine\u001b[49m\u001b[43m,\u001b[49m\n\u001b[0;32m    274\u001b[0m \u001b[43m    \u001b[49m\u001b[43m)\u001b[49m\n\u001b[0;32m    276\u001b[0m     \u001b[38;5;66;03m# Open file\u001b[39;00m\n\u001b[0;32m    277\u001b[0m     \u001b[38;5;66;03m# ---------\u001b[39;00m\n\u001b[0;32m    278\u001b[0m     \u001b[38;5;28;01mif\u001b[39;00m path \u001b[38;5;129;01mis\u001b[39;00m \u001b[38;5;28;01mNone\u001b[39;00m:\n\u001b[0;32m    279\u001b[0m         \u001b[38;5;66;03m# We previously failed to make sense of `file` as a pathlib object.\u001b[39;00m\n\u001b[0;32m    280\u001b[0m         \u001b[38;5;66;03m# Attempt to write to `file` as an open file descriptor.\u001b[39;00m\n",
      "File \u001b[1;32mc:\\Users\\ENRIQUE\\AppData\\Local\\Programs\\Python\\Python313\\Lib\\site-packages\\plotly\\io\\_kaleido.py:132\u001b[0m, in \u001b[0;36mto_image\u001b[1;34m(fig, format, width, height, scale, validate, engine)\u001b[0m\n\u001b[0;32m    130\u001b[0m     \u001b[38;5;66;03m# Raise informative error message if Kaleido is not installed\u001b[39;00m\n\u001b[0;32m    131\u001b[0m     \u001b[38;5;28;01mif\u001b[39;00m scope \u001b[38;5;129;01mis\u001b[39;00m \u001b[38;5;28;01mNone\u001b[39;00m:\n\u001b[1;32m--> 132\u001b[0m         \u001b[38;5;28;01mraise\u001b[39;00m \u001b[38;5;167;01mValueError\u001b[39;00m(\n\u001b[0;32m    133\u001b[0m \u001b[38;5;250m            \u001b[39m\u001b[38;5;124;03m\"\"\"\u001b[39;00m\n\u001b[0;32m    134\u001b[0m \u001b[38;5;124;03mImage export using the \"kaleido\" engine requires the kaleido package,\u001b[39;00m\n\u001b[0;32m    135\u001b[0m \u001b[38;5;124;03mwhich can be installed using pip:\u001b[39;00m\n\u001b[0;32m    136\u001b[0m \u001b[38;5;124;03m    $ pip install -U kaleido\u001b[39;00m\n\u001b[0;32m    137\u001b[0m \u001b[38;5;124;03m\"\"\"\u001b[39;00m\n\u001b[0;32m    138\u001b[0m         )\n\u001b[0;32m    140\u001b[0m     \u001b[38;5;66;03m# Validate figure\u001b[39;00m\n\u001b[0;32m    141\u001b[0m     \u001b[38;5;66;03m# ---------------\u001b[39;00m\n\u001b[0;32m    142\u001b[0m     fig_dict \u001b[38;5;241m=\u001b[39m validate_coerce_fig_to_dict(fig, validate)\n",
      "\u001b[1;31mValueError\u001b[0m: \nImage export using the \"kaleido\" engine requires the kaleido package,\nwhich can be installed using pip:\n    $ pip install -U kaleido\n"
     ]
    }
   ],
   "source": [
    "import pandas as pd\n",
    "import plotly.express as px\n",
    "\n",
    "# Cargar datos\n",
    "df = pd.read_csv(\"./nuclear-power-plants.csv\")\n",
    "\n",
    "# Crear figura con Plotly Express\n",
    "fig = px.scatter_mapbox(\n",
    "    df,\n",
    "    lat=\"latitude\",\n",
    "    lon=\"longitude\",\n",
    "    hover_name=\"plant\",\n",
    "    hover_data={\"country\": True, \"numreactor\": True},\n",
    "    size=\"numreactor\",\n",
    "    color=\"numreactor\",\n",
    "    color_continuous_scale=px.colors.sequential.YlOrRd,\n",
    "    size_max=20,\n",
    "    zoom=1,\n",
    "    height=800\n",
    ")\n",
    "\n",
    "# Estética del mapa\n",
    "fig.update_layout(\n",
    "    mapbox_style=\"carto-positron\",  # O usa 'stamen-terrain' para un estilo más rústico\n",
    "    title=\"Ubicación de plantas nucleares en el mundo y número de reactores\",\n",
    "    title_x=0.5,\n",
    "    margin={\"r\":0,\"t\":50,\"l\":0,\"b\":0}\n",
    ")\n",
    "\n",
    "# Mostrar en navegador\n",
    "fig.show()\n",
    "\n",
    "# Guardar como imagen PNG\n",
    "fig.write_image(\"mapa_plantas_nucleares.png\", scale=2)  # scale=2 para mejor resolución\n"
   ]
  },
  {
   "cell_type": "code",
   "execution_count": 5,
   "id": "7b28d9ce",
   "metadata": {},
   "outputs": [
    {
     "data": {
      "application/vnd.plotly.v1+json": {
       "config": {
        "plotlyServerURL": "https://plot.ly"
       },
       "data": [
        {
         "geo": "geo",
         "hovertemplate": "<b>%{hovertext}</b><br><br>numreactor=%{marker.color}<br>latitude=%{lat}<br>longitude=%{lon}<extra></extra>",
         "hovertext": [
          "AGESTA",
          "ALMARAZ",
          "ANGRA",
          "ARKANSAS ONE",
          "ASCO",
          "ATUCHA",
          "AVR",
          "BALAKOVO",
          "BARSEBACK",
          "BEAVER VALLEY",
          "BELENE",
          "BELLEVILLE",
          "BELOYARSKY",
          "BERKELEY",
          "BEZNAU",
          "BIBLIS",
          "BIG ROCK POINT",
          "BILIBINO",
          "BLAYAIS",
          "BN-350",
          "BOHUNICE",
          "BONUS",
          "BORSSELE",
          "BRADWELL",
          "BRAIDWOOD",
          "BRENNILIS",
          "BROKDORF (KBR)",
          "BROWNS FERRY",
          "BRUCE",
          "BRUNSBUETTEL",
          "BRUNSWICK",
          "BUGEY",
          "BUSHEHR",
          "BYRON",
          "CALLAWAY",
          "CALVERT CLIFFS",
          "CAORSO",
          "CATAWBA",
          "CATTENOM",
          "CEFR",
          "CERNAVODA",
          "CHANG JIANG",
          "CHAPELCROSS",
          "CHASNUPP",
          "CHERNOBYL",
          "CHIN SHAN",
          "CHINON",
          "CHOOZ",
          "CIVAUX",
          "CLINTON",
          "COFRENTES",
          "COLUMBIA",
          "COMANCHE PEAK",
          "COOPER",
          "CREYS-MALVILLE",
          "CRUAS",
          "CRYSTAL RIVER",
          "CVTR",
          "DAMPIERRE",
          "DARLINGTON",
          "DAVIS BESSE",
          "DIABLO CANYON",
          "DODEWARRD",
          "DOEL",
          "DONALD COOK",
          "DOUGLAS POINT",
          "DOUNREAY",
          "DRESDEN",
          "DUANE ARNOLD",
          "DUKOVANY",
          "DUNGENESS",
          "ELK RIVER",
          "EMBALSE",
          "EMSLAND (KKE)",
          "ENRICO FERMI",
          "FANGCHENGGANG",
          "FARLEY",
          "FESSENHEIM",
          "FITZPATRICK",
          "FLAMANVILLE",
          "FORSMARK",
          "FORT CALHOUN",
          "FORT ST. VRAIN",
          "FUGEN ATR",
          "FUKUSHIMA-DAIICHI",
          "FUKUSHIMA-DAINI",
          "FUQING",
          "GARIGLIANO",
          "GENKAI",
          "GENTILLY",
          "GOESGEN",
          "GOLFECH",
          "GRAFENRHEINFELD (KKG)",
          "GRAND GULF",
          "GRAVELINES",
          "GREIFSWALD",
          "GROHNDE (KWG)",
          "GUANGDONG",
          "GUNDREMMINGEN",
          "H.B. ROBINSON",
          "HADDAM NECK",
          "HAIYANG",
          "HALLAM",
          "HAMAOKA",
          "HARTLEPOOL",
          "HATCH",
          "HDR GROSSWELZHEIM",
          "HEYSHAM",
          "HIGASHI DORI",
          "HINKLEY POINT A",
          "HINKLEY POINT B",
          "HONGYANHE",
          "HOPE CREEK",
          "HUMBOLDT BAY",
          "HUNTERSTON A",
          "HUNTERSTON B",
          "IGNALINA",
          "IKATA",
          "INDIAN POINT",
          "ISAR",
          "JOSE CABRERA",
          "JPDR",
          "KAIGA",
          "KAKRAPAR",
          "KALININ",
          "KANUPP",
          "KASHIWAZAKI KARIWA",
          "KEWAUNEE",
          "KHMELNITSKI",
          "KNK",
          "KOEBERG",
          "KOLA",
          "KORI",
          "KOZLODUY",
          "KRSKO",
          "KRUEMMEL",
          "KUDANKULAM",
          "KUOSHENG",
          "KURSK",
          "LACROSSE",
          "LAGUNA VERDE",
          "LASALLE",
          "LATINA",
          "LEIBSTADT",
          "LENINGRAD",
          "LENINGRAD-2",
          "LIMERICK",
          "LINGAO",
          "LINGEN",
          "LOVIISA",
          "LUCENS",
          "LUNGMEN",
          "MAANSHAN",
          "MADRAS",
          "MAINE YANKEE",
          "MARCOULE",
          "MCGUIRE",
          "METSAMOR",
          "MIHAMA",
          "MILLSTONE",
          "MOCHOVCE",
          "MOL",
          "MONJU",
          "MONTICELLO",
          "MUEHLEBERG",
          "MUELHEIM-KAERLICH",
          "MZFR",
          "NARORA",
          "NECKARWESTHEIM",
          "NIEDERAICHBACH",
          "NINE MILE POINT",
          "NINGDE",
          "NOGENT",
          "NORTH ANNA",
          "NOVOVORONEZH",
          "NOVOVORONEZH-2",
          "OBNINSK",
          "OBRIGHEIM",
          "OCONEE",
          "OHI",
          "OHMA",
          "OLDBURY",
          "OLKILUOTO",
          "ONAGAWA",
          "OSKARSHAMN",
          "OYSTER CREEK",
          "PAKS",
          "PALISADES",
          "PALO VERDE",
          "PALUEL",
          "PATHFINDER",
          "PEACH BOTTOM",
          "PENLY",
          "PERRY",
          "PHILIPPSBURG",
          "PICKERING",
          "PILGRIM",
          "PIQUA",
          "POINT BEACH",
          "POINT LEPREAU",
          "PRAIRIE ISLAND",
          "QINSHAN",
          "QUAD CITIES",
          "R.E. GINNA",
          "RAJASTHAN",
          "RANCHO SECO-1",
          "RHEINSBERG",
          "RINGHALS",
          "RIVER BEND",
          "ROLPHTON NPD",
          "ROVNO",
          "SAINT LAURENT",
          "SALEM",
          "SAN ONOFRE",
          "SANMEN",
          "SANTA MARIA DE GARONA",
          "SAXTON",
          "SEABROOK",
          "SELLAFIELD",
          "SENDAI",
          "SEQUOYAH",
          "SHEARON HARRIS",
          "SHIKA",
          "SHIMANE",
          "SHIN-WOLSONG",
          "SHIPPINGPORT",
          "SHOREHAM",
          "SIZEWELL",
          "SMOLENSK",
          "SOUTH TEXAS",
          "SOUTH UKRAINE",
          "ST. ALBAN",
          "ST. LAURENT",
          "ST. LUCIE",
          "STADE",
          "SURRY",
          "SUSQUEHANNA",
          "TAISHAN",
          "TAKAHAMA",
          "TARAPUR",
          "TEMELIN",
          "THREE MILE ISLAND",
          "THTR",
          "TIANWAN",
          "TIHANGE",
          "TOKAI",
          "TOMARI",
          "TORNESS",
          "TRAWSFYNYDD",
          "TRICASTIN",
          "TRILLO",
          "TROJAN",
          "TSURUGA",
          "TURKEY POINT",
          "ULCHIN",
          "UNTERWESER",
          "VAK KAHL",
          "VALLECITOS",
          "VANDELLOS",
          "VERMONT YANKEE",
          "VILYUCHINSK",
          "VIRGIL C. SUMMER",
          "VOGTLE",
          "VOLGODONSK",
          "WATERFORD",
          "WATTS BAR",
          "WINFRITH",
          "WOLF CREEK",
          "WOLSONG",
          "WUERGASSEN (KWW)",
          "WYLFA",
          "YANGJIANG",
          "YANKEE",
          "YONGGWANG",
          "ZAPOROZHE",
          "ZION"
         ],
         "lat": [
          59.206022,
          39.8081,
          -23.007857,
          35.31032,
          41.2,
          -33.968002,
          50.903056,
          52.092935,
          55.744444,
          40.6219,
          43.62944,
          47.5075,
          56.85,
          51.6925,
          47.552148,
          49.709305,
          45.358889,
          68.050658,
          45.255907,
          43.607,
          48.494444,
          18.366389,
          51.431623,
          51.741389,
          41.2436,
          48.3533,
          53.850833,
          34.7042,
          44.326136,
          53.891667,
          33.9583,
          45.7956,
          28.828851,
          42.075,
          38.7583,
          38.4347,
          45.07206,
          35.0514,
          49.4136,
          39.740929,
          44.322169,
          19.423056,
          55.01566,
          32.390929,
          51.389553,
          25.286254,
          47.230649,
          50.09,
          46.456031,
          40.1719,
          39.2167,
          46.471111,
          32.2978,
          40.3619,
          45.758333,
          44.6314,
          28.9572,
          34.2625,
          47.7339,
          43.869268,
          41.5972,
          35.2117,
          51.899722,
          51.325278,
          41.9761,
          44.326667,
          58.57814,
          41.3897,
          42.1006,
          49.086876,
          50.913889,
          45.295172,
          -32.232154,
          52.474231,
          41.9633,
          21.615298,
          31.2228,
          47.9064,
          43.5239,
          49.5358,
          60.402788,
          41.5208,
          40.244444,
          35.754444,
          37.42164,
          37.316229,
          25.448056,
          41.258315,
          33.5167,
          46.39461,
          47.365781,
          44.10618,
          49.984086,
          32.0075,
          51.0161,
          54.140586,
          52.035,
          22.597144,
          48.5167,
          34.4053,
          41.481944,
          36.708333,
          40.55925,
          34.620877,
          54.634824,
          31.9342,
          50.055145,
          54.029927,
          41.188056,
          51.208739,
          51.209034,
          39.801944,
          39.4678,
          40.741322,
          55.720224,
          55.722222,
          55.604444,
          33.491289,
          41.2714,
          48.604532,
          40.349167,
          36.458461,
          14.865026,
          21.236525,
          57.90525,
          24.845343,
          37.431451,
          44.3431,
          50.302462,
          49.1,
          -33.676152,
          67.466811,
          35.321269,
          43.742627,
          45.937981,
          53.41,
          8.168889,
          25.202723,
          51.676772,
          43.560062,
          19.720238,
          41.2439,
          41.42529,
          47.601314,
          59.846021,
          59.8305,
          40.226339,
          22.60611,
          52.482247,
          60.370582,
          46.692778,
          25.038611,
          21.958257,
          12.553056,
          43.954023,
          44.143333,
          35.4322,
          40.183594,
          35.70253,
          41.3086,
          48.26615,
          51.22342,
          35.740278,
          45.3333,
          46.969029,
          50.408056,
          49.104247,
          28.159867,
          49.041749,
          48.604628,
          43.5222,
          27.045,
          48.5172,
          38.0608,
          51.2833,
          51.275,
          55.084167,
          49.364444,
          34.7917,
          35.541057,
          41.509722,
          51.648671,
          61.236345,
          38.4,
          57.414743,
          39.8142,
          46.5725,
          42.3222,
          33.3897,
          49.8581,
          43.603611,
          39.7589,
          49.9756,
          41.8011,
          49.25279,
          43.810436,
          41.9444,
          40.132317,
          44.2808,
          45.068694,
          44.6194,
          30.435681,
          41.7261,
          43.277653,
          24.872911,
          38.345278,
          53.146992,
          57.260141,
          30.7572,
          46.186667,
          51.328086,
          47.72,
          39.4628,
          33.3703,
          29.101111,
          42.774412,
          40.226944,
          42.8981,
          54.4205,
          31.833542,
          35.2233,
          35.6333,
          37.05999,
          35.539583,
          35.721747,
          40.621111,
          40.961111,
          52.215,
          54.1667,
          28.795,
          47.812171,
          45.405,
          47.7203,
          27.3486,
          53.62,
          37.1656,
          41.0917,
          21.917778,
          35.522563,
          19.828785,
          49.176113,
          40.1531,
          51.679167,
          34.687468,
          50.533374,
          36.466624,
          43.03592,
          55.968423,
          52.924864,
          44.3297,
          40.700464,
          46.038333,
          35.7497,
          25.435,
          37.093025,
          53.4277,
          50.059119,
          37.613267,
          40.950996,
          42.7803,
          59.931389,
          34.2958,
          33.1419,
          47.599342,
          29.995,
          35.6028,
          50.682,
          38.2389,
          35.711463,
          51.639167,
          53.4167,
          21.708333,
          42.727839,
          35.41113,
          47.511809,
          42.446428
         ],
         "legendgroup": "",
         "lon": [
          18.082872,
          -5.69694,
          -44.458098,
          -93.231289,
          0.56667,
          -59.20374,
          6.421111,
          47.956762,
          12.920833,
          -80.4339,
          25.189345,
          2.8775,
          61.3167,
          -2.493611,
          8.228175,
          8.414744,
          -85.197222,
          166.539698,
          -0.691883,
          51.283,
          17.681944,
          -67.268611,
          3.717595,
          0.896944,
          -88.2289,
          -3.872203,
          9.344722,
          -87.1186,
          -81.594719,
          9.201667,
          -78.0106,
          5.27,
          50.892757,
          -89.2819,
          -91.7817,
          -76.4419,
          9.87214,
          -81.0694,
          6.21639,
          116.030139,
          28.058041,
          108.8125,
          -3.22605,
          71.463095,
          30.099147,
          121.587677,
          0.169521,
          4.78944,
          0.654284,
          -88.8342,
          -1.05,
          -119.333889,
          -97.785,
          -95.6411,
          5.472222,
          4.75556,
          -82.6989,
          -81.329167,
          2.51611,
          -78.722457,
          -83.0864,
          -120.854,
          5.686111,
          4.259356,
          -86.5664,
          -81.6,
          -3.75233,
          -88.2711,
          -91.7772,
          16.13826,
          0.963889,
          -93.5567,
          -64.443385,
          7.317858,
          -83.2586,
          108.347253,
          -85.1125,
          7.56528,
          -76.3983,
          -1.88139,
          18.173758,
          -96.0767,
          -104.874167,
          136.016389,
          141.034658,
          141.026181,
          119.450556,
          13.834781,
          129.833,
          -72.356225,
          7.967914,
          0.844447,
          10.184669,
          -91.0481,
          2.14417,
          13.664422,
          9.413333,
          114.543139,
          10.4,
          -80.1586,
          -72.499167,
          121.383333,
          -96.784711,
          138.144207,
          -1.18081,
          -82.3444,
          8.984869,
          -2.914384,
          141.390278,
          -3.133743,
          -3.127477,
          121.475,
          -75.5381,
          -124.209044,
          -4.896656,
          -4.89,
          26.56,
          132.309631,
          -73.9525,
          12.295608,
          -2.884444,
          140.606342,
          74.438709,
          73.350193,
          35.062775,
          66.788517,
          138.597852,
          -87.5361,
          26.646865,
          8.433,
          18.433098,
          32.473832,
          129.294517,
          23.775239,
          15.516218,
          10.408889,
          77.7125,
          121.662638,
          35.606607,
          -91.231485,
          -96.405252,
          -88.6708,
          12.807246,
          8.183893,
          29.041052,
          29.0571,
          -75.586916,
          114.553247,
          7.304518,
          26.346856,
          6.8275,
          121.924167,
          120.751748,
          80.173333,
          -69.694494,
          4.709444,
          -80.9483,
          44.153421,
          135.963167,
          -72.1681,
          18.458943,
          5.099126,
          135.988056,
          -93.8483,
          7.26882,
          7.49,
          8.432339,
          78.408658,
          9.174601,
          12.303986,
          -76.41,
          120.283333,
          3.52,
          -77.7906,
          39.2167,
          39.2,
          36.569722,
          9.076389,
          -82.8986,
          135.653948,
          140.910278,
          -2.57107,
          21.443385,
          141.5,
          16.671728,
          -74.2064,
          18.8542,
          -86.3153,
          -112.862,
          0.63306,
          -96.6375,
          -76.2692,
          1.21194,
          -81.1433,
          8.436948,
          -79.065926,
          -70.5794,
          -84.234767,
          -87.5361,
          -66.454582,
          -92.6331,
          120.947735,
          -90.31,
          -77.309254,
          75.620019,
          -121.121667,
          12.99015,
          12.111538,
          -91.3317,
          -77.657778,
          25.89903,
          1.5775,
          -75.5358,
          -117.557,
          121.641944,
          -3.206815,
          -78.241944,
          -70.8514,
          -3.4975,
          130.189984,
          -85.0878,
          -78.9561,
          136.726869,
          132.997495,
          129.478471,
          -80.435278,
          -72.865,
          1.61972,
          33.2333,
          -96.0481,
          31.217726,
          4.75556,
          1.57917,
          -80.2464,
          9.530833,
          -76.6983,
          -76.1486,
          112.981944,
          135.504677,
          72.661201,
          14.3819,
          -76.725,
          7.971667,
          119.459851,
          5.273377,
          140.609604,
          140.513203,
          -2.408406,
          -3.948439,
          4.73222,
          -2.623286,
          -122.885,
          136.021,
          -80.3314,
          129.383285,
          8.480197,
          8.987278,
          -121.840164,
          0.866517,
          -72.5158,
          30.258056,
          -81.3203,
          -81.7647,
          42.371878,
          -90.4711,
          -84.7903,
          -2.261,
          -95.6889,
          129.474808,
          9.391389,
          -4.48333,
          112.261111,
          -72.929108,
          126.41619,
          34.58546,
          -87.803003
         ],
         "marker": {
          "color": [
           1,
           2,
           3,
           2,
           2,
           2,
           1,
           4,
           2,
           2,
           2,
           2,
           4,
           2,
           2,
           2,
           1,
           4,
           4,
           1,
           5,
           1,
           1,
           2,
           2,
           1,
           1,
           3,
           8,
           1,
           2,
           5,
           1,
           2,
           1,
           2,
           1,
           2,
           4,
           1,
           2,
           2,
           4,
           4,
           4,
           2,
           7,
           3,
           2,
           1,
           1,
           1,
           2,
           1,
           1,
           4,
           1,
           1,
           4,
           4,
           1,
           2,
           1,
           4,
           2,
           1,
           2,
           3,
           1,
           4,
           4,
           1,
           1,
           1,
           3,
           2,
           2,
           2,
           1,
           3,
           3,
           1,
           1,
           1,
           6,
           4,
           3,
           1,
           4,
           2,
           1,
           2,
           1,
           1,
           6,
           5,
           1,
           2,
           3,
           1,
           1,
           2,
           1,
           5,
           2,
           2,
           1,
           4,
           1,
           2,
           2,
           4,
           1,
           1,
           2,
           2,
           2,
           3,
           3,
           2,
           1,
           1,
           4,
           4,
           4,
           1,
           7,
           1,
           4,
           1,
           2,
           4,
           8,
           6,
           1,
           1,
           2,
           2,
           5,
           1,
           2,
           2,
           1,
           1,
           4,
           2,
           2,
           4,
           1,
           2,
           1,
           2,
           2,
           3,
           1,
           3,
           2,
           2,
           3,
           3,
           4,
           1,
           1,
           1,
           1,
           1,
           1,
           2,
           2,
           1,
           2,
           4,
           2,
           2,
           5,
           2,
           1,
           1,
           3,
           4,
           1,
           2,
           3,
           3,
           3,
           1,
           4,
           1,
           3,
           4,
           1,
           3,
           2,
           1,
           2,
           8,
           1,
           1,
           2,
           1,
           2,
           9,
           2,
           1,
           8,
           1,
           1,
           4,
           1,
           1,
           4,
           2,
           2,
           3,
           2,
           1,
           1,
           1,
           5,
           2,
           2,
           1,
           2,
           3,
           2,
           1,
           1,
           3,
           3,
           2,
           3,
           2,
           2,
           2,
           1,
           2,
           2,
           2,
           4,
           4,
           2,
           2,
           1,
           2,
           3,
           2,
           3,
           2,
           2,
           4,
           1,
           1,
           2,
           2,
           6,
           1,
           1,
           1,
           2,
           1,
           2,
           1,
           2,
           4,
           1,
           2,
           1,
           1,
           4,
           1,
           2,
           3,
           1,
           6,
           6,
           2
          ],
          "coloraxis": "coloraxis",
          "size": [
           1,
           2,
           3,
           2,
           2,
           2,
           1,
           4,
           2,
           2,
           2,
           2,
           4,
           2,
           2,
           2,
           1,
           4,
           4,
           1,
           5,
           1,
           1,
           2,
           2,
           1,
           1,
           3,
           8,
           1,
           2,
           5,
           1,
           2,
           1,
           2,
           1,
           2,
           4,
           1,
           2,
           2,
           4,
           4,
           4,
           2,
           7,
           3,
           2,
           1,
           1,
           1,
           2,
           1,
           1,
           4,
           1,
           1,
           4,
           4,
           1,
           2,
           1,
           4,
           2,
           1,
           2,
           3,
           1,
           4,
           4,
           1,
           1,
           1,
           3,
           2,
           2,
           2,
           1,
           3,
           3,
           1,
           1,
           1,
           6,
           4,
           3,
           1,
           4,
           2,
           1,
           2,
           1,
           1,
           6,
           5,
           1,
           2,
           3,
           1,
           1,
           2,
           1,
           5,
           2,
           2,
           1,
           4,
           1,
           2,
           2,
           4,
           1,
           1,
           2,
           2,
           2,
           3,
           3,
           2,
           1,
           1,
           4,
           4,
           4,
           1,
           7,
           1,
           4,
           1,
           2,
           4,
           8,
           6,
           1,
           1,
           2,
           2,
           5,
           1,
           2,
           2,
           1,
           1,
           4,
           2,
           2,
           4,
           1,
           2,
           1,
           2,
           2,
           3,
           1,
           3,
           2,
           2,
           3,
           3,
           4,
           1,
           1,
           1,
           1,
           1,
           1,
           2,
           2,
           1,
           2,
           4,
           2,
           2,
           5,
           2,
           1,
           1,
           3,
           4,
           1,
           2,
           3,
           3,
           3,
           1,
           4,
           1,
           3,
           4,
           1,
           3,
           2,
           1,
           2,
           8,
           1,
           1,
           2,
           1,
           2,
           9,
           2,
           1,
           8,
           1,
           1,
           4,
           1,
           1,
           4,
           2,
           2,
           3,
           2,
           1,
           1,
           1,
           5,
           2,
           2,
           1,
           2,
           3,
           2,
           1,
           1,
           3,
           3,
           2,
           3,
           2,
           2,
           2,
           1,
           2,
           2,
           2,
           4,
           4,
           2,
           2,
           1,
           2,
           3,
           2,
           3,
           2,
           2,
           4,
           1,
           1,
           2,
           2,
           6,
           1,
           1,
           1,
           2,
           1,
           2,
           1,
           2,
           4,
           1,
           2,
           1,
           1,
           4,
           1,
           2,
           3,
           1,
           6,
           6,
           2
          ],
          "sizemode": "area",
          "sizeref": 0.0225,
          "symbol": "circle"
         },
         "mode": "markers",
         "name": "",
         "showlegend": false,
         "type": "scattergeo"
        }
       ],
       "layout": {
        "coloraxis": {
         "colorbar": {
          "title": {
           "text": "numreactor"
          }
         },
         "colorscale": [
          [
           0,
           "#440154"
          ],
          [
           0.1111111111111111,
           "#482878"
          ],
          [
           0.2222222222222222,
           "#3e4989"
          ],
          [
           0.3333333333333333,
           "#31688e"
          ],
          [
           0.4444444444444444,
           "#26828e"
          ],
          [
           0.5555555555555556,
           "#1f9e89"
          ],
          [
           0.6666666666666666,
           "#35b779"
          ],
          [
           0.7777777777777778,
           "#6ece58"
          ],
          [
           0.8888888888888888,
           "#b5de2b"
          ],
          [
           1,
           "#fde725"
          ]
         ]
        },
        "geo": {
         "center": {},
         "coastlinecolor": "gray",
         "domain": {
          "x": [
           0,
           1
          ],
          "y": [
           0,
           1
          ]
         },
         "landcolor": "rgb(243, 243, 243)",
         "projection": {
          "type": "natural earth"
         },
         "showland": true
        },
        "legend": {
         "itemsizing": "constant",
         "tracegroupgap": 0
        },
        "margin": {
         "b": 0,
         "l": 0,
         "r": 0,
         "t": 50
        },
        "showlegend": false,
        "template": {
         "data": {
          "bar": [
           {
            "error_x": {
             "color": "#2a3f5f"
            },
            "error_y": {
             "color": "#2a3f5f"
            },
            "marker": {
             "line": {
              "color": "#E5ECF6",
              "width": 0.5
             },
             "pattern": {
              "fillmode": "overlay",
              "size": 10,
              "solidity": 0.2
             }
            },
            "type": "bar"
           }
          ],
          "barpolar": [
           {
            "marker": {
             "line": {
              "color": "#E5ECF6",
              "width": 0.5
             },
             "pattern": {
              "fillmode": "overlay",
              "size": 10,
              "solidity": 0.2
             }
            },
            "type": "barpolar"
           }
          ],
          "carpet": [
           {
            "aaxis": {
             "endlinecolor": "#2a3f5f",
             "gridcolor": "white",
             "linecolor": "white",
             "minorgridcolor": "white",
             "startlinecolor": "#2a3f5f"
            },
            "baxis": {
             "endlinecolor": "#2a3f5f",
             "gridcolor": "white",
             "linecolor": "white",
             "minorgridcolor": "white",
             "startlinecolor": "#2a3f5f"
            },
            "type": "carpet"
           }
          ],
          "choropleth": [
           {
            "colorbar": {
             "outlinewidth": 0,
             "ticks": ""
            },
            "type": "choropleth"
           }
          ],
          "contour": [
           {
            "colorbar": {
             "outlinewidth": 0,
             "ticks": ""
            },
            "colorscale": [
             [
              0,
              "#0d0887"
             ],
             [
              0.1111111111111111,
              "#46039f"
             ],
             [
              0.2222222222222222,
              "#7201a8"
             ],
             [
              0.3333333333333333,
              "#9c179e"
             ],
             [
              0.4444444444444444,
              "#bd3786"
             ],
             [
              0.5555555555555556,
              "#d8576b"
             ],
             [
              0.6666666666666666,
              "#ed7953"
             ],
             [
              0.7777777777777778,
              "#fb9f3a"
             ],
             [
              0.8888888888888888,
              "#fdca26"
             ],
             [
              1,
              "#f0f921"
             ]
            ],
            "type": "contour"
           }
          ],
          "contourcarpet": [
           {
            "colorbar": {
             "outlinewidth": 0,
             "ticks": ""
            },
            "type": "contourcarpet"
           }
          ],
          "heatmap": [
           {
            "colorbar": {
             "outlinewidth": 0,
             "ticks": ""
            },
            "colorscale": [
             [
              0,
              "#0d0887"
             ],
             [
              0.1111111111111111,
              "#46039f"
             ],
             [
              0.2222222222222222,
              "#7201a8"
             ],
             [
              0.3333333333333333,
              "#9c179e"
             ],
             [
              0.4444444444444444,
              "#bd3786"
             ],
             [
              0.5555555555555556,
              "#d8576b"
             ],
             [
              0.6666666666666666,
              "#ed7953"
             ],
             [
              0.7777777777777778,
              "#fb9f3a"
             ],
             [
              0.8888888888888888,
              "#fdca26"
             ],
             [
              1,
              "#f0f921"
             ]
            ],
            "type": "heatmap"
           }
          ],
          "heatmapgl": [
           {
            "colorbar": {
             "outlinewidth": 0,
             "ticks": ""
            },
            "colorscale": [
             [
              0,
              "#0d0887"
             ],
             [
              0.1111111111111111,
              "#46039f"
             ],
             [
              0.2222222222222222,
              "#7201a8"
             ],
             [
              0.3333333333333333,
              "#9c179e"
             ],
             [
              0.4444444444444444,
              "#bd3786"
             ],
             [
              0.5555555555555556,
              "#d8576b"
             ],
             [
              0.6666666666666666,
              "#ed7953"
             ],
             [
              0.7777777777777778,
              "#fb9f3a"
             ],
             [
              0.8888888888888888,
              "#fdca26"
             ],
             [
              1,
              "#f0f921"
             ]
            ],
            "type": "heatmapgl"
           }
          ],
          "histogram": [
           {
            "marker": {
             "pattern": {
              "fillmode": "overlay",
              "size": 10,
              "solidity": 0.2
             }
            },
            "type": "histogram"
           }
          ],
          "histogram2d": [
           {
            "colorbar": {
             "outlinewidth": 0,
             "ticks": ""
            },
            "colorscale": [
             [
              0,
              "#0d0887"
             ],
             [
              0.1111111111111111,
              "#46039f"
             ],
             [
              0.2222222222222222,
              "#7201a8"
             ],
             [
              0.3333333333333333,
              "#9c179e"
             ],
             [
              0.4444444444444444,
              "#bd3786"
             ],
             [
              0.5555555555555556,
              "#d8576b"
             ],
             [
              0.6666666666666666,
              "#ed7953"
             ],
             [
              0.7777777777777778,
              "#fb9f3a"
             ],
             [
              0.8888888888888888,
              "#fdca26"
             ],
             [
              1,
              "#f0f921"
             ]
            ],
            "type": "histogram2d"
           }
          ],
          "histogram2dcontour": [
           {
            "colorbar": {
             "outlinewidth": 0,
             "ticks": ""
            },
            "colorscale": [
             [
              0,
              "#0d0887"
             ],
             [
              0.1111111111111111,
              "#46039f"
             ],
             [
              0.2222222222222222,
              "#7201a8"
             ],
             [
              0.3333333333333333,
              "#9c179e"
             ],
             [
              0.4444444444444444,
              "#bd3786"
             ],
             [
              0.5555555555555556,
              "#d8576b"
             ],
             [
              0.6666666666666666,
              "#ed7953"
             ],
             [
              0.7777777777777778,
              "#fb9f3a"
             ],
             [
              0.8888888888888888,
              "#fdca26"
             ],
             [
              1,
              "#f0f921"
             ]
            ],
            "type": "histogram2dcontour"
           }
          ],
          "mesh3d": [
           {
            "colorbar": {
             "outlinewidth": 0,
             "ticks": ""
            },
            "type": "mesh3d"
           }
          ],
          "parcoords": [
           {
            "line": {
             "colorbar": {
              "outlinewidth": 0,
              "ticks": ""
             }
            },
            "type": "parcoords"
           }
          ],
          "pie": [
           {
            "automargin": true,
            "type": "pie"
           }
          ],
          "scatter": [
           {
            "fillpattern": {
             "fillmode": "overlay",
             "size": 10,
             "solidity": 0.2
            },
            "type": "scatter"
           }
          ],
          "scatter3d": [
           {
            "line": {
             "colorbar": {
              "outlinewidth": 0,
              "ticks": ""
             }
            },
            "marker": {
             "colorbar": {
              "outlinewidth": 0,
              "ticks": ""
             }
            },
            "type": "scatter3d"
           }
          ],
          "scattercarpet": [
           {
            "marker": {
             "colorbar": {
              "outlinewidth": 0,
              "ticks": ""
             }
            },
            "type": "scattercarpet"
           }
          ],
          "scattergeo": [
           {
            "marker": {
             "colorbar": {
              "outlinewidth": 0,
              "ticks": ""
             }
            },
            "type": "scattergeo"
           }
          ],
          "scattergl": [
           {
            "marker": {
             "colorbar": {
              "outlinewidth": 0,
              "ticks": ""
             }
            },
            "type": "scattergl"
           }
          ],
          "scattermapbox": [
           {
            "marker": {
             "colorbar": {
              "outlinewidth": 0,
              "ticks": ""
             }
            },
            "type": "scattermapbox"
           }
          ],
          "scatterpolar": [
           {
            "marker": {
             "colorbar": {
              "outlinewidth": 0,
              "ticks": ""
             }
            },
            "type": "scatterpolar"
           }
          ],
          "scatterpolargl": [
           {
            "marker": {
             "colorbar": {
              "outlinewidth": 0,
              "ticks": ""
             }
            },
            "type": "scatterpolargl"
           }
          ],
          "scatterternary": [
           {
            "marker": {
             "colorbar": {
              "outlinewidth": 0,
              "ticks": ""
             }
            },
            "type": "scatterternary"
           }
          ],
          "surface": [
           {
            "colorbar": {
             "outlinewidth": 0,
             "ticks": ""
            },
            "colorscale": [
             [
              0,
              "#0d0887"
             ],
             [
              0.1111111111111111,
              "#46039f"
             ],
             [
              0.2222222222222222,
              "#7201a8"
             ],
             [
              0.3333333333333333,
              "#9c179e"
             ],
             [
              0.4444444444444444,
              "#bd3786"
             ],
             [
              0.5555555555555556,
              "#d8576b"
             ],
             [
              0.6666666666666666,
              "#ed7953"
             ],
             [
              0.7777777777777778,
              "#fb9f3a"
             ],
             [
              0.8888888888888888,
              "#fdca26"
             ],
             [
              1,
              "#f0f921"
             ]
            ],
            "type": "surface"
           }
          ],
          "table": [
           {
            "cells": {
             "fill": {
              "color": "#EBF0F8"
             },
             "line": {
              "color": "white"
             }
            },
            "header": {
             "fill": {
              "color": "#C8D4E3"
             },
             "line": {
              "color": "white"
             }
            },
            "type": "table"
           }
          ]
         },
         "layout": {
          "annotationdefaults": {
           "arrowcolor": "#2a3f5f",
           "arrowhead": 0,
           "arrowwidth": 1
          },
          "autotypenumbers": "strict",
          "coloraxis": {
           "colorbar": {
            "outlinewidth": 0,
            "ticks": ""
           }
          },
          "colorscale": {
           "diverging": [
            [
             0,
             "#8e0152"
            ],
            [
             0.1,
             "#c51b7d"
            ],
            [
             0.2,
             "#de77ae"
            ],
            [
             0.3,
             "#f1b6da"
            ],
            [
             0.4,
             "#fde0ef"
            ],
            [
             0.5,
             "#f7f7f7"
            ],
            [
             0.6,
             "#e6f5d0"
            ],
            [
             0.7,
             "#b8e186"
            ],
            [
             0.8,
             "#7fbc41"
            ],
            [
             0.9,
             "#4d9221"
            ],
            [
             1,
             "#276419"
            ]
           ],
           "sequential": [
            [
             0,
             "#0d0887"
            ],
            [
             0.1111111111111111,
             "#46039f"
            ],
            [
             0.2222222222222222,
             "#7201a8"
            ],
            [
             0.3333333333333333,
             "#9c179e"
            ],
            [
             0.4444444444444444,
             "#bd3786"
            ],
            [
             0.5555555555555556,
             "#d8576b"
            ],
            [
             0.6666666666666666,
             "#ed7953"
            ],
            [
             0.7777777777777778,
             "#fb9f3a"
            ],
            [
             0.8888888888888888,
             "#fdca26"
            ],
            [
             1,
             "#f0f921"
            ]
           ],
           "sequentialminus": [
            [
             0,
             "#0d0887"
            ],
            [
             0.1111111111111111,
             "#46039f"
            ],
            [
             0.2222222222222222,
             "#7201a8"
            ],
            [
             0.3333333333333333,
             "#9c179e"
            ],
            [
             0.4444444444444444,
             "#bd3786"
            ],
            [
             0.5555555555555556,
             "#d8576b"
            ],
            [
             0.6666666666666666,
             "#ed7953"
            ],
            [
             0.7777777777777778,
             "#fb9f3a"
            ],
            [
             0.8888888888888888,
             "#fdca26"
            ],
            [
             1,
             "#f0f921"
            ]
           ]
          },
          "colorway": [
           "#636efa",
           "#EF553B",
           "#00cc96",
           "#ab63fa",
           "#FFA15A",
           "#19d3f3",
           "#FF6692",
           "#B6E880",
           "#FF97FF",
           "#FECB52"
          ],
          "font": {
           "color": "#2a3f5f"
          },
          "geo": {
           "bgcolor": "white",
           "lakecolor": "white",
           "landcolor": "#E5ECF6",
           "showlakes": true,
           "showland": true,
           "subunitcolor": "white"
          },
          "hoverlabel": {
           "align": "left"
          },
          "hovermode": "closest",
          "mapbox": {
           "style": "light"
          },
          "paper_bgcolor": "white",
          "plot_bgcolor": "#E5ECF6",
          "polar": {
           "angularaxis": {
            "gridcolor": "white",
            "linecolor": "white",
            "ticks": ""
           },
           "bgcolor": "#E5ECF6",
           "radialaxis": {
            "gridcolor": "white",
            "linecolor": "white",
            "ticks": ""
           }
          },
          "scene": {
           "xaxis": {
            "backgroundcolor": "#E5ECF6",
            "gridcolor": "white",
            "gridwidth": 2,
            "linecolor": "white",
            "showbackground": true,
            "ticks": "",
            "zerolinecolor": "white"
           },
           "yaxis": {
            "backgroundcolor": "#E5ECF6",
            "gridcolor": "white",
            "gridwidth": 2,
            "linecolor": "white",
            "showbackground": true,
            "ticks": "",
            "zerolinecolor": "white"
           },
           "zaxis": {
            "backgroundcolor": "#E5ECF6",
            "gridcolor": "white",
            "gridwidth": 2,
            "linecolor": "white",
            "showbackground": true,
            "ticks": "",
            "zerolinecolor": "white"
           }
          },
          "shapedefaults": {
           "line": {
            "color": "#2a3f5f"
           }
          },
          "ternary": {
           "aaxis": {
            "gridcolor": "white",
            "linecolor": "white",
            "ticks": ""
           },
           "baxis": {
            "gridcolor": "white",
            "linecolor": "white",
            "ticks": ""
           },
           "bgcolor": "#E5ECF6",
           "caxis": {
            "gridcolor": "white",
            "linecolor": "white",
            "ticks": ""
           }
          },
          "title": {
           "x": 0.05
          },
          "xaxis": {
           "automargin": true,
           "gridcolor": "white",
           "linecolor": "white",
           "ticks": "",
           "title": {
            "standoff": 15
           },
           "zerolinecolor": "white",
           "zerolinewidth": 2
          },
          "yaxis": {
           "automargin": true,
           "gridcolor": "white",
           "linecolor": "white",
           "ticks": "",
           "title": {
            "standoff": 15
           },
           "zerolinecolor": "white",
           "zerolinewidth": 2
          }
         }
        },
        "title": {
         "font": {
          "size": 20
         },
         "text": "🌍 Ubicación de Plantas Nucleares y Número de Reactores"
        }
       }
      }
     },
     "metadata": {},
     "output_type": "display_data"
    },
    {
     "ename": "ValueError",
     "evalue": "\nImage export using the \"kaleido\" engine requires the kaleido package,\nwhich can be installed using pip:\n    $ pip install -U kaleido\n",
     "output_type": "error",
     "traceback": [
      "\u001b[1;31m---------------------------------------------------------------------------\u001b[0m",
      "\u001b[1;31mValueError\u001b[0m                                Traceback (most recent call last)",
      "Cell \u001b[1;32mIn[5], line 41\u001b[0m\n\u001b[0;32m     38\u001b[0m fig\u001b[38;5;241m.\u001b[39mshow()\n\u001b[0;32m     40\u001b[0m \u001b[38;5;66;03m# Guardar como imagen estática (requiere kaleido instalado)\u001b[39;00m\n\u001b[1;32m---> 41\u001b[0m \u001b[43mfig\u001b[49m\u001b[38;5;241;43m.\u001b[39;49m\u001b[43mwrite_image\u001b[49m\u001b[43m(\u001b[49m\u001b[38;5;124;43m\"\u001b[39;49m\u001b[38;5;124;43mmapa_plantas_nucleares.png\u001b[39;49m\u001b[38;5;124;43m\"\u001b[39;49m\u001b[43m,\u001b[49m\u001b[43m \u001b[49m\u001b[43mwidth\u001b[49m\u001b[38;5;241;43m=\u001b[39;49m\u001b[38;5;241;43m1400\u001b[39;49m\u001b[43m,\u001b[49m\u001b[43m \u001b[49m\u001b[43mheight\u001b[49m\u001b[38;5;241;43m=\u001b[39;49m\u001b[38;5;241;43m800\u001b[39;49m\u001b[43m)\u001b[49m\n",
      "File \u001b[1;32mc:\\Users\\ENRIQUE\\AppData\\Local\\Programs\\Python\\Python313\\Lib\\site-packages\\plotly\\basedatatypes.py:3835\u001b[0m, in \u001b[0;36mBaseFigure.write_image\u001b[1;34m(self, *args, **kwargs)\u001b[0m\n\u001b[0;32m   3775\u001b[0m \u001b[38;5;250m\u001b[39m\u001b[38;5;124;03m\"\"\"\u001b[39;00m\n\u001b[0;32m   3776\u001b[0m \u001b[38;5;124;03mConvert a figure to a static image and write it to a file or writeable\u001b[39;00m\n\u001b[0;32m   3777\u001b[0m \u001b[38;5;124;03mobject\u001b[39;00m\n\u001b[1;32m   (...)\u001b[0m\n\u001b[0;32m   3831\u001b[0m \u001b[38;5;124;03mNone\u001b[39;00m\n\u001b[0;32m   3832\u001b[0m \u001b[38;5;124;03m\"\"\"\u001b[39;00m\n\u001b[0;32m   3833\u001b[0m \u001b[38;5;28;01mimport\u001b[39;00m \u001b[38;5;21;01mplotly\u001b[39;00m\u001b[38;5;21;01m.\u001b[39;00m\u001b[38;5;21;01mio\u001b[39;00m \u001b[38;5;28;01mas\u001b[39;00m \u001b[38;5;21;01mpio\u001b[39;00m\n\u001b[1;32m-> 3835\u001b[0m \u001b[38;5;28;01mreturn\u001b[39;00m \u001b[43mpio\u001b[49m\u001b[38;5;241;43m.\u001b[39;49m\u001b[43mwrite_image\u001b[49m\u001b[43m(\u001b[49m\u001b[38;5;28;43mself\u001b[39;49m\u001b[43m,\u001b[49m\u001b[43m \u001b[49m\u001b[38;5;241;43m*\u001b[39;49m\u001b[43margs\u001b[49m\u001b[43m,\u001b[49m\u001b[43m \u001b[49m\u001b[38;5;241;43m*\u001b[39;49m\u001b[38;5;241;43m*\u001b[39;49m\u001b[43mkwargs\u001b[49m\u001b[43m)\u001b[49m\n",
      "File \u001b[1;32mc:\\Users\\ENRIQUE\\AppData\\Local\\Programs\\Python\\Python313\\Lib\\site-packages\\plotly\\io\\_kaleido.py:266\u001b[0m, in \u001b[0;36mwrite_image\u001b[1;34m(fig, file, format, scale, width, height, validate, engine)\u001b[0m\n\u001b[0;32m    250\u001b[0m             \u001b[38;5;28;01mraise\u001b[39;00m \u001b[38;5;167;01mValueError\u001b[39;00m(\n\u001b[0;32m    251\u001b[0m \u001b[38;5;250m                \u001b[39m\u001b[38;5;124;03m\"\"\"\u001b[39;00m\n\u001b[0;32m    252\u001b[0m \u001b[38;5;124;03mCannot infer image type from output path '{file}'.\u001b[39;00m\n\u001b[1;32m   (...)\u001b[0m\n\u001b[0;32m    260\u001b[0m                 )\n\u001b[0;32m    261\u001b[0m             )\n\u001b[0;32m    263\u001b[0m     \u001b[38;5;66;03m# Request image\u001b[39;00m\n\u001b[0;32m    264\u001b[0m     \u001b[38;5;66;03m# -------------\u001b[39;00m\n\u001b[0;32m    265\u001b[0m     \u001b[38;5;66;03m# Do this first so we don't create a file if image conversion fails\u001b[39;00m\n\u001b[1;32m--> 266\u001b[0m     img_data \u001b[38;5;241m=\u001b[39m \u001b[43mto_image\u001b[49m\u001b[43m(\u001b[49m\n\u001b[0;32m    267\u001b[0m \u001b[43m        \u001b[49m\u001b[43mfig\u001b[49m\u001b[43m,\u001b[49m\n\u001b[0;32m    268\u001b[0m \u001b[43m        \u001b[49m\u001b[38;5;28;43mformat\u001b[39;49m\u001b[38;5;241;43m=\u001b[39;49m\u001b[38;5;28;43mformat\u001b[39;49m\u001b[43m,\u001b[49m\n\u001b[0;32m    269\u001b[0m \u001b[43m        \u001b[49m\u001b[43mscale\u001b[49m\u001b[38;5;241;43m=\u001b[39;49m\u001b[43mscale\u001b[49m\u001b[43m,\u001b[49m\n\u001b[0;32m    270\u001b[0m \u001b[43m        \u001b[49m\u001b[43mwidth\u001b[49m\u001b[38;5;241;43m=\u001b[39;49m\u001b[43mwidth\u001b[49m\u001b[43m,\u001b[49m\n\u001b[0;32m    271\u001b[0m \u001b[43m        \u001b[49m\u001b[43mheight\u001b[49m\u001b[38;5;241;43m=\u001b[39;49m\u001b[43mheight\u001b[49m\u001b[43m,\u001b[49m\n\u001b[0;32m    272\u001b[0m \u001b[43m        \u001b[49m\u001b[43mvalidate\u001b[49m\u001b[38;5;241;43m=\u001b[39;49m\u001b[43mvalidate\u001b[49m\u001b[43m,\u001b[49m\n\u001b[0;32m    273\u001b[0m \u001b[43m        \u001b[49m\u001b[43mengine\u001b[49m\u001b[38;5;241;43m=\u001b[39;49m\u001b[43mengine\u001b[49m\u001b[43m,\u001b[49m\n\u001b[0;32m    274\u001b[0m \u001b[43m    \u001b[49m\u001b[43m)\u001b[49m\n\u001b[0;32m    276\u001b[0m     \u001b[38;5;66;03m# Open file\u001b[39;00m\n\u001b[0;32m    277\u001b[0m     \u001b[38;5;66;03m# ---------\u001b[39;00m\n\u001b[0;32m    278\u001b[0m     \u001b[38;5;28;01mif\u001b[39;00m path \u001b[38;5;129;01mis\u001b[39;00m \u001b[38;5;28;01mNone\u001b[39;00m:\n\u001b[0;32m    279\u001b[0m         \u001b[38;5;66;03m# We previously failed to make sense of `file` as a pathlib object.\u001b[39;00m\n\u001b[0;32m    280\u001b[0m         \u001b[38;5;66;03m# Attempt to write to `file` as an open file descriptor.\u001b[39;00m\n",
      "File \u001b[1;32mc:\\Users\\ENRIQUE\\AppData\\Local\\Programs\\Python\\Python313\\Lib\\site-packages\\plotly\\io\\_kaleido.py:132\u001b[0m, in \u001b[0;36mto_image\u001b[1;34m(fig, format, width, height, scale, validate, engine)\u001b[0m\n\u001b[0;32m    130\u001b[0m     \u001b[38;5;66;03m# Raise informative error message if Kaleido is not installed\u001b[39;00m\n\u001b[0;32m    131\u001b[0m     \u001b[38;5;28;01mif\u001b[39;00m scope \u001b[38;5;129;01mis\u001b[39;00m \u001b[38;5;28;01mNone\u001b[39;00m:\n\u001b[1;32m--> 132\u001b[0m         \u001b[38;5;28;01mraise\u001b[39;00m \u001b[38;5;167;01mValueError\u001b[39;00m(\n\u001b[0;32m    133\u001b[0m \u001b[38;5;250m            \u001b[39m\u001b[38;5;124;03m\"\"\"\u001b[39;00m\n\u001b[0;32m    134\u001b[0m \u001b[38;5;124;03mImage export using the \"kaleido\" engine requires the kaleido package,\u001b[39;00m\n\u001b[0;32m    135\u001b[0m \u001b[38;5;124;03mwhich can be installed using pip:\u001b[39;00m\n\u001b[0;32m    136\u001b[0m \u001b[38;5;124;03m    $ pip install -U kaleido\u001b[39;00m\n\u001b[0;32m    137\u001b[0m \u001b[38;5;124;03m\"\"\"\u001b[39;00m\n\u001b[0;32m    138\u001b[0m         )\n\u001b[0;32m    140\u001b[0m     \u001b[38;5;66;03m# Validate figure\u001b[39;00m\n\u001b[0;32m    141\u001b[0m     \u001b[38;5;66;03m# ---------------\u001b[39;00m\n\u001b[0;32m    142\u001b[0m     fig_dict \u001b[38;5;241m=\u001b[39m validate_coerce_fig_to_dict(fig, validate)\n",
      "\u001b[1;31mValueError\u001b[0m: \nImage export using the \"kaleido\" engine requires the kaleido package,\nwhich can be installed using pip:\n    $ pip install -U kaleido\n"
     ]
    }
   ],
   "source": [
    "import pandas as pd\n",
    "import plotly.express as px\n",
    "\n",
    "# Cargar datos\n",
    "df = pd.read_csv(\"nuclear-power-plants.csv\")\n",
    "\n",
    "# Filtrar datos con coordenadas válidas\n",
    "df = df[df[\"latitude\"].notnull() & df[\"longitude\"].notnull()]\n",
    "\n",
    "# Crear el mapa\n",
    "fig = px.scatter_geo(\n",
    "    df,\n",
    "    lat=\"latitude\",\n",
    "    lon=\"longitude\",\n",
    "    color=\"numreactor\",\n",
    "    color_continuous_scale=\"Viridis\",\n",
    "    size=\"numreactor\",\n",
    "    hover_name=\"plant\",\n",
    "    projection=\"natural earth\",\n",
    "    title=\"🌍 Ubicación de Plantas Nucleares y Número de Reactores\",\n",
    "    size_max=20,\n",
    "    color_discrete_sequence=px.colors.qualitative.Dark24\n",
    ")\n",
    "\n",
    "# Ajustes estéticos\n",
    "fig.update_layout(\n",
    "    showlegend=False,\n",
    "    margin={\"r\":0,\"t\":50,\"l\":0,\"b\":0},\n",
    "    title_font_size=20,\n",
    "    geo=dict(\n",
    "        showland=True,\n",
    "        landcolor=\"rgb(243, 243, 243)\",\n",
    "        coastlinecolor=\"gray\"\n",
    "    )\n",
    ")\n",
    "\n",
    "# Mostrar en pantalla (opcional)\n",
    "fig.show()\n",
    "\n",
    "# Guardar como imagen estática (requiere kaleido instalado)\n",
    "fig.write_image(\"mapa_plantas_nucleares.png\", width=1400, height=800)\n"
   ]
  },
  {
   "cell_type": "code",
   "execution_count": 7,
   "id": "73296403",
   "metadata": {},
   "outputs": [
    {
     "data": {
      "application/vnd.plotly.v1+json": {
       "config": {
        "plotlyServerURL": "https://plot.ly"
       },
       "data": [
        {
         "alignmentgroup": "True",
         "hovertemplate": "Categoría=total_plantas<br>Región Geográfica=%{x}<br>Cantidad=%{y}<extra></extra>",
         "legendgroup": "total_plantas",
         "marker": {
          "color": "#636EFA",
          "pattern": {
           "shape": ""
          }
         },
         "name": "total_plantas",
         "offsetgroup": "total_plantas",
         "orientation": "v",
         "showlegend": true,
         "textposition": "auto",
         "type": "bar",
         "x": [
          "Africa",
          "America - Latin",
          "America - Northern",
          "Asia - Far East",
          "Asia - Middle East and South",
          "Europe - Central and Eastern",
          "Europe - Western"
         ],
         "xaxis": "x",
         "y": [
          1,
          4,
          92,
          44,
          10,
          29,
          93
         ],
         "yaxis": "y"
        },
        {
         "alignmentgroup": "True",
         "hovertemplate": "Categoría=total_reactores<br>Región Geográfica=%{x}<br>Cantidad=%{y}<extra></extra>",
         "legendgroup": "total_reactores",
         "marker": {
          "color": "#EF553B",
          "pattern": {
           "shape": ""
          }
         },
         "name": "total_reactores",
         "offsetgroup": "total_reactores",
         "orientation": "v",
         "showlegend": true,
         "textposition": "auto",
         "type": "bar",
         "x": [
          "Africa",
          "America - Latin",
          "America - Northern",
          "Asia - Far East",
          "Asia - Middle East and South",
          "Europe - Central and Eastern",
          "Europe - Western"
         ],
         "xaxis": "x",
         "y": [
          2,
          8,
          159,
          138,
          33,
          101,
          198
         ],
         "yaxis": "y"
        }
       ],
       "layout": {
        "barmode": "group",
        "legend": {
         "orientation": "h",
         "title": {
          "text": ""
         },
         "tracegroupgap": 0,
         "x": 1,
         "xanchor": "right",
         "y": 1.02,
         "yanchor": "bottom"
        },
        "margin": {
         "b": 100,
         "l": 50,
         "r": 50,
         "t": 80
        },
        "template": {
         "data": {
          "bar": [
           {
            "error_x": {
             "color": "#2a3f5f"
            },
            "error_y": {
             "color": "#2a3f5f"
            },
            "marker": {
             "line": {
              "color": "#E5ECF6",
              "width": 0.5
             },
             "pattern": {
              "fillmode": "overlay",
              "size": 10,
              "solidity": 0.2
             }
            },
            "type": "bar"
           }
          ],
          "barpolar": [
           {
            "marker": {
             "line": {
              "color": "#E5ECF6",
              "width": 0.5
             },
             "pattern": {
              "fillmode": "overlay",
              "size": 10,
              "solidity": 0.2
             }
            },
            "type": "barpolar"
           }
          ],
          "carpet": [
           {
            "aaxis": {
             "endlinecolor": "#2a3f5f",
             "gridcolor": "white",
             "linecolor": "white",
             "minorgridcolor": "white",
             "startlinecolor": "#2a3f5f"
            },
            "baxis": {
             "endlinecolor": "#2a3f5f",
             "gridcolor": "white",
             "linecolor": "white",
             "minorgridcolor": "white",
             "startlinecolor": "#2a3f5f"
            },
            "type": "carpet"
           }
          ],
          "choropleth": [
           {
            "colorbar": {
             "outlinewidth": 0,
             "ticks": ""
            },
            "type": "choropleth"
           }
          ],
          "contour": [
           {
            "colorbar": {
             "outlinewidth": 0,
             "ticks": ""
            },
            "colorscale": [
             [
              0,
              "#0d0887"
             ],
             [
              0.1111111111111111,
              "#46039f"
             ],
             [
              0.2222222222222222,
              "#7201a8"
             ],
             [
              0.3333333333333333,
              "#9c179e"
             ],
             [
              0.4444444444444444,
              "#bd3786"
             ],
             [
              0.5555555555555556,
              "#d8576b"
             ],
             [
              0.6666666666666666,
              "#ed7953"
             ],
             [
              0.7777777777777778,
              "#fb9f3a"
             ],
             [
              0.8888888888888888,
              "#fdca26"
             ],
             [
              1,
              "#f0f921"
             ]
            ],
            "type": "contour"
           }
          ],
          "contourcarpet": [
           {
            "colorbar": {
             "outlinewidth": 0,
             "ticks": ""
            },
            "type": "contourcarpet"
           }
          ],
          "heatmap": [
           {
            "colorbar": {
             "outlinewidth": 0,
             "ticks": ""
            },
            "colorscale": [
             [
              0,
              "#0d0887"
             ],
             [
              0.1111111111111111,
              "#46039f"
             ],
             [
              0.2222222222222222,
              "#7201a8"
             ],
             [
              0.3333333333333333,
              "#9c179e"
             ],
             [
              0.4444444444444444,
              "#bd3786"
             ],
             [
              0.5555555555555556,
              "#d8576b"
             ],
             [
              0.6666666666666666,
              "#ed7953"
             ],
             [
              0.7777777777777778,
              "#fb9f3a"
             ],
             [
              0.8888888888888888,
              "#fdca26"
             ],
             [
              1,
              "#f0f921"
             ]
            ],
            "type": "heatmap"
           }
          ],
          "heatmapgl": [
           {
            "colorbar": {
             "outlinewidth": 0,
             "ticks": ""
            },
            "colorscale": [
             [
              0,
              "#0d0887"
             ],
             [
              0.1111111111111111,
              "#46039f"
             ],
             [
              0.2222222222222222,
              "#7201a8"
             ],
             [
              0.3333333333333333,
              "#9c179e"
             ],
             [
              0.4444444444444444,
              "#bd3786"
             ],
             [
              0.5555555555555556,
              "#d8576b"
             ],
             [
              0.6666666666666666,
              "#ed7953"
             ],
             [
              0.7777777777777778,
              "#fb9f3a"
             ],
             [
              0.8888888888888888,
              "#fdca26"
             ],
             [
              1,
              "#f0f921"
             ]
            ],
            "type": "heatmapgl"
           }
          ],
          "histogram": [
           {
            "marker": {
             "pattern": {
              "fillmode": "overlay",
              "size": 10,
              "solidity": 0.2
             }
            },
            "type": "histogram"
           }
          ],
          "histogram2d": [
           {
            "colorbar": {
             "outlinewidth": 0,
             "ticks": ""
            },
            "colorscale": [
             [
              0,
              "#0d0887"
             ],
             [
              0.1111111111111111,
              "#46039f"
             ],
             [
              0.2222222222222222,
              "#7201a8"
             ],
             [
              0.3333333333333333,
              "#9c179e"
             ],
             [
              0.4444444444444444,
              "#bd3786"
             ],
             [
              0.5555555555555556,
              "#d8576b"
             ],
             [
              0.6666666666666666,
              "#ed7953"
             ],
             [
              0.7777777777777778,
              "#fb9f3a"
             ],
             [
              0.8888888888888888,
              "#fdca26"
             ],
             [
              1,
              "#f0f921"
             ]
            ],
            "type": "histogram2d"
           }
          ],
          "histogram2dcontour": [
           {
            "colorbar": {
             "outlinewidth": 0,
             "ticks": ""
            },
            "colorscale": [
             [
              0,
              "#0d0887"
             ],
             [
              0.1111111111111111,
              "#46039f"
             ],
             [
              0.2222222222222222,
              "#7201a8"
             ],
             [
              0.3333333333333333,
              "#9c179e"
             ],
             [
              0.4444444444444444,
              "#bd3786"
             ],
             [
              0.5555555555555556,
              "#d8576b"
             ],
             [
              0.6666666666666666,
              "#ed7953"
             ],
             [
              0.7777777777777778,
              "#fb9f3a"
             ],
             [
              0.8888888888888888,
              "#fdca26"
             ],
             [
              1,
              "#f0f921"
             ]
            ],
            "type": "histogram2dcontour"
           }
          ],
          "mesh3d": [
           {
            "colorbar": {
             "outlinewidth": 0,
             "ticks": ""
            },
            "type": "mesh3d"
           }
          ],
          "parcoords": [
           {
            "line": {
             "colorbar": {
              "outlinewidth": 0,
              "ticks": ""
             }
            },
            "type": "parcoords"
           }
          ],
          "pie": [
           {
            "automargin": true,
            "type": "pie"
           }
          ],
          "scatter": [
           {
            "fillpattern": {
             "fillmode": "overlay",
             "size": 10,
             "solidity": 0.2
            },
            "type": "scatter"
           }
          ],
          "scatter3d": [
           {
            "line": {
             "colorbar": {
              "outlinewidth": 0,
              "ticks": ""
             }
            },
            "marker": {
             "colorbar": {
              "outlinewidth": 0,
              "ticks": ""
             }
            },
            "type": "scatter3d"
           }
          ],
          "scattercarpet": [
           {
            "marker": {
             "colorbar": {
              "outlinewidth": 0,
              "ticks": ""
             }
            },
            "type": "scattercarpet"
           }
          ],
          "scattergeo": [
           {
            "marker": {
             "colorbar": {
              "outlinewidth": 0,
              "ticks": ""
             }
            },
            "type": "scattergeo"
           }
          ],
          "scattergl": [
           {
            "marker": {
             "colorbar": {
              "outlinewidth": 0,
              "ticks": ""
             }
            },
            "type": "scattergl"
           }
          ],
          "scattermapbox": [
           {
            "marker": {
             "colorbar": {
              "outlinewidth": 0,
              "ticks": ""
             }
            },
            "type": "scattermapbox"
           }
          ],
          "scatterpolar": [
           {
            "marker": {
             "colorbar": {
              "outlinewidth": 0,
              "ticks": ""
             }
            },
            "type": "scatterpolar"
           }
          ],
          "scatterpolargl": [
           {
            "marker": {
             "colorbar": {
              "outlinewidth": 0,
              "ticks": ""
             }
            },
            "type": "scatterpolargl"
           }
          ],
          "scatterternary": [
           {
            "marker": {
             "colorbar": {
              "outlinewidth": 0,
              "ticks": ""
             }
            },
            "type": "scatterternary"
           }
          ],
          "surface": [
           {
            "colorbar": {
             "outlinewidth": 0,
             "ticks": ""
            },
            "colorscale": [
             [
              0,
              "#0d0887"
             ],
             [
              0.1111111111111111,
              "#46039f"
             ],
             [
              0.2222222222222222,
              "#7201a8"
             ],
             [
              0.3333333333333333,
              "#9c179e"
             ],
             [
              0.4444444444444444,
              "#bd3786"
             ],
             [
              0.5555555555555556,
              "#d8576b"
             ],
             [
              0.6666666666666666,
              "#ed7953"
             ],
             [
              0.7777777777777778,
              "#fb9f3a"
             ],
             [
              0.8888888888888888,
              "#fdca26"
             ],
             [
              1,
              "#f0f921"
             ]
            ],
            "type": "surface"
           }
          ],
          "table": [
           {
            "cells": {
             "fill": {
              "color": "#EBF0F8"
             },
             "line": {
              "color": "white"
             }
            },
            "header": {
             "fill": {
              "color": "#C8D4E3"
             },
             "line": {
              "color": "white"
             }
            },
            "type": "table"
           }
          ]
         },
         "layout": {
          "annotationdefaults": {
           "arrowcolor": "#2a3f5f",
           "arrowhead": 0,
           "arrowwidth": 1
          },
          "autotypenumbers": "strict",
          "coloraxis": {
           "colorbar": {
            "outlinewidth": 0,
            "ticks": ""
           }
          },
          "colorscale": {
           "diverging": [
            [
             0,
             "#8e0152"
            ],
            [
             0.1,
             "#c51b7d"
            ],
            [
             0.2,
             "#de77ae"
            ],
            [
             0.3,
             "#f1b6da"
            ],
            [
             0.4,
             "#fde0ef"
            ],
            [
             0.5,
             "#f7f7f7"
            ],
            [
             0.6,
             "#e6f5d0"
            ],
            [
             0.7,
             "#b8e186"
            ],
            [
             0.8,
             "#7fbc41"
            ],
            [
             0.9,
             "#4d9221"
            ],
            [
             1,
             "#276419"
            ]
           ],
           "sequential": [
            [
             0,
             "#0d0887"
            ],
            [
             0.1111111111111111,
             "#46039f"
            ],
            [
             0.2222222222222222,
             "#7201a8"
            ],
            [
             0.3333333333333333,
             "#9c179e"
            ],
            [
             0.4444444444444444,
             "#bd3786"
            ],
            [
             0.5555555555555556,
             "#d8576b"
            ],
            [
             0.6666666666666666,
             "#ed7953"
            ],
            [
             0.7777777777777778,
             "#fb9f3a"
            ],
            [
             0.8888888888888888,
             "#fdca26"
            ],
            [
             1,
             "#f0f921"
            ]
           ],
           "sequentialminus": [
            [
             0,
             "#0d0887"
            ],
            [
             0.1111111111111111,
             "#46039f"
            ],
            [
             0.2222222222222222,
             "#7201a8"
            ],
            [
             0.3333333333333333,
             "#9c179e"
            ],
            [
             0.4444444444444444,
             "#bd3786"
            ],
            [
             0.5555555555555556,
             "#d8576b"
            ],
            [
             0.6666666666666666,
             "#ed7953"
            ],
            [
             0.7777777777777778,
             "#fb9f3a"
            ],
            [
             0.8888888888888888,
             "#fdca26"
            ],
            [
             1,
             "#f0f921"
            ]
           ]
          },
          "colorway": [
           "#636efa",
           "#EF553B",
           "#00cc96",
           "#ab63fa",
           "#FFA15A",
           "#19d3f3",
           "#FF6692",
           "#B6E880",
           "#FF97FF",
           "#FECB52"
          ],
          "font": {
           "color": "#2a3f5f"
          },
          "geo": {
           "bgcolor": "white",
           "lakecolor": "white",
           "landcolor": "#E5ECF6",
           "showlakes": true,
           "showland": true,
           "subunitcolor": "white"
          },
          "hoverlabel": {
           "align": "left"
          },
          "hovermode": "closest",
          "mapbox": {
           "style": "light"
          },
          "paper_bgcolor": "white",
          "plot_bgcolor": "#E5ECF6",
          "polar": {
           "angularaxis": {
            "gridcolor": "white",
            "linecolor": "white",
            "ticks": ""
           },
           "bgcolor": "#E5ECF6",
           "radialaxis": {
            "gridcolor": "white",
            "linecolor": "white",
            "ticks": ""
           }
          },
          "scene": {
           "xaxis": {
            "backgroundcolor": "#E5ECF6",
            "gridcolor": "white",
            "gridwidth": 2,
            "linecolor": "white",
            "showbackground": true,
            "ticks": "",
            "zerolinecolor": "white"
           },
           "yaxis": {
            "backgroundcolor": "#E5ECF6",
            "gridcolor": "white",
            "gridwidth": 2,
            "linecolor": "white",
            "showbackground": true,
            "ticks": "",
            "zerolinecolor": "white"
           },
           "zaxis": {
            "backgroundcolor": "#E5ECF6",
            "gridcolor": "white",
            "gridwidth": 2,
            "linecolor": "white",
            "showbackground": true,
            "ticks": "",
            "zerolinecolor": "white"
           }
          },
          "shapedefaults": {
           "line": {
            "color": "#2a3f5f"
           }
          },
          "ternary": {
           "aaxis": {
            "gridcolor": "white",
            "linecolor": "white",
            "ticks": ""
           },
           "baxis": {
            "gridcolor": "white",
            "linecolor": "white",
            "ticks": ""
           },
           "bgcolor": "#E5ECF6",
           "caxis": {
            "gridcolor": "white",
            "linecolor": "white",
            "ticks": ""
           }
          },
          "title": {
           "x": 0.05
          },
          "xaxis": {
           "automargin": true,
           "gridcolor": "white",
           "linecolor": "white",
           "ticks": "",
           "title": {
            "standoff": 15
           },
           "zerolinecolor": "white",
           "zerolinewidth": 2
          },
          "yaxis": {
           "automargin": true,
           "gridcolor": "white",
           "linecolor": "white",
           "ticks": "",
           "title": {
            "standoff": 15
           },
           "zerolinecolor": "white",
           "zerolinewidth": 2
          }
         }
        },
        "title": {
         "font": {
          "size": 20
         },
         "text": "Cantidad de Plantas y Reactores por Región Geográfica"
        },
        "xaxis": {
         "anchor": "y",
         "domain": [
          0,
          1
         ],
         "tickangle": 45,
         "title": {
          "text": "Región Geográfica"
         }
        },
        "yaxis": {
         "anchor": "x",
         "domain": [
          0,
          1
         ],
         "title": {
          "text": "Cantidad"
         }
        }
       }
      }
     },
     "metadata": {},
     "output_type": "display_data"
    }
   ],
   "source": [
    "import pandas as pd\n",
    "import plotly.express as px\n",
    "\n",
    "# Cargar datos\n",
    "df = pd.read_csv(\"nuclear-power-plants.csv\")\n",
    "\n",
    "# Agrupar por región: contar plantas y sumar reactores\n",
    "grouped = df.groupby(\"region\").agg(\n",
    "    total_plantas=(\"plant\", \"count\"),\n",
    "    total_reactores=(\"numreactor\", \"sum\")\n",
    ").reset_index()\n",
    "\n",
    "# Crear gráfica de barras agrupadas\n",
    "fig = px.bar(\n",
    "    grouped,\n",
    "    x=\"region\",\n",
    "    y=[\"total_plantas\", \"total_reactores\"],\n",
    "    barmode=\"group\",\n",
    "    labels={\n",
    "        \"value\": \"Cantidad\",\n",
    "        \"region\": \"Región Geográfica\",\n",
    "        \"variable\": \"Categoría\"\n",
    "    },\n",
    "    title=\"Cantidad de Plantas y Reactores por Región Geográfica\",\n",
    "    color_discrete_sequence=[\"#636EFA\", \"#EF553B\"]\n",
    ")\n",
    "\n",
    "# Ajustes estéticos\n",
    "fig.update_layout(\n",
    "    xaxis_tickangle=45,\n",
    "    title_font_size=20,\n",
    "    legend_title_text=\"\",\n",
    "    legend=dict(orientation=\"h\", yanchor=\"bottom\", y=1.02, xanchor=\"right\", x=1),\n",
    "    margin={\"t\": 80, \"l\": 50, \"r\": 50, \"b\": 100}\n",
    ")\n",
    "\n",
    "# Mostrar en pantalla (opcional)\n",
    "fig.show()\n",
    "\n"
   ]
  },
  {
   "cell_type": "code",
   "execution_count": 3,
   "id": "dc90349c",
   "metadata": {},
   "outputs": [
    {
     "data": {
      "image/png": "[encoded data removed]",
      "text/plain": [
       "<Figure size 1200x600 with 1 Axes>"
      ]
     },
     "metadata": {},
     "output_type": "display_data"
    },
    {
     "data": {
      "image/png": "[encoded data removed]",
      "text/plain": [
       "<Figure size 1000x600 with 1 Axes>"
      ]
     },
     "metadata": {},
     "output_type": "display_data"
    }
   ],
   "source": [
    "import pandas as pd\n",
    "import plotly.express as px\n",
    "import plotly.graph_objects as go\n",
    "import matplotlib.pyplot as plt\n",
    "import seaborn as sns\n",
    "import squarify\n",
    "\n",
    "# Leer los datos\n",
    "df = pd.read_csv(\"nuclear-power-plants.csv\")\n",
    "\n",
    "# Agrupar por región\n",
    "grouped = df.groupby(\"region\").agg(\n",
    "    total_plantas=(\"plant\", \"count\"),\n",
    "    total_reactores=(\"numreactor\", \"sum\")\n",
    ").reset_index()\n",
    "\n",
    "# Añadir eficiencia\n",
    "grouped[\"reactores_por_planta\"] = grouped[\"total_reactores\"] / grouped[\"total_plantas\"]\n",
    "grouped = grouped.sort_values(\"total_reactores\", ascending=False)\n",
    "\n",
    "# --- 1. Barras agrupadas ---\n",
    "fig1 = px.bar(\n",
    "    grouped,\n",
    "    x=\"region\",\n",
    "    y=[\"total_plantas\", \"total_reactores\"],\n",
    "    barmode=\"group\",\n",
    "    title=\"Plantas y Reactores Nucleares por Región\",\n",
    "    labels={\"value\": \"Cantidad\", \"region\": \"Región\", \"variable\": \"Categoría\"},\n",
    "    color_discrete_sequence=[\"#00BFC4\", \"#F8766D\"]\n",
    ")\n",
    "fig1.update_layout(xaxis_tickangle=45)\n",
    "fig1.write_image(\"barras_agrupadas.png\", width=1000, height=600)\n",
    "\n",
    "# --- 2. Líneas con áreas sombreadas ---\n",
    "fig2 = go.Figure()\n",
    "fig2.add_trace(go.Scatter(\n",
    "    x=grouped[\"region\"],\n",
    "    y=grouped[\"total_plantas\"],\n",
    "    name=\"Plantas\",\n",
    "    mode='lines+markers',\n",
    "    fill='tozeroy',\n",
    "    line=dict(color=\"#00BFC4\", width=3)\n",
    "))\n",
    "fig2.add_trace(go.Scatter(\n",
    "    x=grouped[\"region\"],\n",
    "    y=grouped[\"total_reactores\"],\n",
    "    name=\"Reactores\",\n",
    "    mode='lines+markers',\n",
    "    fill='tozeroy',\n",
    "    line=dict(color=\"#F8766D\", width=3)\n",
    "))\n",
    "fig2.update_layout(\n",
    "    title=\"Comparación de Plantas vs Reactores por Región\",\n",
    "    xaxis_title=\"Región\",\n",
    "    yaxis_title=\"Cantidad\",\n",
    "    legend_title=\"\",\n",
    "    xaxis_tickangle=45\n",
    ")\n",
    "fig2.write_image(\"lineas_sombreadas.png\", width=1000, height=600)\n",
    "\n",
    "# --- 3. Bubble chart ---\n",
    "fig3 = px.scatter(\n",
    "    grouped,\n",
    "    x=\"region\",\n",
    "    y=\"total_plantas\",\n",
    "    size=\"total_reactores\",\n",
    "    color=\"reactores_por_planta\",\n",
    "    color_continuous_scale=\"Plasma\",\n",
    "    size_max=60,\n",
    "    title=\"Relación Plantas vs Reactores por Región (Burbuja)\",\n",
    "    labels={\"total_plantas\": \"Plantas\", \"total_reactores\": \"Reactores\"}\n",
    ")\n",
    "fig3.update_layout(xaxis_tickangle=45)\n",
    "fig3.write_image(\"burbuja_regiones.png\", width=1000, height=600)\n",
    "\n",
    "# --- 4. Treemap ---\n",
    "plt.figure(figsize=(12, 6))\n",
    "labels = [\n",
    "    f\"{r}\\n{p} plantas\\n{t} reactores\"\n",
    "    for r, p, t in zip(grouped[\"region\"], grouped[\"total_plantas\"], grouped[\"total_reactores\"])\n",
    "]\n",
    "sizes = grouped[\"total_reactores\"]\n",
    "colors = plt.cm.viridis(grouped[\"reactores_por_planta\"] / grouped[\"reactores_por_planta\"].max())\n",
    "squarify.plot(sizes=sizes, label=labels, color=colors, pad=True)\n",
    "plt.title(\"Treemap: Reactores por Región\")\n",
    "plt.axis('off')\n",
    "plt.tight_layout()\n",
    "plt.savefig(\"treemap_reactores.png\")\n",
    "\n",
    "# --- 5. Waffle bar (barras tipo ladrillo) ---\n",
    "fig5, ax5 = plt.subplots(figsize=(10, 6))\n",
    "total_reactores = grouped[\"total_reactores\"].sum()\n",
    "colors = sns.color_palette(\"Set2\", len(grouped))\n",
    "\n",
    "start = 0\n",
    "for i, (region, reactores) in enumerate(zip(grouped[\"region\"], grouped[\"total_reactores\"])):\n",
    "    ax5.barh(0, reactores, left=start, color=colors[i], label=f\"{region} ({reactores})\")\n",
    "    start += reactores\n",
    "\n",
    "ax5.set_xlim(0, total_reactores)\n",
    "ax5.set_yticks([])\n",
    "ax5.set_title(\"Waffle Bar: Proporción de Reactores por Región\")\n",
    "ax5.legend(loc=\"center left\", bbox_to_anchor=(1, 0.5))\n",
    "plt.tight_layout()\n",
    "plt.savefig(\"waffle_bar_reactores.png\")\n"
   ]
  },
  {
   "cell_type": "markdown",
   "id": "e5c19a68",
   "metadata": {},
   "source": [
    "# Ejericcio 3"
   ]
  },
  {
   "cell_type": "code",
   "execution_count": 14,
   "id": "d07ed7fc",
   "metadata": {},
   "outputs": [
    {
     "name": "stderr",
     "output_type": "stream",
     "text": [
      "C:\\Users\\ENRIQUE\\AppData\\Local\\Temp\\ipykernel_23696\\628723477.py:61: UserWarning:\n",
      "\n",
      "Could not infer format, so each element will be parsed individually, falling back to `dateutil`. To ensure parsing is consistent and as-expected, please specify a format.\n",
      "\n"
     ]
    },
    {
     "data": {
      "image/png": "[encoded data removed]",
      "text/plain": [
       "<Figure size 1200x800 with 1 Axes>"
      ]
     },
     "metadata": {},
     "output_type": "display_data"
    },
    {
     "data": {
      "image/png": "[encoded data removed]",
      "text/plain": [
       "<Figure size 1600x1000 with 1 Axes>"
      ]
     },
     "metadata": {},
     "output_type": "display_data"
    },
    {
     "data": {
      "image/png": "[encoded data removed]",
      "text/plain": [
       "<Figure size 1000x1000 with 1 Axes>"
      ]
     },
     "metadata": {},
     "output_type": "display_data"
    },
    {
     "data": {
      "image/png": "[encoded data removed]",
      "text/plain": [
       "<Figure size 1200x800 with 1 Axes>"
      ]
     },
     "metadata": {},
     "output_type": "display_data"
    }
   ],
   "source": [
    "import pandas as pd\n",
    "import matplotlib.pyplot as plt\n",
    "import seaborn as sns\n",
    "from matplotlib import cm\n",
    "import squarify\n",
    "import numpy as np\n",
    "from wordcloud import WordCloud\n",
    "import chardet\n",
    "\n",
    "# Configuración de estilo\n",
    "plt.style.use('ggplot')\n",
    "sns.set_palette(\"husl\")\n",
    "\n",
    "# Detectar la codificación del archivo\n",
    "with open('cpj-database.csv', 'rb') as f:\n",
    "    result = chardet.detect(f.read())\n",
    "\n",
    "# Leer los datos con la codificación detectada\n",
    "try:\n",
    "    df = pd.read_csv('cpj-database.csv', encoding=result['encoding'])\n",
    "except:\n",
    "    # Si falla, probar con otras codificaciones comunes\n",
    "    try:\n",
    "        df = pd.read_csv('cpj-database.csv', encoding='latin1')\n",
    "    except:\n",
    "        df = pd.read_csv('cpj-database.csv', encoding='ISO-8859-1')\n",
    "\n",
    "# Limpieza básica de datos\n",
    "df['Country Killed'] = df['Country Killed'].str.strip()\n",
    "df['Nationality'] = df['Nationality'].str.strip()\n",
    "\n",
    "# 1. Países más peligrosos (top 15)\n",
    "plt.figure(figsize=(12, 8))\n",
    "country_counts = df['Country Killed'].value_counts().head(15)\n",
    "country_counts.plot(kind='barh', color=cm.viridis(np.linspace(0, 1, 15)))\n",
    "plt.title('Top 15 Países Más Peligrosos para Periodistas (1992-2007)', fontsize=14, pad=20)\n",
    "plt.xlabel('Número de Periodistas Asesinados', fontsize=12)\n",
    "plt.ylabel('País', fontsize=12)\n",
    "plt.tight_layout()\n",
    "plt.savefig('paises_peligrosos.png', dpi=300, bbox_inches='tight')\n",
    "\n",
    "# 2. Relación Nacionalidad vs País de Asesinato (treemap)\n",
    "cross_df = pd.crosstab(df['Nationality'], df['Country Killed']).stack().reset_index()\n",
    "cross_df.columns = ['Nacionalidad', 'País Asesinato', 'Conteo']\n",
    "top_pairs = cross_df.sort_values('Conteo', ascending=False).head(30)\n",
    "\n",
    "plt.figure(figsize=(16, 10))\n",
    "squarify.plot(sizes=top_pairs['Conteo'], \n",
    "              label=[f\"{n}\\n{p}\\n{c}\" for n,p,c in zip(top_pairs['Nacionalidad'], \n",
    "                                                     top_pairs['País Asesinato'], \n",
    "                                                     top_pairs['Conteo'])],\n",
    "              color=cm.plasma(np.linspace(0, 1, len(top_pairs))),\n",
    "              alpha=0.7)\n",
    "plt.title('Relación entre Nacionalidad del Periodista y País de Asesinato\\n(Top 30 Pares)', \n",
    "          fontsize=14, pad=20)\n",
    "plt.axis('off')\n",
    "plt.tight_layout()\n",
    "plt.savefig('nacionalidad_vs_pais.png', dpi=300, bbox_inches='tight')\n",
    "\n",
    "# 3. Evolución temporal de muertes por año (área polar)\n",
    "df['Year'] = pd.to_datetime(df['Date'], errors='coerce').dt.year\n",
    "year_counts = df['Year'].value_counts().sort_index()\n",
    "\n",
    "plt.figure(figsize=(10, 10))\n",
    "ax = plt.subplot(111, polar=True)\n",
    "theta = np.linspace(0, 2*np.pi, len(year_counts))\n",
    "bars = ax.bar(theta, year_counts.values, \n",
    "              width=0.5, \n",
    "              color=cm.magma(year_counts.values/year_counts.values.max()),\n",
    "              alpha=0.8)\n",
    "\n",
    "ax.set_xticks(theta)\n",
    "ax.set_xticklabels(year_counts.index)\n",
    "ax.set_title('Evolución de Asesinatos de Periodistas por Año (1992-2007)', \n",
    "             pad=30, fontsize=14)\n",
    "plt.tight_layout()\n",
    "plt.savefig('evolucion_temporal.png', dpi=300, bbox_inches='tight')\n",
    "\n",
    "# 4. Medios más peligrosos (nube de palabras)\n",
    "medium_counts = df['Medium'].value_counts()\n",
    "\n",
    "plt.figure(figsize=(12, 8))\n",
    "wordcloud = WordCloud(width=800, height=400, \n",
    "                      background_color='white',\n",
    "                      colormap='viridis').generate_from_frequencies(medium_counts)\n",
    "plt.imshow(wordcloud, interpolation='bilinear')\n",
    "plt.axis('off')\n",
    "plt.title('Medios de Comunicación Más Afectados', pad=20, fontsize=14)\n",
    "plt.tight_layout()\n",
    "plt.savefig('medios_peligrosos.png', dpi=300, bbox_inches='tight')"
   ]
  },
  {
   "cell_type": "code",
   "execution_count": 13,
   "id": "03033d7b",
   "metadata": {},
   "outputs": [
    {
     "name": "stdout",
     "output_type": "stream",
     "text": [
      "Collecting chardet\n",
      "  Downloading chardet-5.2.0-py3-none-any.whl.metadata (3.4 kB)\n",
      "Downloading chardet-5.2.0-py3-none-any.whl (199 kB)\n",
      "Installing collected packages: chardet\n",
      "Successfully installed chardet-5.2.0\n",
      "Note: you may need to restart the kernel to use updated packages.\n"
     ]
    },
    {
     "name": "stderr",
     "output_type": "stream",
     "text": [
      "\n",
      "[notice] A new release of pip is available: 24.2 -> 25.1.1\n",
      "[notice] To update, run: python.exe -m pip install --upgrade pip\n"
     ]
    }
   ],
   "source": [
    "pip install chardet"
   ]
  }
 ],
 "metadata": {
  "kernelspec": {
   "display_name": "Python 3",
   "language": "python",
   "name": "python3"
  },
  "language_info": {
   "codemirror_mode": {
    "name": "ipython",
    "version": 3
   },
   "file_extension": ".py",
   "mimetype": "text/x-python",
   "name": "python",
   "nbconvert_exporter": "python",
   "pygments_lexer": "ipython3",
   "version": "3.13.0"
  }
 },
 "nbformat": 4,
 "nbformat_minor": 5
}
