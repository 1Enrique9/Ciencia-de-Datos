{
 "cells": [
  {
   "cell_type": "code",
   "execution_count": 19,
   "id": "d27a16e8",
   "metadata": {},
   "outputs": [],
   "source": [
    "import pandas as pd\n",
    "import missingno as msno\n",
    "from ydata_profiling import ProfileReport\n",
    "import matplotlib.pyplot as plt"
   ]
  },
  {
   "cell_type": "code",
   "execution_count": 20,
   "id": "b78628d6",
   "metadata": {},
   "outputs": [],
   "source": [
    "df = pd.read_csv('./train_muestra_ct.csv')"
   ]
  },
  {
   "cell_type": "code",
   "execution_count": 6,
   "id": "25553b97",
   "metadata": {},
   "outputs": [
    {
     "data": {
      "text/plain": [
       "(4049213, 10)"
      ]
     },
     "execution_count": 6,
     "metadata": {},
     "output_type": "execute_result"
    }
   ],
   "source": [
    "df.head()\n",
    "df.shape"
   ]
  },
  {
   "cell_type": "markdown",
   "id": "f825ada1",
   "metadata": {},
   "source": [
    "### Generar reporte automático\n",
    "\n"
   ]
  },
  {
   "cell_type": "code",
   "execution_count": 7,
   "id": "96ed7090",
   "metadata": {},
   "outputs": [
    {
     "data": {
      "application/vnd.jupyter.widget-view+json": {
       "model_id": "c4b9b5e040cb45ed9bf422c78b019c59",
       "version_major": 2,
       "version_minor": 0
      },
      "text/plain": [
       "Summarize dataset:   0%|          | 0/5 [00:00<?, ?it/s]"
      ]
     },
     "metadata": {},
     "output_type": "display_data"
    },
    {
     "name": "stderr",
     "output_type": "stream",
     "text": [
      "100%|██████████| 10/10 [00:10<00:00,  1.02s/it]\n"
     ]
    },
    {
     "data": {
      "application/vnd.jupyter.widget-view+json": {
       "model_id": "6325d86932d24b94af9b27b072b4f72f",
       "version_major": 2,
       "version_minor": 0
      },
      "text/plain": [
       "Generate report structure:   0%|          | 0/1 [00:00<?, ?it/s]"
      ]
     },
     "metadata": {},
     "output_type": "display_data"
    },
    {
     "data": {
      "application/vnd.jupyter.widget-view+json": {
       "model_id": "34b5d75636b24946ac62b50c8e19b519",
       "version_major": 2,
       "version_minor": 0
      },
      "text/plain": [
       "Render HTML:   0%|          | 0/1 [00:00<?, ?it/s]"
      ]
     },
     "metadata": {},
     "output_type": "display_data"
    },
    {
     "data": {
      "application/vnd.jupyter.widget-view+json": {
       "model_id": "79e90ef4dac146da952c705382ede407",
       "version_major": 2,
       "version_minor": 0
      },
      "text/plain": [
       "Export report to file:   0%|          | 0/1 [00:00<?, ?it/s]"
      ]
     },
     "metadata": {},
     "output_type": "display_data"
    },
    {
     "name": "stdout",
     "output_type": "stream",
     "text": [
      "\n",
      "Reporte generado\n"
     ]
    }
   ],
   "source": [
    "profile = ProfileReport(\n",
    "    df,\n",
    "    title=\"reporte\",\n",
    "    explorative=True,  \n",
    "    correlations={\n",
    "        \"pearson\": {\"calculate\": True},\n",
    "        \"spearman\": {\"calculate\": True},\n",
    "        \"kendall\": {\"calculate\": True},\n",
    "        \"phi_k\": {\"calculate\": True},\n",
    "    },\n",
    "    missing_diagrams={\n",
    "        \"bar\": True,\n",
    "        \"matrix\": True,\n",
    "        \"heatmap\": True,\n",
    "    },\n",
    ")\n",
    "\n",
    "# Guardar como HTML\n",
    "profile.to_file(\"reporte_df.html\")\n",
    "print(\"\\nReporte generado\")"
   ]
  },
  {
   "cell_type": "code",
   "execution_count": 17,
   "id": "07d1e254",
   "metadata": {},
   "outputs": [
    {
     "data": {
      "application/vnd.microsoft.datawrangler.viewer.v0+json": {
       "columns": [
        {
         "name": "index",
         "rawType": "object",
         "type": "string"
        },
        {
         "name": "row_id",
         "rawType": "float64",
         "type": "float"
        },
        {
         "name": "timestamp",
         "rawType": "float64",
         "type": "float"
        },
        {
         "name": "user_id",
         "rawType": "float64",
         "type": "float"
        },
        {
         "name": "content_id",
         "rawType": "float64",
         "type": "float"
        },
        {
         "name": "content_type_id",
         "rawType": "float64",
         "type": "float"
        },
        {
         "name": "task_container_id",
         "rawType": "float64",
         "type": "float"
        },
        {
         "name": "user_answer",
         "rawType": "float64",
         "type": "float"
        },
        {
         "name": "answered_correctly",
         "rawType": "float64",
         "type": "float"
        },
        {
         "name": "prior_question_elapsed_time",
         "rawType": "float64",
         "type": "float"
        }
       ],
       "ref": "24ba0865-26db-4d55-aaa8-3543ff85aea6",
       "rows": [
        [
         "count",
         "3954940.0",
         "3954940.0",
         "3954940.0",
         "3954940.0",
         "3954940.0",
         "3954940.0",
         "3954940.0",
         "3954940.0",
         "3954940.0"
        ],
        [
         "mean",
         "50611260.99242289",
         "7737407296.224938",
         "1076649874.9532278",
         "4987.972006654968",
         "0.0",
         "912.1728177924317",
         "1.4239085801554512",
         "0.6569088279468209",
         "25434.84602244282"
        ],
        [
         "std",
         "29222268.373329528",
         "11611382250.14504",
         "619707319.335129",
         "3292.6001194330133",
         "0.0",
         "1367.2841208981047",
         "1.1559368860129675",
         "0.47474169471327377",
         "19956.33198781379"
        ],
        [
         "min",
         "4.0",
         "0.0",
         "115.0",
         "0.0",
         "0.0",
         "0.0",
         "0.0",
         "0.0",
         "0.0"
        ],
        [
         "25%",
         "25302239.75",
         "529823375.0",
         "540804595.0",
         "2001.0",
         "0.0",
         "105.0",
         "0.0",
         "0.0",
         "16000.0"
        ],
        [
         "50%",
         "50607087.0",
         "2691744358.0",
         "1071725638.0",
         "4979.0",
         "0.0",
         "385.0",
         "1.0",
         "1.0",
         "21000.0"
        ],
        [
         "75%",
         "75917251.25",
         "10001524967.25",
         "1615726374.0",
         "7218.0",
         "0.0",
         "1106.0",
         "3.0",
         "1.0",
         "29666.0"
        ],
        [
         "max",
         "101230282.0",
         "87192898752.0",
         "2147482216.0",
         "13522.0",
         "0.0",
         "9999.0",
         "3.0",
         "1.0",
         "300000.0"
        ]
       ],
       "shape": {
        "columns": 9,
        "rows": 8
       }
      },
      "text/html": [
       "<div>\n",
       "<style scoped>\n",
       "    .dataframe tbody tr th:only-of-type {\n",
       "        vertical-align: middle;\n",
       "    }\n",
       "\n",
       "    .dataframe tbody tr th {\n",
       "        vertical-align: top;\n",
       "    }\n",
       "\n",
       "    .dataframe thead th {\n",
       "        text-align: right;\n",
       "    }\n",
       "</style>\n",
       "<table border=\"1\" class=\"dataframe\">\n",
       "  <thead>\n",
       "    <tr style=\"text-align: right;\">\n",
       "      <th></th>\n",
       "      <th>row_id</th>\n",
       "      <th>timestamp</th>\n",
       "      <th>user_id</th>\n",
       "      <th>content_id</th>\n",
       "      <th>content_type_id</th>\n",
       "      <th>task_container_id</th>\n",
       "      <th>user_answer</th>\n",
       "      <th>answered_correctly</th>\n",
       "      <th>prior_question_elapsed_time</th>\n",
       "    </tr>\n",
       "  </thead>\n",
       "  <tbody>\n",
       "    <tr>\n",
       "      <th>count</th>\n",
       "      <td>3.954940e+06</td>\n",
       "      <td>3.954940e+06</td>\n",
       "      <td>3.954940e+06</td>\n",
       "      <td>3.954940e+06</td>\n",
       "      <td>3954940.0</td>\n",
       "      <td>3.954940e+06</td>\n",
       "      <td>3.954940e+06</td>\n",
       "      <td>3.954940e+06</td>\n",
       "      <td>3.954940e+06</td>\n",
       "    </tr>\n",
       "    <tr>\n",
       "      <th>mean</th>\n",
       "      <td>5.061126e+07</td>\n",
       "      <td>7.737407e+09</td>\n",
       "      <td>1.076650e+09</td>\n",
       "      <td>4.987972e+03</td>\n",
       "      <td>0.0</td>\n",
       "      <td>9.121728e+02</td>\n",
       "      <td>1.423909e+00</td>\n",
       "      <td>6.569088e-01</td>\n",
       "      <td>2.543485e+04</td>\n",
       "    </tr>\n",
       "    <tr>\n",
       "      <th>std</th>\n",
       "      <td>2.922227e+07</td>\n",
       "      <td>1.161138e+10</td>\n",
       "      <td>6.197073e+08</td>\n",
       "      <td>3.292600e+03</td>\n",
       "      <td>0.0</td>\n",
       "      <td>1.367284e+03</td>\n",
       "      <td>1.155937e+00</td>\n",
       "      <td>4.747417e-01</td>\n",
       "      <td>1.995633e+04</td>\n",
       "    </tr>\n",
       "    <tr>\n",
       "      <th>min</th>\n",
       "      <td>4.000000e+00</td>\n",
       "      <td>0.000000e+00</td>\n",
       "      <td>1.150000e+02</td>\n",
       "      <td>0.000000e+00</td>\n",
       "      <td>0.0</td>\n",
       "      <td>0.000000e+00</td>\n",
       "      <td>0.000000e+00</td>\n",
       "      <td>0.000000e+00</td>\n",
       "      <td>0.000000e+00</td>\n",
       "    </tr>\n",
       "    <tr>\n",
       "      <th>25%</th>\n",
       "      <td>2.530224e+07</td>\n",
       "      <td>5.298234e+08</td>\n",
       "      <td>5.408046e+08</td>\n",
       "      <td>2.001000e+03</td>\n",
       "      <td>0.0</td>\n",
       "      <td>1.050000e+02</td>\n",
       "      <td>0.000000e+00</td>\n",
       "      <td>0.000000e+00</td>\n",
       "      <td>1.600000e+04</td>\n",
       "    </tr>\n",
       "    <tr>\n",
       "      <th>50%</th>\n",
       "      <td>5.060709e+07</td>\n",
       "      <td>2.691744e+09</td>\n",
       "      <td>1.071726e+09</td>\n",
       "      <td>4.979000e+03</td>\n",
       "      <td>0.0</td>\n",
       "      <td>3.850000e+02</td>\n",
       "      <td>1.000000e+00</td>\n",
       "      <td>1.000000e+00</td>\n",
       "      <td>2.100000e+04</td>\n",
       "    </tr>\n",
       "    <tr>\n",
       "      <th>75%</th>\n",
       "      <td>7.591725e+07</td>\n",
       "      <td>1.000152e+10</td>\n",
       "      <td>1.615726e+09</td>\n",
       "      <td>7.218000e+03</td>\n",
       "      <td>0.0</td>\n",
       "      <td>1.106000e+03</td>\n",
       "      <td>3.000000e+00</td>\n",
       "      <td>1.000000e+00</td>\n",
       "      <td>2.966600e+04</td>\n",
       "    </tr>\n",
       "    <tr>\n",
       "      <th>max</th>\n",
       "      <td>1.012303e+08</td>\n",
       "      <td>8.719290e+10</td>\n",
       "      <td>2.147482e+09</td>\n",
       "      <td>1.352200e+04</td>\n",
       "      <td>0.0</td>\n",
       "      <td>9.999000e+03</td>\n",
       "      <td>3.000000e+00</td>\n",
       "      <td>1.000000e+00</td>\n",
       "      <td>3.000000e+05</td>\n",
       "    </tr>\n",
       "  </tbody>\n",
       "</table>\n",
       "</div>"
      ],
      "text/plain": [
       "             row_id     timestamp       user_id    content_id  \\\n",
       "count  3.954940e+06  3.954940e+06  3.954940e+06  3.954940e+06   \n",
       "mean   5.061126e+07  7.737407e+09  1.076650e+09  4.987972e+03   \n",
       "std    2.922227e+07  1.161138e+10  6.197073e+08  3.292600e+03   \n",
       "min    4.000000e+00  0.000000e+00  1.150000e+02  0.000000e+00   \n",
       "25%    2.530224e+07  5.298234e+08  5.408046e+08  2.001000e+03   \n",
       "50%    5.060709e+07  2.691744e+09  1.071726e+09  4.979000e+03   \n",
       "75%    7.591725e+07  1.000152e+10  1.615726e+09  7.218000e+03   \n",
       "max    1.012303e+08  8.719290e+10  2.147482e+09  1.352200e+04   \n",
       "\n",
       "       content_type_id  task_container_id   user_answer  answered_correctly  \\\n",
       "count        3954940.0       3.954940e+06  3.954940e+06        3.954940e+06   \n",
       "mean               0.0       9.121728e+02  1.423909e+00        6.569088e-01   \n",
       "std                0.0       1.367284e+03  1.155937e+00        4.747417e-01   \n",
       "min                0.0       0.000000e+00  0.000000e+00        0.000000e+00   \n",
       "25%                0.0       1.050000e+02  0.000000e+00        0.000000e+00   \n",
       "50%                0.0       3.850000e+02  1.000000e+00        1.000000e+00   \n",
       "75%                0.0       1.106000e+03  3.000000e+00        1.000000e+00   \n",
       "max                0.0       9.999000e+03  3.000000e+00        1.000000e+00   \n",
       "\n",
       "       prior_question_elapsed_time  \n",
       "count                 3.954940e+06  \n",
       "mean                  2.543485e+04  \n",
       "std                   1.995633e+04  \n",
       "min                   0.000000e+00  \n",
       "25%                   1.600000e+04  \n",
       "50%                   2.100000e+04  \n",
       "75%                   2.966600e+04  \n",
       "max                   3.000000e+05  "
      ]
     },
     "execution_count": 17,
     "metadata": {},
     "output_type": "execute_result"
    }
   ],
   "source": [
    "df.describe()\n"
   ]
  },
  {
   "cell_type": "markdown",
   "id": "8f3a2a2a",
   "metadata": {},
   "source": [
    "Verificar datos faltantes en cada columna"
   ]
  },
  {
   "cell_type": "code",
   "execution_count": 21,
   "id": "03a89b53",
   "metadata": {},
   "outputs": [
    {
     "name": "stdout",
     "output_type": "stream",
     "text": [
      "Porcentaje de completitud por columna:\n",
      " row_id                            100.000000\n",
      "timestamp                         100.000000\n",
      "user_id                           100.000000\n",
      "content_id                        100.000000\n",
      "content_type_id                   100.000000\n",
      "task_container_id                 100.000000\n",
      "user_answer                       100.000000\n",
      "answered_correctly                100.000000\n",
      "prior_question_elapsed_time        97.671819\n",
      "prior_question_had_explanation     99.611431\n",
      "dtype: float64\n"
     ]
    }
   ],
   "source": [
    "#print(\"Valores nulos por columna (TOTAL):\\n\", df.isnull().sum())\n",
    "completitud = df.notna().mean() * 100\n",
    "print(\"Porcentaje de completitud por columna:\\n\", completitud)"
   ]
  },
  {
   "cell_type": "code",
   "execution_count": 12,
   "id": "483a65c9",
   "metadata": {},
   "outputs": [
    {
     "name": "stdout",
     "output_type": "stream",
     "text": [
      "Número de registros duplicados exactos: 0\n"
     ]
    }
   ],
   "source": [
    "duplicados_exactos = df[df.duplicated(keep=False)]  \n",
    "\n",
    "print(f\"Número de registros duplicados exactos: {len(duplicados_exactos)}\")\n",
    "if not duplicados_exactos.empty:\n",
    "    print(\"\\nEjemplo de registros duplicados:\")\n",
    "    display(duplicados_exactos.sort_values(by=list(df.columns)).head())"
   ]
  },
  {
   "cell_type": "code",
   "execution_count": 14,
   "id": "b58cc3b6",
   "metadata": {},
   "outputs": [
    {
     "name": "stdout",
     "output_type": "stream",
     "text": [
      "valores interpretados como null\n",
      "Recuento de -1 en 'user_answer': 0\n",
      "Recuento de -1 en 'answered_correctly': 0\n"
     ]
    }
   ],
   "source": [
    "print(\"valores interpretados como null\")\n",
    "print(\"Recuento de -1 en 'user_answer':\", (df['user_answer'] == -1).sum())\n",
    "print(\"Recuento de -1 en 'answered_correctly':\", (df['answered_correctly'] == -1).sum())\n"
   ]
  },
  {
   "cell_type": "code",
   "execution_count": null,
   "id": "0064493a",
   "metadata": {},
   "outputs": [
    {
     "name": "stdout",
     "output_type": "stream",
     "text": [
      "\n",
      "Número de outliers en timestamp 368842\n"
     ]
    },
    {
     "data": {
      "text/plain": [
       "<Axes: xlabel='timestamp'>"
      ]
     },
     "execution_count": 15,
     "metadata": {},
     "output_type": "execute_result"
    }
   ],
   "source": [
    "# Detección de outliers en 'valor' (método IQR)\n",
    "Q1 = df['timestamp'].quantile(0.25)\n",
    "Q3 = df['timestamp'].quantile(0.75)\n",
    "IQR = Q3 - Q1\n",
    "outliers = df[(df['timestamp'] < (Q1 - 1.5*IQR)) | (df['timestamp'] > (Q3 + 1.5*IQR))]\n",
    "print(\"\\nNúmero de outliers en timestamp\", len(outliers))\n"
   ]
  },
  {
   "cell_type": "code",
   "execution_count": 16,
   "id": "6875e617",
   "metadata": {},
   "outputs": [
    {
     "name": "stdout",
     "output_type": "stream",
     "text": [
      "\n",
      "Número de outliers en prior_question_elapsed_time 288431\n"
     ]
    }
   ],
   "source": [
    "# Detección de outliers en 'valor' (método IQR)\n",
    "Q1 = df['prior_question_elapsed_time'].quantile(0.25)\n",
    "Q3 = df['prior_question_elapsed_time'].quantile(0.75)\n",
    "IQR = Q3 - Q1\n",
    "outliers = df[(df['prior_question_elapsed_time'] < (Q1 - 1.5*IQR)) | (df['prior_question_elapsed_time'] > (Q3 + 1.5*IQR))]\n",
    "print(\"\\nNúmero de outliers en prior_question_elapsed_time\", len(outliers))\n"
   ]
  },
  {
   "cell_type": "code",
   "execution_count": 25,
   "id": "8eff527a",
   "metadata": {},
   "outputs": [
    {
     "data": {
      "application/vnd.microsoft.datawrangler.viewer.v0+json": {
       "columns": [
        {
         "name": "index",
         "rawType": "int64",
         "type": "integer"
        },
        {
         "name": "row_id",
         "rawType": "int64",
         "type": "integer"
        },
        {
         "name": "timestamp",
         "rawType": "int64",
         "type": "integer"
        },
        {
         "name": "user_id",
         "rawType": "int64",
         "type": "integer"
        },
        {
         "name": "content_id",
         "rawType": "int64",
         "type": "integer"
        },
        {
         "name": "content_type_id",
         "rawType": "int64",
         "type": "integer"
        },
        {
         "name": "task_container_id",
         "rawType": "int64",
         "type": "integer"
        },
        {
         "name": "user_answer",
         "rawType": "int64",
         "type": "integer"
        },
        {
         "name": "answered_correctly",
         "rawType": "int64",
         "type": "integer"
        },
        {
         "name": "prior_question_elapsed_time",
         "rawType": "float64",
         "type": "float"
        },
        {
         "name": "prior_question_had_explanation",
         "rawType": "object",
         "type": "unknown"
        },
        {
         "name": "prior_question_elapsed_time_min",
         "rawType": "float64",
         "type": "float"
        },
        {
         "name": "timestamp_min",
         "rawType": "float64",
         "type": "float"
        },
        {
         "name": "timestamp_hrs",
         "rawType": "float64",
         "type": "float"
        }
       ],
       "ref": "986e42ed-fa3a-4fae-a8d6-0b50b2b2af34",
       "rows": [
        [
         "0",
         "162814",
         "2192514769",
         "3459591",
         "4406",
         "0",
         "155",
         "0",
         "0",
         "11000.0",
         "True",
         "0.18333333333333332",
         "609.0318802777778",
         "609.0318802777778"
        ],
        [
         "1",
         "32681",
         "324855427",
         "786638",
         "7093",
         "0",
         "114",
         "2",
         "1",
         "34400.0",
         "True",
         "0.5733333333333334",
         "90.23761861111112",
         "90.23761861111112"
        ],
        [
         "2",
         "40971",
         "335689585",
         "1095916",
         "9107",
         "0",
         "233",
         "0",
         "0",
         "8000.0",
         "True",
         "0.13333333333333333",
         "93.24710694444444",
         "93.24710694444444"
        ],
        [
         "3",
         "63321",
         "2397825389",
         "1409904",
         "1053",
         "0",
         "362",
         "1",
         "1",
         "16000.0",
         "True",
         "0.26666666666666666",
         "666.0626080555555",
         "666.0626080555555"
        ],
        [
         "4",
         "186690",
         "14882365329",
         "3838215",
         "3365",
         "0",
         "3255",
         "2",
         "1",
         "27000.0",
         "True",
         "0.45",
         "4133.990369166667",
         "4133.990369166667"
        ]
       ],
       "shape": {
        "columns": 13,
        "rows": 5
       }
      },
      "text/html": [
       "<div>\n",
       "<style scoped>\n",
       "    .dataframe tbody tr th:only-of-type {\n",
       "        vertical-align: middle;\n",
       "    }\n",
       "\n",
       "    .dataframe tbody tr th {\n",
       "        vertical-align: top;\n",
       "    }\n",
       "\n",
       "    .dataframe thead th {\n",
       "        text-align: right;\n",
       "    }\n",
       "</style>\n",
       "<table border=\"1\" class=\"dataframe\">\n",
       "  <thead>\n",
       "    <tr style=\"text-align: right;\">\n",
       "      <th></th>\n",
       "      <th>row_id</th>\n",
       "      <th>timestamp</th>\n",
       "      <th>user_id</th>\n",
       "      <th>content_id</th>\n",
       "      <th>content_type_id</th>\n",
       "      <th>task_container_id</th>\n",
       "      <th>user_answer</th>\n",
       "      <th>answered_correctly</th>\n",
       "      <th>prior_question_elapsed_time</th>\n",
       "      <th>prior_question_had_explanation</th>\n",
       "      <th>prior_question_elapsed_time_min</th>\n",
       "      <th>timestamp_min</th>\n",
       "      <th>timestamp_hrs</th>\n",
       "    </tr>\n",
       "  </thead>\n",
       "  <tbody>\n",
       "    <tr>\n",
       "      <th>0</th>\n",
       "      <td>162814</td>\n",
       "      <td>2192514769</td>\n",
       "      <td>3459591</td>\n",
       "      <td>4406</td>\n",
       "      <td>0</td>\n",
       "      <td>155</td>\n",
       "      <td>0</td>\n",
       "      <td>0</td>\n",
       "      <td>11000.0</td>\n",
       "      <td>True</td>\n",
       "      <td>0.183333</td>\n",
       "      <td>609.031880</td>\n",
       "      <td>609.031880</td>\n",
       "    </tr>\n",
       "    <tr>\n",
       "      <th>1</th>\n",
       "      <td>32681</td>\n",
       "      <td>324855427</td>\n",
       "      <td>786638</td>\n",
       "      <td>7093</td>\n",
       "      <td>0</td>\n",
       "      <td>114</td>\n",
       "      <td>2</td>\n",
       "      <td>1</td>\n",
       "      <td>34400.0</td>\n",
       "      <td>True</td>\n",
       "      <td>0.573333</td>\n",
       "      <td>90.237619</td>\n",
       "      <td>90.237619</td>\n",
       "    </tr>\n",
       "    <tr>\n",
       "      <th>2</th>\n",
       "      <td>40971</td>\n",
       "      <td>335689585</td>\n",
       "      <td>1095916</td>\n",
       "      <td>9107</td>\n",
       "      <td>0</td>\n",
       "      <td>233</td>\n",
       "      <td>0</td>\n",
       "      <td>0</td>\n",
       "      <td>8000.0</td>\n",
       "      <td>True</td>\n",
       "      <td>0.133333</td>\n",
       "      <td>93.247107</td>\n",
       "      <td>93.247107</td>\n",
       "    </tr>\n",
       "    <tr>\n",
       "      <th>3</th>\n",
       "      <td>63321</td>\n",
       "      <td>2397825389</td>\n",
       "      <td>1409904</td>\n",
       "      <td>1053</td>\n",
       "      <td>0</td>\n",
       "      <td>362</td>\n",
       "      <td>1</td>\n",
       "      <td>1</td>\n",
       "      <td>16000.0</td>\n",
       "      <td>True</td>\n",
       "      <td>0.266667</td>\n",
       "      <td>666.062608</td>\n",
       "      <td>666.062608</td>\n",
       "    </tr>\n",
       "    <tr>\n",
       "      <th>4</th>\n",
       "      <td>186690</td>\n",
       "      <td>14882365329</td>\n",
       "      <td>3838215</td>\n",
       "      <td>3365</td>\n",
       "      <td>0</td>\n",
       "      <td>3255</td>\n",
       "      <td>2</td>\n",
       "      <td>1</td>\n",
       "      <td>27000.0</td>\n",
       "      <td>True</td>\n",
       "      <td>0.450000</td>\n",
       "      <td>4133.990369</td>\n",
       "      <td>4133.990369</td>\n",
       "    </tr>\n",
       "  </tbody>\n",
       "</table>\n",
       "</div>"
      ],
      "text/plain": [
       "   row_id    timestamp  user_id  content_id  content_type_id  \\\n",
       "0  162814   2192514769  3459591        4406                0   \n",
       "1   32681    324855427   786638        7093                0   \n",
       "2   40971    335689585  1095916        9107                0   \n",
       "3   63321   2397825389  1409904        1053                0   \n",
       "4  186690  14882365329  3838215        3365                0   \n",
       "\n",
       "   task_container_id  user_answer  answered_correctly  \\\n",
       "0                155            0                   0   \n",
       "1                114            2                   1   \n",
       "2                233            0                   0   \n",
       "3                362            1                   1   \n",
       "4               3255            2                   1   \n",
       "\n",
       "   prior_question_elapsed_time prior_question_had_explanation  \\\n",
       "0                      11000.0                           True   \n",
       "1                      34400.0                           True   \n",
       "2                       8000.0                           True   \n",
       "3                      16000.0                           True   \n",
       "4                      27000.0                           True   \n",
       "\n",
       "   prior_question_elapsed_time_min  timestamp_min  timestamp_hrs  \n",
       "0                         0.183333     609.031880     609.031880  \n",
       "1                         0.573333      90.237619      90.237619  \n",
       "2                         0.133333      93.247107      93.247107  \n",
       "3                         0.266667     666.062608     666.062608  \n",
       "4                         0.450000    4133.990369    4133.990369  "
      ]
     },
     "execution_count": 25,
     "metadata": {},
     "output_type": "execute_result"
    }
   ],
   "source": [
    "df['prior_question_elapsed_time_min'] = df['prior_question_elapsed_time'] / 60000\n",
    "df['timestamp_hrs'] = df['timestamp'] / 3600000\n",
    "df.head()\n"
   ]
  },
  {
   "cell_type": "markdown",
   "id": "9c881552",
   "metadata": {},
   "source": [
    "### Conclusión sobre el análisis exploratorio:\n",
    "\n",
    "Con la generación de nuestro reporte automático y algunas de las métricas básicas podemos realizar ciertas recomendaciones para nuestros datos.\n",
    "\n",
    "Primero , debido al tipo de registro en nuestras variables: prior_question_elapsed_time y timestamp que se registraron en milisegundos son valores en extremo grandes y depende del modelo usado puede que convenga convertir estas variables a unidades mas acorde a.\n",
    "\n",
    "Por otra parte en las variables de: prior_question_elapsed_time y prior_question_had_explanation existen registros con valores nulos y aunque representan muy pocos datos (menos de un 5%) comviene eliminarlos.\n",
    "\n",
    "Por otra parte es conveniente deja las columnas que hacen referencia a los id de otras tablas puesto que para el modelo se necesitará juntarlas de acuerdo al tipo de preguntas.\n",
    "\n",
    "Por último existen muchos outliers dentro de mis columnas numericas(relacionadas con el tiempo entre preguntas). Sin embargo debido a lo explicado comviene no eliminarlos\n",
    "\n"
   ]
  }
 ],
 "metadata": {
  "kernelspec": {
   "display_name": "Python 3",
   "language": "python",
   "name": "python3"
  },
  "language_info": {
   "codemirror_mode": {
    "name": "ipython",
    "version": 3
   },
   "file_extension": ".py",
   "mimetype": "text/x-python",
   "name": "python",
   "nbconvert_exporter": "python",
   "pygments_lexer": "ipython3",
   "version": "3.12.3"
  }
 },
 "nbformat": 4,
 "nbformat_minor": 5
}
