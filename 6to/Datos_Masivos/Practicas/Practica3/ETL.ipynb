{
  "cells": [
    {
      "cell_type": "markdown",
      "metadata": {
        "id": "dT0mGssxzqYZ"
      },
      "source": [
        "#**Limpieza y Procesamiento de Aplicaciones de Google Play Store**"
      ]
    },
    {
      "cell_type": "markdown",
      "metadata": {
        "id": "d-n71U7LzvMm"
      },
      "source": [
        "\n",
        "## Sobre el conjunto de datos\n",
        "\n",
        "El conjunto de datos **\"Google Play Store Apps\"** en Kaggle contiene información recopilada de más de 10,000 aplicaciones disponibles en Google Play Store. Este dataset fue creado mediante web scraping y está diseñado para facilitar el análisis del mercado de aplicaciones Android.\n",
        "\n",
        "Incluye diversas características de cada aplicación, como el **nombre, la categoría, la calificación, el número de reseñas, el tamaño de la aplicación, el número de instalaciones, el tipo (gratuita o de pago), el precio, la clasificación de contenido, la última fecha de actualización, la versión actual y la versión mínima de Android requerida.**\n",
        "\n",
        "[Consulte el link para acceso a los datos](https://www.kaggle.com/datasets/lava18/google-play-store-apps)\n",
        "\n",
        "\n",
        "\n",
        "\n",
        "\n"
      ]
    },
    {
      "cell_type": "markdown",
      "metadata": {
        "id": "qVVk6rih0M4V"
      },
      "source": [
        "## Configuracion del entorno de trabajo\n",
        "\n",
        "En esta sección, configuramos el entorno de PySpark y cargamos los datos. PySpark es una API de Spark para Python que nos permite trabajar con grandes volúmenes de datos de manera distribuida.\n",
        "\n",
        "\n",
        "*   **SparkSession:** Es el punto de entrada para trabajar con Spark. Nos permite crear DataFrames y ejecutar operaciones.\n",
        "\n",
        "*   **Cargar datos:** Usamos spark.read.csv para cargar los archivos CSV en DataFrames.\n"
      ]
    },
    {
      "cell_type": "code",
      "execution_count": 1,
      "metadata": {
        "id": "3zidNaBCE3zl"
      },
      "outputs": [],
      "source": [
        "from pyspark.sql import SparkSession\n",
        "from pyspark.sql.functions import col, regexp_replace, when, split, expr, isnull, count\n",
        "from pyspark.ml import Pipeline\n",
        "from pyspark.ml.feature import StringIndexer, VectorAssembler, Imputer\n",
        "\n",
        "# Crear sesión de Spark\n",
        "spark = SparkSession.builder.appName(\"Limpieza y Procesamiento de Datos en PySpark\").getOrCreate()"
      ]
    },
    {
      "cell_type": "markdown",
      "metadata": {
        "id": "PDTE-O3x02c0"
      },
      "source": [
        "## Carga de datos"
      ]
    },
    {
      "cell_type": "code",
      "execution_count": 3,
      "metadata": {
        "colab": {
          "base_uri": "https://localhost:8080/"
        },
        "id": "WtYH0uMO42jx",
        "outputId": "5ed75f36-b3ff-40b0-9f4f-8fb3edb72a34"
      },
      "outputs": [
        {
          "name": "stdout",
          "output_type": "stream",
          "text": [
            "root\n",
            " |-- App: string (nullable = true)\n",
            " |-- Category: string (nullable = true)\n",
            " |-- Rating: string (nullable = true)\n",
            " |-- Reviews: string (nullable = true)\n",
            " |-- Size: string (nullable = true)\n",
            " |-- Installs: string (nullable = true)\n",
            " |-- Type: string (nullable = true)\n",
            " |-- Price: string (nullable = true)\n",
            " |-- Content Rating: string (nullable = true)\n",
            " |-- Genres: string (nullable = true)\n",
            " |-- Last Updated: string (nullable = true)\n",
            " |-- Current Ver: string (nullable = true)\n",
            " |-- Android Ver: string (nullable = true)\n",
            "\n",
            "+--------------------+--------------+------+-------+----+-----------+----+-----+--------------+--------------------+----------------+------------------+------------+\n",
            "|                 App|      Category|Rating|Reviews|Size|   Installs|Type|Price|Content Rating|              Genres|    Last Updated|       Current Ver| Android Ver|\n",
            "+--------------------+--------------+------+-------+----+-----------+----+-----+--------------+--------------------+----------------+------------------+------------+\n",
            "|Photo Editor & Ca...|ART_AND_DESIGN|   4.1|    159| 19M|    10,000+|Free|    0|      Everyone|        Art & Design| January 7, 2018|             1.0.0|4.0.3 and up|\n",
            "| Coloring book moana|ART_AND_DESIGN|   3.9|    967| 14M|   500,000+|Free|    0|      Everyone|Art & Design;Pret...|January 15, 2018|             2.0.0|4.0.3 and up|\n",
            "|U Launcher Lite –...|ART_AND_DESIGN|   4.7|  87510|8.7M| 5,000,000+|Free|    0|      Everyone|        Art & Design|  August 1, 2018|             1.2.4|4.0.3 and up|\n",
            "|Sketch - Draw & P...|ART_AND_DESIGN|   4.5| 215644| 25M|50,000,000+|Free|    0|          Teen|        Art & Design|    June 8, 2018|Varies with device|  4.2 and up|\n",
            "|Pixel Draw - Numb...|ART_AND_DESIGN|   4.3|    967|2.8M|   100,000+|Free|    0|      Everyone|Art & Design;Crea...|   June 20, 2018|               1.1|  4.4 and up|\n",
            "+--------------------+--------------+------+-------+----+-----------+----+-----+--------------+--------------------+----------------+------------------+------------+\n",
            "only showing top 5 rows\n",
            "\n"
          ]
        }
      ],
      "source": [
        "# Cargar el dataset\n",
        "df = spark.read.csv(\"./googleplaystore.csv\", header=True, inferSchema=True)\n",
        "\n",
        "# Mostrar esquema original\n",
        "df.printSchema()\n",
        "\n",
        "# Mostrar las primeras filas\n",
        "df.show(5)"
      ]
    },
    {
      "cell_type": "markdown",
      "metadata": {
        "id": "2xTokwTt06Vf"
      },
      "source": [
        "## Limpieza, transformacion de datos"
      ]
    },
    {
      "cell_type": "code",
      "execution_count": 4,
      "metadata": {
        "colab": {
          "base_uri": "https://localhost:8080/"
        },
        "id": "lY9r9Rj7E62d",
        "outputId": "2d32e429-ffbc-435f-9846-a9a9d7a659fa"
      },
      "outputs": [
        {
          "name": "stdout",
          "output_type": "stream",
          "text": [
            "El número de filas en el dataset es: 10841\n"
          ]
        }
      ],
      "source": [
        "# Número de filas en el DataFrame\n",
        "num_filas = df.count()\n",
        "\n",
        "print(f\"El número de filas en el dataset es: {num_filas}\")"
      ]
    },
    {
      "cell_type": "markdown",
      "metadata": {
        "id": "FM8iWuB01Fy1"
      },
      "source": [
        "Las columnas son de tipo string, lo que significa que los valores NaN no se están manejando correctamente, ya que NaN es un valor numérico y no se aplica a columnas de tipo string. Además, los valores NULL en columnas de tipo string pueden confundirse con cadenas vacías (\"\") o cadenas como \"NULL\" o \"NaN\"\n",
        "\n",
        "Por lo tanto convertimos las columnas a un tipo de dato (segun corresponda) que no sea string"
      ]
    },
    {
      "cell_type": "code",
      "execution_count": 5,
      "metadata": {
        "id": "uh5Ti3jDvrMO"
      },
      "outputs": [],
      "source": [
        "\n",
        "from pyspark.sql import functions as F\n",
        "\n",
        "# Convertimoos 'Size' a un valor numérico en megabytes\n",
        "df = df.withColumn(\n",
        "    \"Size_MB\",\n",
        "    F.when(F.col(\"Size\").endswith(\"M\"), F.regexp_extract(F.col(\"Size\"), r\"(\\d+\\.?\\d*)\", 1).cast(\"float\"))\n",
        "    .when(F.col(\"Size\").endswith(\"K\"), F.regexp_extract(F.col(\"Size\"), r\"(\\d+\\.?\\d*)\", 1).cast(\"float\") / 1024)\n",
        "    .when(F.col(\"Size\").endswith(\"k\"), F.regexp_extract(F.col(\"Size\"), r\"(\\d+\\.?\\d*)\", 1).cast(\"float\") / 1024)\n",
        ")\n",
        "\n",
        "df = df.drop(\"Size\")"
      ]
    },
    {
      "cell_type": "code",
      "execution_count": 6,
      "metadata": {
        "id": "2wT0-EdcvrTR"
      },
      "outputs": [],
      "source": [
        "from pyspark.sql.functions import col\n",
        "\n",
        "# Convertimos columnas numéricas\n",
        "df = df.withColumn(\"Rating\", col(\"Rating\").cast(\"double\")) \\\n",
        "       .withColumn(\"Reviews\", col(\"Reviews\").cast(\"int\")) \\\n",
        "       .withColumn(\"Price\", col(\"Price\").cast(\"double\"))"
      ]
    },
    {
      "cell_type": "code",
      "execution_count": 7,
      "metadata": {
        "id": "hxXg-yCcw_7W"
      },
      "outputs": [
        {
          "name": "stderr",
          "output_type": "stream",
          "text": [
            "<>:6: SyntaxWarning: invalid escape sequence '\\s'\n",
            "<>:6: SyntaxWarning: invalid escape sequence '\\s'\n",
            "C:\\Users\\ENRIQUE\\AppData\\Local\\Temp\\ipykernel_32672\\3963064863.py:6: SyntaxWarning: invalid escape sequence '\\s'\n",
            "  df = df.withColumn(column, when((col(column) == \"\") | (col(column).rlike(\"^\\s*$\")) | (col(column) == \"NULL\") | (col(column) == \"NaN\"), None).otherwise(col(column)))\n"
          ]
        }
      ],
      "source": [
        "from pyspark.sql.functions import when\n",
        "\n",
        "# Reemplazamos  valores no estándar por NULL (Al ser string pyspark puede interpretar un NULL como cadena)\n",
        "\n",
        "for column in df.columns:\n",
        "    df = df.withColumn(column, when((col(column) == \"\") | (col(column).rlike(\"^\\s*$\")) | (col(column) == \"NULL\") | (col(column) == \"NaN\"), None).otherwise(col(column)))"
      ]
    },
    {
      "cell_type": "code",
      "execution_count": 8,
      "metadata": {
        "colab": {
          "base_uri": "https://localhost:8080/"
        },
        "id": "Z_vU7oKO6Ila",
        "outputId": "962ef64c-5c63-42ed-956a-f2ec7264a0df"
      },
      "outputs": [
        {
          "name": "stdout",
          "output_type": "stream",
          "text": [
            "+---+--------+------+-------+--------+----+-----+--------------+------+------------+-----------+-----------+-------+\n",
            "|App|Category|Rating|Reviews|Installs|Type|Price|Content Rating|Genres|Last Updated|Current Ver|Android Ver|Size_MB|\n",
            "+---+--------+------+-------+--------+----+-----+--------------+------+------------+-----------+-----------+-------+\n",
            "|  0|       0|  1476|      3|       0|   1|  803|             1|     0|           0|          8|          3|   1697|\n",
            "+---+--------+------+-------+--------+----+-----+--------------+------+------------+-----------+-----------+-------+\n",
            "\n"
          ]
        }
      ],
      "source": [
        "from pyspark.sql.functions import col, sum, isnan\n",
        "\n",
        "# Contamos  NULL y NaN por columna\n",
        "nan_null_counts = df.select([\n",
        "    (\n",
        "        sum(col(column).isNull().cast(\"int\")) +  # Conteo de NULL\n",
        "        sum(isnan(col(column)).cast(\"int\"))      # Conteo de NaN\n",
        "    ).alias(column)\n",
        "    for column in df.columns\n",
        "])\n",
        "\n",
        "nan_null_counts.show()"
      ]
    },
    {
      "cell_type": "code",
      "execution_count": 9,
      "metadata": {
        "id": "EnmZ3Km0rY8N"
      },
      "outputs": [],
      "source": [
        "# Eliminar los registros nulos\n",
        "# En este caso eliminamos lo registros con valores nulo, esto porque los valores nulos por columna no representan mas del 50%\n",
        "\n",
        "df_clean = df.dropna(how='any')"
      ]
    },
    {
      "cell_type": "code",
      "execution_count": 10,
      "metadata": {
        "colab": {
          "base_uri": "https://localhost:8080/"
        },
        "id": "DE2WLlFZrZAQ",
        "outputId": "81a6ce9c-da39-46e8-c833-f4256e070fc8"
      },
      "outputs": [
        {
          "name": "stdout",
          "output_type": "stream",
          "text": [
            "+--------------------+--------------+------+-------+-----------+----+-----+--------------+--------------------+----------------+------------------+------------+-----------------+\n",
            "|                 App|      Category|Rating|Reviews|   Installs|Type|Price|Content Rating|              Genres|    Last Updated|       Current Ver| Android Ver|          Size_MB|\n",
            "+--------------------+--------------+------+-------+-----------+----+-----+--------------+--------------------+----------------+------------------+------------+-----------------+\n",
            "|Photo Editor & Ca...|ART_AND_DESIGN|   4.1|    159|    10,000+|Free|  0.0|      Everyone|        Art & Design| January 7, 2018|             1.0.0|4.0.3 and up|             19.0|\n",
            "| Coloring book moana|ART_AND_DESIGN|   3.9|    967|   500,000+|Free|  0.0|      Everyone|Art & Design;Pret...|January 15, 2018|             2.0.0|4.0.3 and up|             14.0|\n",
            "|U Launcher Lite –...|ART_AND_DESIGN|   4.7|  87510| 5,000,000+|Free|  0.0|      Everyone|        Art & Design|  August 1, 2018|             1.2.4|4.0.3 and up|8.699999809265137|\n",
            "|Sketch - Draw & P...|ART_AND_DESIGN|   4.5| 215644|50,000,000+|Free|  0.0|          Teen|        Art & Design|    June 8, 2018|Varies with device|  4.2 and up|             25.0|\n",
            "|Pixel Draw - Numb...|ART_AND_DESIGN|   4.3|    967|   100,000+|Free|  0.0|      Everyone|Art & Design;Crea...|   June 20, 2018|               1.1|  4.4 and up|2.799999952316284|\n",
            "+--------------------+--------------+------+-------+-----------+----+-----+--------------+--------------------+----------------+------------------+------------+-----------------+\n",
            "only showing top 5 rows\n",
            "\n"
          ]
        }
      ],
      "source": [
        "df_clean.show(5)"
      ]
    },
    {
      "cell_type": "code",
      "execution_count": 11,
      "metadata": {
        "colab": {
          "base_uri": "https://localhost:8080/"
        },
        "id": "LFWbd1QOrwj2",
        "outputId": "6dba102d-332a-4c19-d6f6-142ce43ceaef"
      },
      "outputs": [
        {
          "data": {
            "text/plain": [
              "7145"
            ]
          },
          "execution_count": 11,
          "metadata": {},
          "output_type": "execute_result"
        }
      ],
      "source": [
        "# Contamos el numero de registros hasta el momento\n",
        "\n",
        "df_clean.count()"
      ]
    },
    {
      "cell_type": "code",
      "execution_count": 12,
      "metadata": {
        "colab": {
          "base_uri": "https://localhost:8080/"
        },
        "id": "9-zhsK7VaG7e",
        "outputId": "71748c2f-78cf-4ad5-d051-bee3fb64c2fc"
      },
      "outputs": [
        {
          "name": "stdout",
          "output_type": "stream",
          "text": [
            "+---+--------+------+-------+--------+----+-----+--------------+------+------------+-----------+-----------+-------+\n",
            "|App|Category|Rating|Reviews|Installs|Type|Price|Content Rating|Genres|Last Updated|Current Ver|Android Ver|Size_MB|\n",
            "+---+--------+------+-------+--------+----+-----+--------------+------+------------+-----------+-----------+-------+\n",
            "|  0|       0|     0|      0|       0|   0|    0|             0|     0|           0|          0|          0|      0|\n",
            "+---+--------+------+-------+--------+----+-----+--------------+------+------------+-----------+-----------+-------+\n",
            "\n"
          ]
        }
      ],
      "source": [
        "# Indntificamos valores nulos por columna\n",
        "\n",
        "nan_null_counts = df_clean.select([\n",
        "    (\n",
        "        sum(col(column).isNull().cast(\"int\")) +  # Conteo de NULL\n",
        "        sum(isnan(col(column)).cast(\"int\"))      # Conteo de NaN\n",
        "    ).alias(column)  # Asignar el nombre de la columna original\n",
        "    for column in df_clean.columns\n",
        "])\n",
        "\n",
        "\n",
        "nan_null_counts.show()"
      ]
    },
    {
      "cell_type": "code",
      "execution_count": 13,
      "metadata": {
        "id": "D19YTk2vFhXn"
      },
      "outputs": [],
      "source": [
        "#  Eliminamos datos duplicados en base a la columna \"App\"\n",
        "\n",
        "df_clean = df_clean.dropDuplicates([\"App\"])"
      ]
    },
    {
      "cell_type": "code",
      "execution_count": 14,
      "metadata": {
        "colab": {
          "base_uri": "https://localhost:8080/"
        },
        "id": "C1hg1eGExRtP",
        "outputId": "7921e732-3bf7-4867-96bb-d1a11b8cf095"
      },
      "outputs": [
        {
          "data": {
            "text/plain": [
              "6484"
            ]
          },
          "execution_count": 14,
          "metadata": {},
          "output_type": "execute_result"
        }
      ],
      "source": [
        "df_clean.count()"
      ]
    },
    {
      "cell_type": "markdown",
      "metadata": {
        "id": "JqwfOmugLs-_"
      },
      "source": [
        "#### Identificamos valores unicos en columnas con texto para normalizar"
      ]
    },
    {
      "cell_type": "code",
      "execution_count": null,
      "metadata": {
        "colab": {
          "base_uri": "https://localhost:8080/"
        },
        "id": "x-biRNUrL0bv",
        "outputId": "b5bafb1d-c545-46fa-ed9a-7566a2e68036"
      },
      "outputs": [
        {
          "name": "stdout",
          "output_type": "stream",
          "text": [
            "+-------------------+\n",
            "|           Category|\n",
            "+-------------------+\n",
            "|             EVENTS|\n",
            "|             COMICS|\n",
            "|             SPORTS|\n",
            "|            WEATHER|\n",
            "|      VIDEO_PLAYERS|\n",
            "|  AUTO_AND_VEHICLES|\n",
            "|          PARENTING|\n",
            "|      ENTERTAINMENT|\n",
            "|    PERSONALIZATION|\n",
            "| HEALTH_AND_FITNESS|\n",
            "|   TRAVEL_AND_LOCAL|\n",
            "|BOOKS_AND_REFERENCE|\n",
            "|     FOOD_AND_DRINK|\n",
            "|        PHOTOGRAPHY|\n",
            "|           BUSINESS|\n",
            "|             FAMILY|\n",
            "|           SHOPPING|\n",
            "|     HOUSE_AND_HOME|\n",
            "|               GAME|\n",
            "|          EDUCATION|\n",
            "+-------------------+\n",
            "only showing top 20 rows\n",
            "\n"
          ]
        }
      ],
      "source": [
        "valores_unicos = df_clean.select(\"Category\").distinct()\n",
        "\n",
        "# Mostrar los valores únicos\n",
        "valores_unicos.show()"
      ]
    },
    {
      "cell_type": "code",
      "execution_count": 15,
      "metadata": {
        "colab": {
          "base_uri": "https://localhost:8080/"
        },
        "id": "o87Di45CMo7L",
        "outputId": "fdb3d497-cd87-4aea-e763-616030310881"
      },
      "outputs": [
        {
          "name": "stdout",
          "output_type": "stream",
          "text": [
            "Valores únicos para la columna: Installs\n",
            "+--------------+\n",
            "|      Installs|\n",
            "+--------------+\n",
            "|       50,000+|\n",
            "|          100+|\n",
            "|    5,000,000+|\n",
            "|  100,000,000+|\n",
            "|1,000,000,000+|\n",
            "|    1,000,000+|\n",
            "|  500,000,000+|\n",
            "|           10+|\n",
            "|           50+|\n",
            "|            5+|\n",
            "|          500+|\n",
            "|        1,000+|\n",
            "|      500,000+|\n",
            "|        5,000+|\n",
            "|   10,000,000+|\n",
            "|   50,000,000+|\n",
            "|      100,000+|\n",
            "|            1+|\n",
            "|       10,000+|\n",
            "+--------------+\n",
            "\n",
            "Valores únicos para la columna: Type\n",
            "+----+\n",
            "|Type|\n",
            "+----+\n",
            "|Free|\n",
            "+----+\n",
            "\n",
            "Valores únicos para la columna: Price\n",
            "+-----+\n",
            "|Price|\n",
            "+-----+\n",
            "|  0.0|\n",
            "+-----+\n",
            "\n",
            "Valores únicos para la columna: Content Rating\n",
            "+---------------+\n",
            "| Content Rating|\n",
            "+---------------+\n",
            "|        Unrated|\n",
            "|           Teen|\n",
            "|     Mature 17+|\n",
            "|   Everyone 10+|\n",
            "|       Everyone|\n",
            "|Adults only 18+|\n",
            "+---------------+\n",
            "\n",
            "Valores únicos para la columna: Genres\n",
            "+--------------------+\n",
            "|              Genres|\n",
            "+--------------------+\n",
            "|Video Players & E...|\n",
            "|Adventure;Action ...|\n",
            "|           Education|\n",
            "|              Trivia|\n",
            "|     Auto & Vehicles|\n",
            "|Travel & Local;Ac...|\n",
            "|Simulation;Action...|\n",
            "|Education;Pretend...|\n",
            "|       Entertainment|\n",
            "| Education;Education|\n",
            "|Entertainment;Mus...|\n",
            "|Parenting;Brain G...|\n",
            "|Simulation;Preten...|\n",
            "|Arcade;Action & A...|\n",
            "|Educational;Creat...|\n",
            "|Casual;Music & Video|\n",
            "| Arcade;Pretend Play|\n",
            "|           Adventure|\n",
            "|              Arcade|\n",
            "|Education;Brain G...|\n",
            "+--------------------+\n",
            "only showing top 20 rows\n",
            "\n",
            "Valores únicos para la columna: Current Ver\n",
            "+--------------------+\n",
            "|         Current Ver|\n",
            "+--------------------+\n",
            "|               5.8.0|\n",
            "|            18.08.05|\n",
            "|         3.19.35.999|\n",
            "|             1.0.3.1|\n",
            "|               3.5.0|\n",
            "|              5.1.13|\n",
            "|FreeTimeApp-aosp_...|\n",
            "|               4.0.5|\n",
            "|               1.2.8|\n",
            "|             5.4.7.1|\n",
            "|                 125|\n",
            "|              5.3.11|\n",
            "|            10001008|\n",
            "|              1.0.02|\n",
            "|                 2.6|\n",
            "|              1.0.12|\n",
            "|             11.45.0|\n",
            "|               2.2.6|\n",
            "|                 8.2|\n",
            "|            7.17.2.0|\n",
            "+--------------------+\n",
            "only showing top 20 rows\n",
            "\n",
            "Valores únicos para la columna: Last Updated\n",
            "+------------------+\n",
            "|      Last Updated|\n",
            "+------------------+\n",
            "|  October 27, 2015|\n",
            "|     March 2, 2017|\n",
            "|    March 25, 2016|\n",
            "|       may 4, 2015|\n",
            "|     June 13, 2018|\n",
            "| February 25, 2016|\n",
            "|      may 11, 2018|\n",
            "|    March 22, 2015|\n",
            "|  November 8, 2015|\n",
            "|       may 1, 2017|\n",
            "|     June 27, 2017|\n",
            "| November 15, 2014|\n",
            "|     July 18, 2017|\n",
            "| December 22, 2017|\n",
            "|     March 7, 2017|\n",
            "|  December 7, 2016|\n",
            "|     July 24, 2018|\n",
            "|  October 25, 2016|\n",
            "|   August 12, 2017|\n",
            "|September 30, 2016|\n",
            "+------------------+\n",
            "only showing top 20 rows\n",
            "\n"
          ]
        }
      ],
      "source": [
        "# El mismo objetivo que la celda anterior,ahora sobre todas la columnas\n",
        "\n",
        "list_var = [\"Installs\", \"Type\", \"Price\", \"Content Rating\", \"Genres\", \"Current Ver\", \"Last Updated\"]\n",
        "\n",
        "\n",
        "# Iteraramos sobre cada columna en la lista\n",
        "for columna in list_var:\n",
        "    print(f\"Valores únicos para la columna: {columna}\")\n",
        "    valores_unicos = df_clean.select(columna).distinct()\n",
        "    valores_unicos.show()"
      ]
    },
    {
      "cell_type": "code",
      "execution_count": 16,
      "metadata": {
        "id": "WmevsbTpyDrN"
      },
      "outputs": [],
      "source": [
        "# Limpiar y convertir a enteros\n",
        "\n",
        "df_clean = df_clean.withColumn(\"Installs\", regexp_replace(col(\"Installs\"), \"[+,]\", \"\").cast(\"int\"))"
      ]
    },
    {
      "cell_type": "code",
      "execution_count": 17,
      "metadata": {
        "colab": {
          "base_uri": "https://localhost:8080/"
        },
        "id": "WB4ixphFy8fO",
        "outputId": "c0cc7b32-dc9d-44e3-abc0-f5129792fb1b"
      },
      "outputs": [
        {
          "name": "stdout",
          "output_type": "stream",
          "text": [
            "+--------------------+---------------+------+-------+--------+----+-----+--------------+---------------+------------------+-----------+------------+-----------------+\n",
            "|                 App|       Category|Rating|Reviews|Installs|Type|Price|Content Rating|         Genres|      Last Updated|Current Ver| Android Ver|          Size_MB|\n",
            "+--------------------+---------------+------+-------+--------+----+-----+--------------+---------------+------------------+-----------+------------+-----------------+\n",
            "|\"Alphabet \"\"H\"\" P...|PERSONALIZATION|   4.5|      2|     100|Free|  0.0|      Everyone|Personalization| December 21, 2017|          1|  4.1 and up|              3.0|\n",
            "|\"Eat Fast Prepare...| FOOD_AND_DRINK|   4.6|   4925| 1000000|Free|  0.0|      Everyone|   Food & Drink|     June 10, 2018|      3.6.6|4.0.3 and up|             17.0|\n",
            "|+Download 4 Insta...|         SOCIAL|   4.5|  40467| 1000000|Free|  0.0|      Everyone|         Social|    August 2, 2018|       5.03|  4.1 and up|             22.0|\n",
            "|- Free Comics - C...|         COMICS|   3.5|    115|   10000|Free|  0.0|    Mature 17+|         Comics|     July 13, 2018|     5.0.12|  5.0 and up|9.100000381469727|\n",
            "|                  .R|          TOOLS|   4.5|    259|   10000|Free|  0.0|      Everyone|          Tools|September 16, 2014|     1.1.06|  1.5 and up|     0.1982421875|\n",
            "+--------------------+---------------+------+-------+--------+----+-----+--------------+---------------+------------------+-----------+------------+-----------------+\n",
            "only showing top 5 rows\n",
            "\n"
          ]
        }
      ],
      "source": [
        "df_clean.show(5)"
      ]
    },
    {
      "cell_type": "markdown",
      "metadata": {
        "id": "OSKJT-Q23Ub4"
      },
      "source": [
        "## Actividad en clase"
      ]
    },
    {
      "cell_type": "markdown",
      "metadata": {
        "id": "buh0ZYcn3Yt2"
      },
      "source": [
        "Hasta este momento tenemos un dataset **\"mas o menos\"** limpio. ¿Con el dataset hasta este momento, puedes emplear un modelo de ML?\n",
        "\n",
        "\n"
      ]
    },
    {
      "cell_type": "markdown",
      "metadata": {
        "id": "tNi-Ieqk7IOJ"
      },
      "source": [
        " 1. **Existen columnas que no aportan información. Identifica cuáles son y explica brevemente por qué deberías eliminarlas del dataset**"
      ]
    },
    {
      "cell_type": "code",
      "execution_count": null,
      "metadata": {},
      "outputs": [],
      "source": []
    },
    {
      "cell_type": "markdown",
      "metadata": {
        "id": "t1YexfY65hao"
      },
      "source": [
        "2. **En la columna \"Last Update\" la fecha esta en un formato diferente, tranformala en un valor numerico (diferencia del año actual con el año en cuestion)**\n",
        "\n",
        "**Pistas:**\n",
        "\n",
        "Tranformar fecha a un formato especifico:\n",
        "\n",
        "\n",
        "```\n",
        "df.withColumn(\"Date_Update\", to_date(col(\"Fecha\"), \"MMMM d, yyyy\"))\n",
        "\n",
        "```\n",
        "\n",
        "Diferencia de años\n",
        "\n",
        "\n",
        "\n",
        "```\n",
        "df.withColumn(\"Diferencia_Anios\", year(current_date()) - year(col(\"Date_Update\")))\n",
        "```\n",
        "\n",
        "\n"
      ]
    },
    {
      "cell_type": "code",
      "execution_count": null,
      "metadata": {
        "id": "NbfF_Ldn6ioZ"
      },
      "outputs": [
        {
          "data": {
            "text/plain": [
              "DataFrame[App: string, Category: string, Rating: double, Reviews: int, Installs: int, Type: string, Price: double, Content Rating: string, Genres: string, Last Updated: string, Current Ver: string, Android Ver: string, Size_MB: double]"
            ]
          },
          "execution_count": 20,
          "metadata": {},
          "output_type": "execute_result"
        }
      ],
      "source": [
        "df_clean.withColumn(\"Date_Update\", to_date(col(\"Fecha\"), \"MMMM d, yyyy\"))"
      ]
    },
    {
      "cell_type": "markdown",
      "metadata": {
        "id": "Jijb2ad56nit"
      },
      "source": [
        "3. **Category, Genres y Content Rating: Convertir cada categoría en un número único asignando un índice a cada una.**\n",
        "\n",
        "(por ejemplo, \"Everyone\" → 0, \"Teen\" → 1, \"Mature 17+\" → 2, etc.)\n",
        "\n",
        "**Pista:**\n",
        "\n",
        "\n",
        "```\n",
        "df.withColumn(\n",
        "    \"Tipos de auto\",\n",
        "    when(col(\"Tipos de auto\") == \"Combustible (Gasolina)\", 0)\n",
        "    .when(col(\"Tipos de auto\") == \"Electrico\", 1)\n",
        "    .when(col(\"Tipos de auto\") == \"Hibrido\", 2)\n",
        "    .otherwise(-1)\n",
        ")\n",
        "\n",
        "```\n",
        "\n"
      ]
    },
    {
      "cell_type": "code",
      "execution_count": null,
      "metadata": {
        "id": "q5MKTekW-H6H"
      },
      "outputs": [],
      "source": []
    }
  ],
  "metadata": {
    "colab": {
      "provenance": []
    },
    "kernelspec": {
      "display_name": "Python 3",
      "name": "python3"
    },
    "language_info": {
      "codemirror_mode": {
        "name": "ipython",
        "version": 3
      },
      "file_extension": ".py",
      "mimetype": "text/x-python",
      "name": "python",
      "nbconvert_exporter": "python",
      "pygments_lexer": "ipython3",
      "version": "3.13.0"
    }
  },
  "nbformat": 4,
  "nbformat_minor": 0
}
