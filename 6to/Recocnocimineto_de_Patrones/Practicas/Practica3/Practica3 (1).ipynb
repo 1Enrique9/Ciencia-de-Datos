{
  "nbformat": 4,
  "nbformat_minor": 0,
  "metadata": {
    "colab": {
      "provenance": []
    },
    "kernelspec": {
      "name": "python3",
      "display_name": "Python 3"
    },
    "language_info": {
      "name": "python"
    }
  },
  "cells": [
    {
      "cell_type": "markdown",
      "source": [
        "# **Desarrollo y Código**"
      ],
      "metadata": {
        "id": "WB0xQqyHZJNo"
      }
    },
    {
      "cell_type": "code",
      "source": [
        "import numpy as np\n",
        "import pandas as pd\n",
        "import matplotlib.pyplot as plt\n",
        "from sklearn.datasets import load_wine\n",
        "from sklearn.model_selection import train_test_split, cross_val_score\n",
        "from sklearn.preprocessing import StandardScaler\n",
        "from sklearn.neighbors import KNeighborsClassifier\n",
        "from sklearn.metrics import accuracy_score, classification_report\n",
        "from mlxtend.feature_selection import SequentialFeatureSelector as SFS\n",
        "from mlxtend.plotting import plot_sequential_feature_selection as plot_sfs\n",
        "from sklearn.decomposition import PCA\n",
        "from sklearn.feature_selection import SelectKBest, f_classif"
      ],
      "metadata": {
        "id": "sTsxFDHQhpnr"
      },
      "execution_count": 1,
      "outputs": []
    },
    {
      "cell_type": "markdown",
      "source": [
        "Selección de Características con el Conjunto de datos Wine."
      ],
      "metadata": {
        "id": "QBWQsxGEZ0cm"
      }
    },
    {
      "cell_type": "markdown",
      "source": [
        "1)  **Utilizar el conjunto de datos Wine** (UCI Machine Learning Repository) este conjunto de datos  multidimensional describe propiedades químicas de tres variedades de vinos y cuenta con 178 muestras, 13 características químicas, este conjunto de datos presenta un escenario ideal para explorar técnicas de reducción dimensional, ya que combina atributos correlacionados (como concentraciones de fenoles y flavonoides) con características potencialmente discriminativas (como el color o la alcalinidad).\n",
        "\n",
        "\n",
        "\n",
        "*   Verificar la integridad del conjunto de datos (valores faltantes, rangos válidos).\n",
        "\n"
      ],
      "metadata": {
        "id": "-3s8MbULaIDv"
      }
    },
    {
      "cell_type": "code",
      "source": [
        "wine = load_wine()\n",
        "X = wine.data\n",
        "y = wine.target\n",
        "feature_names = wine.feature_names\n",
        "\n",
        "# Integridad de los datos\n",
        "print(f\"Número de muestras: {X.shape[0]}\")\n",
        "print(f\"Número de características: {X.shape[1]}\")\n",
        "print(f\"Valores faltantes: {np.isnan(X).sum()}\")\n",
        "print(f\"Rango de valores por característica:\")\n",
        "for i, name in enumerate(feature_names):\n",
        "    print(f\"{name}: min={X[:,i].min():.2f}, max={X[:,i].max():.2f}\")"
      ],
      "metadata": {
        "colab": {
          "base_uri": "https://localhost:8080/"
        },
        "id": "6ej1I_NcZ8qM",
        "outputId": "6d9ccbfe-a899-4b91-d8d5-9a51bf52c192"
      },
      "execution_count": 2,
      "outputs": [
        {
          "output_type": "stream",
          "name": "stdout",
          "text": [
            "Número de muestras: 178\n",
            "Número de características: 13\n",
            "Valores faltantes: 0\n",
            "Rango de valores por característica:\n",
            "alcohol: min=11.03, max=14.83\n",
            "malic_acid: min=0.74, max=5.80\n",
            "ash: min=1.36, max=3.23\n",
            "alcalinity_of_ash: min=10.60, max=30.00\n",
            "magnesium: min=70.00, max=162.00\n",
            "total_phenols: min=0.98, max=3.88\n",
            "flavanoids: min=0.34, max=5.08\n",
            "nonflavanoid_phenols: min=0.13, max=0.66\n",
            "proanthocyanins: min=0.41, max=3.58\n",
            "color_intensity: min=1.28, max=13.00\n",
            "hue: min=0.48, max=1.71\n",
            "od280/od315_of_diluted_wines: min=1.27, max=4.00\n",
            "proline: min=278.00, max=1680.00\n"
          ]
        }
      ]
    },
    {
      "cell_type": "markdown",
      "source": [
        "2) **Preparación de Datos**\n",
        "\n",
        "*   Cargar el dataset y dividirlo en 70% entrenamiento y 30% prueba.\n",
        "\n",
        "*   Normalizar los datos (z-score).\n",
        "\n",
        "\n",
        "*   Crear un clasificador base (KNN con k=3 vecinos).\n",
        "\n",
        "\n"
      ],
      "metadata": {
        "id": "J96YgntwahXl"
      }
    },
    {
      "cell_type": "code",
      "source": [
        "X_train, X_test, y_train, y_test = train_test_split(X, y, test_size=0.3, random_state=42, stratify=y)\n",
        "\n",
        "# Normalizar con z-score\n",
        "scaler = StandardScaler()\n",
        "X_train_scaled = scaler.fit_transform(X_train)\n",
        "X_test_scaled = scaler.transform(X_test)\n",
        "\n",
        "# Crear clasificador base (KNN con k=3)\n",
        "knn = KNeighborsClassifier(n_neighbors=3)\n",
        "knn.fit(X_train_scaled, y_train)\n",
        "# Evaluar el modelo\n",
        "y_pred = knn.predict(X_test_scaled)\n",
        "accuracy = accuracy_score(y_test, y_pred)\n",
        "report = classification_report(y_test, y_pred)\n",
        "\n",
        "print(f\"Exactitud del modelo KNN (k=3): {accuracy:.2f}\")\n",
        "print(\"\\nReporte de clasificación:\")\n",
        "print(report)"
      ],
      "metadata": {
        "colab": {
          "base_uri": "https://localhost:8080/"
        },
        "id": "r5v36coNZ8ms",
        "outputId": "71a2a847-1cd7-414a-9b19-392aba1e6a97"
      },
      "execution_count": 3,
      "outputs": [
        {
          "output_type": "stream",
          "name": "stdout",
          "text": [
            "Exactitud del modelo KNN (k=3): 0.94\n",
            "\n",
            "Reporte de clasificación:\n",
            "              precision    recall  f1-score   support\n",
            "\n",
            "           0       0.95      1.00      0.97        18\n",
            "           1       1.00      0.86      0.92        21\n",
            "           2       0.88      1.00      0.94        15\n",
            "\n",
            "    accuracy                           0.94        54\n",
            "   macro avg       0.94      0.95      0.94        54\n",
            "weighted avg       0.95      0.94      0.94        54\n",
            "\n"
          ]
        }
      ]
    },
    {
      "cell_type": "markdown",
      "source": [
        "3) Implementación de Métodos\n",
        "\n",
        "A. *Búsqueda Exhaustiva*\n",
        "\n",
        "*   Modificar código para seleccionar 5 características.\n",
        "*   Analizar resultados.\n",
        "\n"
      ],
      "metadata": {
        "id": "kIfBlyD-bBCn"
      }
    },
    {
      "cell_type": "code",
      "source": [
        "from itertools import combinations\n",
        "from random import sample\n",
        "\n",
        "n_features = 5\n",
        "all_combinations = list(combinations(range(X.shape[1]), n_features))\n",
        "sampled_combinations = sample(all_combinations, min(100, len(all_combinations)))\n",
        "\n",
        "best_acc = 0\n",
        "best_comb = None\n",
        "\n",
        "for comb in sampled_combinations:\n",
        "    X_train_subset = X_train_scaled[:, comb]\n",
        "    X_test_subset = X_test_scaled[:, comb]\n",
        "\n",
        "    knn.fit(X_train_subset, y_train)\n",
        "    acc = accuracy_score(y_test, knn.predict(X_test_subset))\n",
        "\n",
        "    if acc > best_acc:\n",
        "        best_acc = acc\n",
        "        best_comb = comb\n",
        "\n",
        "print(f\"Mejor combinación de {n_features} características: {[feature_names[i] for i in best_comb]}\")\n",
        "print(f\"Exactitud: {best_acc:.4f}\")"
      ],
      "metadata": {
        "colab": {
          "base_uri": "https://localhost:8080/"
        },
        "id": "0oNd1Ie2DKnl",
        "outputId": "0611467d-fdad-4bf2-a5f1-cf0bfc7b711d"
      },
      "execution_count": 4,
      "outputs": [
        {
          "output_type": "stream",
          "name": "stdout",
          "text": [
            "Mejor combinación de 5 características: ['alcohol', 'total_phenols', 'color_intensity', 'hue', 'proline']\n",
            "Exactitud: 0.9815\n"
          ]
        }
      ]
    },
    {
      "cell_type": "markdown",
      "source": [
        "B. Búsqueda Secuencial hacia delante (SFS)\n",
        "\n",
        "\n",
        "*   Ejecutar con validación cruzada 5-fold.\n",
        "*   Generar gráfico exactitud por características.\n",
        "\n"
      ],
      "metadata": {
        "id": "rIbWl8wWbfzs"
      }
    },
    {
      "cell_type": "code",
      "source": [
        "sfs = SFS(knn,\n",
        "          k_features=(1, 5),\n",
        "          forward=True,\n",
        "          floating=False,\n",
        "          scoring='accuracy',\n",
        "          cv=5)\n",
        "\n",
        "sfs.fit(X_train_scaled, y_train)"
      ],
      "metadata": {
        "colab": {
          "base_uri": "https://localhost:8080/",
          "height": 166
        },
        "id": "3M85fc-AbvFv",
        "outputId": "1a6c9b77-9826-4cef-f7a2-1cb7a5cf2f95"
      },
      "execution_count": 5,
      "outputs": [
        {
          "output_type": "execute_result",
          "data": {
            "text/plain": [
              "SequentialFeatureSelector(estimator=KNeighborsClassifier(n_neighbors=3),\n",
              "                          k_features=(1, 5), scoring='accuracy')"
            ],
            "text/html": [
              "<style>#sk-container-id-1 {\n",
              "  /* Definition of color scheme common for light and dark mode */\n",
              "  --sklearn-color-text: #000;\n",
              "  --sklearn-color-text-muted: #666;\n",
              "  --sklearn-color-line: gray;\n",
              "  /* Definition of color scheme for unfitted estimators */\n",
              "  --sklearn-color-unfitted-level-0: #fff5e6;\n",
              "  --sklearn-color-unfitted-level-1: #f6e4d2;\n",
              "  --sklearn-color-unfitted-level-2: #ffe0b3;\n",
              "  --sklearn-color-unfitted-level-3: chocolate;\n",
              "  /* Definition of color scheme for fitted estimators */\n",
              "  --sklearn-color-fitted-level-0: #f0f8ff;\n",
              "  --sklearn-color-fitted-level-1: #d4ebff;\n",
              "  --sklearn-color-fitted-level-2: #b3dbfd;\n",
              "  --sklearn-color-fitted-level-3: cornflowerblue;\n",
              "\n",
              "  /* Specific color for light theme */\n",
              "  --sklearn-color-text-on-default-background: var(--sg-text-color, var(--theme-code-foreground, var(--jp-content-font-color1, black)));\n",
              "  --sklearn-color-background: var(--sg-background-color, var(--theme-background, var(--jp-layout-color0, white)));\n",
              "  --sklearn-color-border-box: var(--sg-text-color, var(--theme-code-foreground, var(--jp-content-font-color1, black)));\n",
              "  --sklearn-color-icon: #696969;\n",
              "\n",
              "  @media (prefers-color-scheme: dark) {\n",
              "    /* Redefinition of color scheme for dark theme */\n",
              "    --sklearn-color-text-on-default-background: var(--sg-text-color, var(--theme-code-foreground, var(--jp-content-font-color1, white)));\n",
              "    --sklearn-color-background: var(--sg-background-color, var(--theme-background, var(--jp-layout-color0, #111)));\n",
              "    --sklearn-color-border-box: var(--sg-text-color, var(--theme-code-foreground, var(--jp-content-font-color1, white)));\n",
              "    --sklearn-color-icon: #878787;\n",
              "  }\n",
              "}\n",
              "\n",
              "#sk-container-id-1 {\n",
              "  color: var(--sklearn-color-text);\n",
              "}\n",
              "\n",
              "#sk-container-id-1 pre {\n",
              "  padding: 0;\n",
              "}\n",
              "\n",
              "#sk-container-id-1 input.sk-hidden--visually {\n",
              "  border: 0;\n",
              "  clip: rect(1px 1px 1px 1px);\n",
              "  clip: rect(1px, 1px, 1px, 1px);\n",
              "  height: 1px;\n",
              "  margin: -1px;\n",
              "  overflow: hidden;\n",
              "  padding: 0;\n",
              "  position: absolute;\n",
              "  width: 1px;\n",
              "}\n",
              "\n",
              "#sk-container-id-1 div.sk-dashed-wrapped {\n",
              "  border: 1px dashed var(--sklearn-color-line);\n",
              "  margin: 0 0.4em 0.5em 0.4em;\n",
              "  box-sizing: border-box;\n",
              "  padding-bottom: 0.4em;\n",
              "  background-color: var(--sklearn-color-background);\n",
              "}\n",
              "\n",
              "#sk-container-id-1 div.sk-container {\n",
              "  /* jupyter's `normalize.less` sets `[hidden] { display: none; }`\n",
              "     but bootstrap.min.css set `[hidden] { display: none !important; }`\n",
              "     so we also need the `!important` here to be able to override the\n",
              "     default hidden behavior on the sphinx rendered scikit-learn.org.\n",
              "     See: https://github.com/scikit-learn/scikit-learn/issues/21755 */\n",
              "  display: inline-block !important;\n",
              "  position: relative;\n",
              "}\n",
              "\n",
              "#sk-container-id-1 div.sk-text-repr-fallback {\n",
              "  display: none;\n",
              "}\n",
              "\n",
              "div.sk-parallel-item,\n",
              "div.sk-serial,\n",
              "div.sk-item {\n",
              "  /* draw centered vertical line to link estimators */\n",
              "  background-image: linear-gradient(var(--sklearn-color-text-on-default-background), var(--sklearn-color-text-on-default-background));\n",
              "  background-size: 2px 100%;\n",
              "  background-repeat: no-repeat;\n",
              "  background-position: center center;\n",
              "}\n",
              "\n",
              "/* Parallel-specific style estimator block */\n",
              "\n",
              "#sk-container-id-1 div.sk-parallel-item::after {\n",
              "  content: \"\";\n",
              "  width: 100%;\n",
              "  border-bottom: 2px solid var(--sklearn-color-text-on-default-background);\n",
              "  flex-grow: 1;\n",
              "}\n",
              "\n",
              "#sk-container-id-1 div.sk-parallel {\n",
              "  display: flex;\n",
              "  align-items: stretch;\n",
              "  justify-content: center;\n",
              "  background-color: var(--sklearn-color-background);\n",
              "  position: relative;\n",
              "}\n",
              "\n",
              "#sk-container-id-1 div.sk-parallel-item {\n",
              "  display: flex;\n",
              "  flex-direction: column;\n",
              "}\n",
              "\n",
              "#sk-container-id-1 div.sk-parallel-item:first-child::after {\n",
              "  align-self: flex-end;\n",
              "  width: 50%;\n",
              "}\n",
              "\n",
              "#sk-container-id-1 div.sk-parallel-item:last-child::after {\n",
              "  align-self: flex-start;\n",
              "  width: 50%;\n",
              "}\n",
              "\n",
              "#sk-container-id-1 div.sk-parallel-item:only-child::after {\n",
              "  width: 0;\n",
              "}\n",
              "\n",
              "/* Serial-specific style estimator block */\n",
              "\n",
              "#sk-container-id-1 div.sk-serial {\n",
              "  display: flex;\n",
              "  flex-direction: column;\n",
              "  align-items: center;\n",
              "  background-color: var(--sklearn-color-background);\n",
              "  padding-right: 1em;\n",
              "  padding-left: 1em;\n",
              "}\n",
              "\n",
              "\n",
              "/* Toggleable style: style used for estimator/Pipeline/ColumnTransformer box that is\n",
              "clickable and can be expanded/collapsed.\n",
              "- Pipeline and ColumnTransformer use this feature and define the default style\n",
              "- Estimators will overwrite some part of the style using the `sk-estimator` class\n",
              "*/\n",
              "\n",
              "/* Pipeline and ColumnTransformer style (default) */\n",
              "\n",
              "#sk-container-id-1 div.sk-toggleable {\n",
              "  /* Default theme specific background. It is overwritten whether we have a\n",
              "  specific estimator or a Pipeline/ColumnTransformer */\n",
              "  background-color: var(--sklearn-color-background);\n",
              "}\n",
              "\n",
              "/* Toggleable label */\n",
              "#sk-container-id-1 label.sk-toggleable__label {\n",
              "  cursor: pointer;\n",
              "  display: flex;\n",
              "  width: 100%;\n",
              "  margin-bottom: 0;\n",
              "  padding: 0.5em;\n",
              "  box-sizing: border-box;\n",
              "  text-align: center;\n",
              "  align-items: start;\n",
              "  justify-content: space-between;\n",
              "  gap: 0.5em;\n",
              "}\n",
              "\n",
              "#sk-container-id-1 label.sk-toggleable__label .caption {\n",
              "  font-size: 0.6rem;\n",
              "  font-weight: lighter;\n",
              "  color: var(--sklearn-color-text-muted);\n",
              "}\n",
              "\n",
              "#sk-container-id-1 label.sk-toggleable__label-arrow:before {\n",
              "  /* Arrow on the left of the label */\n",
              "  content: \"▸\";\n",
              "  float: left;\n",
              "  margin-right: 0.25em;\n",
              "  color: var(--sklearn-color-icon);\n",
              "}\n",
              "\n",
              "#sk-container-id-1 label.sk-toggleable__label-arrow:hover:before {\n",
              "  color: var(--sklearn-color-text);\n",
              "}\n",
              "\n",
              "/* Toggleable content - dropdown */\n",
              "\n",
              "#sk-container-id-1 div.sk-toggleable__content {\n",
              "  max-height: 0;\n",
              "  max-width: 0;\n",
              "  overflow: hidden;\n",
              "  text-align: left;\n",
              "  /* unfitted */\n",
              "  background-color: var(--sklearn-color-unfitted-level-0);\n",
              "}\n",
              "\n",
              "#sk-container-id-1 div.sk-toggleable__content.fitted {\n",
              "  /* fitted */\n",
              "  background-color: var(--sklearn-color-fitted-level-0);\n",
              "}\n",
              "\n",
              "#sk-container-id-1 div.sk-toggleable__content pre {\n",
              "  margin: 0.2em;\n",
              "  border-radius: 0.25em;\n",
              "  color: var(--sklearn-color-text);\n",
              "  /* unfitted */\n",
              "  background-color: var(--sklearn-color-unfitted-level-0);\n",
              "}\n",
              "\n",
              "#sk-container-id-1 div.sk-toggleable__content.fitted pre {\n",
              "  /* unfitted */\n",
              "  background-color: var(--sklearn-color-fitted-level-0);\n",
              "}\n",
              "\n",
              "#sk-container-id-1 input.sk-toggleable__control:checked~div.sk-toggleable__content {\n",
              "  /* Expand drop-down */\n",
              "  max-height: 200px;\n",
              "  max-width: 100%;\n",
              "  overflow: auto;\n",
              "}\n",
              "\n",
              "#sk-container-id-1 input.sk-toggleable__control:checked~label.sk-toggleable__label-arrow:before {\n",
              "  content: \"▾\";\n",
              "}\n",
              "\n",
              "/* Pipeline/ColumnTransformer-specific style */\n",
              "\n",
              "#sk-container-id-1 div.sk-label input.sk-toggleable__control:checked~label.sk-toggleable__label {\n",
              "  color: var(--sklearn-color-text);\n",
              "  background-color: var(--sklearn-color-unfitted-level-2);\n",
              "}\n",
              "\n",
              "#sk-container-id-1 div.sk-label.fitted input.sk-toggleable__control:checked~label.sk-toggleable__label {\n",
              "  background-color: var(--sklearn-color-fitted-level-2);\n",
              "}\n",
              "\n",
              "/* Estimator-specific style */\n",
              "\n",
              "/* Colorize estimator box */\n",
              "#sk-container-id-1 div.sk-estimator input.sk-toggleable__control:checked~label.sk-toggleable__label {\n",
              "  /* unfitted */\n",
              "  background-color: var(--sklearn-color-unfitted-level-2);\n",
              "}\n",
              "\n",
              "#sk-container-id-1 div.sk-estimator.fitted input.sk-toggleable__control:checked~label.sk-toggleable__label {\n",
              "  /* fitted */\n",
              "  background-color: var(--sklearn-color-fitted-level-2);\n",
              "}\n",
              "\n",
              "#sk-container-id-1 div.sk-label label.sk-toggleable__label,\n",
              "#sk-container-id-1 div.sk-label label {\n",
              "  /* The background is the default theme color */\n",
              "  color: var(--sklearn-color-text-on-default-background);\n",
              "}\n",
              "\n",
              "/* On hover, darken the color of the background */\n",
              "#sk-container-id-1 div.sk-label:hover label.sk-toggleable__label {\n",
              "  color: var(--sklearn-color-text);\n",
              "  background-color: var(--sklearn-color-unfitted-level-2);\n",
              "}\n",
              "\n",
              "/* Label box, darken color on hover, fitted */\n",
              "#sk-container-id-1 div.sk-label.fitted:hover label.sk-toggleable__label.fitted {\n",
              "  color: var(--sklearn-color-text);\n",
              "  background-color: var(--sklearn-color-fitted-level-2);\n",
              "}\n",
              "\n",
              "/* Estimator label */\n",
              "\n",
              "#sk-container-id-1 div.sk-label label {\n",
              "  font-family: monospace;\n",
              "  font-weight: bold;\n",
              "  display: inline-block;\n",
              "  line-height: 1.2em;\n",
              "}\n",
              "\n",
              "#sk-container-id-1 div.sk-label-container {\n",
              "  text-align: center;\n",
              "}\n",
              "\n",
              "/* Estimator-specific */\n",
              "#sk-container-id-1 div.sk-estimator {\n",
              "  font-family: monospace;\n",
              "  border: 1px dotted var(--sklearn-color-border-box);\n",
              "  border-radius: 0.25em;\n",
              "  box-sizing: border-box;\n",
              "  margin-bottom: 0.5em;\n",
              "  /* unfitted */\n",
              "  background-color: var(--sklearn-color-unfitted-level-0);\n",
              "}\n",
              "\n",
              "#sk-container-id-1 div.sk-estimator.fitted {\n",
              "  /* fitted */\n",
              "  background-color: var(--sklearn-color-fitted-level-0);\n",
              "}\n",
              "\n",
              "/* on hover */\n",
              "#sk-container-id-1 div.sk-estimator:hover {\n",
              "  /* unfitted */\n",
              "  background-color: var(--sklearn-color-unfitted-level-2);\n",
              "}\n",
              "\n",
              "#sk-container-id-1 div.sk-estimator.fitted:hover {\n",
              "  /* fitted */\n",
              "  background-color: var(--sklearn-color-fitted-level-2);\n",
              "}\n",
              "\n",
              "/* Specification for estimator info (e.g. \"i\" and \"?\") */\n",
              "\n",
              "/* Common style for \"i\" and \"?\" */\n",
              "\n",
              ".sk-estimator-doc-link,\n",
              "a:link.sk-estimator-doc-link,\n",
              "a:visited.sk-estimator-doc-link {\n",
              "  float: right;\n",
              "  font-size: smaller;\n",
              "  line-height: 1em;\n",
              "  font-family: monospace;\n",
              "  background-color: var(--sklearn-color-background);\n",
              "  border-radius: 1em;\n",
              "  height: 1em;\n",
              "  width: 1em;\n",
              "  text-decoration: none !important;\n",
              "  margin-left: 0.5em;\n",
              "  text-align: center;\n",
              "  /* unfitted */\n",
              "  border: var(--sklearn-color-unfitted-level-1) 1pt solid;\n",
              "  color: var(--sklearn-color-unfitted-level-1);\n",
              "}\n",
              "\n",
              ".sk-estimator-doc-link.fitted,\n",
              "a:link.sk-estimator-doc-link.fitted,\n",
              "a:visited.sk-estimator-doc-link.fitted {\n",
              "  /* fitted */\n",
              "  border: var(--sklearn-color-fitted-level-1) 1pt solid;\n",
              "  color: var(--sklearn-color-fitted-level-1);\n",
              "}\n",
              "\n",
              "/* On hover */\n",
              "div.sk-estimator:hover .sk-estimator-doc-link:hover,\n",
              ".sk-estimator-doc-link:hover,\n",
              "div.sk-label-container:hover .sk-estimator-doc-link:hover,\n",
              ".sk-estimator-doc-link:hover {\n",
              "  /* unfitted */\n",
              "  background-color: var(--sklearn-color-unfitted-level-3);\n",
              "  color: var(--sklearn-color-background);\n",
              "  text-decoration: none;\n",
              "}\n",
              "\n",
              "div.sk-estimator.fitted:hover .sk-estimator-doc-link.fitted:hover,\n",
              ".sk-estimator-doc-link.fitted:hover,\n",
              "div.sk-label-container:hover .sk-estimator-doc-link.fitted:hover,\n",
              ".sk-estimator-doc-link.fitted:hover {\n",
              "  /* fitted */\n",
              "  background-color: var(--sklearn-color-fitted-level-3);\n",
              "  color: var(--sklearn-color-background);\n",
              "  text-decoration: none;\n",
              "}\n",
              "\n",
              "/* Span, style for the box shown on hovering the info icon */\n",
              ".sk-estimator-doc-link span {\n",
              "  display: none;\n",
              "  z-index: 9999;\n",
              "  position: relative;\n",
              "  font-weight: normal;\n",
              "  right: .2ex;\n",
              "  padding: .5ex;\n",
              "  margin: .5ex;\n",
              "  width: min-content;\n",
              "  min-width: 20ex;\n",
              "  max-width: 50ex;\n",
              "  color: var(--sklearn-color-text);\n",
              "  box-shadow: 2pt 2pt 4pt #999;\n",
              "  /* unfitted */\n",
              "  background: var(--sklearn-color-unfitted-level-0);\n",
              "  border: .5pt solid var(--sklearn-color-unfitted-level-3);\n",
              "}\n",
              "\n",
              ".sk-estimator-doc-link.fitted span {\n",
              "  /* fitted */\n",
              "  background: var(--sklearn-color-fitted-level-0);\n",
              "  border: var(--sklearn-color-fitted-level-3);\n",
              "}\n",
              "\n",
              ".sk-estimator-doc-link:hover span {\n",
              "  display: block;\n",
              "}\n",
              "\n",
              "/* \"?\"-specific style due to the `<a>` HTML tag */\n",
              "\n",
              "#sk-container-id-1 a.estimator_doc_link {\n",
              "  float: right;\n",
              "  font-size: 1rem;\n",
              "  line-height: 1em;\n",
              "  font-family: monospace;\n",
              "  background-color: var(--sklearn-color-background);\n",
              "  border-radius: 1rem;\n",
              "  height: 1rem;\n",
              "  width: 1rem;\n",
              "  text-decoration: none;\n",
              "  /* unfitted */\n",
              "  color: var(--sklearn-color-unfitted-level-1);\n",
              "  border: var(--sklearn-color-unfitted-level-1) 1pt solid;\n",
              "}\n",
              "\n",
              "#sk-container-id-1 a.estimator_doc_link.fitted {\n",
              "  /* fitted */\n",
              "  border: var(--sklearn-color-fitted-level-1) 1pt solid;\n",
              "  color: var(--sklearn-color-fitted-level-1);\n",
              "}\n",
              "\n",
              "/* On hover */\n",
              "#sk-container-id-1 a.estimator_doc_link:hover {\n",
              "  /* unfitted */\n",
              "  background-color: var(--sklearn-color-unfitted-level-3);\n",
              "  color: var(--sklearn-color-background);\n",
              "  text-decoration: none;\n",
              "}\n",
              "\n",
              "#sk-container-id-1 a.estimator_doc_link.fitted:hover {\n",
              "  /* fitted */\n",
              "  background-color: var(--sklearn-color-fitted-level-3);\n",
              "}\n",
              "</style><div id=\"sk-container-id-1\" class=\"sk-top-container\"><div class=\"sk-text-repr-fallback\"><pre>SequentialFeatureSelector(estimator=KNeighborsClassifier(n_neighbors=3),\n",
              "                          k_features=(1, 5), scoring=&#x27;accuracy&#x27;)</pre><b>In a Jupyter environment, please rerun this cell to show the HTML representation or trust the notebook. <br />On GitHub, the HTML representation is unable to render, please try loading this page with nbviewer.org.</b></div><div class=\"sk-container\" hidden><div class=\"sk-item sk-dashed-wrapped\"><div class=\"sk-label-container\"><div class=\"sk-label fitted sk-toggleable\"><input class=\"sk-toggleable__control sk-hidden--visually\" id=\"sk-estimator-id-1\" type=\"checkbox\" ><label for=\"sk-estimator-id-1\" class=\"sk-toggleable__label fitted sk-toggleable__label-arrow\"><div><div>SequentialFeatureSelector</div></div><div><span class=\"sk-estimator-doc-link fitted\">i<span>Fitted</span></span></div></label><div class=\"sk-toggleable__content fitted\"><pre>SequentialFeatureSelector(estimator=KNeighborsClassifier(n_neighbors=3),\n",
              "                          k_features=(1, 5), scoring=&#x27;accuracy&#x27;)</pre></div> </div></div><div class=\"sk-parallel\"><div class=\"sk-parallel-item\"><div class=\"sk-item\"><div class=\"sk-label-container\"><div class=\"sk-label fitted sk-toggleable\"><input class=\"sk-toggleable__control sk-hidden--visually\" id=\"sk-estimator-id-2\" type=\"checkbox\" ><label for=\"sk-estimator-id-2\" class=\"sk-toggleable__label fitted sk-toggleable__label-arrow\"><div><div>estimator: KNeighborsClassifier</div></div></label><div class=\"sk-toggleable__content fitted\"><pre>KNeighborsClassifier(n_neighbors=3)</pre></div> </div></div><div class=\"sk-serial\"><div class=\"sk-item\"><div class=\"sk-estimator fitted sk-toggleable\"><input class=\"sk-toggleable__control sk-hidden--visually\" id=\"sk-estimator-id-3\" type=\"checkbox\" ><label for=\"sk-estimator-id-3\" class=\"sk-toggleable__label fitted sk-toggleable__label-arrow\"><div><div>KNeighborsClassifier</div></div><div><a class=\"sk-estimator-doc-link fitted\" rel=\"noreferrer\" target=\"_blank\" href=\"https://scikit-learn.org/1.6/modules/generated/sklearn.neighbors.KNeighborsClassifier.html\">?<span>Documentation for KNeighborsClassifier</span></a></div></label><div class=\"sk-toggleable__content fitted\"><pre>KNeighborsClassifier(n_neighbors=3)</pre></div> </div></div></div></div></div></div></div></div></div>"
            ]
          },
          "metadata": {},
          "execution_count": 5
        }
      ]
    },
    {
      "cell_type": "code",
      "source": [
        "fig = plot_sfs(sfs.get_metric_dict(), kind='std_dev')\n",
        "plt.title('SFS: Rendimiento vs Número de Características')\n",
        "plt.grid()\n",
        "plt.show()"
      ],
      "metadata": {
        "colab": {
          "base_uri": "https://localhost:8080/",
          "height": 472
        },
        "id": "t9P9p4GUDaHj",
        "outputId": "0a317ff8-6286-49e0-c1bb-6f4ee53664cc"
      },
      "execution_count": 6,
      "outputs": [
        {
          "output_type": "display_data",
          "data": {
            "text/plain": [
              "<Figure size 640x480 with 1 Axes>"
            ],
            "image/png": "[encoded data removed]"
          },
          "metadata": {}
        }
      ]
    },
    {
      "cell_type": "code",
      "source": [
        "sfs_5 = sfs.subsets_[5]\n",
        "print(f\"Mejores 5 características según SFS: {[feature_names[i] for i in sfs_5['feature_idx']]}\")\n",
        "print(f\"Exactitud promedio con validación cruzada: {sfs_5['avg_score']:.4f}\")"
      ],
      "metadata": {
        "colab": {
          "base_uri": "https://localhost:8080/"
        },
        "id": "H3wQqUvQDdcG",
        "outputId": "3849b4c5-5b11-4d31-c929-fe0a879c61f3"
      },
      "execution_count": 7,
      "outputs": [
        {
          "output_type": "stream",
          "name": "stdout",
          "text": [
            "Mejores 5 características según SFS: ['alcohol', 'alcalinity_of_ash', 'total_phenols', 'flavanoids', 'hue']\n",
            "Exactitud promedio con validación cruzada: 0.9760\n"
          ]
        }
      ]
    },
    {
      "cell_type": "code",
      "source": [
        "# Evaluar en conjunto de prueba\n",
        "knn.fit(X_train_scaled[:, sfs.k_feature_idx_], y_train)\n",
        "sfs_test_acc = accuracy_score(y_test, knn.predict(X_test_scaled[:, sfs.k_feature_idx_]))\n",
        "print(f\"Exactitud en prueba: {sfs_test_acc:.4f}\")"
      ],
      "metadata": {
        "colab": {
          "base_uri": "https://localhost:8080/"
        },
        "id": "NFNEYLP2GOct",
        "outputId": "99eeb5c4-2a0a-462e-9ca0-c409dc443d03"
      },
      "execution_count": 8,
      "outputs": [
        {
          "output_type": "stream",
          "name": "stdout",
          "text": [
            "Exactitud en prueba: 0.9074\n"
          ]
        }
      ]
    },
    {
      "cell_type": "markdown",
      "source": [
        "C. *Fisher*\n",
        "\n",
        "\n",
        "*   Implementar función del cálculo  Score de separabilidad entre clases.\n",
        "*   Selecciona las 5 características con mayor puntuación.\n",
        "\n"
      ],
      "metadata": {
        "id": "tlizK6hLcJMJ"
      }
    },
    {
      "cell_type": "code",
      "source": [
        "f_scores, _ = f_classif(X_train_scaled, y_train)\n",
        "\n",
        "# Seleccionar las 5 características con mayor score\n",
        "top5_fisher = np.argsort(f_scores)[-5:][::-1]\n",
        "print(\"Top 5 características según Fisher Score:\")\n",
        "for i, idx in enumerate(top5_fisher):\n",
        "    print(f\"{i+1}. {feature_names[idx]}: {f_scores[idx]:.2f}\")\n",
        "\n",
        "# Evaluar con KNN\n",
        "X_train_fisher = X_train_scaled[:, top5_fisher]\n",
        "X_test_fisher = X_test_scaled[:, top5_fisher]\n",
        "knn.fit(X_train_fisher, y_train)\n",
        "y_pred = knn.predict(X_test_fisher)\n",
        "print(f\"Exactitud en prueba: {accuracy_score(y_test, y_pred):.4f}\")"
      ],
      "metadata": {
        "colab": {
          "base_uri": "https://localhost:8080/"
        },
        "id": "ZeWn7wQ2cItX",
        "outputId": "3ef32422-83f4-46a6-adb6-be8b6b97b7db"
      },
      "execution_count": 9,
      "outputs": [
        {
          "output_type": "stream",
          "name": "stdout",
          "text": [
            "Top 5 características según Fisher Score:\n",
            "1. flavanoids: 187.69\n",
            "2. proline: 149.43\n",
            "3. od280/od315_of_diluted_wines: 126.62\n",
            "4. alcohol: 100.35\n",
            "5. color_intensity: 83.98\n",
            "Exactitud en prueba: 0.9630\n"
          ]
        }
      ]
    },
    {
      "cell_type": "markdown",
      "source": [
        "D. *Rama y Límite (B&B)*\n",
        "\n",
        "\n"
      ],
      "metadata": {
        "id": "-mY2J9CCcXPp"
      }
    },
    {
      "cell_type": "code",
      "source": [
        "class BranchAndBound:\n",
        "    def __init__(self, estimator, n_features, cv=5):\n",
        "        self.estimator = estimator\n",
        "        self.n_features = n_features\n",
        "        self.cv = cv\n",
        "        self.best_score_ = -np.inf\n",
        "        self.best_subset_ = None\n",
        "\n",
        "    def evaluate_subset(self, subset):\n",
        "        scores = cross_val_score(self.estimator,\n",
        "                                X_train_scaled[:, subset],\n",
        "                                y_train,\n",
        "                                cv=self.cv)\n",
        "        return np.mean(scores)\n",
        "\n",
        "    def fit(self):\n",
        "        self._branch_and_bound(list(range(X_train_scaled.shape[1])), [])\n",
        "        return self\n",
        "\n",
        "    def _branch_and_bound(self, remaining_features, current_subset):\n",
        "        if len(current_subset) == self.n_features:\n",
        "            current_score = self.evaluate_subset(current_subset)\n",
        "            if current_score > self.best_score_:\n",
        "                self.best_score_ = current_score\n",
        "                self.best_subset_ = current_subset.copy()\n",
        "            return\n",
        "\n",
        "        if not remaining_features:\n",
        "            return\n",
        "\n",
        "        # Evaluar cota superior\n",
        "        upper_bound_subset = current_subset + remaining_features\n",
        "        if len(upper_bound_subset) >= self.n_features:\n",
        "            upper_bound_subset = upper_bound_subset[:self.n_features]\n",
        "            upper_bound_score = self.evaluate_subset(upper_bound_subset)\n",
        "        else:\n",
        "            upper_bound_score = -np.inf\n",
        "\n",
        "        # Podar si la cota es menor que el mejor score actual\n",
        "        if upper_bound_score <= self.best_score_:\n",
        "            return\n",
        "\n",
        "        # Ramificar\n",
        "        for i, feature in enumerate(remaining_features):\n",
        "            new_subset = current_subset + [feature]\n",
        "            self._branch_and_bound(remaining_features[i+1:], new_subset)\n",
        "\n",
        "# Ejecutar B&B para 5 características\n",
        "bb = BranchAndBound(knn, n_features=5, cv=5)\n",
        "bb.fit()\n",
        "\n",
        "print(\"\\nResultados de Branch and Bound:\")\n",
        "print(f\"Mejores {len(bb.best_subset_)} características: {[feature_names[i] for i in bb.best_subset_]}\")\n",
        "print(f\"Exactitud CV (5-fold): {bb.best_score_:.4f}\")"
      ],
      "metadata": {
        "colab": {
          "base_uri": "https://localhost:8080/"
        },
        "id": "8L5IiUz2b-2Q",
        "outputId": "2eafe220-d350-4ff6-8957-8c6df7bd99ca"
      },
      "execution_count": 10,
      "outputs": [
        {
          "output_type": "stream",
          "name": "stdout",
          "text": [
            "\n",
            "Resultados de Branch and Bound:\n",
            "Mejores 5 características: ['alcohol', 'malic_acid', 'color_intensity', 'hue', 'od280/od315_of_diluted_wines']\n",
            "Exactitud CV (5-fold): 0.9760\n"
          ]
        }
      ]
    },
    {
      "cell_type": "code",
      "source": [
        "knn.fit(X_train_scaled[:, bb.best_subset_], y_train)\n",
        "bb_test_acc = accuracy_score(y_test, knn.predict(X_test_scaled[:, bb.best_subset_]))\n",
        "print(f\"Exactitud en prueba: {bb_test_acc:.4f}\")"
      ],
      "metadata": {
        "colab": {
          "base_uri": "https://localhost:8080/"
        },
        "id": "munDQYtkFkaU",
        "outputId": "3b93607c-e9b3-4b65-ea4e-df1cf7eeee04"
      },
      "execution_count": 11,
      "outputs": [
        {
          "output_type": "stream",
          "name": "stdout",
          "text": [
            "Exactitud en prueba: 0.8889\n"
          ]
        }
      ]
    },
    {
      "cell_type": "markdown",
      "source": [
        "*   Comparar con SFS.\n",
        "*   Analizar resultados."
      ],
      "metadata": {
        "id": "upPl972CGoi6"
      }
    },
    {
      "cell_type": "code",
      "source": [
        "# Métricas de ambos métodos\n",
        "comparison = pd.DataFrame({\n",
        "    'Método': ['Branch and Bound', 'Sequential Forward Selection'],\n",
        "    'Características Seleccionadas': [\n",
        "        [feature_names[i] for i in bb.best_subset_],\n",
        "        [feature_names[i] for i in sfs.k_feature_idx_]\n",
        "    ],\n",
        "    'Exactitud CV (5-fold)': [bb.best_score_, sfs.k_score_],\n",
        "    'Exactitud Prueba': [bb_test_acc, sfs_test_acc],\n",
        "    'Número de Evaluaciones': [\n",
        "        f\"~{len(list(combinations(range(X.shape[1]), 5)))} (teórico)\",\n",
        "        f\"{len(sfs.subsets_)} (real)\"\n",
        "    ]\n",
        "})\n",
        "\n",
        "comparison.head()"
      ],
      "metadata": {
        "colab": {
          "base_uri": "https://localhost:8080/",
          "height": 112
        },
        "id": "yoKvzDiQF6Ia",
        "outputId": "aeee0671-dfb9-4176-d42d-c81021684bb6"
      },
      "execution_count": 12,
      "outputs": [
        {
          "output_type": "execute_result",
          "data": {
            "text/plain": [
              "                         Método  \\\n",
              "0              Branch and Bound   \n",
              "1  Sequential Forward Selection   \n",
              "\n",
              "                       Características Seleccionadas  Exactitud CV (5-fold)  \\\n",
              "0  [alcohol, malic_acid, color_intensity, hue, od...               0.976000   \n",
              "1          [alcohol, total_phenols, flavanoids, hue]               0.983667   \n",
              "\n",
              "   Exactitud Prueba Número de Evaluaciones  \n",
              "0          0.888889        ~1287 (teórico)  \n",
              "1          0.907407               5 (real)  "
            ],
            "text/html": [
              "\n",
              "  <div id=\"df-d5deb2bc-4b4e-4e00-80d9-9460a9728c1c\" class=\"colab-df-container\">\n",
              "    <div>\n",
              "<style scoped>\n",
              "    .dataframe tbody tr th:only-of-type {\n",
              "        vertical-align: middle;\n",
              "    }\n",
              "\n",
              "    .dataframe tbody tr th {\n",
              "        vertical-align: top;\n",
              "    }\n",
              "\n",
              "    .dataframe thead th {\n",
              "        text-align: right;\n",
              "    }\n",
              "</style>\n",
              "<table border=\"1\" class=\"dataframe\">\n",
              "  <thead>\n",
              "    <tr style=\"text-align: right;\">\n",
              "      <th></th>\n",
              "      <th>Método</th>\n",
              "      <th>Características Seleccionadas</th>\n",
              "      <th>Exactitud CV (5-fold)</th>\n",
              "      <th>Exactitud Prueba</th>\n",
              "      <th>Número de Evaluaciones</th>\n",
              "    </tr>\n",
              "  </thead>\n",
              "  <tbody>\n",
              "    <tr>\n",
              "      <th>0</th>\n",
              "      <td>Branch and Bound</td>\n",
              "      <td>[alcohol, malic_acid, color_intensity, hue, od...</td>\n",
              "      <td>0.976000</td>\n",
              "      <td>0.888889</td>\n",
              "      <td>~1287 (teórico)</td>\n",
              "    </tr>\n",
              "    <tr>\n",
              "      <th>1</th>\n",
              "      <td>Sequential Forward Selection</td>\n",
              "      <td>[alcohol, total_phenols, flavanoids, hue]</td>\n",
              "      <td>0.983667</td>\n",
              "      <td>0.907407</td>\n",
              "      <td>5 (real)</td>\n",
              "    </tr>\n",
              "  </tbody>\n",
              "</table>\n",
              "</div>\n",
              "    <div class=\"colab-df-buttons\">\n",
              "\n",
              "  <div class=\"colab-df-container\">\n",
              "    <button class=\"colab-df-convert\" onclick=\"convertToInteractive('df-d5deb2bc-4b4e-4e00-80d9-9460a9728c1c')\"\n",
              "            title=\"Convert this dataframe to an interactive table.\"\n",
              "            style=\"display:none;\">\n",
              "\n",
              "  <svg xmlns=\"http://www.w3.org/2000/svg\" height=\"24px\" viewBox=\"0 -960 960 960\">\n",
              "    <path d=\"M120-120v-720h720v720H120Zm60-500h600v-160H180v160Zm220 220h160v-160H400v160Zm0 220h160v-160H400v160ZM180-400h160v-160H180v160Zm440 0h160v-160H620v160ZM180-180h160v-160H180v160Zm440 0h160v-160H620v160Z\"/>\n",
              "  </svg>\n",
              "    </button>\n",
              "\n",
              "  <style>\n",
              "    .colab-df-container {\n",
              "      display:flex;\n",
              "      gap: 12px;\n",
              "    }\n",
              "\n",
              "    .colab-df-convert {\n",
              "      background-color: #E8F0FE;\n",
              "      border: none;\n",
              "      border-radius: 50%;\n",
              "      cursor: pointer;\n",
              "      display: none;\n",
              "      fill: #1967D2;\n",
              "      height: 32px;\n",
              "      padding: 0 0 0 0;\n",
              "      width: 32px;\n",
              "    }\n",
              "\n",
              "    .colab-df-convert:hover {\n",
              "      background-color: #E2EBFA;\n",
              "      box-shadow: 0px 1px 2px rgba(60, 64, 67, 0.3), 0px 1px 3px 1px rgba(60, 64, 67, 0.15);\n",
              "      fill: #174EA6;\n",
              "    }\n",
              "\n",
              "    .colab-df-buttons div {\n",
              "      margin-bottom: 4px;\n",
              "    }\n",
              "\n",
              "    [theme=dark] .colab-df-convert {\n",
              "      background-color: #3B4455;\n",
              "      fill: #D2E3FC;\n",
              "    }\n",
              "\n",
              "    [theme=dark] .colab-df-convert:hover {\n",
              "      background-color: #434B5C;\n",
              "      box-shadow: 0px 1px 3px 1px rgba(0, 0, 0, 0.15);\n",
              "      filter: drop-shadow(0px 1px 2px rgba(0, 0, 0, 0.3));\n",
              "      fill: #FFFFFF;\n",
              "    }\n",
              "  </style>\n",
              "\n",
              "    <script>\n",
              "      const buttonEl =\n",
              "        document.querySelector('#df-d5deb2bc-4b4e-4e00-80d9-9460a9728c1c button.colab-df-convert');\n",
              "      buttonEl.style.display =\n",
              "        google.colab.kernel.accessAllowed ? 'block' : 'none';\n",
              "\n",
              "      async function convertToInteractive(key) {\n",
              "        const element = document.querySelector('#df-d5deb2bc-4b4e-4e00-80d9-9460a9728c1c');\n",
              "        const dataTable =\n",
              "          await google.colab.kernel.invokeFunction('convertToInteractive',\n",
              "                                                    [key], {});\n",
              "        if (!dataTable) return;\n",
              "\n",
              "        const docLinkHtml = 'Like what you see? Visit the ' +\n",
              "          '<a target=\"_blank\" href=https://colab.research.google.com/notebooks/data_table.ipynb>data table notebook</a>'\n",
              "          + ' to learn more about interactive tables.';\n",
              "        element.innerHTML = '';\n",
              "        dataTable['output_type'] = 'display_data';\n",
              "        await google.colab.output.renderOutput(dataTable, element);\n",
              "        const docLink = document.createElement('div');\n",
              "        docLink.innerHTML = docLinkHtml;\n",
              "        element.appendChild(docLink);\n",
              "      }\n",
              "    </script>\n",
              "  </div>\n",
              "\n",
              "\n",
              "    <div id=\"df-3742a503-3f2e-4d6f-92b9-d2988e2c9c9c\">\n",
              "      <button class=\"colab-df-quickchart\" onclick=\"quickchart('df-3742a503-3f2e-4d6f-92b9-d2988e2c9c9c')\"\n",
              "                title=\"Suggest charts\"\n",
              "                style=\"display:none;\">\n",
              "\n",
              "<svg xmlns=\"http://www.w3.org/2000/svg\" height=\"24px\"viewBox=\"0 0 24 24\"\n",
              "     width=\"24px\">\n",
              "    <g>\n",
              "        <path d=\"M19 3H5c-1.1 0-2 .9-2 2v14c0 1.1.9 2 2 2h14c1.1 0 2-.9 2-2V5c0-1.1-.9-2-2-2zM9 17H7v-7h2v7zm4 0h-2V7h2v10zm4 0h-2v-4h2v4z\"/>\n",
              "    </g>\n",
              "</svg>\n",
              "      </button>\n",
              "\n",
              "<style>\n",
              "  .colab-df-quickchart {\n",
              "      --bg-color: #E8F0FE;\n",
              "      --fill-color: #1967D2;\n",
              "      --hover-bg-color: #E2EBFA;\n",
              "      --hover-fill-color: #174EA6;\n",
              "      --disabled-fill-color: #AAA;\n",
              "      --disabled-bg-color: #DDD;\n",
              "  }\n",
              "\n",
              "  [theme=dark] .colab-df-quickchart {\n",
              "      --bg-color: #3B4455;\n",
              "      --fill-color: #D2E3FC;\n",
              "      --hover-bg-color: #434B5C;\n",
              "      --hover-fill-color: #FFFFFF;\n",
              "      --disabled-bg-color: #3B4455;\n",
              "      --disabled-fill-color: #666;\n",
              "  }\n",
              "\n",
              "  .colab-df-quickchart {\n",
              "    background-color: var(--bg-color);\n",
              "    border: none;\n",
              "    border-radius: 50%;\n",
              "    cursor: pointer;\n",
              "    display: none;\n",
              "    fill: var(--fill-color);\n",
              "    height: 32px;\n",
              "    padding: 0;\n",
              "    width: 32px;\n",
              "  }\n",
              "\n",
              "  .colab-df-quickchart:hover {\n",
              "    background-color: var(--hover-bg-color);\n",
              "    box-shadow: 0 1px 2px rgba(60, 64, 67, 0.3), 0 1px 3px 1px rgba(60, 64, 67, 0.15);\n",
              "    fill: var(--button-hover-fill-color);\n",
              "  }\n",
              "\n",
              "  .colab-df-quickchart-complete:disabled,\n",
              "  .colab-df-quickchart-complete:disabled:hover {\n",
              "    background-color: var(--disabled-bg-color);\n",
              "    fill: var(--disabled-fill-color);\n",
              "    box-shadow: none;\n",
              "  }\n",
              "\n",
              "  .colab-df-spinner {\n",
              "    border: 2px solid var(--fill-color);\n",
              "    border-color: transparent;\n",
              "    border-bottom-color: var(--fill-color);\n",
              "    animation:\n",
              "      spin 1s steps(1) infinite;\n",
              "  }\n",
              "\n",
              "  @keyframes spin {\n",
              "    0% {\n",
              "      border-color: transparent;\n",
              "      border-bottom-color: var(--fill-color);\n",
              "      border-left-color: var(--fill-color);\n",
              "    }\n",
              "    20% {\n",
              "      border-color: transparent;\n",
              "      border-left-color: var(--fill-color);\n",
              "      border-top-color: var(--fill-color);\n",
              "    }\n",
              "    30% {\n",
              "      border-color: transparent;\n",
              "      border-left-color: var(--fill-color);\n",
              "      border-top-color: var(--fill-color);\n",
              "      border-right-color: var(--fill-color);\n",
              "    }\n",
              "    40% {\n",
              "      border-color: transparent;\n",
              "      border-right-color: var(--fill-color);\n",
              "      border-top-color: var(--fill-color);\n",
              "    }\n",
              "    60% {\n",
              "      border-color: transparent;\n",
              "      border-right-color: var(--fill-color);\n",
              "    }\n",
              "    80% {\n",
              "      border-color: transparent;\n",
              "      border-right-color: var(--fill-color);\n",
              "      border-bottom-color: var(--fill-color);\n",
              "    }\n",
              "    90% {\n",
              "      border-color: transparent;\n",
              "      border-bottom-color: var(--fill-color);\n",
              "    }\n",
              "  }\n",
              "</style>\n",
              "\n",
              "      <script>\n",
              "        async function quickchart(key) {\n",
              "          const quickchartButtonEl =\n",
              "            document.querySelector('#' + key + ' button');\n",
              "          quickchartButtonEl.disabled = true;  // To prevent multiple clicks.\n",
              "          quickchartButtonEl.classList.add('colab-df-spinner');\n",
              "          try {\n",
              "            const charts = await google.colab.kernel.invokeFunction(\n",
              "                'suggestCharts', [key], {});\n",
              "          } catch (error) {\n",
              "            console.error('Error during call to suggestCharts:', error);\n",
              "          }\n",
              "          quickchartButtonEl.classList.remove('colab-df-spinner');\n",
              "          quickchartButtonEl.classList.add('colab-df-quickchart-complete');\n",
              "        }\n",
              "        (() => {\n",
              "          let quickchartButtonEl =\n",
              "            document.querySelector('#df-3742a503-3f2e-4d6f-92b9-d2988e2c9c9c button');\n",
              "          quickchartButtonEl.style.display =\n",
              "            google.colab.kernel.accessAllowed ? 'block' : 'none';\n",
              "        })();\n",
              "      </script>\n",
              "    </div>\n",
              "\n",
              "    </div>\n",
              "  </div>\n"
            ],
            "application/vnd.google.colaboratory.intrinsic+json": {
              "type": "dataframe",
              "variable_name": "comparison",
              "summary": "{\n  \"name\": \"comparison\",\n  \"rows\": 2,\n  \"fields\": [\n    {\n      \"column\": \"M\\u00e9todo\",\n      \"properties\": {\n        \"dtype\": \"string\",\n        \"num_unique_values\": 2,\n        \"samples\": [\n          \"Sequential Forward Selection\",\n          \"Branch and Bound\"\n        ],\n        \"semantic_type\": \"\",\n        \"description\": \"\"\n      }\n    },\n    {\n      \"column\": \"Caracter\\u00edsticas Seleccionadas\",\n      \"properties\": {\n        \"dtype\": \"object\",\n        \"semantic_type\": \"\",\n        \"description\": \"\"\n      }\n    },\n    {\n      \"column\": \"Exactitud CV (5-fold)\",\n      \"properties\": {\n        \"dtype\": \"number\",\n        \"std\": 0.005421151989096817,\n        \"min\": 0.976,\n        \"max\": 0.9836666666666666,\n        \"num_unique_values\": 2,\n        \"samples\": [\n          0.9836666666666666,\n          0.976\n        ],\n        \"semantic_type\": \"\",\n        \"description\": \"\"\n      }\n    },\n    {\n      \"column\": \"Exactitud Prueba\",\n      \"properties\": {\n        \"dtype\": \"number\",\n        \"std\": 0.013094570021973161,\n        \"min\": 0.8888888888888888,\n        \"max\": 0.9074074074074074,\n        \"num_unique_values\": 2,\n        \"samples\": [\n          0.9074074074074074,\n          0.8888888888888888\n        ],\n        \"semantic_type\": \"\",\n        \"description\": \"\"\n      }\n    },\n    {\n      \"column\": \"N\\u00famero de Evaluaciones\",\n      \"properties\": {\n        \"dtype\": \"string\",\n        \"num_unique_values\": 2,\n        \"samples\": [\n          \"5 (real)\",\n          \"~1287 (te\\u00f3rico)\"\n        ],\n        \"semantic_type\": \"\",\n        \"description\": \"\"\n      }\n    }\n  ]\n}"
            }
          },
          "metadata": {},
          "execution_count": 12
        }
      ]
    },
    {
      "cell_type": "code",
      "source": [
        "# Análisis de coincidencias en características seleccionadas\n",
        "common_features = set(bb.best_subset_).intersection(set(sfs.k_feature_idx_))\n",
        "print(f\"\\nCaracterísticas comunes seleccionadas por ambos métodos: {len(common_features)}\")\n",
        "print([feature_names[i] for i in common_features])\n",
        "\n",
        "# Gráfico comparativo\n",
        "plt.figure(figsize=(10, 5))\n",
        "methods = ['Branch and Bound', 'SFS']\n",
        "cv_scores = [bb.best_score_, sfs.k_score_]\n",
        "test_scores = [bb_test_acc, sfs_test_acc]\n",
        "\n",
        "x = np.arange(len(methods))\n",
        "width = 0.35\n",
        "\n",
        "fig, ax = plt.subplots()\n",
        "rects1 = ax.bar(x - width/2, cv_scores, width, label='CV Score (5-fold)')\n",
        "rects2 = ax.bar(x + width/2, test_scores, width, label='Test Accuracy')\n",
        "\n",
        "ax.set_ylabel('Exactitud')\n",
        "ax.set_title('Comparación Branch and Bound vs SFS')\n",
        "ax.set_xticks(x)\n",
        "ax.set_xticklabels(methods)\n",
        "ax.legend()\n",
        "\n",
        "fig.tight_layout()\n",
        "plt.show()"
      ],
      "metadata": {
        "colab": {
          "base_uri": "https://localhost:8080/",
          "height": 556
        },
        "id": "cP4e4BEUGfSb",
        "outputId": "16c19d80-f285-4a07-d08c-c19f58a6b360"
      },
      "execution_count": 13,
      "outputs": [
        {
          "output_type": "stream",
          "name": "stdout",
          "text": [
            "\n",
            "Características comunes seleccionadas por ambos métodos: 2\n",
            "['alcohol', 'hue']\n"
          ]
        },
        {
          "output_type": "display_data",
          "data": {
            "text/plain": [
              "<Figure size 1000x500 with 0 Axes>"
            ]
          },
          "metadata": {}
        },
        {
          "output_type": "display_data",
          "data": {
            "text/plain": [
              "<Figure size 640x480 with 1 Axes>"
            ],
            "image/png": "[encoded data removed]"
          },
          "metadata": {}
        }
      ]
    },
    {
      "cell_type": "markdown",
      "source": [
        "E. *PCA*\n",
        "\n",
        "\n",
        "*   Determinar componentes para 95% varianza.\n",
        "\n"
      ],
      "metadata": {
        "id": "tBDm0zJub9vw"
      }
    },
    {
      "cell_type": "code",
      "source": [
        "pca = PCA()\n",
        "X_pca = pca.fit(X_train_scaled)\n",
        "\n",
        "# Determinar número de componentes para 95% de varianza\n",
        "cumulative_variance = np.cumsum(pca.explained_variance_ratio_)\n",
        "n_components = np.argmax(cumulative_variance >= 0.95) + 1\n",
        "print(f\"Número de componentes para 95% de varianza: {n_components}\")"
      ],
      "metadata": {
        "colab": {
          "base_uri": "https://localhost:8080/"
        },
        "id": "OeBjs2HMclzy",
        "outputId": "3327c3f7-6d44-41d4-9347-94bbe3067b8d"
      },
      "execution_count": 14,
      "outputs": [
        {
          "output_type": "stream",
          "name": "stdout",
          "text": [
            "Número de componentes para 95% de varianza: 10\n"
          ]
        }
      ]
    },
    {
      "cell_type": "markdown",
      "source": [
        "*   Visualizar proyección 2D."
      ],
      "metadata": {
        "id": "CbIANfesEM9Z"
      }
    },
    {
      "cell_type": "code",
      "source": [
        "pca_2d = PCA(n_components=2)\n",
        "X_train_pca_2d = pca_2d.fit_transform(X_train_scaled)\n",
        "\n",
        "plt.figure(figsize=(20, 10))\n",
        "for i, target_name in enumerate(wine.target_names):\n",
        "    plt.scatter(X_train_pca_2d[y_train == i, 0], X_train_pca_2d[y_train == i, 1],\n",
        "                label=target_name)\n",
        "plt.xlabel('Componente Principal 1')\n",
        "plt.ylabel('Componente Principal 2')\n",
        "plt.title('Proyección 2D de los datos de Wine')\n",
        "plt.legend()\n",
        "plt.grid()\n",
        "plt.show()"
      ],
      "metadata": {
        "colab": {
          "base_uri": "https://localhost:8080/",
          "height": 873
        },
        "id": "A0v-QmAfEP_Y",
        "outputId": "e889e644-eb3d-4f2d-9972-735ede863820"
      },
      "execution_count": 15,
      "outputs": [
        {
          "output_type": "display_data",
          "data": {
            "text/plain": [
              "<Figure size 2000x1000 with 1 Axes>"
            ],
            "image/png": "[encoded data removed]"
          },
          "metadata": {}
        }
      ]
    },
    {
      "cell_type": "code",
      "source": [
        "pca_95 = PCA(n_components=n_components)\n",
        "X_train_pca = pca_95.fit_transform(X_train_scaled)\n",
        "X_test_pca = pca_95.transform(X_test_scaled)\n",
        "knn.fit(X_train_pca, y_train)\n",
        "y_pred = knn.predict(X_test_pca)\n",
        "print(f\"Exactitud en prueba con {n_components} componentes: {accuracy_score(y_test, y_pred):.4f}\")"
      ],
      "metadata": {
        "colab": {
          "base_uri": "https://localhost:8080/"
        },
        "id": "qKvvq-jBEj_E",
        "outputId": "af9da437-bfb6-41d7-ced4-4bcbdbe4e4ff"
      },
      "execution_count": 16,
      "outputs": [
        {
          "output_type": "stream",
          "name": "stdout",
          "text": [
            "Exactitud en prueba con 10 componentes: 0.9444\n"
          ]
        }
      ]
    },
    {
      "cell_type": "markdown",
      "source": [
        "4) Análisis Comparativo\n",
        "\n",
        "Crear tabla comparativa con:\n",
        "*   Método.\n",
        "*   Características seleccionadas.\n",
        "*   Métricas de entrenamiento y pruebas.\n",
        "*   Comentar los mejores resultados.\n",
        "\n",
        "\n",
        "\n"
      ],
      "metadata": {
        "id": "l5zL7innc0M0"
      }
    },
    {
      "cell_type": "code",
      "source": [
        "# Creación de la tabla comparativa completa\n",
        "methods = ['Búsqueda Exhaustiva', 'SFS', 'Fisher', 'Branch and Bound', 'PCA']\n",
        "selected_features = [\n",
        "    [feature_names[i] for i in best_comb],\n",
        "    [feature_names[i] for i in sfs.k_feature_idx_],\n",
        "    [feature_names[i] for i in top5_fisher],\n",
        "    [feature_names[i] for i in bb.best_subset_],\n",
        "    [f\"PC{i+1}\" for i in range(n_components)]\n",
        "]\n",
        "\n",
        "# Recolectar métricas para todos los métodos\n",
        "train_scores = []\n",
        "test_scores = []\n",
        "cv_scores = []\n",
        "num_features = []\n",
        "\n",
        "# Evaluar todos los métodos\n",
        "X_transforms = [\n",
        "    (X_train_scaled[:, best_comb], X_test_scaled[:, best_comb], None),  # Búsqueda Exhaustiva\n",
        "    (X_train_scaled[:, sfs.k_feature_idx_], X_test_scaled[:, sfs.k_feature_idx_], sfs.k_score_),  # SFS\n",
        "    (X_train_fisher, X_test_fisher, None),  # Fisher\n",
        "    (X_train_scaled[:, bb.best_subset_], X_test_scaled[:, bb.best_subset_], bb.best_score_),  # B&B\n",
        "    (X_train_pca, X_test_pca, None)  # PCA\n",
        "]\n",
        "\n",
        "for i, (X_train_sub, X_test_sub, cv_score) in enumerate(X_transforms):\n",
        "    knn.fit(X_train_sub, y_train)\n",
        "    train_scores.append(accuracy_score(y_train, knn.predict(X_train_sub)))\n",
        "    test_scores.append(accuracy_score(y_test, knn.predict(X_test_sub)))\n",
        "    cv_scores.append(cv_score if cv_score is not None else np.nan)\n",
        "    num_features.append(X_train_sub.shape[1])\n",
        "\n",
        "# Crear DataFrame comparativo\n",
        "comparison_df = pd.DataFrame({\n",
        "    'Método': methods,\n",
        "    '# Características': num_features,\n",
        "    'Características Seleccionadas': selected_features,\n",
        "    'Exactitud Entrenamiento': train_scores,\n",
        "    'Exactitud Prueba': test_scores,\n",
        "    'Exactitud CV (5-fold)': cv_scores\n",
        "})\n",
        "\n",
        "# Formatear la tabla para mejor visualización\n",
        "pd.set_option('display.max_colwidth', 30)\n",
        "print(\"\\nTabla Comparativa Completa de Métodos de Selección de Características:\")\n",
        "print(comparison_df.to_string(index=False, float_format=\"{:.4f}\".format))"
      ],
      "metadata": {
        "colab": {
          "base_uri": "https://localhost:8080/"
        },
        "id": "oad98kidHzJJ",
        "outputId": "e387c135-23dd-4b8e-888d-e9c0ace48643"
      },
      "execution_count": 17,
      "outputs": [
        {
          "output_type": "stream",
          "name": "stdout",
          "text": [
            "\n",
            "Tabla Comparativa Completa de Métodos de Selección de Características:\n",
            "             Método  # Características                                                 Características Seleccionadas  Exactitud Entrenamiento  Exactitud Prueba  Exactitud CV (5-fold)\n",
            "Búsqueda Exhaustiva                  5                       [alcohol, total_phenols, color_intensity, hue, proline]                   0.9758            0.9815                    NaN\n",
            "                SFS                  4                                     [alcohol, total_phenols, flavanoids, hue]                   0.9839            0.9074                 0.9837\n",
            "             Fisher                  5 [flavanoids, proline, od280/od315_of_diluted_wines, alcohol, color_intensity]                   0.9758            0.9630                    NaN\n",
            "   Branch and Bound                  5     [alcohol, malic_acid, color_intensity, hue, od280/od315_of_diluted_wines]                   0.9677            0.8889                 0.9760\n",
            "                PCA                 10                           [PC1, PC2, PC3, PC4, PC5, PC6, PC7, PC8, PC9, PC10]                   0.9919            0.9444                    NaN\n"
          ]
        }
      ]
    },
    {
      "cell_type": "markdown",
      "source": [
        "5) Análisis de resultados\n",
        "\n",
        "*   ¿Qué método obtuvo mejor exactitud? ¿Por qué?.\n",
        "\n",
        "*   ¿Cómo afecta la correlación entre características al PCA?.\n",
        "\n",
        "*   ¿Qué ventajas tiene Fisher Score sobre SFS en términos computacionales?.\n",
        "\n"
      ],
      "metadata": {
        "id": "w1y7VuLvdWy5"
      }
    },
    {
      "cell_type": "code",
      "source": [
        "print(\"1. Métodos basados en selección de características:\")\n",
        "print(f\"   - Mejor exactitud en prueba: {max(test_scores[:4]):.4f} ({methods[np.argmax(test_scores[:4])]})\")\n",
        "print(f\"   - Características comunes destacadas: {[f for f in selected_features[1] if sum(f in sublist for sublist in selected_features[:4]) >= 3]}\")\n",
        "\n",
        "print(\"\\n2. PCA vs métodos de selección:\")\n",
        "print(f\"   - PCA con {n_components} componentes explica el 95% de varianza\")\n",
        "print(f\"   - Exactitud comparable: {'Sí' if test_scores[-1] >= max(test_scores[:4]) - 0.05 else 'No'}\")\n",
        "\n",
        "\n",
        "best_method_idx = np.argmax(test_scores)\n",
        "print(f\"El método más efectivo fue '{methods[best_method_idx]}' con exactitud de prueba {test_scores[best_method_idx]:.4f}\")\n",
        "print(f\"Características seleccionadas: {selected_features[best_method_idx]}\")"
      ],
      "metadata": {
        "colab": {
          "base_uri": "https://localhost:8080/"
        },
        "id": "RPB9_MjVeDfg",
        "outputId": "0dd55a2c-7569-4fa2-ae59-d31f2d95c649"
      },
      "execution_count": 18,
      "outputs": [
        {
          "output_type": "stream",
          "name": "stdout",
          "text": [
            "1. Métodos basados en selección de características:\n",
            "   - Mejor exactitud en prueba: 0.9815 (Búsqueda Exhaustiva)\n",
            "   - Características comunes destacadas: ['alcohol', 'hue']\n",
            "\n",
            "2. PCA vs métodos de selección:\n",
            "   - PCA con 10 componentes explica el 95% de varianza\n",
            "   - Exactitud comparable: Sí\n",
            "El método más efectivo fue 'Búsqueda Exhaustiva' con exactitud de prueba 0.9815\n",
            "Características seleccionadas: ['alcohol', 'total_phenols', 'color_intensity', 'hue', 'proline']\n"
          ]
        }
      ]
    },
    {
      "cell_type": "markdown",
      "source": [
        "# **Conclusiones**"
      ],
      "metadata": {
        "id": "535yuk8teFLO"
      }
    },
    {
      "cell_type": "markdown",
      "source": [],
      "metadata": {
        "id": "-wEvbZANeQRq"
      }
    },
    {
      "cell_type": "markdown",
      "source": [
        "# **Referencias**"
      ],
      "metadata": {
        "id": "DsdSk1Z8fULD"
      }
    },
    {
      "cell_type": "markdown",
      "source": [
        "*   Gonzalez, R., Woods, R., Digital Image Processing, Prentice Hall, 2008.\n",
        "*   Pratt, W. k., Digital Image Processing, John Wiley and Sons Inc, 2001.\n",
        "*   Jahne, B., Digital Image Processing, Springer, 2005.\n",
        "*   Sánchez Garreta, Josep Salvador; García, Vicente. Special Issue on Data Preprocessing in Pattern Recognition: Recent Progress, Trends and Applications. 2022.\n"
      ],
      "metadata": {
        "id": "uMS3SZ_Lec5O"
      }
    }
  ]
}