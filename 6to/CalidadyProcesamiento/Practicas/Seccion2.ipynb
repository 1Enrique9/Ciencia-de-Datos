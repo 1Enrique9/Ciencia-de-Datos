{
 "cells": [
  {
   "cell_type": "code",
   "execution_count": 29,
   "metadata": {},
   "outputs": [
    {
     "data": {
      "text/plain": [
       "'isolation_tree_bmi_particion.png'"
      ]
     },
     "execution_count": 29,
     "metadata": {},
     "output_type": "execute_result"
    }
   ],
   "source": [
    "import numpy as np\n",
    "import pandas as pd\n",
    "from graphviz import Digraph\n",
    "\n",
    "# 1. Cargar el dataset\n",
    "file_path = \"insurance.csv\"\n",
    "df = pd.read_csv(file_path)\n",
    "\n",
    "# 2. Extraer la columna 'bmi'\n",
    "bmi_values = df[\"bmi\"].values\n",
    "\n",
    "# 3. Clase para el Árbol de Aislamiento modificada\n",
    "class IsolationTree:\n",
    "    def __init__(self, depth=0, max_depth=None):\n",
    "        self.depth = depth\n",
    "        self.max_depth = max_depth\n",
    "        self.split_value = None  # Valor usado para dividir\n",
    "        self.split_point = None  # Valor concreto del dato usado para dividir\n",
    "        self.left = None\n",
    "        self.right = None\n",
    "\n",
    "    def fit(self, data):\n",
    "        if self.max_depth is not None and self.depth >= self.max_depth or len(data) <= 1:\n",
    "            return\n",
    "        \n",
    "        # Seleccionamos un punto aleatorio como valor de división\n",
    "        self.split_point = np.random.choice(data)\n",
    "        self.split_value = np.random.uniform(min(data), max(data))\n",
    "        \n",
    "        left_data = data[data < self.split_value]\n",
    "        right_data = data[data >= self.split_value]\n",
    "        \n",
    "        if len(left_data) > 0:\n",
    "            self.left = IsolationTree(depth=self.depth + 1, max_depth=self.max_depth)\n",
    "            self.left.fit(left_data)\n",
    "        if len(right_data) > 0:\n",
    "            self.right = IsolationTree(depth=self.depth + 1, max_depth=self.max_depth)\n",
    "            self.right.fit(right_data)\n",
    "\n",
    "# 4. Construir árbol con profundidad 8\n",
    "tree = IsolationTree(max_depth=8)\n",
    "tree.fit(bmi_values)\n",
    "\n",
    "# 5. Función para construir el gráfico mostrando solo el valor de partición\n",
    "def build_graphviz(tree, graph=None, name=\"Raíz\"):\n",
    "    if graph is None:\n",
    "        graph = Digraph()\n",
    "        graph.attr('node', shape='box', style='rounded', color='lightblue2')\n",
    "        graph.attr('edge', fontsize='10')\n",
    "    \n",
    "    # Mostrar solo el valor concreto usado para la partición\n",
    "    node_label = f\"BMI: {tree.split_point:.1f}\" if tree.split_point is not None else \"Raíz\"\n",
    "    graph.node(name, label=node_label)\n",
    "    \n",
    "    if tree.left is not None:\n",
    "        left_name = f\"{name}_Izq\"\n",
    "        graph.edge(name, left_name, label=f\"< {tree.split_value:.2f}\")\n",
    "        build_graphviz(tree.left, graph, left_name)\n",
    "    \n",
    "    if tree.right is not None:\n",
    "        right_name = f\"{name}_Der\"\n",
    "        graph.edge(name, right_name, label=f\"≥ {tree.split_value:.2f}\")\n",
    "        build_graphviz(tree.right, graph, right_name)\n",
    "    \n",
    "    return graph\n",
    "\n",
    "# 6. Construir y visualizar el gráfico\n",
    "graph = build_graphviz(tree)\n",
    "graph.attr(label=\"Árbol de Aislamiento - Valores de BMI\\n(Se muestra el valor concreto usado en cada partición)\", \n",
    "           labelloc=\"t\", fontsize=\"12\", fontname=\"Arial\")\n",
    "\n",
    "# Ajustes de formato\n",
    "graph.graph_attr['nodesep'] = '0.4'\n",
    "graph.graph_attr['ranksep'] = '0.4'\n",
    "\n",
    "# Guardar y mostrar\n",
    "graph.render('isolation_tree_bmi_particion', view=True, format='png', cleanup=True)"
   ]
  },
  {
   "cell_type": "markdown",
   "metadata": {},
   "source": [
    "## Inciso 2"
   ]
  },
  {
   "cell_type": "code",
   "execution_count": 15,
   "metadata": {},
   "outputs": [],
   "source": [
    "from sklearn.preprocessing import StandardScaler\n",
    "from sklearn.ensemble import IsolationForest"
   ]
  },
  {
   "cell_type": "code",
   "execution_count": null,
   "metadata": {},
   "outputs": [],
   "source": [
    "numericas = ['age', 'bmi', 'children', 'charges']\n",
    "df_numeric = df[numericas] #Seleccionar variables numéricas que es donde hay sentido los outliers\n",
    "\n",
    "#Estandarización de los datos numéricos\n",
    "scaler = StandardScaler()\n",
    "df_scaled = scaler.fit_transform(df_numeric)\n",
    "df_scaled = pd.DataFrame(df_scaled, columns=numericas)\n",
    "iso_forest = IsolationForest(contamination=0.05, random_state=42)\n",
    "df['outlier_iso'] = iso_forest.fit_predict(df_scaled) == -1"
   ]
  },
  {
   "cell_type": "markdown",
   "metadata": {},
   "source": [
    "Metemos el dato que queramos buscar del arbol"
   ]
  },
  {
   "cell_type": "code",
   "execution_count": 27,
   "metadata": {},
   "outputs": [
    {
     "data": {
      "text/html": [
       "<div>\n",
       "<style scoped>\n",
       "    .dataframe tbody tr th:only-of-type {\n",
       "        vertical-align: middle;\n",
       "    }\n",
       "\n",
       "    .dataframe tbody tr th {\n",
       "        vertical-align: top;\n",
       "    }\n",
       "\n",
       "    .dataframe thead th {\n",
       "        text-align: right;\n",
       "    }\n",
       "</style>\n",
       "<table border=\"1\" class=\"dataframe\">\n",
       "  <thead>\n",
       "    <tr style=\"text-align: right;\">\n",
       "      <th></th>\n",
       "      <th>bmi</th>\n",
       "    </tr>\n",
       "  </thead>\n",
       "  <tbody>\n",
       "    <tr>\n",
       "      <th>32</th>\n",
       "      <td>28.6</td>\n",
       "    </tr>\n",
       "  </tbody>\n",
       "</table>\n",
       "</div>"
      ],
      "text/plain": [
       "     bmi\n",
       "32  28.6"
      ]
     },
     "execution_count": 27,
     "metadata": {},
     "output_type": "execute_result"
    }
   ],
   "source": [
    "resultado_iso = df.loc[df['outlier_iso'], ['bmi']]\n",
    "busqueda = resultado_iso[resultado_iso['bmi'] == 28.6]\n",
    "busqueda"
   ]
  }
 ],
 "metadata": {
  "kernelspec": {
   "display_name": "Python 3",
   "language": "python",
   "name": "python3"
  },
  "language_info": {
   "codemirror_mode": {
    "name": "ipython",
    "version": 3
   },
   "file_extension": ".py",
   "mimetype": "text/x-python",
   "name": "python",
   "nbconvert_exporter": "python",
   "pygments_lexer": "ipython3",
   "version": "3.13.0"
  }
 },
 "nbformat": 4,
 "nbformat_minor": 2
}
