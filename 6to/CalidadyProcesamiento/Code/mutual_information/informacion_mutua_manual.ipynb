{
 "cells": [
  {
   "cell_type": "markdown",
   "id": "d204e15c",
   "metadata": {},
   "source": [
    "# Cálculo de Información Mutua: Ejemplo Didáctico\n",
    "Este notebook explica cómo se calcula la información mutua paso a paso usando variables categóricas en una tabla simple."
   ]
  },
  {
   "cell_type": "markdown",
   "id": "d2268fb8",
   "metadata": {},
   "source": [
    "## Paso 1: Crear el conjunto de datos\n",
    "Representamos 10 registros con dos variables categóricas: `Clima` y `Actividad`."
   ]
  },
  {
   "cell_type": "code",
   "execution_count": 1,
   "id": "b0af0b35",
   "metadata": {},
   "outputs": [
    {
     "data": {
      "text/html": [
       "<div>\n",
       "<style scoped>\n",
       "    .dataframe tbody tr th:only-of-type {\n",
       "        vertical-align: middle;\n",
       "    }\n",
       "\n",
       "    .dataframe tbody tr th {\n",
       "        vertical-align: top;\n",
       "    }\n",
       "\n",
       "    .dataframe thead th {\n",
       "        text-align: right;\n",
       "    }\n",
       "</style>\n",
       "<table border=\"1\" class=\"dataframe\">\n",
       "  <thead>\n",
       "    <tr style=\"text-align: right;\">\n",
       "      <th></th>\n",
       "      <th>Clima</th>\n",
       "      <th>Actividad</th>\n",
       "    </tr>\n",
       "  </thead>\n",
       "  <tbody>\n",
       "    <tr>\n",
       "      <th>0</th>\n",
       "      <td>Soleado</td>\n",
       "      <td>Playa</td>\n",
       "    </tr>\n",
       "    <tr>\n",
       "      <th>1</th>\n",
       "      <td>Soleado</td>\n",
       "      <td>Playa</td>\n",
       "    </tr>\n",
       "    <tr>\n",
       "      <th>2</th>\n",
       "      <td>Nublado</td>\n",
       "      <td>Cine</td>\n",
       "    </tr>\n",
       "    <tr>\n",
       "      <th>3</th>\n",
       "      <td>Lluvia</td>\n",
       "      <td>Cine</td>\n",
       "    </tr>\n",
       "    <tr>\n",
       "      <th>4</th>\n",
       "      <td>Lluvia</td>\n",
       "      <td>Cine</td>\n",
       "    </tr>\n",
       "    <tr>\n",
       "      <th>5</th>\n",
       "      <td>Nublado</td>\n",
       "      <td>Cine</td>\n",
       "    </tr>\n",
       "    <tr>\n",
       "      <th>6</th>\n",
       "      <td>Soleado</td>\n",
       "      <td>Playa</td>\n",
       "    </tr>\n",
       "    <tr>\n",
       "      <th>7</th>\n",
       "      <td>Lluvia</td>\n",
       "      <td>Cine</td>\n",
       "    </tr>\n",
       "    <tr>\n",
       "      <th>8</th>\n",
       "      <td>Nublado</td>\n",
       "      <td>Cine</td>\n",
       "    </tr>\n",
       "    <tr>\n",
       "      <th>9</th>\n",
       "      <td>Soleado</td>\n",
       "      <td>Playa</td>\n",
       "    </tr>\n",
       "  </tbody>\n",
       "</table>\n",
       "</div>"
      ],
      "text/plain": [
       "     Clima Actividad\n",
       "0  Soleado     Playa\n",
       "1  Soleado     Playa\n",
       "2  Nublado      Cine\n",
       "3   Lluvia      Cine\n",
       "4   Lluvia      Cine\n",
       "5  Nublado      Cine\n",
       "6  Soleado     Playa\n",
       "7   Lluvia      Cine\n",
       "8  Nublado      Cine\n",
       "9  Soleado     Playa"
      ]
     },
     "execution_count": 1,
     "metadata": {},
     "output_type": "execute_result"
    }
   ],
   "source": [
    "import pandas as pd\n",
    "\n",
    "# Crear dataset\n",
    "datos = pd.DataFrame({\n",
    "    'Clima': ['Soleado', 'Soleado', 'Nublado', 'Lluvia', 'Lluvia',\n",
    "              'Nublado', 'Soleado', 'Lluvia', 'Nublado', 'Soleado'],\n",
    "    'Actividad': ['Playa', 'Playa', 'Cine', 'Cine', 'Cine',\n",
    "                  'Cine', 'Playa', 'Cine', 'Cine', 'Playa']\n",
    "})\n",
    "datos"
   ]
  },
  {
   "cell_type": "markdown",
   "id": "684acda8",
   "metadata": {},
   "source": [
    "## Paso 2: Calcular las frecuencias y probabilidades"
   ]
  },
  {
   "cell_type": "code",
   "execution_count": 2,
   "id": "92a242d2",
   "metadata": {},
   "outputs": [
    {
     "data": {
      "text/html": [
       "<div>\n",
       "<style scoped>\n",
       "    .dataframe tbody tr th:only-of-type {\n",
       "        vertical-align: middle;\n",
       "    }\n",
       "\n",
       "    .dataframe tbody tr th {\n",
       "        vertical-align: top;\n",
       "    }\n",
       "\n",
       "    .dataframe thead th {\n",
       "        text-align: right;\n",
       "    }\n",
       "</style>\n",
       "<table border=\"1\" class=\"dataframe\">\n",
       "  <thead>\n",
       "    <tr style=\"text-align: right;\">\n",
       "      <th></th>\n",
       "      <th>Clima</th>\n",
       "      <th>Actividad</th>\n",
       "      <th>Frecuencia</th>\n",
       "    </tr>\n",
       "  </thead>\n",
       "  <tbody>\n",
       "    <tr>\n",
       "      <th>0</th>\n",
       "      <td>Soleado</td>\n",
       "      <td>Playa</td>\n",
       "      <td>4</td>\n",
       "    </tr>\n",
       "    <tr>\n",
       "      <th>1</th>\n",
       "      <td>Lluvia</td>\n",
       "      <td>Cine</td>\n",
       "      <td>3</td>\n",
       "    </tr>\n",
       "    <tr>\n",
       "      <th>2</th>\n",
       "      <td>Nublado</td>\n",
       "      <td>Cine</td>\n",
       "      <td>3</td>\n",
       "    </tr>\n",
       "  </tbody>\n",
       "</table>\n",
       "</div>"
      ],
      "text/plain": [
       "     Clima Actividad  Frecuencia\n",
       "0  Soleado     Playa           4\n",
       "1   Lluvia      Cine           3\n",
       "2  Nublado      Cine           3"
      ]
     },
     "execution_count": 2,
     "metadata": {},
     "output_type": "execute_result"
    }
   ],
   "source": [
    "# Frecuencias absolutas\n",
    "freq_absolutas = datos.value_counts().reset_index(name='Frecuencia')\n",
    "freq_absolutas"
   ]
  },
  {
   "cell_type": "code",
   "execution_count": 3,
   "id": "13aee257",
   "metadata": {},
   "outputs": [
    {
     "data": {
      "text/html": [
       "<div>\n",
       "<style scoped>\n",
       "    .dataframe tbody tr th:only-of-type {\n",
       "        vertical-align: middle;\n",
       "    }\n",
       "\n",
       "    .dataframe tbody tr th {\n",
       "        vertical-align: top;\n",
       "    }\n",
       "\n",
       "    .dataframe thead th {\n",
       "        text-align: right;\n",
       "    }\n",
       "</style>\n",
       "<table border=\"1\" class=\"dataframe\">\n",
       "  <thead>\n",
       "    <tr style=\"text-align: right;\">\n",
       "      <th></th>\n",
       "      <th>Clima</th>\n",
       "      <th>Actividad</th>\n",
       "      <th>Frecuencia</th>\n",
       "      <th>P(x,y)</th>\n",
       "    </tr>\n",
       "  </thead>\n",
       "  <tbody>\n",
       "    <tr>\n",
       "      <th>0</th>\n",
       "      <td>Soleado</td>\n",
       "      <td>Playa</td>\n",
       "      <td>4</td>\n",
       "      <td>0.4</td>\n",
       "    </tr>\n",
       "    <tr>\n",
       "      <th>1</th>\n",
       "      <td>Lluvia</td>\n",
       "      <td>Cine</td>\n",
       "      <td>3</td>\n",
       "      <td>0.3</td>\n",
       "    </tr>\n",
       "    <tr>\n",
       "      <th>2</th>\n",
       "      <td>Nublado</td>\n",
       "      <td>Cine</td>\n",
       "      <td>3</td>\n",
       "      <td>0.3</td>\n",
       "    </tr>\n",
       "  </tbody>\n",
       "</table>\n",
       "</div>"
      ],
      "text/plain": [
       "     Clima Actividad  Frecuencia  P(x,y)\n",
       "0  Soleado     Playa           4     0.4\n",
       "1   Lluvia      Cine           3     0.3\n",
       "2  Nublado      Cine           3     0.3"
      ]
     },
     "execution_count": 3,
     "metadata": {},
     "output_type": "execute_result"
    }
   ],
   "source": [
    "# Probabilidades conjuntas\n",
    "freq_absolutas['P(x,y)'] = freq_absolutas['Frecuencia'] / len(datos)\n",
    "freq_absolutas"
   ]
  },
  {
   "cell_type": "code",
   "execution_count": 4,
   "id": "69c07c96",
   "metadata": {},
   "outputs": [
    {
     "data": {
      "text/plain": [
       "(Clima\n",
       " Soleado    0.4\n",
       " Nublado    0.3\n",
       " Lluvia     0.3\n",
       " Name: proportion, dtype: float64,\n",
       " Actividad\n",
       " Cine     0.6\n",
       " Playa    0.4\n",
       " Name: proportion, dtype: float64)"
      ]
     },
     "execution_count": 4,
     "metadata": {},
     "output_type": "execute_result"
    }
   ],
   "source": [
    "# Probabilidades marginales\n",
    "p_clima = datos['Clima'].value_counts(normalize=True)\n",
    "p_actividad = datos['Actividad'].value_counts(normalize=True)\n",
    "\n",
    "p_clima, p_actividad"
   ]
  },
  {
   "cell_type": "markdown",
   "id": "02e48435",
   "metadata": {},
   "source": [
    "## Paso 3: Calcular la información mutua manualmente"
   ]
  },
  {
   "cell_type": "code",
   "execution_count": 5,
   "id": "c49fe9b9",
   "metadata": {},
   "outputs": [
    {
     "name": "stdout",
     "output_type": "stream",
     "text": [
      "(Soleado, Playa): 0.5288 bits\n",
      "(Lluvia, Cine): 0.2211 bits\n",
      "(Nublado, Cine): 0.2211 bits\n",
      "\n",
      "Información mutua total: 0.9710 bits\n"
     ]
    }
   ],
   "source": [
    "import numpy as np\n",
    "\n",
    "# Función para obtener P(x) y P(y)\n",
    "def obtener_marginales(row):\n",
    "    px = p_clima[row['Clima']]\n",
    "    py = p_actividad[row['Actividad']]\n",
    "    return px, py\n",
    "\n",
    "# Calcular contribuciones\n",
    "mi_total = 0\n",
    "for idx, row in freq_absolutas.iterrows():\n",
    "    px, py = obtener_marginales(row)\n",
    "    pxy = row['P(x,y)']\n",
    "    contribucion = pxy * np.log2(pxy / (px * py))\n",
    "    mi_total += contribucion\n",
    "    print(f\"({row['Clima']}, {row['Actividad']}): {contribucion:.4f} bits\")\n",
    "\n",
    "print(f\"\\nInformación mutua total: {mi_total:.4f} bits\")"
   ]
  },
  {
   "cell_type": "markdown",
   "id": "136fc012",
   "metadata": {},
   "source": [
    "## Conclusión\n",
    "En este ejemplo, se muestra que la información mutua entre `Clima` y `Actividad` es significativa y refleja que existe dependencia entre ambas variables.\n",
    "Este tipo de análisis es muy útil en etapas de preprocesamiento para selección de características."
   ]
  }
 ],
 "metadata": {
  "kernelspec": {
   "display_name": "Python 3 (ipykernel)",
   "language": "python",
   "name": "python3"
  },
  "language_info": {
   "codemirror_mode": {
    "name": "ipython",
    "version": 3
   },
   "file_extension": ".py",
   "mimetype": "text/x-python",
   "name": "python",
   "nbconvert_exporter": "python",
   "pygments_lexer": "ipython3",
   "version": "3.11.5"
  }
 },
 "nbformat": 4,
 "nbformat_minor": 5
}
