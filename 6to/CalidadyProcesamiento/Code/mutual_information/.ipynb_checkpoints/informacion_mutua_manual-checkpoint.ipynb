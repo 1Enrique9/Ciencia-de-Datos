{
 "cells": [
  {
   "cell_type": "markdown",
   "id": "d204e15c",
   "metadata": {},
   "source": [
    "# Cálculo de Información Mutua: Ejemplo Didáctico\n",
    "Este notebook explica cómo se calcula la información mutua paso a paso usando variables categóricas en una tabla simple."
   ]
  },
  {
   "cell_type": "markdown",
   "id": "d2268fb8",
   "metadata": {},
   "source": [
    "## Paso 1: Crear el conjunto de datos\n",
    "Representamos 10 registros con dos variables categóricas: `Clima` y `Actividad`."
   ]
  },
  {
   "cell_type": "code",
   "execution_count": null,
   "id": "b0af0b35",
   "metadata": {},
   "outputs": [],
   "source": [
    "import pandas as pd\n",
    "\n",
    "# Crear dataset\n",
    "datos = pd.DataFrame({\n",
    "    'Clima': ['Soleado', 'Soleado', 'Nublado', 'Lluvia', 'Lluvia',\n",
    "              'Nublado', 'Soleado', 'Lluvia', 'Nublado', 'Soleado'],\n",
    "    'Actividad': ['Playa', 'Playa', 'Cine', 'Cine', 'Cine',\n",
    "                  'Cine', 'Playa', 'Cine', 'Cine', 'Playa']\n",
    "})\n",
    "datos"
   ]
  },
  {
   "cell_type": "markdown",
   "id": "684acda8",
   "metadata": {},
   "source": [
    "## Paso 2: Calcular las frecuencias y probabilidades"
   ]
  },
  {
   "cell_type": "code",
   "execution_count": null,
   "id": "92a242d2",
   "metadata": {},
   "outputs": [],
   "source": [
    "# Frecuencias absolutas\n",
    "freq_absolutas = datos.value_counts().reset_index(name='Frecuencia')\n",
    "freq_absolutas"
   ]
  },
  {
   "cell_type": "code",
   "execution_count": null,
   "id": "13aee257",
   "metadata": {},
   "outputs": [],
   "source": [
    "# Probabilidades conjuntas\n",
    "freq_absolutas['P(x,y)'] = freq_absolutas['Frecuencia'] / len(datos)\n",
    "freq_absolutas"
   ]
  },
  {
   "cell_type": "code",
   "execution_count": null,
   "id": "69c07c96",
   "metadata": {},
   "outputs": [],
   "source": [
    "# Probabilidades marginales\n",
    "p_clima = datos['Clima'].value_counts(normalize=True)\n",
    "p_actividad = datos['Actividad'].value_counts(normalize=True)\n",
    "\n",
    "p_clima, p_actividad"
   ]
  },
  {
   "cell_type": "markdown",
   "id": "02e48435",
   "metadata": {},
   "source": [
    "## Paso 3: Calcular la información mutua manualmente"
   ]
  },
  {
   "cell_type": "code",
   "execution_count": null,
   "id": "c49fe9b9",
   "metadata": {},
   "outputs": [],
   "source": [
    "import numpy as np\n",
    "\n",
    "# Función para obtener P(x) y P(y)\n",
    "def obtener_marginales(row):\n",
    "    px = p_clima[row['Clima']]\n",
    "    py = p_actividad[row['Actividad']]\n",
    "    return px, py\n",
    "\n",
    "# Calcular contribuciones\n",
    "mi_total = 0\n",
    "for idx, row in freq_absolutas.iterrows():\n",
    "    px, py = obtener_marginales(row)\n",
    "    pxy = row['P(x,y)']\n",
    "    contribucion = pxy * np.log2(pxy / (px * py))\n",
    "    mi_total += contribucion\n",
    "    print(f\"({row['Clima']}, {row['Actividad']}): {contribucion:.4f} bits\")\n",
    "\n",
    "print(f\"\\nInformación mutua total: {mi_total:.4f} bits\")"
   ]
  },
  {
   "cell_type": "markdown",
   "id": "136fc012",
   "metadata": {},
   "source": [
    "## Conclusión\n",
    "En este ejemplo, se muestra que la información mutua entre `Clima` y `Actividad` es significativa y refleja que existe dependencia entre ambas variables.\n",
    "Este tipo de análisis es muy útil en etapas de preprocesamiento para selección de características."
   ]
  }
 ],
 "metadata": {},
 "nbformat": 4,
 "nbformat_minor": 5
}
