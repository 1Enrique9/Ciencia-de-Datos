{
 "cells": [
  {
   "cell_type": "markdown",
   "id": "ca053663",
   "metadata": {},
   "source": [
    "Realizar un modelo lineal para el siguiente problema de predicción de demanda de energía "
   ]
  },
  {
   "cell_type": "markdown",
   "id": "a23db4c0",
   "metadata": {},
   "source": [
    "| Velocidad del viento | Personas dentro del edificio | Requerimiento de energía |\n",
    "|-----------------------|------------------------------|---------------------------|\n",
    "| 100                   | 2                            | 5                         |\n",
    "| 50                    | 42                           | 25                        |\n",
    "| 45                    | 31                           | 22                        |\n",
    "| 60                    | 35                           | 18                        |\n"
   ]
  },
  {
   "cell_type": "code",
   "execution_count": 1,
   "id": "4fd640ff",
   "metadata": {},
   "outputs": [],
   "source": [
    "#  Hacer un modelo lineal con la tabla , pero usando la matriz θ = (X^T X) ^ -1  X^T y\n",
    "import numpy as np\n",
    "\n",
    "def linear_regression(X, y):\n",
    "    # Añadir un sesgo (bias) a la matriz de características\n",
    "    X_b = np.c_[np.ones((X.shape[0], 1)), X]  # Añadir columna de 1s\n",
    "    # Calcular θ usando la fórmula θ = (X^T X) ^ -1  X^T y\n",
    "    theta = np.linalg.inv(X_b.T.dot(X_b)).dot(X_b.T).dot(y)\n",
    "    return theta"
   ]
  },
  {
   "cell_type": "code",
   "execution_count": null,
   "id": "a3bec7c1",
   "metadata": {},
   "outputs": [],
   "source": [
    "# Probar en la tabla \n",
    "\n"
   ]
  }
 ],
 "metadata": {
  "kernelspec": {
   "display_name": "Python 3",
   "language": "python",
   "name": "python3"
  },
  "language_info": {
   "codemirror_mode": {
    "name": "ipython",
    "version": 3
   },
   "file_extension": ".py",
   "mimetype": "text/x-python",
   "name": "python",
   "nbconvert_exporter": "python",
   "pygments_lexer": "ipython3",
   "version": "3.13.0"
  }
 },
 "nbformat": 4,
 "nbformat_minor": 5
}
