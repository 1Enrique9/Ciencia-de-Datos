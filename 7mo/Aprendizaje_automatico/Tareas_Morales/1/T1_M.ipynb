{
 "cells": [
  {
   "cell_type": "markdown",
   "id": "ca053663",
   "metadata": {},
   "source": [
    "Realizar un modelo lineal para el siguiente problema de predicción de demanda de energía "
   ]
  },
  {
   "cell_type": "markdown",
   "id": "a23db4c0",
   "metadata": {},
   "source": [
    "| Velocidad del viento | Personas dentro del edificio | Requerimiento de energía |\n",
    "|-----------------------|------------------------------|---------------------------|\n",
    "| 100                   | 2                            | 5                         |\n",
    "| 50                    | 42                           | 25                        |\n",
    "| 45                    | 31                           | 22                        |\n",
    "| 60                    | 35                           | 18                        |\n"
   ]
  },
  {
   "cell_type": "code",
   "execution_count": 2,
   "id": "4fd640ff",
   "metadata": {},
   "outputs": [],
   "source": [
    "import numpy as np\n",
    "viento = np.array([100, 50, 45, 60])\n",
    "personas = np.array([2, 42, 31, 35])\n",
    "energia = np.array([5, 25, 22, 18])"
   ]
  },
  {
   "cell_type": "code",
   "execution_count": 3,
   "id": "7cf49c7a",
   "metadata": {},
   "outputs": [
    {
     "name": "stdout",
     "output_type": "stream",
     "text": [
      "Parámetros del modelo:\n",
      "[[24.97615881]\n",
      " [-0.20751687]\n",
      " [ 0.20920152]]\n"
     ]
    }
   ],
   "source": [
    "X = np.column_stack((np.ones(len(viento)), viento, personas))\n",
    "y = energia.reshape(-1, 1)\n",
    "\n",
    "# Fórmula de mínimos cuadrados: θ = (X^T X)^(-1) X^T y\n",
    "theta = np.linalg.inv(X.T @ X) @ X.T @ y\n",
    "\n",
    "print(\"Parámetros del modelo:\")\n",
    "print(theta)"
   ]
  },
  {
   "cell_type": "markdown",
   "id": "c445b49a",
   "metadata": {},
   "source": [
    "Por lo que el modelo queda de la siguiente manera :\n",
    "\n",
    "$ \\hat{y}= \\theta_{0} + \\theta_{1} x_{1} + \\theta_{2} x_{2}$\n",
    "\n",
    "$ \\hat{y}=$ 24.98−0.207⋅(viento)+0.209⋅(personas)"
   ]
  }
 ],
 "metadata": {
  "kernelspec": {
   "display_name": "Python 3",
   "language": "python",
   "name": "python3"
  },
  "language_info": {
   "codemirror_mode": {
    "name": "ipython",
    "version": 3
   },
   "file_extension": ".py",
   "mimetype": "text/x-python",
   "name": "python",
   "nbconvert_exporter": "python",
   "pygments_lexer": "ipython3",
   "version": "3.13.0"
  }
 },
 "nbformat": 4,
 "nbformat_minor": 5
}
