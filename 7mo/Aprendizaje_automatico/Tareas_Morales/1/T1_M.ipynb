{
 "cells": [
  {
   "cell_type": "markdown",
   "id": "ca053663",
   "metadata": {},
   "source": [
    "Realizar un modelo lineal para el siguiente problema de predicción de demanda de energía "
   ]
  },
  {
   "cell_type": "markdown",
   "id": "a23db4c0",
   "metadata": {},
   "source": [
    "| Velocidad del viento | Personas dentro del edificio | Requerimiento de energía |\n",
    "|-----------------------|------------------------------|---------------------------|\n",
    "| 100                   | 2                            | 5                         |\n",
    "| 50                    | 42                           | 25                        |\n",
    "| 45                    | 31                           | 22                        |\n",
    "| 60                    | 35                           | 18                        |\n"
   ]
  },
  {
   "cell_type": "code",
   "execution_count": null,
   "id": "4fd640ff",
   "metadata": {},
   "outputs": [],
   "source": [
    "#  Hacer un modelo lineal con la tabla , pero usando la matriz θ = (X^T X) ^ -1  X^T y\n",
    "import numpy as np\n",
    "\n",
    "def linear_regression(X, y):\n",
    "    # Añadir un sesgo (bias) a la matriz de características\n",
    "    X_b = np.c_[np.ones((X.shape[0], 1)), X]  \n",
    "    # Calcular θ usando la fórmula θ = (X^T X) ^ -1  X^T y\n",
    "    theta = np.linalg.inv(X_b.T.dot(X_b)).dot(X_b.T).dot(y)\n",
    "    return theta"
   ]
  },
  {
   "cell_type": "code",
   "execution_count": 2,
   "id": "a3bec7c1",
   "metadata": {},
   "outputs": [
    {
     "name": "stdout",
     "output_type": "stream",
     "text": [
      "Parámetros del modelo: [24.97615881  0.20920152 -0.20751687]\n"
     ]
    }
   ],
   "source": [
    "# Probar en la tabla \n",
    "X = np.array([[2, 100], [42, 50], [31, 45], [35,60]])\n",
    "y = np.array([5, 25, 22, 18])\n",
    "theta = linear_regression(X, y)\n",
    "print(\"Parámetros del modelo:\", theta)"
   ]
  },
  {
   "cell_type": "markdown",
   "id": "c445b49a",
   "metadata": {},
   "source": [
    "Por lo que el modelo queda de la siguiente manera :\n",
    "\n",
    "$ \\hat{y}= \\theta_{0} + \\theta_{1} x_{1} + \\theta_{2} x_{2}$\n",
    "\n",
    "$ \\hat{y}=$ 24.98−0.207⋅(viento)+0.209⋅(personas)"
   ]
  }
 ],
 "metadata": {
  "kernelspec": {
   "display_name": "Python 3",
   "language": "python",
   "name": "python3"
  },
  "language_info": {
   "codemirror_mode": {
    "name": "ipython",
    "version": 3
   },
   "file_extension": ".py",
   "mimetype": "text/x-python",
   "name": "python",
   "nbconvert_exporter": "python",
   "pygments_lexer": "ipython3",
   "version": "3.13.0"
  }
 },
 "nbformat": 4,
 "nbformat_minor": 5
}
