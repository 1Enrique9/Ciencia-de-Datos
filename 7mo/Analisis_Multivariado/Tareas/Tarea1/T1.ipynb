{
 "cells": [
  {
   "cell_type": "markdown",
   "id": "c2b12303",
   "metadata": {},
   "source": [
    "Primero carguemos los datos y veamos los datos con los que contamos"
   ]
  },
  {
   "cell_type": "code",
   "execution_count": null,
   "id": "a2ff7f2a",
   "metadata": {},
   "outputs": [
    {
     "data": {
      "text/html": [
       "<div>\n",
       "<style scoped>\n",
       "    .dataframe tbody tr th:only-of-type {\n",
       "        vertical-align: middle;\n",
       "    }\n",
       "\n",
       "    .dataframe tbody tr th {\n",
       "        vertical-align: top;\n",
       "    }\n",
       "\n",
       "    .dataframe thead th {\n",
       "        text-align: right;\n",
       "    }\n",
       "</style>\n",
       "<table border=\"1\" class=\"dataframe\">\n",
       "  <thead>\n",
       "    <tr style=\"text-align: right;\">\n",
       "      <th></th>\n",
       "      <th>Region</th>\n",
       "      <th>MPG</th>\n",
       "    </tr>\n",
       "  </thead>\n",
       "  <tbody>\n",
       "    <tr>\n",
       "      <th>0</th>\n",
       "      <td>1</td>\n",
       "      <td>22</td>\n",
       "    </tr>\n",
       "    <tr>\n",
       "      <th>1</th>\n",
       "      <td>1</td>\n",
       "      <td>17</td>\n",
       "    </tr>\n",
       "    <tr>\n",
       "      <th>2</th>\n",
       "      <td>1</td>\n",
       "      <td>22</td>\n",
       "    </tr>\n",
       "    <tr>\n",
       "      <th>3</th>\n",
       "      <td>2</td>\n",
       "      <td>17</td>\n",
       "    </tr>\n",
       "    <tr>\n",
       "      <th>4</th>\n",
       "      <td>2</td>\n",
       "      <td>23</td>\n",
       "    </tr>\n",
       "    <tr>\n",
       "      <th>5</th>\n",
       "      <td>2</td>\n",
       "      <td>25</td>\n",
       "    </tr>\n",
       "    <tr>\n",
       "      <th>6</th>\n",
       "      <td>1</td>\n",
       "      <td>20</td>\n",
       "    </tr>\n",
       "    <tr>\n",
       "      <th>7</th>\n",
       "      <td>1</td>\n",
       "      <td>15</td>\n",
       "    </tr>\n",
       "    <tr>\n",
       "      <th>8</th>\n",
       "      <td>1</td>\n",
       "      <td>18</td>\n",
       "    </tr>\n",
       "    <tr>\n",
       "      <th>9</th>\n",
       "      <td>1</td>\n",
       "      <td>26</td>\n",
       "    </tr>\n",
       "  </tbody>\n",
       "</table>\n",
       "</div>"
      ],
      "text/plain": [
       "   Region  MPG\n",
       "0       1   22\n",
       "1       1   17\n",
       "2       1   22\n",
       "3       2   17\n",
       "4       2   23\n",
       "5       2   25\n",
       "6       1   20\n",
       "7       1   15\n",
       "8       1   18\n",
       "9       1   26"
      ]
     },
     "execution_count": 2,
     "metadata": {},
     "output_type": "execute_result"
    }
   ],
   "source": [
    "import pandas as pd\n",
    "\n",
    "# Cargar el archivo\n",
    "file_path = \"carc B.txt\"\n",
    "df = pd.read_csv(file_path, sep=\" \", header=None, names=[\"Region\", \"MPG\"])\n",
    "\n",
    "df.head(10)\n"
   ]
  },
  {
   "cell_type": "markdown",
   "id": "44742cfa",
   "metadata": {},
   "source": [
    "Procedemos a ordenar los dato, pero sobre la columna de MPG, para ver los minimos y los maximos . Ademas encontar otras estadisticas"
   ]
  },
  {
   "cell_type": "code",
   "execution_count": 3,
   "id": "15b95f3d",
   "metadata": {},
   "outputs": [
    {
     "data": {
      "text/html": [
       "<div>\n",
       "<style scoped>\n",
       "    .dataframe tbody tr th:only-of-type {\n",
       "        vertical-align: middle;\n",
       "    }\n",
       "\n",
       "    .dataframe tbody tr th {\n",
       "        vertical-align: top;\n",
       "    }\n",
       "\n",
       "    .dataframe thead th {\n",
       "        text-align: right;\n",
       "    }\n",
       "</style>\n",
       "<table border=\"1\" class=\"dataframe\">\n",
       "  <thead>\n",
       "    <tr style=\"text-align: right;\">\n",
       "      <th></th>\n",
       "      <th>Region</th>\n",
       "      <th>MPG</th>\n",
       "    </tr>\n",
       "  </thead>\n",
       "  <tbody>\n",
       "    <tr>\n",
       "      <th>0</th>\n",
       "      <td>1</td>\n",
       "      <td>12</td>\n",
       "    </tr>\n",
       "    <tr>\n",
       "      <th>1</th>\n",
       "      <td>1</td>\n",
       "      <td>12</td>\n",
       "    </tr>\n",
       "    <tr>\n",
       "      <th>2</th>\n",
       "      <td>1</td>\n",
       "      <td>14</td>\n",
       "    </tr>\n",
       "    <tr>\n",
       "      <th>3</th>\n",
       "      <td>1</td>\n",
       "      <td>14</td>\n",
       "    </tr>\n",
       "    <tr>\n",
       "      <th>4</th>\n",
       "      <td>1</td>\n",
       "      <td>14</td>\n",
       "    </tr>\n",
       "    <tr>\n",
       "      <th>...</th>\n",
       "      <td>...</td>\n",
       "      <td>...</td>\n",
       "    </tr>\n",
       "    <tr>\n",
       "      <th>69</th>\n",
       "      <td>3</td>\n",
       "      <td>28</td>\n",
       "    </tr>\n",
       "    <tr>\n",
       "      <th>70</th>\n",
       "      <td>3</td>\n",
       "      <td>30</td>\n",
       "    </tr>\n",
       "    <tr>\n",
       "      <th>71</th>\n",
       "      <td>3</td>\n",
       "      <td>31</td>\n",
       "    </tr>\n",
       "    <tr>\n",
       "      <th>72</th>\n",
       "      <td>3</td>\n",
       "      <td>35</td>\n",
       "    </tr>\n",
       "    <tr>\n",
       "      <th>73</th>\n",
       "      <td>3</td>\n",
       "      <td>35</td>\n",
       "    </tr>\n",
       "  </tbody>\n",
       "</table>\n",
       "<p>74 rows × 2 columns</p>\n",
       "</div>"
      ],
      "text/plain": [
       "    Region  MPG\n",
       "0        1   12\n",
       "1        1   12\n",
       "2        1   14\n",
       "3        1   14\n",
       "4        1   14\n",
       "..     ...  ...\n",
       "69       3   28\n",
       "70       3   30\n",
       "71       3   31\n",
       "72       3   35\n",
       "73       3   35\n",
       "\n",
       "[74 rows x 2 columns]"
      ]
     },
     "execution_count": 3,
     "metadata": {},
     "output_type": "execute_result"
    }
   ],
   "source": [
    "df_sorted = df.sort_values(by=[\"Region\", \"MPG\"]).reset_index(drop=True)\n",
    "df_sorted"
   ]
  },
  {
   "cell_type": "markdown",
   "id": "587f9e8c",
   "metadata": {},
   "source": [
    "Ahora dividimos los datos por región donde 1 = Japón, 2 = Norteamérica, 3 = Europa"
   ]
  },
  {
   "cell_type": "code",
   "execution_count": 9,
   "id": "a11079bc",
   "metadata": {},
   "outputs": [
    {
     "name": "stdout",
     "output_type": "stream",
     "text": [
      "\n",
      "---  Datos de Japon ---\n",
      "0     22\n",
      "1     17\n",
      "2     22\n",
      "6     20\n",
      "7     15\n",
      "8     18\n",
      "9     26\n",
      "10    20\n",
      "11    16\n",
      "12    19\n",
      "Name: MPG, dtype: int64\n",
      "\n",
      "---  Datos de Norteamérica ---\n",
      "3     17\n",
      "4     23\n",
      "5     25\n",
      "30    21\n",
      "52    14\n",
      "64    28\n",
      "69    25\n",
      "70    41\n",
      "71    25\n",
      "72    23\n",
      "Name: MPG, dtype: int64\n",
      "\n",
      "---  Datos de Europa ---\n",
      "22    23\n",
      "23    35\n",
      "24    24\n",
      "25    21\n",
      "33    25\n",
      "34    28\n",
      "38    30\n",
      "65    35\n",
      "66    18\n",
      "67    31\n",
      "Name: MPG, dtype: int64\n"
     ]
    }
   ],
   "source": [
    "# 1 = Japón, 2 = Norteamérica, 3 = Europa\n",
    "japan = df[df[\"Region\"] == 1][\"MPG\"]\n",
    "na = df[df[\"Region\"] == 2][\"MPG\"]\n",
    "eu = df[df[\"Region\"] == 3][\"MPG\"]\n",
    "\n",
    "print(\"\\n---  Datos de Japon ---\")\n",
    "print(japan.head(10))\n",
    "print(\"\\n---  Datos de Norteamérica ---\")\n",
    "print(na.head(10))\n",
    "print(\"\\n---  Datos de Europa ---\")\n",
    "print(eu.head(10))"
   ]
  },
  {
   "cell_type": "markdown",
   "id": "9e085ca2",
   "metadata": {},
   "source": [
    "Ahora calculamos lo siguiente: \n",
    "\n",
    "**Mínimo**\n",
    "\n",
    "Definición:\n",
    "\n",
    "$$\n",
    "x^*_{\\text{min}} = \\min(x_1, x_2, \\dots, x_n)\n",
    "$$\n",
    "\n",
    "---\n",
    "\n",
    "**Máximo**\n",
    "\n",
    "Definición:\n",
    "\n",
    "$$\n",
    "x^*_{\\text{max}} = \\max(x_1, x_2, \\dots, x_n)\n",
    "$$"
   ]
  },
  {
   "cell_type": "code",
   "execution_count": 10,
   "id": "6cdeff92",
   "metadata": {},
   "outputs": [
    {
     "name": "stdout",
     "output_type": "stream",
     "text": [
      "Japón -> Min: 12 , Max: 34\n",
      "Norteamérica -> Min: 14 , Max: 41\n",
      "Europa -> Min: 18 , Max: 35\n"
     ]
    }
   ],
   "source": [
    "print(\"Japón -> Min:\", japan.min(), \", Max:\", japan.max())\n",
    "print(\"Norteamérica -> Min:\", na.min(), \", Max:\", na.max())\n",
    "print(\"Europa -> Min:\", eu.min(), \", Max:\", eu.max())"
   ]
  },
  {
   "cell_type": "markdown",
   "id": "736a800f",
   "metadata": {},
   "source": [
    "**Mediana**\n",
    "$$\n",
    "M = \n",
    "\\begin{cases} \n",
    "x_{\\frac{n+1}{2}}, & \\text{si } n \\text{ es impar}, \\\\[8pt]\n",
    "\\displaystyle\\frac{x_{\\frac{n}{2}} + x_{\\frac{n}{2}+1}}{2}, & \\text{si } n \\text{ es par}.\n",
    "\\end{cases}\n",
    "$$"
   ]
  },
  {
   "cell_type": "code",
   "execution_count": 11,
   "id": "ddffbea2",
   "metadata": {},
   "outputs": [
    {
     "name": "stdout",
     "output_type": "stream",
     "text": [
      "Japón -> Mediana: 19.0\n",
      "Norteamérica -> Mediana: 23.0\n",
      "Europa -> Mediana: 25.0\n"
     ]
    }
   ],
   "source": [
    "print(\"Japón -> Mediana:\", japan.median())\n",
    "print(\"Norteamérica -> Mediana:\", na.median())\n",
    "print(\"Europa -> Mediana:\", eu.median())\n"
   ]
  },
  {
   "cell_type": "markdown",
   "id": "0772530a",
   "metadata": {},
   "source": [
    "**Primer y tercer cuartil:**\n",
    "\n",
    "$$\n",
    "Q_1 = x_{0.25}, \\qquad Q_3 = x_{0.75}\n",
    "$$"
   ]
  },
  {
   "cell_type": "code",
   "execution_count": 12,
   "id": "a77d5ce6",
   "metadata": {},
   "outputs": [
    {
     "name": "stdout",
     "output_type": "stream",
     "text": [
      "Japón -> Q1: 16.75 , Q3: 22.0\n",
      "Norteamérica -> Q1: 19.0 , Q3: 25.0\n",
      "Europa -> Q1: 22.0 , Q3: 30.5\n"
     ]
    }
   ],
   "source": [
    "print(\"Japón -> Q1:\", japan.quantile(0.25), \", Q3:\", japan.quantile(0.75))\n",
    "print(\"Norteamérica -> Q1:\", na.quantile(0.25), \", Q3:\", na.quantile(0.75))\n",
    "print(\"Europa -> Q1:\", eu.quantile(0.25), \", Q3:\", eu.quantile(0.75))"
   ]
  },
  {
   "cell_type": "markdown",
   "id": "cb56318e",
   "metadata": {},
   "source": [
    "**Rango intercuartílico (IQR):**\n",
    "$$\n",
    "\\mathrm{IQR} = Q_3 - Q_1\n",
    "$$"
   ]
  },
  {
   "cell_type": "markdown",
   "id": "c0e70ef4",
   "metadata": {},
   "source": [
    "**Límite inferior:**\n",
    "\n",
    "$$\n",
    "bL = Q_1 - 1.5\\cdot \\mathrm{IQR}\n",
    "$$\n",
    "\n",
    "**Límite superior:**\n",
    "\n",
    "$$\n",
    "bU = Q_3 + 1.5\\cdot \\mathrm{IQR}\n",
    "$$"
   ]
  },
  {
   "cell_type": "code",
   "execution_count": 13,
   "id": "b65aa1b0",
   "metadata": {},
   "outputs": [
    {
     "name": "stdout",
     "output_type": "stream",
     "text": [
      "Japón -> Límites: (np.float64(8.875), np.float64(29.875))\n",
      "Norteamérica -> Límites: (np.float64(10.0), np.float64(34.0))\n",
      "Europa -> Límites: (np.float64(9.25), np.float64(43.25))\n"
     ]
    }
   ],
   "source": [
    "def limits(series):\n",
    "    q1 = series.quantile(0.25)\n",
    "    q3 = series.quantile(0.75)\n",
    "    iqr = q3 - q1\n",
    "    bL = q1 - 1.5*iqr\n",
    "    bU = q3 + 1.5*iqr\n",
    "    return bL, bU\n",
    "\n",
    "print(\"Japón -> Límites:\", limits(japan))\n",
    "print(\"Norteamérica -> Límites:\", limits(na))\n",
    "print(\"Europa -> Límites:\", limits(eu))"
   ]
  },
  {
   "cell_type": "markdown",
   "id": "e0f7b488",
   "metadata": {},
   "source": [
    "**Media aritmética:**\n",
    "\n",
    "$$\n",
    "\\bar{x} = \\frac{1}{n} \\sum_{i=1}^{n} x_i\n",
    "$$"
   ]
  },
  {
   "cell_type": "code",
   "execution_count": 14,
   "id": "b1860e3b",
   "metadata": {},
   "outputs": [
    {
     "name": "stdout",
     "output_type": "stream",
     "text": [
      "Japón -> Media: 19.826923076923077\n",
      "Norteamérica -> Media: 23.545454545454547\n",
      "Europa -> Media: 26.181818181818183\n"
     ]
    }
   ],
   "source": [
    "print(\"Japón -> Media:\", japan.mean())\n",
    "print(\"Norteamérica -> Media:\", na.mean())\n",
    "print(\"Europa -> Media:\", eu.mean())"
   ]
  },
  {
   "cell_type": "markdown",
   "id": "859745f5",
   "metadata": {},
   "source": [
    "**Boxplot**"
   ]
  },
  {
   "cell_type": "code",
   "execution_count": 15,
   "id": "2ec48202",
   "metadata": {},
   "outputs": [
    {
     "data": {
      "text/plain": [
       "<Figure size 800x600 with 0 Axes>"
      ]
     },
     "metadata": {},
     "output_type": "display_data"
    },
    {
     "data": {
      "image/png": "[encoded data removed]",
      "text/plain": [
       "<Figure size 640x480 with 1 Axes>"
      ]
     },
     "metadata": {},
     "output_type": "display_data"
    }
   ],
   "source": [
    "import matplotlib.pyplot as plt\n",
    "\n",
    "plt.figure(figsize=(8,6))\n",
    "df.boxplot(column=\"MPG\", by=\"Region\", grid=False)\n",
    "plt.title(\"Diagrama de cajas: Millas por galón por región\")\n",
    "plt.suptitle(\"\")\n",
    "plt.xlabel(\"Región (1=Japón, 2=Norteamérica, 3=Europa)\")\n",
    "plt.ylabel(\"Millas por galón (MPG)\")\n",
    "plt.show()"
   ]
  }
 ],
 "metadata": {
  "kernelspec": {
   "display_name": "Python 3",
   "language": "python",
   "name": "python3"
  },
  "language_info": {
   "codemirror_mode": {
    "name": "ipython",
    "version": 3
   },
   "file_extension": ".py",
   "mimetype": "text/x-python",
   "name": "python",
   "nbconvert_exporter": "python",
   "pygments_lexer": "ipython3",
   "version": "3.13.0"
  }
 },
 "nbformat": 4,
 "nbformat_minor": 5
}
