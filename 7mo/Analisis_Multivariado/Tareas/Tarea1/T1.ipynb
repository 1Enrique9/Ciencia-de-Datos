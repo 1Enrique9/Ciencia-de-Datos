{
 "cells": [
  {
   "cell_type": "markdown",
   "id": "435a4aaf",
   "metadata": {},
   "source": [
    "# Ejercicio 1 (Carros)"
   ]
  },
  {
   "cell_type": "markdown",
   "id": "c2b12303",
   "metadata": {},
   "source": [
    "Primero carguemos los datos y veamos los datos con los que contamos"
   ]
  },
  {
   "cell_type": "code",
   "execution_count": null,
   "id": "a2ff7f2a",
   "metadata": {},
   "outputs": [
    {
     "data": {
      "text/html": [
       "<div>\n",
       "<style scoped>\n",
       "    .dataframe tbody tr th:only-of-type {\n",
       "        vertical-align: middle;\n",
       "    }\n",
       "\n",
       "    .dataframe tbody tr th {\n",
       "        vertical-align: top;\n",
       "    }\n",
       "\n",
       "    .dataframe thead th {\n",
       "        text-align: right;\n",
       "    }\n",
       "</style>\n",
       "<table border=\"1\" class=\"dataframe\">\n",
       "  <thead>\n",
       "    <tr style=\"text-align: right;\">\n",
       "      <th></th>\n",
       "      <th>Region</th>\n",
       "      <th>MPG</th>\n",
       "    </tr>\n",
       "  </thead>\n",
       "  <tbody>\n",
       "    <tr>\n",
       "      <th>0</th>\n",
       "      <td>1</td>\n",
       "      <td>22</td>\n",
       "    </tr>\n",
       "    <tr>\n",
       "      <th>1</th>\n",
       "      <td>1</td>\n",
       "      <td>17</td>\n",
       "    </tr>\n",
       "    <tr>\n",
       "      <th>2</th>\n",
       "      <td>1</td>\n",
       "      <td>22</td>\n",
       "    </tr>\n",
       "    <tr>\n",
       "      <th>3</th>\n",
       "      <td>2</td>\n",
       "      <td>17</td>\n",
       "    </tr>\n",
       "    <tr>\n",
       "      <th>4</th>\n",
       "      <td>2</td>\n",
       "      <td>23</td>\n",
       "    </tr>\n",
       "    <tr>\n",
       "      <th>5</th>\n",
       "      <td>2</td>\n",
       "      <td>25</td>\n",
       "    </tr>\n",
       "    <tr>\n",
       "      <th>6</th>\n",
       "      <td>1</td>\n",
       "      <td>20</td>\n",
       "    </tr>\n",
       "    <tr>\n",
       "      <th>7</th>\n",
       "      <td>1</td>\n",
       "      <td>15</td>\n",
       "    </tr>\n",
       "    <tr>\n",
       "      <th>8</th>\n",
       "      <td>1</td>\n",
       "      <td>18</td>\n",
       "    </tr>\n",
       "    <tr>\n",
       "      <th>9</th>\n",
       "      <td>1</td>\n",
       "      <td>26</td>\n",
       "    </tr>\n",
       "  </tbody>\n",
       "</table>\n",
       "</div>"
      ],
      "text/plain": [
       "   Region  MPG\n",
       "0       1   22\n",
       "1       1   17\n",
       "2       1   22\n",
       "3       2   17\n",
       "4       2   23\n",
       "5       2   25\n",
       "6       1   20\n",
       "7       1   15\n",
       "8       1   18\n",
       "9       1   26"
      ]
     },
     "execution_count": 2,
     "metadata": {},
     "output_type": "execute_result"
    }
   ],
   "source": [
    "import pandas as pd\n",
    "\n",
    "# Cargar el archivo\n",
    "file_path = \"carc B.txt\"\n",
    "df = pd.read_csv(file_path, sep=\" \", header=None, names=[\"Region\", \"MPG\"])\n",
    "\n",
    "df.head(10)\n"
   ]
  },
  {
   "cell_type": "markdown",
   "id": "44742cfa",
   "metadata": {},
   "source": [
    "Procedemos a ordenar los dato, pero sobre la columna de MPG, para ver los minimos y los maximos . Ademas encontar otras estadisticas"
   ]
  },
  {
   "cell_type": "code",
   "execution_count": 3,
   "id": "15b95f3d",
   "metadata": {},
   "outputs": [
    {
     "data": {
      "text/html": [
       "<div>\n",
       "<style scoped>\n",
       "    .dataframe tbody tr th:only-of-type {\n",
       "        vertical-align: middle;\n",
       "    }\n",
       "\n",
       "    .dataframe tbody tr th {\n",
       "        vertical-align: top;\n",
       "    }\n",
       "\n",
       "    .dataframe thead th {\n",
       "        text-align: right;\n",
       "    }\n",
       "</style>\n",
       "<table border=\"1\" class=\"dataframe\">\n",
       "  <thead>\n",
       "    <tr style=\"text-align: right;\">\n",
       "      <th></th>\n",
       "      <th>Region</th>\n",
       "      <th>MPG</th>\n",
       "    </tr>\n",
       "  </thead>\n",
       "  <tbody>\n",
       "    <tr>\n",
       "      <th>0</th>\n",
       "      <td>1</td>\n",
       "      <td>12</td>\n",
       "    </tr>\n",
       "    <tr>\n",
       "      <th>1</th>\n",
       "      <td>1</td>\n",
       "      <td>12</td>\n",
       "    </tr>\n",
       "    <tr>\n",
       "      <th>2</th>\n",
       "      <td>1</td>\n",
       "      <td>14</td>\n",
       "    </tr>\n",
       "    <tr>\n",
       "      <th>3</th>\n",
       "      <td>1</td>\n",
       "      <td>14</td>\n",
       "    </tr>\n",
       "    <tr>\n",
       "      <th>4</th>\n",
       "      <td>1</td>\n",
       "      <td>14</td>\n",
       "    </tr>\n",
       "    <tr>\n",
       "      <th>...</th>\n",
       "      <td>...</td>\n",
       "      <td>...</td>\n",
       "    </tr>\n",
       "    <tr>\n",
       "      <th>69</th>\n",
       "      <td>3</td>\n",
       "      <td>28</td>\n",
       "    </tr>\n",
       "    <tr>\n",
       "      <th>70</th>\n",
       "      <td>3</td>\n",
       "      <td>30</td>\n",
       "    </tr>\n",
       "    <tr>\n",
       "      <th>71</th>\n",
       "      <td>3</td>\n",
       "      <td>31</td>\n",
       "    </tr>\n",
       "    <tr>\n",
       "      <th>72</th>\n",
       "      <td>3</td>\n",
       "      <td>35</td>\n",
       "    </tr>\n",
       "    <tr>\n",
       "      <th>73</th>\n",
       "      <td>3</td>\n",
       "      <td>35</td>\n",
       "    </tr>\n",
       "  </tbody>\n",
       "</table>\n",
       "<p>74 rows × 2 columns</p>\n",
       "</div>"
      ],
      "text/plain": [
       "    Region  MPG\n",
       "0        1   12\n",
       "1        1   12\n",
       "2        1   14\n",
       "3        1   14\n",
       "4        1   14\n",
       "..     ...  ...\n",
       "69       3   28\n",
       "70       3   30\n",
       "71       3   31\n",
       "72       3   35\n",
       "73       3   35\n",
       "\n",
       "[74 rows x 2 columns]"
      ]
     },
     "execution_count": 3,
     "metadata": {},
     "output_type": "execute_result"
    }
   ],
   "source": [
    "df_sorted = df.sort_values(by=[\"Region\", \"MPG\"]).reset_index(drop=True)\n",
    "df_sorted"
   ]
  },
  {
   "cell_type": "markdown",
   "id": "587f9e8c",
   "metadata": {},
   "source": [
    "Ahora dividimos los datos por región donde 1 = Japón, 2 = Norteamérica, 3 = Europa"
   ]
  },
  {
   "cell_type": "code",
   "execution_count": 9,
   "id": "a11079bc",
   "metadata": {},
   "outputs": [
    {
     "name": "stdout",
     "output_type": "stream",
     "text": [
      "\n",
      "---  Datos de Japon ---\n",
      "0     22\n",
      "1     17\n",
      "2     22\n",
      "6     20\n",
      "7     15\n",
      "8     18\n",
      "9     26\n",
      "10    20\n",
      "11    16\n",
      "12    19\n",
      "Name: MPG, dtype: int64\n",
      "\n",
      "---  Datos de Norteamérica ---\n",
      "3     17\n",
      "4     23\n",
      "5     25\n",
      "30    21\n",
      "52    14\n",
      "64    28\n",
      "69    25\n",
      "70    41\n",
      "71    25\n",
      "72    23\n",
      "Name: MPG, dtype: int64\n",
      "\n",
      "---  Datos de Europa ---\n",
      "22    23\n",
      "23    35\n",
      "24    24\n",
      "25    21\n",
      "33    25\n",
      "34    28\n",
      "38    30\n",
      "65    35\n",
      "66    18\n",
      "67    31\n",
      "Name: MPG, dtype: int64\n"
     ]
    }
   ],
   "source": [
    "# 1 = Japón, 2 = Norteamérica, 3 = Europa\n",
    "japan = df[df[\"Region\"] == 1][\"MPG\"]\n",
    "na = df[df[\"Region\"] == 2][\"MPG\"]\n",
    "eu = df[df[\"Region\"] == 3][\"MPG\"]\n",
    "\n",
    "print(\"\\n---  Datos de Japon ---\")\n",
    "print(japan.head(10))\n",
    "print(\"\\n---  Datos de Norteamérica ---\")\n",
    "print(na.head(10))\n",
    "print(\"\\n---  Datos de Europa ---\")\n",
    "print(eu.head(10))"
   ]
  },
  {
   "cell_type": "markdown",
   "id": "9e085ca2",
   "metadata": {},
   "source": [
    "Ahora calculamos lo siguiente: \n",
    "\n",
    "**Mínimo**\n",
    "\n",
    "Definición:\n",
    "\n",
    "$$\n",
    "x^*_{\\text{min}} = \\min(x_1, x_2, \\dots, x_n)\n",
    "$$\n",
    "\n",
    "---\n",
    "\n",
    "**Máximo**\n",
    "\n",
    "Definición:\n",
    "\n",
    "$$\n",
    "x^*_{\\text{max}} = \\max(x_1, x_2, \\dots, x_n)\n",
    "$$"
   ]
  },
  {
   "cell_type": "code",
   "execution_count": 10,
   "id": "6cdeff92",
   "metadata": {},
   "outputs": [
    {
     "name": "stdout",
     "output_type": "stream",
     "text": [
      "Japón -> Min: 12 , Max: 34\n",
      "Norteamérica -> Min: 14 , Max: 41\n",
      "Europa -> Min: 18 , Max: 35\n"
     ]
    }
   ],
   "source": [
    "print(\"Japón -> Min:\", japan.min(), \", Max:\", japan.max())\n",
    "print(\"Norteamérica -> Min:\", na.min(), \", Max:\", na.max())\n",
    "print(\"Europa -> Min:\", eu.min(), \", Max:\", eu.max())"
   ]
  },
  {
   "cell_type": "markdown",
   "id": "736a800f",
   "metadata": {},
   "source": [
    "**Mediana**\n",
    "$$\n",
    "M = \n",
    "\\begin{cases} \n",
    "x_{\\frac{n+1}{2}}, & \\text{si } n \\text{ es impar}, \\\\[8pt]\n",
    "\\displaystyle\\frac{x_{\\frac{n}{2}} + x_{\\frac{n}{2}+1}}{2}, & \\text{si } n \\text{ es par}.\n",
    "\\end{cases}\n",
    "$$"
   ]
  },
  {
   "cell_type": "code",
   "execution_count": 11,
   "id": "ddffbea2",
   "metadata": {},
   "outputs": [
    {
     "name": "stdout",
     "output_type": "stream",
     "text": [
      "Japón -> Mediana: 19.0\n",
      "Norteamérica -> Mediana: 23.0\n",
      "Europa -> Mediana: 25.0\n"
     ]
    }
   ],
   "source": [
    "print(\"Japón -> Mediana:\", japan.median())\n",
    "print(\"Norteamérica -> Mediana:\", na.median())\n",
    "print(\"Europa -> Mediana:\", eu.median())\n"
   ]
  },
  {
   "cell_type": "markdown",
   "id": "0772530a",
   "metadata": {},
   "source": [
    "**Primer y tercer cuartil:**\n",
    "\n",
    "$$\n",
    "Q_1 = x_{0.25}, \\qquad Q_3 = x_{0.75}\n",
    "$$"
   ]
  },
  {
   "cell_type": "code",
   "execution_count": 12,
   "id": "a77d5ce6",
   "metadata": {},
   "outputs": [
    {
     "name": "stdout",
     "output_type": "stream",
     "text": [
      "Japón -> Q1: 16.75 , Q3: 22.0\n",
      "Norteamérica -> Q1: 19.0 , Q3: 25.0\n",
      "Europa -> Q1: 22.0 , Q3: 30.5\n"
     ]
    }
   ],
   "source": [
    "print(\"Japón -> Q1:\", japan.quantile(0.25), \", Q3:\", japan.quantile(0.75))\n",
    "print(\"Norteamérica -> Q1:\", na.quantile(0.25), \", Q3:\", na.quantile(0.75))\n",
    "print(\"Europa -> Q1:\", eu.quantile(0.25), \", Q3:\", eu.quantile(0.75))"
   ]
  },
  {
   "cell_type": "markdown",
   "id": "cb56318e",
   "metadata": {},
   "source": [
    "**Rango intercuartílico (IQR):**\n",
    "$$\n",
    "\\mathrm{IQR} = Q_3 - Q_1\n",
    "$$"
   ]
  },
  {
   "cell_type": "markdown",
   "id": "c0e70ef4",
   "metadata": {},
   "source": [
    "**Límite inferior:**\n",
    "\n",
    "$$\n",
    "bL = Q_1 - 1.5\\cdot \\mathrm{IQR}\n",
    "$$\n",
    "\n",
    "**Límite superior:**\n",
    "\n",
    "$$\n",
    "bU = Q_3 + 1.5\\cdot \\mathrm{IQR}\n",
    "$$"
   ]
  },
  {
   "cell_type": "code",
   "execution_count": 13,
   "id": "b65aa1b0",
   "metadata": {},
   "outputs": [
    {
     "name": "stdout",
     "output_type": "stream",
     "text": [
      "Japón -> Límites: (np.float64(8.875), np.float64(29.875))\n",
      "Norteamérica -> Límites: (np.float64(10.0), np.float64(34.0))\n",
      "Europa -> Límites: (np.float64(9.25), np.float64(43.25))\n"
     ]
    }
   ],
   "source": [
    "def limits(series):\n",
    "    q1 = series.quantile(0.25)\n",
    "    q3 = series.quantile(0.75)\n",
    "    iqr = q3 - q1\n",
    "    bL = q1 - 1.5*iqr\n",
    "    bU = q3 + 1.5*iqr\n",
    "    return bL, bU\n",
    "\n",
    "print(\"Japón -> Límites:\", limits(japan))\n",
    "print(\"Norteamérica -> Límites:\", limits(na))\n",
    "print(\"Europa -> Límites:\", limits(eu))"
   ]
  },
  {
   "cell_type": "markdown",
   "id": "e0f7b488",
   "metadata": {},
   "source": [
    "**Media aritmética:**\n",
    "\n",
    "$$\n",
    "\\bar{x} = \\frac{1}{n} \\sum_{i=1}^{n} x_i\n",
    "$$"
   ]
  },
  {
   "cell_type": "code",
   "execution_count": 14,
   "id": "b1860e3b",
   "metadata": {},
   "outputs": [
    {
     "name": "stdout",
     "output_type": "stream",
     "text": [
      "Japón -> Media: 19.826923076923077\n",
      "Norteamérica -> Media: 23.545454545454547\n",
      "Europa -> Media: 26.181818181818183\n"
     ]
    }
   ],
   "source": [
    "print(\"Japón -> Media:\", japan.mean())\n",
    "print(\"Norteamérica -> Media:\", na.mean())\n",
    "print(\"Europa -> Media:\", eu.mean())"
   ]
  },
  {
   "cell_type": "markdown",
   "id": "859745f5",
   "metadata": {},
   "source": [
    "**Boxplot**"
   ]
  },
  {
   "cell_type": "code",
   "execution_count": 15,
   "id": "2ec48202",
   "metadata": {},
   "outputs": [
    {
     "data": {
      "text/plain": [
       "<Figure size 800x600 with 0 Axes>"
      ]
     },
     "metadata": {},
     "output_type": "display_data"
    },
    {
     "data": {
      "image/png": "[encoded data removed]",
      "text/plain": [
       "<Figure size 640x480 with 1 Axes>"
      ]
     },
     "metadata": {},
     "output_type": "display_data"
    }
   ],
   "source": [
    "import matplotlib.pyplot as plt\n",
    "\n",
    "plt.figure(figsize=(8,6))\n",
    "df.boxplot(column=\"MPG\", by=\"Region\", grid=False)\n",
    "plt.title(\"Diagrama de cajas: Millas por galón por región\")\n",
    "plt.suptitle(\"\")\n",
    "plt.xlabel(\"Región (1=Japón, 2=Norteamérica, 3=Europa)\")\n",
    "plt.ylabel(\"Millas por galón (MPG)\")\n",
    "plt.show()"
   ]
  },
  {
   "cell_type": "markdown",
   "id": "d17f0f1d",
   "metadata": {},
   "source": [
    "# Ejercicio 2 (Billetes)"
   ]
  },
  {
   "cell_type": "code",
   "execution_count": 1,
   "id": "05f99789",
   "metadata": {},
   "outputs": [
    {
     "data": {
      "text/html": [
       "<div>\n",
       "<style scoped>\n",
       "    .dataframe tbody tr th:only-of-type {\n",
       "        vertical-align: middle;\n",
       "    }\n",
       "\n",
       "    .dataframe tbody tr th {\n",
       "        vertical-align: top;\n",
       "    }\n",
       "\n",
       "    .dataframe thead th {\n",
       "        text-align: right;\n",
       "    }\n",
       "</style>\n",
       "<table border=\"1\" class=\"dataframe\">\n",
       "  <thead>\n",
       "    <tr style=\"text-align: right;\">\n",
       "      <th></th>\n",
       "      <th>X1</th>\n",
       "      <th>X2</th>\n",
       "      <th>X3</th>\n",
       "      <th>X4</th>\n",
       "      <th>X5</th>\n",
       "      <th>X6</th>\n",
       "    </tr>\n",
       "  </thead>\n",
       "  <tbody>\n",
       "    <tr>\n",
       "      <th>0</th>\n",
       "      <td>214.8</td>\n",
       "      <td>131.0</td>\n",
       "      <td>131.1</td>\n",
       "      <td>9.0</td>\n",
       "      <td>9.7</td>\n",
       "      <td>141.0</td>\n",
       "    </tr>\n",
       "    <tr>\n",
       "      <th>1</th>\n",
       "      <td>214.6</td>\n",
       "      <td>129.7</td>\n",
       "      <td>129.7</td>\n",
       "      <td>8.1</td>\n",
       "      <td>9.5</td>\n",
       "      <td>141.7</td>\n",
       "    </tr>\n",
       "    <tr>\n",
       "      <th>2</th>\n",
       "      <td>214.8</td>\n",
       "      <td>129.7</td>\n",
       "      <td>129.7</td>\n",
       "      <td>8.7</td>\n",
       "      <td>9.6</td>\n",
       "      <td>142.2</td>\n",
       "    </tr>\n",
       "    <tr>\n",
       "      <th>3</th>\n",
       "      <td>214.8</td>\n",
       "      <td>129.7</td>\n",
       "      <td>129.6</td>\n",
       "      <td>7.5</td>\n",
       "      <td>10.4</td>\n",
       "      <td>142.0</td>\n",
       "    </tr>\n",
       "    <tr>\n",
       "      <th>4</th>\n",
       "      <td>215.0</td>\n",
       "      <td>129.6</td>\n",
       "      <td>129.7</td>\n",
       "      <td>10.4</td>\n",
       "      <td>7.7</td>\n",
       "      <td>141.8</td>\n",
       "    </tr>\n",
       "  </tbody>\n",
       "</table>\n",
       "</div>"
      ],
      "text/plain": [
       "      X1     X2     X3    X4    X5     X6\n",
       "0  214.8  131.0  131.1   9.0   9.7  141.0\n",
       "1  214.6  129.7  129.7   8.1   9.5  141.7\n",
       "2  214.8  129.7  129.7   8.7   9.6  142.2\n",
       "3  214.8  129.7  129.6   7.5  10.4  142.0\n",
       "4  215.0  129.6  129.7  10.4   7.7  141.8"
      ]
     },
     "execution_count": 1,
     "metadata": {},
     "output_type": "execute_result"
    }
   ],
   "source": [
    "import pandas as pd\n",
    "\n",
    "# Cargamos el archivo \n",
    "file_path = \"SwissBank 1.txt\"\n",
    "df = pd.read_csv(file_path, sep=\"\\t| \", engine=\"python\", header=None)\n",
    "\n",
    "# Renombrar columnas \n",
    "df.columns = [\"X1\",\"X2\",\"X3\",\"X4\",\"X5\",\"X6\"]\n",
    "\n",
    "df.head()"
   ]
  },
  {
   "cell_type": "code",
   "execution_count": 2,
   "id": "7d61d338",
   "metadata": {},
   "outputs": [
    {
     "data": {
      "text/plain": [
       "(      X1     X2     X3    X4    X5     X6\n",
       " 0  214.8  131.0  131.1   9.0   9.7  141.0\n",
       " 1  214.6  129.7  129.7   8.1   9.5  141.7\n",
       " 2  214.8  129.7  129.7   8.7   9.6  142.2\n",
       " 3  214.8  129.7  129.6   7.5  10.4  142.0\n",
       " 4  215.0  129.6  129.7  10.4   7.7  141.8,\n",
       "         X1     X2     X3    X4    X5     X6\n",
       " 100  214.4  130.1  130.3   9.7  11.7  139.8\n",
       " 101  214.9  130.5  130.2  11.0  11.5  139.5\n",
       " 102  214.9  130.3  130.1   8.7  11.7  140.2\n",
       " 103  215.0  130.4  130.6   9.9  10.9  140.3\n",
       " 104  214.7  130.2  130.3  11.8  10.9  139.7)"
      ]
     },
     "execution_count": 2,
     "metadata": {},
     "output_type": "execute_result"
    }
   ],
   "source": [
    "# Supongamos: primeras 100 filas genuinos, últimas 100 falsos\n",
    "genuinos = df.iloc[:100, :]\n",
    "falsos = df.iloc[100:, :]\n",
    "\n",
    "genuinos.head(), falsos.head()"
   ]
  },
  {
   "cell_type": "markdown",
   "id": "e2ad527e",
   "metadata": {},
   "source": [
    "Boxplot de x1"
   ]
  },
  {
   "cell_type": "code",
   "execution_count": 3,
   "id": "425984c3",
   "metadata": {},
   "outputs": [
    {
     "name": "stderr",
     "output_type": "stream",
     "text": [
      "C:\\Users\\ENRIQUE\\AppData\\Local\\Temp\\ipykernel_31600\\1867850526.py:4: MatplotlibDeprecationWarning: The 'labels' parameter of boxplot() has been renamed 'tick_labels' since Matplotlib 3.9; support for the old name will be dropped in 3.11.\n",
      "  plt.boxplot([genuinos[\"X1\"], falsos[\"X1\"]], labels=[\"Genuinos\",\"Falsos\"])\n"
     ]
    },
    {
     "data": {
      "image/png": "[encoded data removed]",
      "text/plain": [
       "<Figure size 700x600 with 1 Axes>"
      ]
     },
     "metadata": {},
     "output_type": "display_data"
    }
   ],
   "source": [
    "import matplotlib.pyplot as plt\n",
    "\n",
    "plt.figure(figsize=(7,6))\n",
    "plt.boxplot([genuinos[\"X1\"], falsos[\"X1\"]], labels=[\"Genuinos\",\"Falsos\"])\n",
    "plt.title(\"Diagrama de cajas - X1\")\n",
    "plt.ylabel(\"Valor de X1\")\n",
    "plt.show()\n"
   ]
  },
  {
   "cell_type": "markdown",
   "id": "08711985",
   "metadata": {},
   "source": [
    "Estadistcias a observar "
   ]
  },
  {
   "cell_type": "code",
   "execution_count": 4,
   "id": "1108e459",
   "metadata": {},
   "outputs": [],
   "source": [
    "def stats(series):\n",
    "    q1 = series.quantile(0.25)\n",
    "    q3 = series.quantile(0.75)\n",
    "    iqr = q3 - q1\n",
    "    return {\n",
    "        \"M (mediana)\": series.median(),\n",
    "        \"Q1 (FL)\": q1,\n",
    "        \"Q3 (FU)\": q3,\n",
    "        \"Límite inferior (bL)\": q1 - 1.5*iqr,\n",
    "        \"Límite superior (bU)\": q3 + 1.5*iqr,\n",
    "        \"Mínimo\": series.min(),\n",
    "        \"Máximo\": series.max(),\n",
    "        \"Media\": series.mean()\n",
    "    }"
   ]
  },
  {
   "cell_type": "markdown",
   "id": "0134a091",
   "metadata": {},
   "source": [
    "Calculamos sobre $$X_6$$ lo siguiente toamndo en cuenta las formulas de : \n",
    "\n",
    "**Mediana:**\n",
    "\n",
    "$$\n",
    "M = \n",
    "\\begin{cases} \n",
    "x_{\\frac{n+1}{2}}, & n \\text{ impar} \\\\[6pt]\n",
    "\\frac{x_{\\frac{n}{2}} + x_{\\frac{n}{2}+1}}{2}, & n \\text{ par}\n",
    "\\end{cases}\n",
    "$$\n",
    "\n",
    "**Cuartiles:**\n",
    "\n",
    "$$\n",
    "Q_1 = x_{0.25}, \\qquad Q_3 = x_{0.75}\n",
    "$$\n",
    "\n",
    "**Rango intercuartílico:**\n",
    "\n",
    "$$\n",
    "IQR = Q_3 - Q_1\n",
    "$$\n",
    "\n",
    "**Límites:**\n",
    "\n",
    "$$\n",
    "bL = Q_1 - 1.5\\cdot IQR, \\qquad bU = Q_3 + 1.5\\cdot IQR\n",
    "$$\n",
    "\n",
    "**Media:**\n",
    "\n",
    "$$\n",
    "\\bar{x} = \\frac{1}{n}\\sum_{i=1}^n x_i\n",
    "$$\n"
   ]
  },
  {
   "cell_type": "code",
   "execution_count": 5,
   "id": "037b76e9",
   "metadata": {},
   "outputs": [
    {
     "name": "stdout",
     "output_type": "stream",
     "text": [
      "Estadísticas X6 - Genuinos\n",
      "{'M (mediana)': np.float64(141.5), 'Q1 (FL)': np.float64(141.2), 'Q3 (FU)': np.float64(141.8), 'Límite inferior (bL)': np.float64(140.29999999999995), 'Límite superior (bU)': np.float64(142.70000000000005), 'Mínimo': np.float64(139.6), 'Máximo': np.float64(142.4), 'Media': np.float64(141.51700000000002)}\n",
      "\n",
      "Estadísticas X6 - Falsos\n",
      "{'M (mediana)': np.float64(139.5), 'Q1 (FL)': np.float64(139.2), 'Q3 (FU)': np.float64(139.8), 'Límite inferior (bL)': np.float64(138.29999999999995), 'Límite superior (bU)': np.float64(140.70000000000005), 'Mínimo': np.float64(137.8), 'Máximo': np.float64(140.6), 'Media': np.float64(139.45)}\n"
     ]
    }
   ],
   "source": [
    "print(\"Estadísticas X6 - Genuinos\")\n",
    "print(stats(genuinos[\"X6\"]))\n",
    "\n",
    "print(\"\\nEstadísticas X6 - Falsos\")\n",
    "print(stats(falsos[\"X6\"]))"
   ]
  },
  {
   "cell_type": "markdown",
   "id": "2ae4e677",
   "metadata": {},
   "source": [
    "Boxplot de $$X_6$$"
   ]
  },
  {
   "cell_type": "code",
   "execution_count": 6,
   "id": "507cbde1",
   "metadata": {},
   "outputs": [
    {
     "name": "stderr",
     "output_type": "stream",
     "text": [
      "C:\\Users\\ENRIQUE\\AppData\\Local\\Temp\\ipykernel_31600\\670479829.py:2: MatplotlibDeprecationWarning: The 'labels' parameter of boxplot() has been renamed 'tick_labels' since Matplotlib 3.9; support for the old name will be dropped in 3.11.\n",
      "  plt.boxplot([genuinos[\"X6\"], falsos[\"X6\"]], labels=[\"Genuinos\",\"Falsos\"])\n"
     ]
    },
    {
     "data": {
      "image/png": "[encoded data removed]",
      "text/plain": [
       "<Figure size 700x600 with 1 Axes>"
      ]
     },
     "metadata": {},
     "output_type": "display_data"
    }
   ],
   "source": [
    "plt.figure(figsize=(7,6))\n",
    "plt.boxplot([genuinos[\"X6\"], falsos[\"X6\"]], labels=[\"Genuinos\",\"Falsos\"])\n",
    "plt.title(\"Diagrama de cajas - X6\")\n",
    "plt.ylabel(\"Valor de X6\")\n",
    "plt.show()"
   ]
  },
  {
   "cell_type": "markdown",
   "id": "1fbb98c9",
   "metadata": {},
   "source": [
    "- Variable X1: Los elementos genuinos y falsos presentan características muy similares en esta variable. Ambos grupos muestran valores centrales aproximados de 215, con patrones de dispersión comparables. Aunque se identificaron algunos valores atípicos, no existe una diferenciación significativa que permita distinguir claramente entre ambos grupos basándose únicamente en esta variable.\n",
    "\n",
    "- Variable X6: Comparando, esta variable muestra un patrón de separación más definido entre los grupos. Los elementos genuinos presentan valores centrales más elevados (aproximadamente 141.5) con menor variabilidad en sus datos. Por otro lado, los elementos falsos exhiben valores centrales inferiores (alrededor de 139.5) acompañados de mayor dispersión y presencia de valores atípicos.\n",
    "\n",
    "Veamos que los resultados sugieren que la variable X1 no es un indicador confiable para la clasificación entre elementos genuinos y falsos, ya que ambos grupos presentan distribuciones muy similares. Sin embargo, la variable X6 demuestra ser un mejor diferenciador, ya que podemos ver una separación clara entre los grupos, donde los elementos genuinos tienen valores superiores comparados con los falsos."
   ]
  }
 ],
 "metadata": {
  "kernelspec": {
   "display_name": "Python 3",
   "language": "python",
   "name": "python3"
  },
  "language_info": {
   "codemirror_mode": {
    "name": "ipython",
    "version": 3
   },
   "file_extension": ".py",
   "mimetype": "text/x-python",
   "name": "python",
   "nbconvert_exporter": "python",
   "pygments_lexer": "ipython3",
   "version": "3.13.0"
  }
 },
 "nbformat": 4,
 "nbformat_minor": 5
}
