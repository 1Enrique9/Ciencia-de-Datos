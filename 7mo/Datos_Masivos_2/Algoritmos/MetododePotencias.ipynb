{
 "cells": [
  {
   "cell_type": "code",
   "execution_count": 4,
   "id": "2f48fbc2",
   "metadata": {},
   "outputs": [],
   "source": [
    "# CALCULAR LOS VECTORES PROPIOS DE UNA MATRIZ CON EL METODO DE POTENCIAS\n",
    "import numpy as np\n",
    "def potencia(matriz, tolerancia=1e-10, max_iteraciones=15):\n",
    "    n = matriz.shape[0]\n",
    "    # Vector inicial aleatorio\n",
    "    vector = np.random.rand(n)\n",
    "    vector = vector / np.linalg.norm(vector)  # Normalizar el vector\n",
    "    for i in range(max_iteraciones):\n",
    "        # Multiplicar por la matriz\n",
    "        vector_nuevo = np.dot(matriz, vector)\n",
    "        # Normalizar el nuevo vector\n",
    "        vector_nuevo = vector_nuevo / np.linalg.norm(vector_nuevo)\n",
    "        # Comprobar la convergencia\n",
    "        if np.linalg.norm(vector_nuevo - vector) < tolerancia:\n",
    "            break\n",
    "        vector = vector_nuevo\n",
    "    return vector\n",
    "\n",
    "def calcular_valor_propio(matriz, vector):\n",
    "    # Calcular el valor propio correspondiente al vector propio\n",
    "    valor_propio = np.dot(vector, np.dot(matriz, vector)) / np.dot(vector, vector)\n",
    "    return valor_propio"
   ]
  },
  {
   "cell_type": "code",
   "execution_count": 5,
   "id": "e9391b45",
   "metadata": {},
   "outputs": [
    {
     "name": "stdout",
     "output_type": "stream",
     "text": [
      "Vector propio: [0.4472136  0.89442719]\n",
      "Valor propio: 6.999999999999999\n"
     ]
    }
   ],
   "source": [
    "# Ejemplo de uso\n",
    "if __name__ == \"__main__\":\n",
    "    matriz = np.array([[3, 2], [2, 6]])\n",
    "    vector_propio = potencia(matriz)\n",
    "    valor_propio = calcular_valor_propio(matriz, vector_propio)\n",
    "    print(\"Vector propio:\", vector_propio)\n",
    "    print(\"Valor propio:\", valor_propio)"
   ]
  }
 ],
 "metadata": {
  "kernelspec": {
   "display_name": "Python 3",
   "language": "python",
   "name": "python3"
  },
  "language_info": {
   "codemirror_mode": {
    "name": "ipython",
    "version": 3
   },
   "file_extension": ".py",
   "mimetype": "text/x-python",
   "name": "python",
   "nbconvert_exporter": "python",
   "pygments_lexer": "ipython3",
   "version": "3.13.0"
  }
 },
 "nbformat": 4,
 "nbformat_minor": 5
}
