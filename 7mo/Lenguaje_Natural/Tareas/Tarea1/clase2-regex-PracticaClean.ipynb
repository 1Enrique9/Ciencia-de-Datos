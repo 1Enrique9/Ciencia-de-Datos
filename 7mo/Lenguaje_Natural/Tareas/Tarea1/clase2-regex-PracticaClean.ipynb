{
 "cells": [
  {
   "cell_type": "markdown",
   "metadata": {
    "collapsed": true
   },
   "source": [
    "# Expresiones regulares"
   ]
  },
  {
   "cell_type": "markdown",
   "metadata": {
    "collapsed": true
   },
   "source": [
    "## Caso de estudio: Expresiones regulares para fechas\n",
    "\n",
    "### Variaciones de fechas para 23 de Octubre de 2002\n",
    "23-10-2002\n",
    "\n",
    "23/10/2002\n",
    "\n",
    "23/10/02\n",
    "\n",
    "10/23/2002\n",
    "\n",
    "23 Oct 2002\n",
    "\n",
    "23 de Octubre de 2002\n",
    "\n",
    "Oct 23, 2002\n",
    "\n",
    "Octubre 23, 2002"
   ]
  },
  {
   "cell_type": "code",
   "execution_count": 33,
   "metadata": {},
   "outputs": [
    {
     "name": "stdout",
     "output_type": "stream",
     "text": [
      "23-10-002\n",
      "23-10-2002\n",
      "23/10/2002\n",
      "23/10/02\n",
      "10/23/2002\n",
      "23 Oct 2002\n",
      "23 de Octubre de 2002\n",
      "Oct 23, 2002\n",
      "Octubre 23, 2002\n",
      "\n"
     ]
    }
   ],
   "source": [
    "import re\n",
    "dateStr = '23-10-002\\n23-10-2002\\n23/10/2002\\n23/10/02\\n10/23/2002\\n23 Oct 2002\\n23 de Octubre de 2002\\nOct 23, \\\n",
    "2002\\nOctubre 23, 2002\\n'\n",
    "print (dateStr)"
   ]
  },
  {
   "cell_type": "markdown",
   "metadata": {
    "collapsed": true
   },
   "source": [
    "### Primera versión: Expresiones regulares para fechas (números)\n",
    "23-10-002\n",
    "\n",
    "23-10-2002\n",
    "\n",
    "23/10/2002\n",
    "\n",
    "23/10/02\n",
    "\n",
    "10/23/2002"
   ]
  },
  {
   "cell_type": "code",
   "execution_count": 10,
   "metadata": {},
   "outputs": [
    {
     "data": {
      "text/plain": [
       "['23-10-002', '23-10-2002', '23/10/2002', '23/10/02', '10/23/2002']"
      ]
     },
     "execution_count": 10,
     "metadata": {},
     "output_type": "execute_result"
    }
   ],
   "source": []
  },
  {
   "cell_type": "markdown",
   "metadata": {
    "collapsed": true
   },
   "source": [
    "### Agregamos rango de dígitos"
   ]
  },
  {
   "cell_type": "code",
   "execution_count": 31,
   "metadata": {},
   "outputs": [
    {
     "data": {
      "text/plain": [
       "['23-10-2002', '23/10/2002', '23/10/02', '10/23/2002']"
      ]
     },
     "execution_count": 31,
     "metadata": {},
     "output_type": "execute_result"
    }
   ],
   "source": []
  },
  {
   "cell_type": "markdown",
   "metadata": {
    "collapsed": true
   },
   "source": [
    "### Segunda versión: Expresiones regulares para fechas (letras) - Agregamos alternancia\n",
    "\n",
    "23 Oct 2002\n",
    "\n",
    "23 de Octubre de 2002\n",
    "\n",
    "Oct 23, 2002\n",
    "\n",
    "Octubre 23, 2002"
   ]
  },
  {
   "cell_type": "code",
   "execution_count": 14,
   "metadata": {},
   "outputs": [
    {
     "data": {
      "text/plain": [
       "['Oct']"
      ]
     },
     "execution_count": 14,
     "metadata": {},
     "output_type": "execute_result"
    }
   ],
   "source": []
  },
  {
   "cell_type": "markdown",
   "metadata": {
    "collapsed": true
   },
   "source": [
    "### Se agrega ?: para que no capture el grupo"
   ]
  },
  {
   "cell_type": "code",
   "execution_count": 16,
   "metadata": {},
   "outputs": [
    {
     "data": {
      "text/plain": [
       "['23 Oct 2002']"
      ]
     },
     "execution_count": 16,
     "metadata": {},
     "output_type": "execute_result"
    }
   ],
   "source": []
  },
  {
   "cell_type": "markdown",
   "metadata": {
    "collapsed": true
   },
   "source": [
    "### Agregamos la palabra \"de\" opcional"
   ]
  },
  {
   "cell_type": "code",
   "execution_count": 29,
   "metadata": {},
   "outputs": [
    {
     "data": {
      "text/plain": [
       "['23 Oct 2002', '23 de Octubre de 2002']"
      ]
     },
     "execution_count": 29,
     "metadata": {},
     "output_type": "execute_result"
    }
   ],
   "source": []
  },
  {
   "cell_type": "markdown",
   "metadata": {
    "collapsed": true
   },
   "source": [
    "### Cambiamos \\d{2}  por (?:\\d{2} )? para hacerlo opcional, y agregamos (?:\\d{2}, )? para capturar dato del dia al final"
   ]
  },
  {
   "cell_type": "code",
   "execution_count": 30,
   "metadata": {},
   "outputs": [
    {
     "data": {
      "text/plain": [
       "['23 Oct 2002', '23 de Octubre de 2002', 'Oct 23, 2002', 'Octubre 23, 2002']"
      ]
     },
     "execution_count": 30,
     "metadata": {},
     "output_type": "execute_result"
    }
   ],
   "source": []
  },
  {
   "cell_type": "markdown",
   "metadata": {
    "collapsed": true
   },
   "source": [
    "### Tercera versión: ahora tenemos en el día un solo digito, que pasa con nuestras expresiones regulares?\n",
    "\n",
    "1-10-2002\n",
    "\n",
    "1 Oct 2001"
   ]
  },
  {
   "cell_type": "code",
   "execution_count": 34,
   "metadata": {},
   "outputs": [
    {
     "name": "stdout",
     "output_type": "stream",
     "text": [
      "23-10-002\n",
      "23-10-2002\n",
      "23/10/2002\n",
      "23/10/02\n",
      "10/23/2002\n",
      "23 Oct 2002\n",
      "23 de Octubre de 2002\n",
      "Oct 23, 2002\n",
      "Octubre 23, 2002\n",
      "1-10-2001\n",
      "1 Oct 2001\n"
     ]
    }
   ],
   "source": [
    "dateStr = '23-10-002\\n23-10-2002\\n23/10/2002\\n23/10/02\\n10/23/2002\\n23 Oct 2002\\n23 de Octubre de 2002\\nOct 23, \\\n",
    "2002\\nOctubre 23, 2002\\n1-10-2001\\n1 Oct 2001'\n",
    "print (dateStr)"
   ]
  },
  {
   "cell_type": "markdown",
   "metadata": {
    "collapsed": true
   },
   "source": [
    "### No captura las fechas correctamente"
   ]
  },
  {
   "cell_type": "code",
   "execution_count": 27,
   "metadata": {},
   "outputs": [
    {
     "name": "stdout",
     "output_type": "stream",
     "text": [
      "['23 Oct 2002', '23 de Octubre de 2002', 'Oct 23, 2002', 'Octubre 23, 2002', 'Oct 2001'] ['23-10-00', '23-10-2002', '23/10/2002', '23/10/02', '10/23/2002']\n"
     ]
    }
   ],
   "source": []
  },
  {
   "cell_type": "markdown",
   "metadata": {
    "collapsed": true
   },
   "source": [
    "### Agregamos rango de 1 a 2 en el digito que representa el día"
   ]
  },
  {
   "cell_type": "code",
   "execution_count": null,
   "metadata": {},
   "outputs": [],
   "source": []
  },
  {
   "cell_type": "markdown",
   "metadata": {
    "collapsed": true
   },
   "source": [
    "### Agregamos rango de 1 a 2 en el digito que representa el día"
   ]
  },
  {
   "cell_type": "code",
   "execution_count": null,
   "metadata": {},
   "outputs": [],
   "source": []
  }
 ],
 "metadata": {
  "coursera": {
   "course_slug": "python-text-mining",
   "graded_item_id": "LvcWI",
   "launcher_item_id": "krne9",
   "part_id": "Mkp1I"
  },
  "kernelspec": {
   "display_name": "Python 3",
   "language": "python",
   "name": "python3"
  },
  "language_info": {
   "codemirror_mode": {
    "name": "ipython",
    "version": 3
   },
   "file_extension": ".py",
   "mimetype": "text/x-python",
   "name": "python",
   "nbconvert_exporter": "python",
   "pygments_lexer": "ipython3",
   "version": "3.8.5"
  }
 },
 "nbformat": 4,
 "nbformat_minor": 2
}
