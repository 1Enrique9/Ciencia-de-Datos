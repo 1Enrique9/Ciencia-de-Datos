{
 "cells": [
  {
   "cell_type": "code",
   "execution_count": 1,
   "id": "ff42eec7",
   "metadata": {},
   "outputs": [],
   "source": [
    "import spacy\n",
    "from collections import Counter\n",
    "import pandas as pd"
   ]
  },
  {
   "cell_type": "markdown",
   "id": "021b57dc",
   "metadata": {},
   "source": [
    "# El Ramo Azul"
   ]
  },
  {
   "cell_type": "code",
   "execution_count": 13,
   "id": "f424e430",
   "metadata": {},
   "outputs": [],
   "source": [
    "nlp = spacy.load(\"es_core_news_sm\")\n",
    "\n",
    "# Leer el archivo de texto\n",
    "with open(\"ramoAzul.txt\", \"r\", encoding=\"utf-8\") as f:\n",
    "    texto = f.read()\n",
    "\n",
    "doc = nlp(texto)"
   ]
  },
  {
   "cell_type": "markdown",
   "id": "2f42b8aa",
   "metadata": {},
   "source": [
    "1. Tokeniza el texto. ¿Cuántas palabras hay? (sin símbolos de puntuación)."
   ]
  },
  {
   "cell_type": "code",
   "execution_count": 5,
   "id": "1b57edec",
   "metadata": {},
   "outputs": [
    {
     "name": "stdout",
     "output_type": "stream",
     "text": [
      "Número total de palabras: 826\n"
     ]
    }
   ],
   "source": [
    "tokens = [t for t in doc if not t.is_punct and not t.is_space]\n",
    "num_palabras = len(tokens)\n",
    "print(f\"Número total de palabras: {num_palabras}\")"
   ]
  },
  {
   "cell_type": "markdown",
   "id": "7f189a53",
   "metadata": {},
   "source": [
    "2. Para cada palabra, da el lema y la raíz."
   ]
  },
  {
   "cell_type": "code",
   "execution_count": 6,
   "id": "5794a9a9",
   "metadata": {},
   "outputs": [
    {
     "name": "stdout",
     "output_type": "stream",
     "text": [
      "Ejemplo de lema y raíz (primeros 20): [('El', 'el', 'DET'), ('ramo', 'ramo', 'NOUN'), ('azul', 'azul', 'ADJ'), ('un', 'uno', 'DET'), ('cuento', 'cuento', 'NOUN'), ('de', 'de', 'ADP'), ('Octavio', 'Octavio', 'PROPN'), ('Paz', 'Paz', 'PROPN'), ('Desperté', 'Desperté', 'PROPN'), ('cubierto', 'cubierto', 'ADJ'), ('de', 'de', 'ADP'), ('sudor', 'sudor', 'NOUN'), ('Del', 'del', 'ADP'), ('piso', 'piso', 'NOUN'), ('de', 'de', 'ADP'), ('ladrillos', 'ladrillo', 'NOUN'), ('rojos', 'rojo', 'ADJ'), ('recién', 'recién', 'ADV'), ('regados', 'regado', 'ADJ'), ('subía', 'subir', 'VERB')]\n"
     ]
    }
   ],
   "source": [
    "lemmas_roots = [(t.text, t.lemma_, t.pos_) for t in tokens]\n",
    "print(f\"Ejemplo de lema y raíz (primeros 20): {lemmas_roots[:20]}\")"
   ]
  },
  {
   "cell_type": "markdown",
   "id": "2b91c160",
   "metadata": {},
   "source": [
    "3. ¿Cuántas palabras diferentes hay?"
   ]
  },
  {
   "cell_type": "code",
   "execution_count": 7,
   "id": "a33c748f",
   "metadata": {},
   "outputs": [
    {
     "name": "stdout",
     "output_type": "stream",
     "text": [
      "Número de palabras diferentes: 442\n"
     ]
    }
   ],
   "source": [
    "palabras_unicas = set([t.text.lower() for t in tokens])\n",
    "num_palabras_unicas = len(palabras_unicas)\n",
    "print(f\"Número de palabras diferentes: {num_palabras_unicas}\")"
   ]
  },
  {
   "cell_type": "markdown",
   "id": "3c7fa206",
   "metadata": {},
   "source": [
    "4. Después de lematizar las palabras, ¿cuántas palabras diferentes hay?"
   ]
  },
  {
   "cell_type": "code",
   "execution_count": 8,
   "id": "20857ca7",
   "metadata": {},
   "outputs": [
    {
     "name": "stdout",
     "output_type": "stream",
     "text": [
      "Número de palabras diferentes (lematizadas): 377\n"
     ]
    }
   ],
   "source": [
    "palabras_lematizadas = set([t.lemma_.lower() for t in tokens if t.is_alpha])\n",
    "num_palabras_lematizadas = len(palabras_lematizadas)\n",
    "print(f\"Número de palabras diferentes (lematizadas): {num_palabras_lematizadas}\")"
   ]
  },
  {
   "cell_type": "markdown",
   "id": "67a90b85",
   "metadata": {},
   "source": [
    "5. ¿Cuál es la diversidad léxica del texto dado? (relación de palabras únicas con respecto al número total de palabras)"
   ]
  },
  {
   "cell_type": "code",
   "execution_count": 9,
   "id": "6d31bbc1",
   "metadata": {},
   "outputs": [
    {
     "name": "stdout",
     "output_type": "stream",
     "text": [
      "Diversidad léxica: 0.535\n"
     ]
    }
   ],
   "source": [
    "diversidad = num_palabras_unicas / num_palabras\n",
    "print(f\"Diversidad léxica: {diversidad:.3f}\")"
   ]
  },
  {
   "cell_type": "markdown",
   "id": "41f0df96",
   "metadata": {},
   "source": [
    "6. ¿Cuáles son las 20 palabras léxicas más frecuentes en el texto? ¿Cuál es su frecuencia?"
   ]
  },
  {
   "cell_type": "code",
   "execution_count": 10,
   "id": "0ef5b69d",
   "metadata": {},
   "outputs": [
    {
     "name": "stdout",
     "output_type": "stream",
     "text": [
      "\n",
      "Top 20 palabras más frecuentes:\n",
      "   Palabra  Frecuencia\n",
      "0       el          76\n",
      "1       de          37\n",
      "2      uno          29\n",
      "3       yo          26\n",
      "4       él          23\n",
      "5        y          20\n",
      "6       no          16\n",
      "7      ojo          14\n",
      "8        a          13\n",
      "9      ser          12\n",
      "10     con          11\n",
      "11      mi          11\n",
      "12     que          10\n",
      "13      al           9\n",
      "14      en           7\n",
      "15    azul           6\n",
      "16     del           6\n",
      "17   señor           6\n",
      "18   tener           6\n",
      "19   entre           5\n"
     ]
    }
   ],
   "source": [
    "frecuencia = Counter([t.lemma_.lower() for t in tokens if t.is_alpha])\n",
    "top20 = frecuencia.most_common(20)\n",
    "df_top20 = pd.DataFrame(top20, columns=[\"Palabra\", \"Frecuencia\"])\n",
    "print(\"\\nTop 20 palabras más frecuentes:\")\n",
    "print(df_top20)"
   ]
  },
  {
   "cell_type": "markdown",
   "id": "06247fa0",
   "metadata": {},
   "source": [
    "7. ¿Cuál es el número promedio de palabras por oración?"
   ]
  },
  {
   "cell_type": "code",
   "execution_count": 11,
   "id": "b960dac3",
   "metadata": {},
   "outputs": [
    {
     "name": "stdout",
     "output_type": "stream",
     "text": [
      "\n",
      "Promedio de palabras por oración: 8.18\n"
     ]
    }
   ],
   "source": [
    "num_oraciones = len(list(doc.sents))\n",
    "promedio_palabras_oracion = num_palabras / num_oraciones\n",
    "print(f\"\\nPromedio de palabras por oración: {promedio_palabras_oracion:.2f}\")"
   ]
  },
  {
   "cell_type": "markdown",
   "id": "5800a666",
   "metadata": {},
   "source": [
    "8. ¿Cuál  es la frecuencia de de sustantivos, adjetivos y verbos en el texto?."
   ]
  },
  {
   "cell_type": "code",
   "execution_count": 12,
   "id": "a8d32ffb",
   "metadata": {},
   "outputs": [
    {
     "name": "stdout",
     "output_type": "stream",
     "text": [
      "Frecuencia - Sustantivos: 180, Adjetivos: 64, Verbos: 132\n"
     ]
    }
   ],
   "source": [
    "pos_counts = Counter([t.pos_ for t in tokens])\n",
    "sustantivos = pos_counts.get(\"NOUN\", 0)\n",
    "adjetivos = pos_counts.get(\"ADJ\", 0)\n",
    "verbos = pos_counts.get(\"VERB\", 0)\n",
    "print(f\"Frecuencia - Sustantivos: {sustantivos}, Adjetivos: {adjetivos}, Verbos: {verbos}\")"
   ]
  }
 ],
 "metadata": {
  "kernelspec": {
   "display_name": "Python 3",
   "language": "python",
   "name": "python3"
  },
  "language_info": {
   "codemirror_mode": {
    "name": "ipython",
    "version": 3
   },
   "file_extension": ".py",
   "mimetype": "text/x-python",
   "name": "python",
   "nbconvert_exporter": "python",
   "pygments_lexer": "ipython3",
   "version": "3.13.0"
  }
 },
 "nbformat": 4,
 "nbformat_minor": 5
}
