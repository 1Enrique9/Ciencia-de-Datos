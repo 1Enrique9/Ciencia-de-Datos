{
 "cells": [
  {
   "cell_type": "markdown",
   "metadata": {},
   "source": [
    "Villalon Pineda Luis Enrique "
   ]
  },
  {
   "cell_type": "markdown",
   "metadata": {},
   "source": [
    "# Ejercicio 3"
   ]
  },
  {
   "cell_type": "markdown",
   "metadata": {},
   "source": [
    "Utilizando el método de *Metropolis-Hastings*, con un periodo de calentamiento de 1000 iteraciones, simula de una distribución con función densidad:\n",
    "\n",
    "$$\n",
    "\\pi(x) \\propto x^{\\alpha - 1} e^{-\\beta x} \\mathbf{1}_{[0,\\infty)}(x).\n",
    "$$\n",
    "\n",
    "**EN ESTE EJERCICIO PUEDES USAR FUNCIONES PRETERMINADAS PARA SIMULAR VARIABLES ALEATORIAS NORMALES.** Debes de crear una función donde el usuario pueda especificar el número de muestras a simular, $m$, y los parámetros $\\alpha > 0$ y $\\beta > 0$ de la distribución. Además de esto, gráfica el histograma de la muestra obtenida."
   ]
  },
  {
   "cell_type": "markdown",
   "metadata": {},
   "source": [
    "Librerias"
   ]
  },
  {
   "cell_type": "code",
   "execution_count": 17,
   "metadata": {},
   "outputs": [],
   "source": [
    "import numpy as np\n",
    "import seaborn as sns\n",
    "import matplotlib.pyplot as plt\n",
    "import pandas as pd"
   ]
  },
  {
   "cell_type": "markdown",
   "metadata": {},
   "source": [
    "Primero creo una funcion de unifrome para poder utilizarla en el metodo de Metropolis-Hastings"
   ]
  },
  {
   "cell_type": "code",
   "execution_count": 18,
   "metadata": {},
   "outputs": [],
   "source": [
    "def uniformSimulation(n):\n",
    "    return np.random.uniform(0, 1, n)"
   ]
  },
  {
   "cell_type": "markdown",
   "metadata": {},
   "source": [
    "Procedemos a hacer la funcion de Metropolis-Hastings "
   ]
  },
  {
   "cell_type": "code",
   "execution_count": 19,
   "metadata": {},
   "outputs": [],
   "source": [
    "def MetropolisHastings(m, alpha, beta, sigma=1,hbi=1000):\n",
    "    simulacion = np.zeros(m)\n",
    "    indicador = lambda x: np.where(x >= 0, 1, 0)\n",
    "    distribucion = lambda x : (x ** (alpha - 1)) * np.exp(-beta*x) * indicador(x)\n",
    "    u = uniformSimulation(m + hbi)\n",
    "    Z = np.random.normal(0, sigma, m + hbi)\n",
    "    theta = 1.0\n",
    "    i = 0\n",
    "    while i < hbi:\n",
    "        x_candidato = theta + Z[i]\n",
    "        f_candidato = distribucion(x_candidato)\n",
    "        f_actual = distribucion(theta)\n",
    "        radio = np.min([1,f_candidato / f_actual])\n",
    "        if u[i] < radio:\n",
    "            theta = x_candidato\n",
    "        i += 1\n",
    "    j = 0\n",
    "    while j < m:\n",
    "        x_candidato = theta + Z[hbi + j]\n",
    "        f_candidato = distribucion(x_candidato)\n",
    "        f_actual = distribucion(theta)\n",
    "        radio = f_candidato / f_actual if f_actual > 0 else (1 if f_candidato > 0 else 0)\n",
    "\n",
    "        if u[hbi + j] < radio:\n",
    "            theta = x_candidato\n",
    "\n",
    "        simulacion[j] = theta\n",
    "        j += 1\n",
    "    return simulacion"
   ]
  },
  {
   "cell_type": "markdown",
   "metadata": {},
   "source": [
    "Por lo tanto la grafica se veria asi"
   ]
  },
  {
   "cell_type": "code",
   "execution_count": 20,
   "metadata": {},
   "outputs": [
    {
     "data": {
      "image/png": "[encoded data removed]",
      "text/plain": [
       "<Figure size 640x480 with 1 Axes>"
      ]
     },
     "metadata": {},
     "output_type": "display_data"
    }
   ],
   "source": [
    "simulacion = MetropolisHastings(100_000, alpha=10, beta=2, sigma=1, hbi=1000)\n",
    "sns.histplot(simulacion) # Me sirve para su graficacion \n",
    "plt.show()"
   ]
  }
 ],
 "metadata": {
  "kernelspec": {
   "display_name": "Python 3",
   "language": "python",
   "name": "python3"
  },
  "language_info": {
   "codemirror_mode": {
    "name": "ipython",
    "version": 3
   },
   "file_extension": ".py",
   "mimetype": "text/x-python",
   "name": "python",
   "nbconvert_exporter": "python",
   "pygments_lexer": "ipython3",
   "version": "3.13.0"
  }
 },
 "nbformat": 4,
 "nbformat_minor": 2
}
