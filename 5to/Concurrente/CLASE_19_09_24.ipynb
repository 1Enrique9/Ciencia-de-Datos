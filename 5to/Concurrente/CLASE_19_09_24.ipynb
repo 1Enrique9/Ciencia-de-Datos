{
  "nbformat": 4,
  "nbformat_minor": 0,
  "metadata": {
    "colab": {
      "provenance": []
    },
    "kernelspec": {
      "name": "python3",
      "display_name": "Python 3"
    },
    "language_info": {
      "name": "python"
    }
  },
  "cells": [
    {
      "cell_type": "markdown",
      "source": [
        "##### 1) CREA UN HILO QUE INVOCA A UNA FUNCIÓN\n",
        "\n"
      ],
      "metadata": {
        "id": "SEpIyShV9h0F"
      }
    },
    {
      "cell_type": "markdown",
      "source": [
        "EL HILO RINCIPAL SIGUE SU CURSO A MENOS QUE SE DETENGA CON EL METODO 'join'\n"
      ],
      "metadata": {
        "id": "n2s5cWps_po_"
      }
    },
    {
      "cell_type": "markdown",
      "source": [
        "###### Módulos"
      ],
      "metadata": {
        "id": "cYlgK3sc_6gh"
      }
    },
    {
      "cell_type": "markdown",
      "source": [
        "'logging': Implementa un registro de eventos para aplicaciones y bibliotecas puede incluir mensajes propios integrados con mensajes de módulos de terceros"
      ],
      "metadata": {
        "id": "z__FVSMOAwp-"
      }
    },
    {
      "cell_type": "code",
      "source": [
        "import logging"
      ],
      "metadata": {
        "id": "wnDkEbsH_W3F"
      },
      "execution_count": null,
      "outputs": []
    },
    {
      "cell_type": "markdown",
      "source": [
        "###### Funciones"
      ],
      "metadata": {
        "id": "mlvRzgVeABm5"
      }
    },
    {
      "cell_type": "code",
      "source": [
        "def thread_function(name):\n",
        "\n",
        "    # Imprime el mensaje configurado por 'logging.basicConfig' (la hora en formato H:M:S),\n",
        "    # la cadena Thread seguida del valor del argumento 'name' (1).\n",
        "    logging.info(\"Thread %s: starting\", name)\n",
        "\n",
        "    # Imprime el número de hilos activos\n",
        "    logging.info(f\"Thread {name}    : Número de hilos al inicio de la función {threading.active_count()}\")\n",
        "\n",
        "    # Duerme 5 segundos\n",
        "    time.sleep(5)\n",
        "\n",
        "    # Antes de terminar la función imprime la cadena Thread seguida del valor del argumento 'name' (1).\n",
        "    logging.info(\"Thread %s: finishing\", name)\n",
        "\n",
        "    # Número  de objetos 'Thread' al final del programa.\n",
        "    logging.info(f\"Main    : Número de hilos al final de la función {threading.active_count()}\")"
      ],
      "metadata": {
        "id": "_mu6Vu61AAPB"
      },
      "execution_count": null,
      "outputs": []
    },
    {
      "cell_type": "markdown",
      "source": [
        "###### Main"
      ],
      "metadata": {
        "id": "PMvmT-HxAFoJ"
      }
    },
    {
      "cell_type": "code",
      "source": [
        "if __name__ == \"__main__\":  # Permite que este archivo se pueda importar como módulo sin ejecutar las\n",
        "                            # las lineas que se encuentran debajo.\n",
        "\n",
        "    # Formato del tiempo que se imprime.\n",
        "    format = \"%(asctime)s: %(message)s\"\n",
        "    logging.basicConfig(format=format, level=logging.INFO,\n",
        "                        datefmt=\"%H:%M:%S\")\n",
        "\n",
        "    # Número  de objetos 'Thread' actuales.\n",
        "    NumeroHilos = threading.active_count();\n",
        "    logging.info(f\"Main    : Número de hilos al inicio {NumeroHilos}\")\n",
        "\n",
        "    # Impresión antes de que se cree el hilo.\n",
        "    logging.info(\"Main    : before creating thread\")\n",
        "\n",
        "    # Construye 'x' como objeto 'Thread'.\n",
        "    # El hilo ejecutará la función 'thread_function' con argumento '1'.\n",
        "    x = threading.Thread(target=thread_function, args=(1,))\n",
        "\n",
        "    # Imprime una cadena antes de iniciar la actividadd  del hilo.\n",
        "    logging.info(\"Main    : before running thread\")\n",
        "\n",
        "    # Inicia la actividad del hilo 'x'.\n",
        "    # En este momento ya tenemos 2 hilos activos.\n",
        "    x.start()\n",
        "\n",
        "    # Imprime una cadena antes de que termine la actividad del hilo.\n",
        "    logging.info(\"Main    : wait for the thread to finish\")\n",
        "\n",
        "    # El hilo principal espera hasta que el hilo 'x' finalice.\n",
        "    x.join()\n",
        "\n",
        "    # Número  de objetos 'Thread' al final del programa.\n",
        "    logging.info(f\"Main    : Número de hilos al final {threading.active_count()}\")\n",
        "\n",
        "    # Imprime una cadena desde el hilo principal.\n",
        "    logging.info(\"Main    : all done\")"
      ],
      "metadata": {
        "id": "bFoLIUg1AICL"
      },
      "execution_count": null,
      "outputs": []
    },
    {
      "cell_type": "markdown",
      "source": [
        "##### 2) CUENTA EL NUMERO DE HILOS ACTIVOS E IMPRIME INFORMACIÓN RELEVANTE"
      ],
      "metadata": {
        "id": "nb-120A9CXI1"
      }
    },
    {
      "cell_type": "code",
      "source": [
        "import threading\n",
        "import time\n",
        "import os"
      ],
      "metadata": {
        "id": "bQItWrv_CZnd"
      },
      "execution_count": null,
      "outputs": []
    },
    {
      "cell_type": "markdown",
      "source": [
        "###### Funciones para cada uno de los hilos"
      ],
      "metadata": {
        "id": "LYLgiePbCvKe"
      }
    },
    {
      "cell_type": "markdown",
      "source": [
        "Función 1"
      ],
      "metadata": {
        "id": "3SWMziCJC2CG"
      }
    },
    {
      "cell_type": "code",
      "source": [
        "def hilo1_Subroutine(i):\n",
        "    time.sleep(5)\n",
        "    nombre = threading.current_thread().name\n",
        "    print(nombre, \"Número de proceso:         \", os.getpid())\n",
        "    print(nombre, \"Número de hilos activos:  \", threading.active_count())\n",
        "    print(nombre, \"ID:                        \",threading.get_ident())\n",
        "    print(nombre, 'Value:                     ', i)\n",
        "    print(nombre, \"¿El hilo 1 está vivo?      \",hilo1.is_alive())\n",
        "    print(nombre, \"¿El hilo 2 está vivo?      \",hilo2.is_alive())\n",
        "    print(nombre, \"¿El hilo 3 está vivo?      \",hilo3.is_alive())\n"
      ],
      "metadata": {
        "id": "bwaF7S3ACxym"
      },
      "execution_count": null,
      "outputs": []
    },
    {
      "cell_type": "markdown",
      "source": [
        "Función 2"
      ],
      "metadata": {
        "id": "Dh4cgioPDVqf"
      }
    },
    {
      "cell_type": "code",
      "source": [
        "def hilo2_Subroutine(i):\n",
        "    time.sleep(2)\n",
        "    nombre = threading.current_thread().name\n",
        "    print(nombre, \"Número de proceso:        \", os.getpid())\n",
        "    print(nombre, \"Número de hilos activos: \", threading.active_count())\n",
        "    print(nombre, \"ID:                       \",threading.get_ident())\n",
        "    print(nombre, 'Value:                    ', i)\n",
        "    print(nombre, \"¿El hilo 1 está vivo?     \",hilo1.is_alive())\n",
        "    print(nombre, \"¿El hilo 2 está vivo?     \",hilo2.is_alive())\n",
        "    print(nombre, \"¿El hilo 3 está vivo?     \",hilo3.is_alive())"
      ],
      "metadata": {
        "id": "A7VqXwKODZlH"
      },
      "execution_count": null,
      "outputs": []
    },
    {
      "cell_type": "markdown",
      "source": [
        "Función 3"
      ],
      "metadata": {
        "id": "9QFqDmDyDefX"
      }
    },
    {
      "cell_type": "code",
      "source": [
        "def hilo3_Subroutine(i):\n",
        "    time.sleep(10)\n",
        "    nombre = threading.current_thread().name\n",
        "    print(nombre, \"Número de proceso:        \", os.getpid())\n",
        "    nombre = threading.current_thread().name\n",
        "    print(nombre, \"Número de hilos activos: \", threading.active_count())\n",
        "    print(nombre, \"ID:                       \",threading.get_ident())\n",
        "    print(nombre, \"Value:                    \", i)\n",
        "    print(nombre, \"¿El hilo 1 está vivo?     \",hilo1.is_alive())\n",
        "    print(nombre, \"¿El hilo 2 está vivo?     \",hilo2.is_alive())\n",
        "    print(nombre, \"¿El hilo 3 está vivo?     \",hilo3.is_alive())"
      ],
      "metadata": {
        "id": "GSvqj9XBDhK3"
      },
      "execution_count": null,
      "outputs": []
    },
    {
      "cell_type": "markdown",
      "source": [
        "###### Hilo principal"
      ],
      "metadata": {
        "id": "2ShdfNQlDjoQ"
      }
    },
    {
      "cell_type": "code",
      "source": [
        "# Un hilo principal\n",
        "print(\"Main INICIO: Número de hilos activos: \", threading.active_count())\n",
        "print(\"Main INICIO: ID del hilo principal: \", threading.get_ident())\n",
        "\n",
        "# Creacion de los objetos hilo1, hilo2 y hilo3.\n",
        "\n",
        "hilo1 = threading.Thread(target=hilo1_Subroutine, args=(100,), name=\"Thread 1\")\n",
        "hilo2 = threading.Thread(target=hilo2_Subroutine, args=(200,), name=\"Thread 2\")\n",
        "hilo3 = threading.Thread(target=hilo3_Subroutine, args=(300,), name=\"Thread 3\")\n",
        "\n",
        "print(\"Main Número de proceso:                  \", os.getpid())\n",
        "\n",
        "\n",
        "\n",
        "# Inicializa la ejecución de todos los hilos\n",
        "hilo1.start()\n",
        "hilo2.start()\n",
        "hilo3.start()\n",
        "\n",
        "\n",
        "hilo3.join() # El hilo principal espera a que termine el hilo 3.\n",
        "\n",
        "print(\"Main: Número de hilos activos: \", threading.active_count())"
      ],
      "metadata": {
        "colab": {
          "base_uri": "https://localhost:8080/"
        },
        "id": "HEuhvPQuDn15",
        "outputId": "ab97f9ef-a197-4292-d0ee-1d1d38dbe8a9"
      },
      "execution_count": null,
      "outputs": [
        {
          "output_type": "stream",
          "name": "stdout",
          "text": [
            "Main INICIO: Número de hilos activos:  5\n",
            "Main INICIO: ID del hilo principal:  137715576098816\n",
            "Main Número de proceso:                   249\n",
            "Thread 2 Número de proceso:         249\n",
            "Thread 2 Número de hilos activos:  8\n",
            "Thread 2 ID:                        137714821224000\n",
            "Thread 2 Value:                     200\n",
            "Thread 2 ¿El hilo 1 está vivo?      True\n",
            "Thread 2 ¿El hilo 2 está vivo?      True\n",
            "Thread 2 ¿El hilo 3 está vivo?      True\n",
            "Thread 1 Número de proceso:          249\n",
            "Thread 1 Número de hilos activos:   7\n",
            "Thread 1 ID:                         137715140441664\n",
            "Thread 1 Value:                      100\n",
            "Thread 1 ¿El hilo 1 está vivo?       True\n",
            "Thread 1 ¿El hilo 2 está vivo?       False\n",
            "Thread 1 ¿El hilo 3 está vivo?       True\n",
            "Thread 3 Número de proceso:         249\n",
            "Thread 3 Número de hilos activos:  6\n",
            "Thread 3 ID:                        137714804438592\n",
            "Thread 3 Value:                     300\n",
            "Thread 3 ¿El hilo 1 está vivo?      False\n",
            "Thread 3 ¿El hilo 2 está vivo?      False\n",
            "Thread 3 ¿El hilo 3 está vivo?      True\n",
            "Main: Número de hilos activos:  5\n"
          ]
        }
      ]
    },
    {
      "cell_type": "markdown",
      "source": [
        "##### 3) CALCULA EL CUADRADO Y EL CUBO DE UNA LISTA USANDO EL HILO PRINCIPAL"
      ],
      "metadata": {
        "id": "W7n2vCn5Bw5m"
      }
    },
    {
      "cell_type": "markdown",
      "source": [
        "###### MÓDULOS"
      ],
      "metadata": {
        "id": "eA0jb6sgB17e"
      }
    },
    {
      "cell_type": "code",
      "source": [
        "import time"
      ],
      "metadata": {
        "id": "Db9BKUX_B1Y2"
      },
      "execution_count": null,
      "outputs": []
    },
    {
      "cell_type": "markdown",
      "source": [
        "###### Funciones"
      ],
      "metadata": {
        "id": "Zhm5nTeKB5Le"
      }
    },
    {
      "cell_type": "code",
      "source": [
        "# Calcula el cuadrado de los elementos de un arreglo.\n",
        "def cal_sqre(num):\n",
        "    print(\" Calcula el cuadrado de los elementos de un arreglo\")\n",
        "    for n in num:\n",
        "        time.sleep(0.3) # Cada iteración espera 0.3 s.\n",
        "        print(f\" El cuadrado de {n} :  {n * n}\")\n",
        "\n",
        "# Calcula el cubo de los elementos de una arreglo.\n",
        "def cal_cube(num):\n",
        "    print(\" Calcula el cubo de los elementos de un arreglo\")\n",
        "    for n in num:\n",
        "        time.sleep(0.3) # Cada iteración espera 0.3 s.\n",
        "        print(f\" El cubo de {n} :  {n * n * n}\")"
      ],
      "metadata": {
        "id": "uED6d79KB8y-"
      },
      "execution_count": null,
      "outputs": []
    },
    {
      "cell_type": "markdown",
      "source": [
        "###### Inicio"
      ],
      "metadata": {
        "id": "89F8nZ9DCIu1"
      }
    },
    {
      "cell_type": "code",
      "source": [
        "arr = [4, 5, 6, 7, 2]\n",
        "\n",
        "t1 = time.time() # Obtiene el tiempo inicial del programa\n",
        "cal_sqre(arr)\n",
        "cal_cube(arr)\n",
        "\n",
        "print(\" Tiempo total del programa :\", time.time() - t1)"
      ],
      "metadata": {
        "colab": {
          "base_uri": "https://localhost:8080/"
        },
        "id": "cin593IWCLZ1",
        "outputId": "abca9fe1-80b8-46b5-c9ce-312ea189b2c0"
      },
      "execution_count": null,
      "outputs": [
        {
          "output_type": "stream",
          "name": "stdout",
          "text": [
            " Calcula el cuadrado de los elementos de un arreglo\n",
            " El cuadrado de 4 :  16\n",
            " El cuadrado de 5 :  25\n",
            " El cuadrado de 6 :  36\n",
            " El cuadrado de 7 :  49\n",
            " El cuadrado de 2 :  4\n",
            " Calcula el cubo de los elementos de un arreglo\n",
            " El cubo de 4 :  64\n",
            " El cubo de 5 :  125\n",
            " El cubo de 6 :  216\n",
            " El cubo de 7 :  343\n",
            " El cubo de 2 :  8\n",
            " Tiempo total del programa : 3.006451368331909\n"
          ]
        }
      ]
    },
    {
      "cell_type": "markdown",
      "source": [
        "##### 4) CALCULA EL CUADRADO Y EL CUBO DE UNA LISTA USANDO 2 HILOS #####"
      ],
      "metadata": {
        "id": "GFtSc4qI-S7W"
      }
    },
    {
      "cell_type": "markdown",
      "source": [
        "MULTITHREADING ES CONVENIENTE CUANDO LOS HILOS DUERMEN UN PERIODO DE TIEMPO O EN FUNCIONES DE I/O."
      ],
      "metadata": {
        "id": "TiUSWPkB-hTF"
      }
    },
    {
      "cell_type": "markdown",
      "source": [
        "###### Módulos"
      ],
      "metadata": {
        "id": "mTyOLQNk-wiF"
      }
    },
    {
      "cell_type": "code",
      "source": [
        "import time\n",
        "import threading"
      ],
      "metadata": {
        "id": "m7GOCXpt-eL1"
      },
      "execution_count": null,
      "outputs": []
    },
    {
      "cell_type": "markdown",
      "source": [
        "###### Funciones"
      ],
      "metadata": {
        "id": "2XFqAi0_-4KF"
      }
    },
    {
      "cell_type": "code",
      "source": [
        "# Calcula el cuadrado de los elementos de un arreglo, este método lo invoca 'th1'.\n",
        "\n",
        "def cal_sqre(num):\n",
        "    print(\" Calcula el cuadrado de los elementos de un arreglo\")\n",
        "    for n in num:\n",
        "        time.sleep(0.3)\n",
        "        print(f\" El cuadrado de {n} :  {n * n}\")\n",
        "\n",
        "# Calcula el cubo de los elementos de un arreglo, este método lo invoca 'th2'.\n",
        "\n",
        "def cal_cube(num):\n",
        "    print(\" Calcula el cubo de los elementos de un arreglo\")\n",
        "    for n in num:\n",
        "        time.sleep(0.3)\n",
        "        print(f\" El cubo de {n} :  {n * n * n}\")"
      ],
      "metadata": {
        "id": "FImMIHXx-7B1"
      },
      "execution_count": null,
      "outputs": []
    },
    {
      "cell_type": "markdown",
      "source": [
        "###### Inicio"
      ],
      "metadata": {
        "id": "OER6JlBu_Dc8"
      }
    },
    {
      "cell_type": "code",
      "source": [
        "ar = [4, 5, 6, 7, 2]\n",
        "\n",
        "t = time.time()\n",
        "\n",
        "# Creación de los objetos tipo Thread 'th1' y 'th2'.\n",
        "th1 = threading.Thread(target=cal_sqre, args=(ar,))\n",
        "th2 = threading.Thread(target=cal_cube, args=(ar,))\n",
        "\n",
        "# Activación de los hilos 'th1' y 'th2'.\n",
        "th1.start()\n",
        "th2.start()\n",
        "\n",
        "# El programa espera a que terminen los 2 hilos.\n",
        "th1.join()\n",
        "th2.join()\n",
        "\n",
        "print(\" Tiempo total del programa :\", time.time() - t)\n",
        "print(\" Nuevamente en el hilo principal\")"
      ],
      "metadata": {
        "colab": {
          "base_uri": "https://localhost:8080/"
        },
        "id": "_O487y37_E69",
        "outputId": "e3db21cd-c908-4a23-fde4-853509725ccf"
      },
      "execution_count": null,
      "outputs": [
        {
          "output_type": "stream",
          "name": "stdout",
          "text": [
            " Calcula el cuadrado de los elementos de un arreglo\n",
            " Calcula el cubo de los elementos de un arreglo\n",
            " El cuadrado de 4 :  16\n",
            " El cubo de 4 :  64\n",
            " El cuadrado de 5 :  25\n",
            " El cubo de 5 :  125\n",
            " El cuadrado de 6 :  36\n",
            " El cubo de 6 :  216\n",
            " El cuadrado de 7 :  49\n",
            " El cubo de 7 :  343\n",
            " El cuadrado de 2 :  4\n",
            " El cubo de 2 :  8\n",
            " Tiempo total del programa : 1.5126047134399414\n",
            " Nuevamente en el hilo principal\n"
          ]
        }
      ]
    },
    {
      "cell_type": "markdown",
      "source": [
        "##### 5) SUMA DE NÚMEROS DE UNA LISTA USANDO 2 HILOS CON UNA VARIABLE COMPARTIDA"
      ],
      "metadata": {
        "id": "jJEnEhMyANbL"
      }
    },
    {
      "cell_type": "markdown",
      "source": [
        "DECREMENTA 'n' DE 1 EN 1 HASTA 0. SE USA EL MÓDULO THREADING"
      ],
      "metadata": {
        "id": "Ay7GzEo6BlRm"
      }
    },
    {
      "cell_type": "markdown",
      "source": [
        "###### MÓDULOS"
      ],
      "metadata": {
        "id": "dvP9rSYoEidn"
      }
    },
    {
      "cell_type": "code",
      "source": [
        "import time\n",
        "import threading"
      ],
      "metadata": {
        "id": "ivqS08l1Egnw"
      },
      "execution_count": null,
      "outputs": []
    },
    {
      "cell_type": "markdown",
      "source": [
        "######  Variable global"
      ],
      "metadata": {
        "id": "ysGEflrSEbE1"
      }
    },
    {
      "cell_type": "code",
      "source": [
        "SumaTotal = 0"
      ],
      "metadata": {
        "id": "9XvZdWQvEpC5"
      },
      "execution_count": null,
      "outputs": []
    },
    {
      "cell_type": "markdown",
      "source": [
        "###### MÉTODOS"
      ],
      "metadata": {
        "id": "b_InkO5HEuFn"
      }
    },
    {
      "cell_type": "code",
      "source": [
        "# Calcula la suma de la primera mitad de números de la lista con 'th1'.\n",
        "\n",
        "def for1(num,bloqueo):\n",
        "    n = len(num) * 30\n",
        "    print(\"Números calculados por hilo th1:        {:,}\".format(len(num)))\n",
        "    global SumaTotal\n",
        "    SumaParcial = 0\n",
        "    print(\" Calcula la suma de la primera mitad de números de la lista con 'th1'.\")\n",
        "\n",
        "    for i in num:\n",
        "        SumaParcial = SumaParcial + i\n",
        "\n",
        "    print(\" La suma parcial del hilo 'th1' es:        {:.8e}\".format(SumaParcial))\n",
        "\n",
        "\n",
        "    # Cualquier otra operación que dure gran cantidad de tiempo\n",
        "    while n>0:\n",
        "        n -= 1\n",
        "\n",
        "\n",
        "    # Sección critica\n",
        "\n",
        "    bloqueo.acquire()\n",
        "    SumaTotal = SumaTotal + SumaParcial\n",
        "    bloqueo.release()\n",
        "\n",
        "# Calcula la suma de la segunda mitad de números de la lista con 'th1'.\n",
        "\n",
        "def for2(num,bloqueo):\n",
        "    n = len(num) * 30\n",
        "    print(\"Números calculados por hilo th2:        {:,}\".format(len(num)))\n",
        "    global SumaTotal\n",
        "    SumaParcial = 0\n",
        "    print(\" Calcula la suma de la segunda mitad de números de la lista con 'th2'.\")\n",
        "\n",
        "    for i in num:\n",
        "        SumaParcial = SumaParcial + i\n",
        "\n",
        "    print(\" La suma parcial del hilo 'th2' es:        {:.8e}\".format(SumaParcial))\n",
        "\n",
        "\n",
        "    # Cualquier otra operación que dure gran cantidad de tiempo\n",
        "    while n>0:\n",
        "        n -= 1\n",
        "\n",
        "\n",
        "    # Sección critica\n",
        "\n",
        "    bloqueo.acquire()\n",
        "    SumaTotal = SumaTotal + SumaParcial\n",
        "    bloqueo.release()"
      ],
      "metadata": {
        "id": "CbdAZwn0ExWA"
      },
      "execution_count": null,
      "outputs": []
    },
    {
      "cell_type": "markdown",
      "source": [
        "###### INICIO"
      ],
      "metadata": {
        "id": "ktO5nWaeE_Cg"
      }
    },
    {
      "cell_type": "code",
      "source": [
        "# Tiempo de inicio\n",
        "T1 = time.time()\n",
        "\n",
        "# Crea el objeto bloqueo\n",
        "bloqueo = threading.Lock()\n",
        "\n",
        "# Lista de números\n",
        "# La lista va de 0 - 19999999\n",
        "numeros = list(range(20000000))\n",
        "\n",
        "# mitad = 10,000,000\n",
        "mitad = int(len(numeros)/2)\n",
        "\n",
        "# total = 20,000,000\n",
        "total = int(len(numeros))\n",
        "\n",
        "\n",
        "# Creación de los objetos tipo Thread 'th1' y 'th2'.\n",
        "\n",
        "# La porcion del arreglo de numeros va de 0 - 9,999,999 (en total son 10 millones)\n",
        "th1 = threading.Thread(target=for1, args=(numeros[0:mitad],bloqueo))\n",
        "\n",
        "# La porcion del arreglo de numeros va de 10,000,000 - 19,999,999 (en total son 10 millones)\n",
        "th2 = threading.Thread(target=for2, args=(numeros[mitad:total],bloqueo))\n",
        "\n",
        "\n",
        "# Activación de los hilos 'th1' y 'th2'.\n",
        "\n",
        "t_activ1 = time.time() # Tiempo de inicio de activación de los hilos.\n",
        "th1.start()\n",
        "th2.start()\n",
        "t_activ2 = time.time() # Tiempo final de activación de los hilos.\n",
        "\n",
        "print(f\" Tiempo de activación:                        {t_activ2 - t_activ1}\")\n",
        "\n",
        "# El hilo principal espera a que terminen los 2 hilos.\n",
        "\n",
        "t_esp1 = time.time() # Tiempo de inicio de espera de los hilos.\n",
        "th1.join()\n",
        "th2.join()\n",
        "t_esp2 = time.time() # Tiempo final de espera de los hilos\n",
        "print(f\" Tiempo de espera de los hilos                {t_esp2 - t_esp1}\")\n",
        "\n",
        "# tiempo final del programa\n",
        "T2 = time.time()\n",
        "print(\" Nuevamente en el hilo principal\")\n",
        "print(\" La summa total es:                            {:.8e}\".format(SumaTotal))\n",
        "print(f\" Tiempo total:                                {T2 - T1}\")\n"
      ],
      "metadata": {
        "colab": {
          "base_uri": "https://localhost:8080/"
        },
        "id": "tBFm9zCuFF2Z",
        "outputId": "c5aaa55e-6e1e-4bd5-c243-45a4db78a689"
      },
      "execution_count": null,
      "outputs": [
        {
          "output_type": "stream",
          "name": "stdout",
          "text": [
            "Números calculados por hilo th1:        10,000,000\n",
            " Calcula la suma de la primera mitad de números de la lista con 'th1'.\n",
            "Números calculados por hilo th2:        10,000,000 Tiempo de activación:                        0.013965845108032227\n",
            "\n",
            " Calcula la suma de la segunda mitad de números de la lista con 'th2'.\n",
            " La suma parcial del hilo 'th2' es:        1.49999995e+14 La suma parcial del hilo 'th1' es:        4.99999950e+13\n",
            "\n",
            " Tiempo de espera de los hilos                43.8043007850647\n",
            " Nuevamente en el hilo principal\n",
            " La summa total es:                            1.99999990e+14\n",
            " Tiempo total:                                45.76427459716797\n"
          ]
        }
      ]
    },
    {
      "cell_type": "markdown",
      "source": [
        "##### 6) INICIA 5 HILOS, MANDAN LLAMAR A LA FUNCION 'worker'"
      ],
      "metadata": {
        "id": "DS6gS4dUGN2w"
      }
    },
    {
      "cell_type": "markdown",
      "source": [
        "CADA HILO DUERME UN TIEMPO ALEATORIO Y TERMINAN"
      ],
      "metadata": {
        "id": "yLSJwchvGPWo"
      }
    },
    {
      "cell_type": "markdown",
      "source": [
        "###### MÓDULOS"
      ],
      "metadata": {
        "id": "wBq6_XbFGTc4"
      }
    },
    {
      "cell_type": "code",
      "source": [
        "import random\n",
        "import threading\n",
        "import time"
      ],
      "metadata": {
        "id": "6EtVv-sVGRNY"
      },
      "execution_count": null,
      "outputs": []
    },
    {
      "cell_type": "markdown",
      "source": [
        "###### Funciones"
      ],
      "metadata": {
        "id": "e56Kt437GX9H"
      }
    },
    {
      "cell_type": "code",
      "source": [
        "# Función 'worker'.\n",
        "\n",
        "def worker(name: str) -> None:\n",
        "    print(f'Started worker {name}')\n",
        "    worker_time = random.choice(range(1, 5))\n",
        "    time.sleep(worker_time)\n",
        "    print(f'{name} worker finished in {worker_time} seconds')\n",
        "\n",
        "\n",
        "# Permite que este archivo se pueda importar como módulo sin ejecutar las\n",
        "# las lineas que se encuentran debajo.\n",
        "\n",
        "if __name__ == '__main__':\n",
        "\n",
        "    # Crea los 5 hilos y los inicializa.\n",
        "    for i in range(5):\n",
        "        thread = threading.Thread(\n",
        "                target=worker,\n",
        "                args=(f'hilo_{i}',),\n",
        "                )\n",
        "        thread.start()"
      ],
      "metadata": {
        "id": "EnLjJDeJGbyv"
      },
      "execution_count": null,
      "outputs": []
    },
    {
      "cell_type": "markdown",
      "source": [
        "##### 7) INICIA 3 HILOS, IMPRIME INFORMACON DE SU INICIO Y FINALIZACION"
      ],
      "metadata": {
        "id": "7Lxhd5pHGhjX"
      }
    },
    {
      "cell_type": "markdown",
      "source": [
        "ESPERA HASTA QUE EL ULTIMO HILO TERMINE PARA CONTINUAR"
      ],
      "metadata": {
        "id": "uTaWgHYyGpt7"
      }
    },
    {
      "cell_type": "code",
      "source": [
        "import logging\n",
        "import threading\n",
        "import time\n",
        "\n",
        "def thread_function(name):\n",
        "    logging.info(\"Thread %s: starting\", name)\n",
        "    time.sleep(5)\n",
        "    logging.info(\"Thread %s: finishing\", name)\n",
        "\n",
        "if __name__ == \"__main__\":\n",
        "\n",
        "    # Formato de impresón\n",
        "\n",
        "    format = \"%(asctime)s: %(message)s\"\n",
        "    logging.basicConfig(format=format, level=logging.INFO,\n",
        "                        datefmt=\"%H:%M:%S\")\n",
        "\n",
        "    # Lista vacía para colocar los objetos tipo hilo.\n",
        "    threads = list()\n",
        "\n",
        "\n",
        "    # Crea los hilos y los inicializa.\n",
        "\n",
        "    for index in range(3):\n",
        "        logging.info(\"Main    : create and start thread %d.\", index)\n",
        "        x = threading.Thread(target=thread_function, args=(index,))\n",
        "        threads.append(x)\n",
        "        x.start()\n",
        "\n",
        "\n",
        "    # Detiene el hilo principal hasta que el último hilo termine.\n",
        "    # Se puede comentar este bloque para ver el efecto de 'join()'.\n",
        "\n",
        "    for index, thread in enumerate(threads):\n",
        "        logging.info(\"Main    : before joining thread %d.\", index)\n",
        "        thread.join()\n",
        "        logging.info(\"Main    : thread %d done\", index)\n",
        "\n",
        "# Obtiene el número de hilos activos.\n",
        "print(\"Main: Número de hilos activos al final: \", threading.active_count())"
      ],
      "metadata": {
        "colab": {
          "base_uri": "https://localhost:8080/"
        },
        "id": "uXBVGyJ9GkZC",
        "outputId": "2861b2a8-b850-4c6b-eb30-ff84d3e8c2b2"
      },
      "execution_count": null,
      "outputs": [
        {
          "output_type": "stream",
          "name": "stdout",
          "text": [
            "Main: Número de hilos activos al final:  5\n"
          ]
        }
      ]
    }
  ]
}