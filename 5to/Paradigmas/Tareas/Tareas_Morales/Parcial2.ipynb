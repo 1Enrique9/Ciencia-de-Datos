{
 "cells": [
  {
   "cell_type": "markdown",
   "metadata": {},
   "source": [
    "# Ejercicio "
   ]
  },
  {
   "cell_type": "markdown",
   "metadata": {},
   "source": [
    "Clasificar las muestras siguientes utilizando $k=2$:\n",
    "$[1, 12.5], [3, 10.5], [3, 12.5], [3, 14.5], [3, 18], [5, 18], [5, 16], [5, 14.5], [5, 13], [6, 9], [8, 10], [9, 11],\n",
    "[8.5, 12], [7, 13.5], [8, 16], [0.5, 10.5]$"
   ]
  },
  {
   "cell_type": "code",
   "execution_count": null,
   "metadata": {},
   "outputs": [],
   "source": []
  },
  {
   "cell_type": "markdown",
   "metadata": {},
   "source": [
    "# Ejercicio "
   ]
  },
  {
   "cell_type": "markdown",
   "metadata": {},
   "source": [
    "Agrega al conjunto de datos una columna continua (como estatura y/o peso) e ingresa los valores correspondientes. Después genera rangos para obtener categorías y obtén los nuevos grupos generados con esa información adicional."
   ]
  },
  {
   "cell_type": "code",
   "execution_count": null,
   "metadata": {},
   "outputs": [],
   "source": []
  },
  {
   "cell_type": "markdown",
   "metadata": {},
   "source": [
    "# Ejercicio "
   ]
  },
  {
   "cell_type": "markdown",
   "metadata": {},
   "source": [
    "Aplica los modelos de agrupamiento presentados a los conjuntos Iris y Digits; compara los resultados de cada uno de ellos."
   ]
  },
  {
   "cell_type": "code",
   "execution_count": null,
   "metadata": {},
   "outputs": [],
   "source": []
  },
  {
   "cell_type": "markdown",
   "metadata": {},
   "source": [
    "# Ejercicio "
   ]
  },
  {
   "cell_type": "markdown",
   "metadata": {},
   "source": [
    "Demuestra que para $0 < \\alpha < 1 $, se cumple que\n",
    "$$\n",
    "1 = \\sum_{i=1}^{\\infty} \\alpha (1 - \\alpha)^{i-1}\n",
    "$$"
   ]
  },
  {
   "cell_type": "code",
   "execution_count": null,
   "metadata": {},
   "outputs": [],
   "source": []
  },
  {
   "cell_type": "markdown",
   "metadata": {},
   "source": [
    "# Ejercicio "
   ]
  },
  {
   "cell_type": "markdown",
   "metadata": {},
   "source": [
    "Con $\\mathbf{x_0} = \\begin{bmatrix} 27 \\\\ 35 \\end{bmatrix}$, suponiendo que existen tres propietarios y que $\\pi_{1,1} = 0.5$, $\\pi_{1,2} = 0.3$, $\\pi_{2,1} = 0.3$, $\\pi_{2,2} = 0.4$, $\\pi_{3,1} = 0.4$ y $\\pi_{3,2} = 0.5$:\n",
    "\n",
    "- Calcula $\\Pr(\\mathbf{x_0} | y_0 = P_k)$ para $k = 1, 2, 3$ y determina la predicción:\n",
    "\n",
    "$$\n",
    "\\hat{y_0} = \\arg \\max \\{ \\Pr(\\mathbf{x_0} | y_0 = P_1), \\Pr(\\mathbf{x_0} | y_0 = P_2), \\Pr(\\mathbf{x_0} | y_0 = P_3) \\}\n",
    "$$"
   ]
  },
  {
   "cell_type": "code",
   "execution_count": null,
   "metadata": {},
   "outputs": [],
   "source": []
  },
  {
   "cell_type": "markdown",
   "metadata": {},
   "source": [
    "# Ejercicio "
   ]
  },
  {
   "cell_type": "markdown",
   "metadata": {},
   "source": []
  }
 ],
 "metadata": {
  "language_info": {
   "name": "python"
  }
 },
 "nbformat": 4,
 "nbformat_minor": 2
}
