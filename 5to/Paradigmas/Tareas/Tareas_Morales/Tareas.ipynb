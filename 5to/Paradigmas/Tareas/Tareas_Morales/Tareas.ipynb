{
 "cells": [
  {
   "cell_type": "code",
   "execution_count": 9,
   "metadata": {},
   "outputs": [],
   "source": [
    "import numpy as np \n",
    "from sympy import Matrix, symbols, log, simplify\n",
    "import matplotlib.pyplot as plt\n",
    "import pandas as pd"
   ]
  },
  {
   "cell_type": "markdown",
   "metadata": {},
   "source": [
    "Ejercicio, tarea:  \n",
    "\n",
    "Obtener las funciones discriminantes para las muestras:\n",
    "$$\n",
    "\\begin{aligned}\n",
    "& \\omega_1=\\{(0.5,10.5),(1,12.5),(3,10.5),(3,12.5),(3,14.5),(3,18),(5,18),(5,16),(5,14.5),(5,13)\\} \\\\\n",
    "& \\omega_2=\\{(6,9),(8,10),(9,11),(8.5,12),(7,13.5)(8,16)\\}\n",
    "\\end{aligned}\n",
    "$$\n",
    "\n",
    "Representarlo gráficamente.\n",
    "$\\qquad$ *"
   ]
  },
  {
   "cell_type": "code",
   "execution_count": 5,
   "metadata": {},
   "outputs": [],
   "source": [
    "def clasif_e(samples):\n",
    "    # Vector genérico usando Sympy\n",
    "    X = Matrix([symbols('x' + str(i+1)) for i in range(samples[0].shape[0])])\n",
    "    print(' Variables : ', X)\n",
    "    fds = []\n",
    "    for s in samples:\n",
    "        m = Matrix(np.mean(s, axis=1))\n",
    "        fds.append(simplify(X.T*m - (m.T*m)/2))\n",
    "    return fds"
   ]
  },
  {
   "cell_type": "code",
   "execution_count": 3,
   "metadata": {},
   "outputs": [
    {
     "name": "stdout",
     "output_type": "stream",
     "text": [
      "[ 3.35 14.  ]\n",
      "[ 7.75       11.91666667]\n"
     ]
    }
   ],
   "source": [
    "omega1 = np.array([[0.5, 10.5],[1, 12.5],[3, 10.5],[3, 12.5],[3, 14.5],[3, 18],[5, 18],[5, 16],[5, 14.5],[5, 13]]).T\n",
    "omega2 = np.array([[6, 9],[8, 10],[9, 11],[8.5, 12],[7, 13.5],[8, 16]]).T\n",
    "z_1 = np.mean(omega1, axis=1)\n",
    "z_2 = np.mean(omega2, axis=1)\n",
    "print(z_1)\n",
    "print(z_2)"
   ]
  },
  {
   "cell_type": "markdown",
   "metadata": {},
   "source": [
    "$$\n",
    "\\begin{gathered}\n",
    "z_1=\\left\\{\\binom{3.35}{14}\\right\\} \\\\\n",
    "z_2=\\left\\{\\binom{7.75}{11.9166}\\right\\}\n",
    "\\end{gathered}\n",
    "$$\n",
    "\n",
    "Las funciones discrimantes son:\n",
    "$$\n",
    "\\begin{gathered}\n",
    "f d_K(X)=X^T \\cdot Z_K-\\frac{1}{2} \\cdot Z_K^T \\cdot Z_K \\quad \\forall k \\in K \\\\\n",
    "f d_1(X)=X^T \\cdot\\binom{3.35}{14}-\\frac{1}{2} \\cdot\\binom{3.35}{14}^T \\cdot\\binom{3.35}{14} \\\\\n",
    "f d_2(X)=X^T \\cdot\\binom{7.75}{11.9166}-\\frac{1}{2} \\cdot\\binom{7.75}{11.9166}^T \\cdot\\binom{7.75}{11.9166}\n",
    "\\end{gathered}\n",
    "$$\n",
    "\n",
    "Desarrollando las operaciones:\n",
    "$$\n",
    "\\begin{gathered}\n",
    "f d_1(X)=3.35 x_1+14 x_2-103.611 \\\\\n",
    "f d_2(X)=7.75 x_1+11.9166 x_2-101.033\n",
    "\\end{gathered}\n",
    "$$"
   ]
  },
  {
   "cell_type": "code",
   "execution_count": 10,
   "metadata": {},
   "outputs": [
    {
     "name": "stdout",
     "output_type": "stream",
     "text": [
      " Variables :  Matrix([[x1], [x2]])\n",
      "[Matrix([[3.35*x1 + 14.0*x2 - 103.61125]]), Matrix([[7.75*x1 + 11.9166666666667*x2 - 101.034722222222]])]\n"
     ]
    }
   ],
   "source": [
    "samples = (omega1, omega2)\n",
    "fds = clasif_e(samples)\n",
    "print(fds)"
   ]
  },
  {
   "cell_type": "code",
   "execution_count": 11,
   "metadata": {},
   "outputs": [
    {
     "data": {
      "text/latex": [
       "$\\displaystyle \\left[\\begin{matrix}3.35 x_{1} + 14.0 x_{2} - 103.61125\\end{matrix}\\right]$"
      ],
      "text/plain": [
       "Matrix([[3.35*x1 + 14.0*x2 - 103.61125]])"
      ]
     },
     "metadata": {},
     "output_type": "display_data"
    },
    {
     "data": {
      "text/latex": [
       "$\\displaystyle \\left[\\begin{matrix}7.75 x_{1} + 11.9166666666667 x_{2} - 101.034722222222\\end{matrix}\\right]$"
      ],
      "text/plain": [
       "Matrix([[7.75*x1 + 11.9166666666667*x2 - 101.034722222222]])"
      ]
     },
     "metadata": {},
     "output_type": "display_data"
    }
   ],
   "source": [
    "# fd1\n",
    "display(fds[0])\n",
    "# fd2\n",
    "display(fds[1])"
   ]
  },
  {
   "cell_type": "markdown",
   "metadata": {},
   "source": [
    "Tarea: \n",
    "\n",
    "Obtener las funciones discriminantes para las muestras:\n",
    "$$\n",
    "\\begin{aligned}\n",
    "& \\omega_1=\\{(0.5,10.5),(1,12.5),(3,10.5),(3,12.5),(3,14.5),(3,18),(5,18),(5,16),(5,14.5),(5,13)\\} \\\\\n",
    "& \\omega_2=\\{(6,9),(8,10),(9,11),(8.5,12),(7,13.5)(8,16)\\}\n",
    "\\end{aligned}\n",
    "$$\n",
    "\n",
    "Nota: Las matrices de covarianzas no son iguales: se obtendrán funciones discriminantes cónicas.\n",
    "$\\qquad$"
   ]
  },
  {
   "cell_type": "code",
   "execution_count": 12,
   "metadata": {},
   "outputs": [
    {
     "name": "stdout",
     "output_type": "stream",
     "text": [
      "[ 3.35 14.  ]\n",
      "[ 7.75       11.91666667]\n"
     ]
    }
   ],
   "source": [
    "m_1 = np.mean(omega1, axis=1)\n",
    "m_2 = np.mean(omega2, axis=1)\n",
    "print(m_1)\n",
    "print(m_2)"
   ]
  },
  {
   "cell_type": "markdown",
   "metadata": {},
   "source": [
    "$$\n",
    "\\begin{gathered}\n",
    "\\vec{m}_1=\\binom{3.35}{14} \\\\\n",
    "\\vec{m}_2=\\binom{7.75}{11.9166}\n",
    "\\end{gathered}\n",
    "$$\n",
    "\n",
    "Las matrices de covarianzas:\n",
    "$$\n",
    "\\begin{gathered}\n",
    "c 11=\\frac{1}{10}\\left((0.5-3.35)^2+(1-3.35)^2+(3-3.35)^2+\\cdots+(5-3.35)^2\\right) \\\\\n",
    "c 11=2.5025\n",
    "\\end{gathered}\n",
    "$$\n",
    "$$\n",
    "\\begin{gathered}\n",
    "c 12=c 21=\\frac{1}{10}((0.5-3.35)(10.5-14)+(1-3.35)(12.5-14)+(3-3.35)(10.5-14)+\\cdots+(5-3.35)(13-14)) \\\\\n",
    "c 12=2.275 \\\\\n",
    "c 22=\\frac{1}{10}\\left((10.5-14)^2+(12.5-14)^2+(10.5-14)^2+\\cdots+(13-14)^2\\right) \\\\\n",
    "c 22=6.65 \\\\\n",
    "C_1=\\left(\\begin{array}{cc}\n",
    "2.5025 & 2.275 \\\\\n",
    "2.275 & 6.65\n",
    "\\end{array}\\right)\n",
    "\\end{gathered}\n",
    "$$"
   ]
  },
  {
   "cell_type": "code",
   "execution_count": 13,
   "metadata": {},
   "outputs": [
    {
     "data": {
      "text/plain": [
       "array([[2.5025, 2.275 ],\n",
       "       [2.275 , 6.65  ]])"
      ]
     },
     "execution_count": 13,
     "metadata": {},
     "output_type": "execute_result"
    }
   ],
   "source": [
    "cov_1 = np.cov(omega1, bias=True)\n",
    "cov_1"
   ]
  }
 ],
 "metadata": {
  "kernelspec": {
   "display_name": "Python 3",
   "language": "python",
   "name": "python3"
  },
  "language_info": {
   "codemirror_mode": {
    "name": "ipython",
    "version": 3
   },
   "file_extension": ".py",
   "mimetype": "text/x-python",
   "name": "python",
   "nbconvert_exporter": "python",
   "pygments_lexer": "ipython3",
   "version": "3.13.0"
  }
 },
 "nbformat": 4,
 "nbformat_minor": 2
}
