{
  "nbformat": 4,
  "nbformat_minor": 0,
  "metadata": {
    "colab": {
      "provenance": []
    },
    "kernelspec": {
      "name": "python3",
      "display_name": "Python 3"
    },
    "language_info": {
      "name": "python"
    }
  },
  "cells": [
    {
      "cell_type": "code",
      "execution_count": 1,
      "metadata": {
        "id": "Gq99QFe8pCn_"
      },
      "outputs": [],
      "source": [
        "class mi_Clase(object):\n",
        "  \"\"\"Mi primera clase en Python\"\"\"\n",
        "  pass"
      ]
    },
    {
      "cell_type": "code",
      "source": [
        "obj = mi_Clase()\n",
        "type(obj)"
      ],
      "metadata": {
        "colab": {
          "base_uri": "https://localhost:8080/"
        },
        "id": "wiDSz-HLpQNW",
        "outputId": "ed2f65db-dc35-46f7-eefa-bbe127aa2193"
      },
      "execution_count": 2,
      "outputs": [
        {
          "output_type": "execute_result",
          "data": {
            "text/plain": [
              "__main__.mi_Clase"
            ]
          },
          "metadata": {},
          "execution_count": 2
        }
      ]
    },
    {
      "cell_type": "code",
      "source": [
        "print(obj)"
      ],
      "metadata": {
        "colab": {
          "base_uri": "https://localhost:8080/"
        },
        "id": "hp39Vx14pQJ6",
        "outputId": "c19ce935-3e6c-42ee-c664-68a9afa9970a"
      },
      "execution_count": 3,
      "outputs": [
        {
          "output_type": "stream",
          "name": "stdout",
          "text": [
            "<__main__.mi_Clase object at 0x7baa3d690ca0>\n"
          ]
        }
      ]
    },
    {
      "cell_type": "code",
      "source": [
        "help(obj)"
      ],
      "metadata": {
        "colab": {
          "base_uri": "https://localhost:8080/"
        },
        "collapsed": true,
        "id": "pFcJp05qpQGk",
        "outputId": "3252edcf-3338-49b0-b7d0-aa97e48fe3ce"
      },
      "execution_count": 4,
      "outputs": [
        {
          "output_type": "stream",
          "name": "stdout",
          "text": [
            "Help on mi_Clase in module __main__ object:\n",
            "\n",
            "class mi_Clase(builtins.object)\n",
            " |  Mi primera clase en Python\n",
            " |  \n",
            " |  Data descriptors defined here:\n",
            " |  \n",
            " |  __dict__\n",
            " |      dictionary for instance variables (if defined)\n",
            " |  \n",
            " |  __weakref__\n",
            " |      list of weak references to the object (if defined)\n",
            "\n"
          ]
        }
      ]
    },
    {
      "cell_type": "code",
      "source": [
        "class circulo():\n",
        "  pi = 3.141592653 #Atributos de clase , no se pueden cambiear y los comparten todos los objetos\n",
        "  def __init__(self,radio = 1):\n",
        "    self.radio = 1"
      ],
      "metadata": {
        "id": "y6t652YYpQDp"
      },
      "execution_count": 5,
      "outputs": []
    },
    {
      "cell_type": "code",
      "source": [
        "c1 = circulo()\n",
        "c2 = circulo(10)"
      ],
      "metadata": {
        "id": "21jLCj33pQA5"
      },
      "execution_count": 6,
      "outputs": []
    },
    {
      "cell_type": "code",
      "source": [
        "c1.pi"
      ],
      "metadata": {
        "colab": {
          "base_uri": "https://localhost:8080/"
        },
        "id": "TotKTs8wpP9-",
        "outputId": "004b21f6-be69-4694-ace7-75e14ad6cf26"
      },
      "execution_count": 7,
      "outputs": [
        {
          "output_type": "execute_result",
          "data": {
            "text/plain": [
              "3.141592653"
            ]
          },
          "metadata": {},
          "execution_count": 7
        }
      ]
    },
    {
      "cell_type": "code",
      "source": [
        "c1.pi = 3\n",
        "c1.pi"
      ],
      "metadata": {
        "colab": {
          "base_uri": "https://localhost:8080/"
        },
        "id": "llRF7YNOpP7D",
        "outputId": "fdadab7e-7f03-43f6-9126-be3d9b0e9a45"
      },
      "execution_count": 8,
      "outputs": [
        {
          "output_type": "execute_result",
          "data": {
            "text/plain": [
              "3"
            ]
          },
          "metadata": {},
          "execution_count": 8
        }
      ]
    },
    {
      "cell_type": "code",
      "source": [
        "c1.pi = 3\n",
        "print(c1.__class__.pi)\n",
        "print(c1.pi)"
      ],
      "metadata": {
        "colab": {
          "base_uri": "https://localhost:8080/"
        },
        "id": "J7fs4PhlpP4G",
        "outputId": "b0b4586e-c56e-4634-aece-641566896e39"
      },
      "execution_count": 9,
      "outputs": [
        {
          "output_type": "stream",
          "name": "stdout",
          "text": [
            "3.141592653\n",
            "3\n"
          ]
        }
      ]
    },
    {
      "cell_type": "code",
      "source": [
        "c2.pi"
      ],
      "metadata": {
        "colab": {
          "base_uri": "https://localhost:8080/"
        },
        "id": "on2P35kmpP1g",
        "outputId": "3e777d47-4e74-417e-8bea-34127a9bdf74"
      },
      "execution_count": 10,
      "outputs": [
        {
          "output_type": "execute_result",
          "data": {
            "text/plain": [
              "3.141592653"
            ]
          },
          "metadata": {},
          "execution_count": 10
        }
      ]
    },
    {
      "cell_type": "code",
      "source": [
        "c2.radio = 10\n",
        "c2.radio"
      ],
      "metadata": {
        "colab": {
          "base_uri": "https://localhost:8080/"
        },
        "id": "fayYd4knpPy5",
        "outputId": "46faaaf9-ae72-49f3-f59d-ea324d588c3b"
      },
      "execution_count": 11,
      "outputs": [
        {
          "output_type": "execute_result",
          "data": {
            "text/plain": [
              "10"
            ]
          },
          "metadata": {},
          "execution_count": 11
        }
      ]
    },
    {
      "cell_type": "code",
      "source": [
        "c1.radio\n",
        "c2.nuevo = \"hola\" # Atributo nuevo en ejecucion"
      ],
      "metadata": {
        "id": "ZumdUFOepPwH"
      },
      "execution_count": 12,
      "outputs": []
    },
    {
      "cell_type": "code",
      "source": [
        "c2.nuevo #En este ejmplo solo esta dsiponible para c2"
      ],
      "metadata": {
        "colab": {
          "base_uri": "https://localhost:8080/",
          "height": 35
        },
        "id": "xSNZlBFUpPtK",
        "outputId": "c63bdc03-b94b-45d4-e0a5-1eb623791e77"
      },
      "execution_count": 13,
      "outputs": [
        {
          "output_type": "execute_result",
          "data": {
            "text/plain": [
              "'hola'"
            ],
            "application/vnd.google.colaboratory.intrinsic+json": {
              "type": "string"
            }
          },
          "metadata": {},
          "execution_count": 13
        }
      ]
    },
    {
      "cell_type": "code",
      "source": [
        "class circulo():\n",
        "  pi = 3.141592653 #Atributos de clase , no se pueden cambiear y los comparten todos los objetos\n",
        "  def __init__(self,radio=1):\n",
        "    self.radio = radio\n",
        "  def area(self):\n",
        "    return self.pi * self.radio **2"
      ],
      "metadata": {
        "id": "CUw29BwtpPqC"
      },
      "execution_count": 14,
      "outputs": []
    },
    {
      "cell_type": "code",
      "source": [
        "c1 = circulo()\n",
        "c1.area()"
      ],
      "metadata": {
        "colab": {
          "base_uri": "https://localhost:8080/"
        },
        "id": "bUvRhNVlp1uZ",
        "outputId": "35213ffd-43e1-4b62-b251-73833cfac233"
      },
      "execution_count": 15,
      "outputs": [
        {
          "output_type": "execute_result",
          "data": {
            "text/plain": [
              "3.141592653"
            ]
          },
          "metadata": {},
          "execution_count": 15
        }
      ]
    },
    {
      "cell_type": "code",
      "source": [
        "c2 = circulo(10)\n",
        "c2.area()"
      ],
      "metadata": {
        "colab": {
          "base_uri": "https://localhost:8080/"
        },
        "id": "A-SxxUKfp3iH",
        "outputId": "ee5d5233-ac27-4024-a1e4-9da85c507d21"
      },
      "execution_count": 16,
      "outputs": [
        {
          "output_type": "execute_result",
          "data": {
            "text/plain": [
              "314.1592653"
            ]
          },
          "metadata": {},
          "execution_count": 16
        }
      ]
    },
    {
      "cell_type": "code",
      "source": [
        "class circulo():\n",
        "  pi = 3.141592653 #Atributos de clase , no se pueden cambiear y los comparten todos los objetos\n",
        "  todos_los_circulos = []\n",
        "  def __init__(self,radio = 1):\n",
        "    self.radio = radio\n",
        "    self.todos_los_circulos.append(self)\n",
        "  def area(self):\n",
        "    return self.pi * self.radio **2\n",
        "  @staticmethod\n",
        "  def area_total():\n",
        "    total = 0\n",
        "    for c in circulo.todos_los_circulos:\n",
        "      total += c.area()\n",
        "    return total"
      ],
      "metadata": {
        "id": "LixaDGKjp6DN"
      },
      "execution_count": 17,
      "outputs": []
    },
    {
      "cell_type": "code",
      "source": [
        "c1 = circulo()\n",
        "c2 = circulo(10)\n",
        "c3 = circulo(5)\n",
        "circulo.area_total()"
      ],
      "metadata": {
        "colab": {
          "base_uri": "https://localhost:8080/"
        },
        "id": "09JYEgU_p7_C",
        "outputId": "eef09967-5368-4887-b781-97a5bdf3ac70"
      },
      "execution_count": 18,
      "outputs": [
        {
          "output_type": "execute_result",
          "data": {
            "text/plain": [
              "395.840674278"
            ]
          },
          "metadata": {},
          "execution_count": 18
        }
      ]
    },
    {
      "cell_type": "code",
      "source": [
        "class circulo():\n",
        "    pi = 3.141592653 #Atributos de clase , no se pueden cambiear y los comparten todos los objetos\n",
        "    todos_los_circulos = []\n",
        "    def __init__(self,radio = 1):\n",
        "        self.radio = radio\n",
        "        self.todos_los_circulos.append(self)\n",
        "    def area(self):\n",
        "        return self.pi * self.radio **2\n",
        "    @classmethod\n",
        "    def area_total(cls): # The cls argument is implicitly passed to class methods\n",
        "        total = 0\n",
        "        for c in cls.todos_los_circulos: # cls : de cada objeto que se llama se le aplica la clase\n",
        "            total += c.area()\n",
        "        return total"
      ],
      "metadata": {
        "id": "gg42F8wcp-PR"
      },
      "execution_count": 21,
      "outputs": []
    },
    {
      "cell_type": "code",
      "source": [
        "c1 = circulo()\n",
        "c2 = circulo(10)\n",
        "c3 = circulo(5)\n",
        "circulo.area_total()"
      ],
      "metadata": {
        "colab": {
          "base_uri": "https://localhost:8080/"
        },
        "id": "lYE5zvrfqAms",
        "outputId": "02e376d0-f47f-4336-903d-291bec35c3f1"
      },
      "execution_count": 22,
      "outputs": [
        {
          "output_type": "execute_result",
          "data": {
            "text/plain": [
              "395.840674278"
            ]
          },
          "metadata": {},
          "execution_count": 22
        }
      ]
    },
    {
      "cell_type": "markdown",
      "source": [
        "  # Herencia"
      ],
      "metadata": {
        "id": "oV23whuAqUyf"
      }
    },
    {
      "cell_type": "code",
      "source": [
        "class forma(object):\n",
        "  def __init__(self, x , y):\n",
        "    self.x = x\n",
        "    self.y = y\n",
        "  def mover(self,dx=0,dy=0):\n",
        "    self.x = dx\n",
        "    self.y = dy\n",
        "\n",
        "class cuadro(forma):\n",
        "  def __init__(self, lado = 1, x=0, y=0):\n",
        "    super().__init__(x,y) #llama a __init__ de forma\n",
        "    self.lado = lado\n",
        "class circulo(forma):\n",
        "  def __init__(self, radio=1, x = 0, y = 0):\n",
        "    super().__init__(x,y)\n",
        "    self.radio = radio"
      ],
      "metadata": {
        "id": "Lh4iKub1qYDF"
      },
      "execution_count": 23,
      "outputs": []
    }
  ]
}