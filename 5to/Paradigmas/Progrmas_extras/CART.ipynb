{
 "cells": [
  {
   "cell_type": "markdown",
   "metadata": {},
   "source": [
    "Librerias "
   ]
  },
  {
   "cell_type": "code",
   "execution_count": 2,
   "metadata": {},
   "outputs": [],
   "source": [
    "import numpy as np"
   ]
  },
  {
   "cell_type": "markdown",
   "metadata": {},
   "source": [
    "Metrica Estimate of Positive Correctness"
   ]
  },
  {
   "cell_type": "code",
   "execution_count": 3,
   "metadata": {},
   "outputs": [],
   "source": [
    "def epc_c(groups, classes):\n",
    "    tot_samp = sum([len(group) for group in groups])\n",
    "    epc = 0.0\n",
    "    for group in groups:\n",
    "        if len(group) == 0:\n",
    "            continue\n",
    "        score = 0.0\n",
    "        for class_val in classes:\n",
    "            proportion = [row[-1] for row in group].count(class_val) /len(group)\n",
    "            score += proportion ** 2\n",
    "        epc += score * (len(group)/ tot_samp)\n",
    "    return epc\n"
   ]
  },
  {
   "cell_type": "markdown",
   "metadata": {},
   "source": [
    "Variance reduction"
   ]
  },
  {
   "cell_type": "code",
   "execution_count": 4,
   "metadata": {},
   "outputs": [],
   "source": [
    "def vari_red(groups):\n",
    "    total_samples = sum([len(group) for group in groups])\n",
    "    if total_samples == 0:\n",
    "        return 0  \n",
    "    total_variance = 0.0\n",
    "    for group in groups:\n",
    "        if len(group) == 0:  #\n",
    "            continue\n",
    "        variance = np.var([row[-1] for row in group]) \n",
    "        total_variance += len(group) * variance  \n",
    "    return total_variance / total_samples"
   ]
  },
  {
   "cell_type": "markdown",
   "metadata": {},
   "source": [
    "CART"
   ]
  },
  {
   "cell_type": "code",
   "execution_count": 5,
   "metadata": {},
   "outputs": [],
   "source": [
    "def split_node(index, value, data):\n",
    "    left, right = [], []\n",
    "    for row in data:\n",
    "        if row[index] < value:\n",
    "            left.append(row)\n",
    "        else:\n",
    "            right.append(row)\n",
    "    return left, right\n",
    "\n",
    "def best_split(data, metric, is_clasification = True):\n",
    "    class_values = list(set(row[-1] for row in data))\n",
    "    b_index, b_value, b_score, b_groups = None, None, float('-inf') if is_clasification else float('inf'), None\n",
    "    for index in range(len(data[0]) - 1):\n",
    "        for row in data:\n",
    "            groups = split_node(index, row[index], data)\n",
    "            score = metric(groups, class_values) if is_clasification else vari_red(groups)\n",
    "            if (is_clasification and score > b_score) or (not is_clasification and score < b_score):\n",
    "                b_index, b_value, best_score, b_groups = index, row[index], score, groups\n",
    "    return {'index': b_index, 'value': b_value, 'groups': b_groups}\n",
    "\n",
    "def leaf(group):\n",
    "    out = [row[-1] for row in group]\n",
    "    return max(set(out), key=out.count)\n",
    "\n",
    "def split(node, max_depth, min_size, depth, metric, is_clasification = True):\n",
    "    left, right = node['groups']\n",
    "    del(node['groups'])\n",
    "    if not left or not right:\n",
    "        node['left'] = node['right'] = leaf(left + right)\n",
    "        return\n",
    "    if depth >= max_depth:\n",
    "        node['left'], node['right'] = leaf(left), leaf(right)\n",
    "        return\n",
    "    if len(left) <= min_size:\n",
    "        node['left'] = leaf(left)\n",
    "    else:\n",
    "        node['left'] = best_split(left, metric, is_clasification)\n",
    "        split(node['left'], max_depth, min_size, depth+1, metric, is_clasification)\n",
    "    if len(right) <= min_size:\n",
    "        node['right'] = leaf(right)\n",
    "    else:\n",
    "        node['right'] = best_split(right, metric, is_clasification)\n",
    "        split(node['right'], max_depth, min_size, depth+1, metric, is_clasification) \n",
    "\n",
    "def tree(train, max_depth, min_size, metric, is_clasification=True):\n",
    "    root = best_split(train, metric, is_clasification)\n",
    "    split(root, max_depth, min_size, 1, metric, is_clasification)\n",
    "    return root\n",
    "\n",
    "def predction(node, row):\n",
    "    if row[node['index']] < node['value']:\n",
    "        if isinstance(node['left'], dict):\n",
    "            return predction(node['left'], row)\n",
    "        else:\n",
    "            return node['left']\n",
    "    else:\n",
    "        if isinstance(node['right'], dict):\n",
    "            return predction(node['right'], row)\n",
    "        else:\n",
    "            return node['right']"
   ]
  },
  {
   "cell_type": "markdown",
   "metadata": {},
   "source": [
    "Ejemplo"
   ]
  },
  {
   "cell_type": "code",
   "execution_count": 6,
   "metadata": {},
   "outputs": [],
   "source": [
    "data = [\n",
    "    [2.5, 3.5, 1.5, 0],  \n",
    "    [1.0, 2.0, 1.0, 0],\n",
    "    [3.0, 4.0, 2.0, 0],\n",
    "    [4.5, 5.5, 2.5, 1],\n",
    "    [5.0, 6.0, 3.0, 1],\n",
    "    [6.5, 7.5, 3.5, 1],\n",
    "    [1.5, 2.5, 1.2, 0],\n",
    "    [7.0, 8.0, 4.0, 1],\n",
    "    [8.0, 9.0, 5.0, 1],\n",
    "    [4.0, 2.0, 1.8, 0],\n",
    "    [9.0, 7.5, 6.0, 1],\n",
    "    [5.5, 6.5, 3.3, 1],\n",
    "]\n",
    "tree_classification = tree(data, max_depth=3, min_size=2, metric=epc_c, is_clasification=True)\n"
   ]
  },
  {
   "cell_type": "code",
   "execution_count": 7,
   "metadata": {},
   "outputs": [],
   "source": [
    "# Varience \n",
    "data_regression = [\n",
    "    [2.5, 3.5, 1.5, 10.0],\n",
    "    [1.0, 2.0, 1.0, 12.0],\n",
    "    [3.0, 4.0, 2.0, 15.0],\n",
    "    [4.5, 5.5, 2.5, 20.0],\n",
    "    [5.0, 6.0, 3.0, 25.0],\n",
    "    [6.5, 7.5, 3.5, 30.0],\n",
    "    [1.5, 2.5, 1.2, 11.0],\n",
    "    [7.0, 8.0, 4.0, 35.0],\n",
    "    [8.0, 9.0, 5.0, 40.0],\n",
    "    [4.0, 2.0, 1.8, 18.0],\n",
    "    [9.0, 7.5, 6.0, 45.0],\n",
    "    [5.5, 6.5, 3.3, 28.0],\n",
    "]\n",
    "\n",
    "tree_regression = tree(data_regression, max_depth=3, min_size=2, metric=vari_red, is_clasification=False)\n"
   ]
  },
  {
   "cell_type": "code",
   "execution_count": 8,
   "metadata": {},
   "outputs": [
    {
     "name": "stdout",
     "output_type": "stream",
     "text": [
      "Árbol de Clasificación:\n",
      "{'index': 2,\n",
      " 'left': {'index': 2,\n",
      "          'left': {'index': 2, 'left': 0, 'right': 0, 'value': 1.2},\n",
      "          'right': {'index': 2, 'left': 0, 'right': 0, 'value': 1.8},\n",
      "          'value': 1.8},\n",
      " 'right': {'index': 2, 'left': 1, 'right': 1, 'value': 3.3},\n",
      " 'value': 3.3}\n",
      "\n",
      "Árbol de Regresión:\n",
      "{'index': 2,\n",
      " 'left': {'index': 2,\n",
      "          'left': {'index': 2, 'left': 12.0, 'right': 10.0, 'value': 1.2},\n",
      "          'right': {'index': 2, 'left': 25.0, 'right': 25.0, 'value': 1.8},\n",
      "          'value': 1.8},\n",
      " 'right': {'index': 2, 'left': 35.0, 'right': 35.0, 'value': 3.3},\n",
      " 'value': 3.3}\n"
     ]
    }
   ],
   "source": [
    "import pprint\n",
    "\n",
    "print(\"Árbol de Clasificación:\")\n",
    "pprint.pprint(tree_classification)\n",
    "\n",
    "print(\"\\nÁrbol de Regresión:\")\n",
    "pprint.pprint(tree_regression)"
   ]
  },
  {
   "cell_type": "code",
   "execution_count": 9,
   "metadata": {},
   "outputs": [],
   "source": [
    "from graphviz import Digraph\n",
    "def tree_plot(node, graph=None, parent=None, label=None):\n",
    "    if graph is None:\n",
    "        graph = Digraph(format='png')\n",
    "        graph.attr(dpi='300')\n",
    "\n",
    "    if isinstance(node, (int, float)):  \n",
    "        graph.node(str(id(node)), f'Leaf: {node}', shape='box')\n",
    "    else:\n",
    "        condition = f'Feature {node[\"index\"]} < {node[\"value\"]:.2f}'\n",
    "        graph.node(str(id(node)), condition)\n",
    "\n",
    "    if parent is not None:\n",
    "        graph.edge(parent, str(id(node)), label=label)\n",
    "\n",
    "    if isinstance(node, dict): \n",
    "        if 'left' in node:\n",
    "            tree_plot(node['left'], graph, str(id(node)), 'True')\n",
    "        if 'right' in node:\n",
    "            tree_plot(node['right'], graph, str(id(node)), 'False')\n",
    "\n",
    "    return graph"
   ]
  },
  {
   "cell_type": "code",
   "execution_count": 12,
   "metadata": {},
   "outputs": [
    {
     "data": {
      "text/plain": [
       "'Arbol de Clasificacion.png'"
      ]
     },
     "execution_count": 12,
     "metadata": {},
     "output_type": "execute_result"
    }
   ],
   "source": [
    "# Grafica Clasificacion \n",
    "tree_classification = tree(data, max_depth=3, min_size=2, metric=epc_c, is_clasification=True)\n",
    "graph_classification = tree_plot(tree_classification)\n",
    "graph_classification.render(\"Arbol de Clasificacion\", view=True)  \n"
   ]
  },
  {
   "cell_type": "code",
   "execution_count": 13,
   "metadata": {},
   "outputs": [
    {
     "data": {
      "text/plain": [
       "'Arbol de Regresion.png'"
      ]
     },
     "execution_count": 13,
     "metadata": {},
     "output_type": "execute_result"
    }
   ],
   "source": [
    "# Grafica de regresion \n",
    "tree_regression = tree(data_regression, max_depth=3, min_size=2, metric=vari_red, is_clasification=False)\n",
    "graph_regression = tree_plot(tree_regression)\n",
    "graph_regression.render(\"Arbol de Regresion\", view=True)"
   ]
  }
 ],
 "metadata": {
  "kernelspec": {
   "display_name": "Python 3",
   "language": "python",
   "name": "python3"
  },
  "language_info": {
   "codemirror_mode": {
    "name": "ipython",
    "version": 3
   },
   "file_extension": ".py",
   "mimetype": "text/x-python",
   "name": "python",
   "nbconvert_exporter": "python",
   "pygments_lexer": "ipython3",
   "version": "3.13.0"
  }
 },
 "nbformat": 4,
 "nbformat_minor": 2
}
