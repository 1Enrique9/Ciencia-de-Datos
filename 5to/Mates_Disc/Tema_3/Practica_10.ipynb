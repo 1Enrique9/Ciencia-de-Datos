{
 "cells": [
  {
   "cell_type": "markdown",
   "metadata": {
    "id": "BBhDrRbz8X-b"
   },
   "source": [
    "## Ejercicio 1\n",
    "\n",
    "Dado un arreglo $L$, para índices $i, j$ con $i<j$, decimos que $L_i$ y $L_j$ forman una *inversión* si $L_i>L_j$. Por ejemplo, el arreglo:\n",
    "\n",
    "$$\n",
    "L = [2, 4, 1, 3, 5]\n",
    "$$\n",
    "\n",
    "Tiene tres inversiones: $(2,1),(4,1),(4,3)$.\n",
    "\n",
    "Diseña un algoritmo de divide y vencerás que cuente el número de inversiones en un arreglo. Este debe de correr en tiempo $O(n\\log n)$."
   ]
  },
  {
   "cell_type": "markdown",
   "metadata": {
    "id": "i4YNiLl38X-b"
   },
   "source": [
    "- Primero se divide el arreglo en dos de manera recursiva hasta que cada subarreglo tenga un solo elemento (o esté vacío), lo cual es el caso base sin inversiones \n",
    "- Despues se cuentan las inversiones dentro de la mitad izquierda y la mitad derecha recursivamente y ademas se cuentan las inversiones cruzadas entre las dos mitades usando la función 'merge_and_count'\n",
    "- Prodecemos a el proceso de combinación de modod que si un elemento en el subarreglo derecho es menor que un elemento en el subarreglo izquierdo, entonces todos los elementos restantes en el subarreglo izquierdo forman una inversión con este elemento.\n",
    "\n",
    "Complejidad: \n",
    "- Al dividir el arreglo toma $O(logn)$ niveles de recursion \n",
    "- Al combinar los dos subconjutnos en cada nivl toma $O(n)$\n",
    "\n",
    "Por lo que el total de la complejidad es de $O(nlogn)$"
   ]
  },
  {
   "cell_type": "code",
   "execution_count": null,
   "metadata": {
    "id": "a75TYsmJ8X-b"
   },
   "outputs": [],
   "source": [
    "def count_inversions(L):\n",
    "    \"\"\"\n",
    "    Counts the number of inversions in an array using a divide-and-conquer algorithm\n",
    "    based on Merge Sort. A reversal occurs when, for two indices i and j with i < j, L[i] > L[j].\n",
    "    \n",
    "    Parameters:\n",
    "    -----------------\n",
    "    L (list): The array of numbers to analyze\n",
    "    \n",
    "    Returns:\n",
    "    -----------------\n",
    "    int: The total number of inversions in the array\n",
    "    \"\"\"\n",
    "    def merge_and_count(left, right):\n",
    "        \"\"\"\n",
    "        Merges two sorted arrays and counts the cross-inversions between them\n",
    "        \n",
    "        Parameters:\n",
    "        --------------\n",
    "        left (list): Sorted subarray on the left\n",
    "        right (list): Sorted subarray on the right\n",
    "        \n",
    "        Returns:\n",
    "        -------------\n",
    "        tuple:\n",
    "        - merged (list): Sorted and merged array\n",
    "        - inversions (int): Number of cross-inversions\n",
    "        \"\"\"\n",
    "        i = j = 0\n",
    "        merged = []\n",
    "        inversions = 0\n",
    "        while i < len(left) and j < len(right):\n",
    "            if left[i] <= right[j]:\n",
    "                merged.append(left[i])\n",
    "                i += 1\n",
    "            else:\n",
    "                merged.append(right[j])\n",
    "                j += 1\n",
    "                inversions += len(left) - i\n",
    "        merged.extend(left[i:])\n",
    "        merged.extend(right[j:])\n",
    "        return merged, inversions\n",
    "\n",
    "    def sort_and_count(arr):\n",
    "        \"\"\"\n",
    "        Sorts the array and counts the investments using the divide-and-conquer paradigm.\n",
    "        \n",
    "        Parameters:\n",
    "        ---------------\n",
    "        arr (list): The subarray to process\n",
    "        \n",
    "        Returns:\n",
    "        --------------\n",
    "        tuple:\n",
    "        - sorted_arr (list): Sorted subarray\n",
    "        - total_inversions (int): Total number of investments in the subarray\n",
    "        \"\"\"\n",
    "        if len(arr) <= 1:\n",
    "            return arr, 0\n",
    "        mid = len(arr) // 2\n",
    "        left, left_inv = sort_and_count(arr[:mid])\n",
    "        right, right_inv = sort_and_count(arr[mid:])\n",
    "        merged, cross_inv = merge_and_count(left, right)\n",
    "        total_inversions = left_inv + right_inv + cross_inv\n",
    "        return merged, total_inversions\n",
    "\n",
    "    _, total_inversions = sort_and_count(L)\n",
    "    return total_inversions"
   ]
  },
  {
   "cell_type": "code",
   "execution_count": 6,
   "metadata": {},
   "outputs": [
    {
     "name": "stdout",
     "output_type": "stream",
     "text": [
      "El nuemero de inversiones es: 3\n"
     ]
    }
   ],
   "source": [
    "L = [2,4,1,3,5]\n",
    "print('El nuemero de inversiones es:', count_inversions(L))"
   ]
  },
  {
   "cell_type": "markdown",
   "metadata": {
    "id": "m555_xyU8X-c"
   },
   "source": [
    "## Ejercicio 2\n",
    "\n",
    "Diseña un algoritmo de divide y vencerás que invierta un arreglo. Por ejemplo, $[1,2,3,4]$ se vuelve $[4,3,2,1]$."
   ]
  },
  {
   "cell_type": "markdown",
   "metadata": {
    "id": "bsrmZNsY8X-c"
   },
   "source": [
    "Veamos el algoritmo:\n",
    "- Primero el areglo se divide en dos mitades utilizando el índice medio (half = len(A) // 2) despues como cada mitad se pasa de manera recursiva a la función reverse_array.\n",
    "- Ahora bien cuando la longitud del arreglo es menor o igual a 1, el arreglo ya está invertido, así que se devuelve directamente.\n",
    "- Se invierten las dos mitades recursivamente y as mitades invertidas se combinan en orden inverso (return right + left), asegurando que los elementos más lejanos queden en las posiciones iniciales del arreglo final\n",
    "\n",
    "Complejidad Temporal : \n",
    "Al dividir toma $O(1)$ pero se hace cada nivel de recursion y como hay $log n$ niveles y cada nivel comina subconjuntos de tamaño n, el resultado es de $O(n logn)$"
   ]
  },
  {
   "cell_type": "code",
   "execution_count": null,
   "metadata": {
    "id": "Dbqgdet08X-c"
   },
   "outputs": [],
   "source": [
    "def reverse_array(A):\n",
    "    \"\"\"\n",
    "    Inverts an array using the divide-and-conquer paradigm.\n",
    "    This algorithm recursively divides the array into two halves,\n",
    "    inverts each halve, and then combines the parts in reversed order.\n",
    "    Parameters:\n",
    "    -----------\n",
    "    A : list\n",
    "        List of elements to be reversed.\n",
    "    Returns:\n",
    "    --------\n",
    "    list\n",
    "        A new list with the elements in reverse order from the original.\n",
    "    \"\"\"\n",
    "    if len(A) <= 1:\n",
    "        return A\n",
    "    \n",
    "    half = len(A) // 2\n",
    "    \n",
    "    left = reverse_array(A[:half])\n",
    "    right = reverse_array(A[half:])\n",
    "    \n",
    "    return right + left"
   ]
  },
  {
   "cell_type": "code",
   "execution_count": 16,
   "metadata": {
    "id": "6kdkEhLK8X-c"
   },
   "outputs": [
    {
     "name": "stdout",
     "output_type": "stream",
     "text": [
      "La lista invertida es: [4, 3, 2, 1]\n"
     ]
    }
   ],
   "source": [
    "A = [1, 2, 3, 4]\n",
    "result = reverse_array(A)\n",
    "print('La lista invertida es:', result)"
   ]
  }
 ],
 "metadata": {
  "colab": {
   "provenance": []
  },
  "kernelspec": {
   "display_name": "Python 3",
   "language": "python",
   "name": "python3"
  },
  "language_info": {
   "codemirror_mode": {
    "name": "ipython",
    "version": 3
   },
   "file_extension": ".py",
   "mimetype": "text/x-python",
   "name": "python",
   "nbconvert_exporter": "python",
   "pygments_lexer": "ipython3",
   "version": "3.13.0"
  }
 },
 "nbformat": 4,
 "nbformat_minor": 0
}
