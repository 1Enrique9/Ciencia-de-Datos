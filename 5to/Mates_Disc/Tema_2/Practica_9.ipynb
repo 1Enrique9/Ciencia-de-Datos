{
 "cells": [
  {
   "cell_type": "markdown",
   "id": "f77cdf79-15d5-44b8-89e1-5d1243469b70",
   "metadata": {
    "id": "f77cdf79-15d5-44b8-89e1-5d1243469b70"
   },
   "source": [
    "## Ejercicio 1\n",
    "\n",
    "Reescribe el algoritmo para el problema de las monedas cuando tienes un número limitado de monedas de cada denominación."
   ]
  },
  {
   "cell_type": "markdown",
   "id": "1ed59ca5-69cc-4eb3-b431-c7aeb4d67150",
   "metadata": {
    "id": "1ed59ca5-69cc-4eb3-b431-c7aeb4d67150"
   },
   "source": [
    "*Aquí va la descripción de tu algoritmo."
   ]
  },
  {
   "cell_type": "code",
   "execution_count": 4,
   "id": "ca924066-1bdc-4337-876d-39e8b39b5026",
   "metadata": {
    "id": "ca924066-1bdc-4337-876d-39e8b39b5026"
   },
   "outputs": [],
   "source": [
    "def monedas_limitadas(n, monedas, limits):\n",
    "    max_indx = len(monedas) - 1\n",
    "    count = [0] * len(monedas)\n",
    "    while n > 0 and max_indx >= 0:\n",
    "        max_per_coin = min(n// monedas[max_indx], limits[max_indx])\n",
    "        count[max_indx] = max_per_coin\n",
    "        n -= max_per_coin * monedas[max_indx]\n",
    "        max_indx -= 1\n",
    "    if n > 0:\n",
    "        return None, count\n",
    "    return sum(count),count "
   ]
  },
  {
   "cell_type": "code",
   "execution_count": 7,
   "id": "b850b82b",
   "metadata": {},
   "outputs": [
    {
     "name": "stdout",
     "output_type": "stream",
     "text": [
      "{4: (2, [0, 2, 0, 0])}\n",
      "{6: (2, [1, 0, 1, 0])}\n",
      "{12: (2, [0, 1, 0, 1])}\n",
      "{21: (3, [1, 0, 0, 2])}\n",
      "{32: (4, [0, 1, 0, 3])}\n"
     ]
    }
   ],
   "source": [
    "monedas = [1,2,5,10]\n",
    "limits = [4,3,2,3]\n",
    "test = [4,6,12,21,32]\n",
    "for n in test:\n",
    "    resultados_lim = print({n: monedas_limitadas(n,monedas,limits)})\n",
    "resultados_lim"
   ]
  },
  {
   "cell_type": "markdown",
   "id": "c1e91a5b",
   "metadata": {},
   "source": [
    "Por lo que en : \n",
    "- n = 4 , Se necesita 2 monedas de 2\n",
    "- n = 6 , Se necesita 1 moneda de 1 y 1 de 5\n",
    " \n",
    "Asi con todas, es lo que nos dice "
   ]
  },
  {
   "cell_type": "markdown",
   "id": "9a6b6bfc-0a93-4017-b6ff-3e1f5215dd6f",
   "metadata": {
    "id": "9a6b6bfc-0a93-4017-b6ff-3e1f5215dd6f"
   },
   "source": [
    "## Ejercicio 2\n",
    "\n",
    "* Tienes un conjunto de $n$ sustancias en forma de líquido. La sustancia $i$ tiene un valor total $v_i$, y un peso total $w_i$.\n",
    "* Tienes una mochila que puede aguantar un peso máximo $z$.\n",
    "* Puedes escoger cuánto de cada sustancia llevar (i.e., puedes escoger no llevar la sustancia $i$, o llevar solo la mitad, o un tercio, etc.) El valor de la parte que llevas es proporcional (i.e., si escoges $\\frac{w_i}{2}$ de la sustancia $i$, el valor correspondiente será $\\frac{v_i}{2}$)\n",
    "\n",
    "Diseña un algoritmo voraz que escoja las sustancias tal que el valor total se maximice. A este problema se le conoce como el **problema de la mochila continuo** (o **fraccional**)."
   ]
  },
  {
   "cell_type": "markdown",
   "id": "1032dfe5-cdfa-4b8a-83a3-e77b5c225f49",
   "metadata": {
    "id": "1032dfe5-cdfa-4b8a-83a3-e77b5c225f49"
   },
   "source": [
    "*Aquí va la explicación de tu algoritmo*"
   ]
  },
  {
   "cell_type": "code",
   "execution_count": 8,
   "id": "ce35fe5d-f939-4150-9a16-024830ad78ca",
   "metadata": {
    "id": "ce35fe5d-f939-4150-9a16-024830ad78ca"
   },
   "outputs": [],
   "source": [
    "def knapsack_continuous(W, V, z):\n",
    "    proporcion = sorted([(V[i] / W[i], W[i], V[i]) for i in range(len(W))], reverse=True)\n",
    "    print(proporcion)\n",
    "    valor_total = 0\n",
    "    for valor_Por_peso, peso, valor in proporcion: \n",
    "        if z >= peso:\n",
    "            z -= peso\n",
    "            valor_total += valor\n",
    "        else:\n",
    "            valor_total += valor_Por_peso * z\n",
    "            break\n",
    "    return valor_total"
   ]
  },
  {
   "cell_type": "code",
   "execution_count": 12,
   "id": "35c91872",
   "metadata": {},
   "outputs": [
    {
     "name": "stdout",
     "output_type": "stream",
     "text": [
      "[(4.384615384615385, 13, 57), (4.304347826086956, 23, 99), (3.914285714285714, 35, 137)]\n"
     ]
    },
    {
     "data": {
      "text/plain": [
       "293"
      ]
     },
     "execution_count": 12,
     "metadata": {},
     "output_type": "execute_result"
    }
   ],
   "source": [
    "W = [13,23,35]\n",
    "V = [57,99,137]\n",
    "z = 100\n",
    "knapsack_continuous(W,V,z)"
   ]
  },
  {
   "cell_type": "markdown",
   "id": "f19225ea",
   "metadata": {
    "id": "f19225ea"
   },
   "source": [
    "Éxito :)"
   ]
  }
 ],
 "metadata": {
  "colab": {
   "provenance": []
  },
  "kernelspec": {
   "display_name": "Python 3",
   "language": "python",
   "name": "python3"
  },
  "language_info": {
   "codemirror_mode": {
    "name": "ipython",
    "version": 3
   },
   "file_extension": ".py",
   "mimetype": "text/x-python",
   "name": "python",
   "nbconvert_exporter": "python",
   "pygments_lexer": "ipython3",
   "version": "3.13.0"
  }
 },
 "nbformat": 4,
 "nbformat_minor": 5
}
