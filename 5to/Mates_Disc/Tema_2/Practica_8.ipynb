{
  "cells": [
    {
      "cell_type": "markdown",
      "metadata": {
        "id": "view-in-github"
      },
      "source": [
        "<a href=\"https://colab.research.google.com/github/RodolfoFigueroa/madi2024/blob/main/Unidad_2/03_Algoritmos_de_ordenamiento.ipynb\" target=\"_parent\"><img src=\"https://colab.research.google.com/assets/colab-badge.svg\" alt=\"Open In Colab\"/></a>"
      ]
    },
    {
      "cell_type": "markdown",
      "metadata": {
        "id": "WBoB98uhCvF4"
      },
      "source": [
        "En esta libreta, veremos algunos algoritmos de ordenamiento.\n",
        "\n",
        "Primero, importamos las librerías necesarias:"
      ]
    },
    {
      "cell_type": "code",
      "execution_count": null,
      "metadata": {
        "id": "imjoH3kOEfbF"
      },
      "outputs": [],
      "source": [
        "import numpy as np"
      ]
    },
    {
      "cell_type": "markdown",
      "metadata": {
        "id": "mSpCPhBfAmy1"
      },
      "source": [
        "Luego, generamos una lista de ejemplo:"
      ]
    },
    {
      "cell_type": "code",
      "execution_count": null,
      "metadata": {
        "colab": {
          "base_uri": "https://localhost:8080/"
        },
        "outputId": "28e5516b-b98d-4cf9-e7a0-31c813582b65",
        "id": "TY1IIYZ9Amy2"
      },
      "outputs": [
        {
          "name": "stdout",
          "output_type": "stream",
          "text": [
            "[8 9 7 3 6 5 4 7 8 8]\n"
          ]
        }
      ],
      "source": [
        "L = np.random.randint(0, 10, 10)\n",
        "print(L)"
      ]
    },
    {
      "cell_type": "markdown",
      "metadata": {
        "id": "ngB1WB_6Amy3"
      },
      "source": [
        "# Algoritmos"
      ]
    },
    {
      "cell_type": "markdown",
      "metadata": {
        "id": "ZkNBopT2Amy3"
      },
      "source": [
        "https://youtube.com/playlist?list=PLOmdoKois7_FK-ySGwHBkltzB11snW7KQ&si=rFTrOmy2dSNZ3rK6"
      ]
    },
    {
      "cell_type": "markdown",
      "metadata": {
        "id": "wtHJTv9zAmy4"
      },
      "source": [
        "## Insertion sort\n",
        "\n",
        "Para cada elemento $X$ de la lista (excluyendo el primero), hacemos lo siguiente:\n",
        "\n",
        "1. Lo comparamos con el elemento a su izquierda, llámese $L$.\n",
        "2. Si $X < L$, intercambiamos $X$ y $L$.\n",
        "3. Repetimos hasta que $L < X$, o lleguemos al principio de la lista."
      ]
    },
    {
      "cell_type": "code",
      "execution_count": null,
      "metadata": {
        "id": "6bk05_twAmy4"
      },
      "outputs": [],
      "source": [
        "def insertion_sort(a):\n",
        "    for i in range(1, len(a)): #recorremos del segundo elemento al último\n",
        "        key = a[i] # elemento que quiero acomodar\n",
        "        j = i - 1 # nos fijamos en el de la izquierda\n",
        "        while j >= 0 and key < a[j]:\n",
        "            a[j + 1] = a[j]\n",
        "            j = j - 1 #nos movemos a la izquierda j -= 1\n",
        "        a[j + 1] = key #ponemos al elemento en su lugar"
      ]
    },
    {
      "cell_type": "code",
      "execution_count": null,
      "metadata": {
        "id": "-JCo90IsAmy5",
        "outputId": "429f128f-95a0-43ea-8cbb-6cc53449461f"
      },
      "outputs": [
        {
          "name": "stdout",
          "output_type": "stream",
          "text": [
            "[3 4 5 6 7 7 8 8 8 9]\n"
          ]
        }
      ],
      "source": [
        "temp = L.copy() # hacemos la copy para no ordenar el arreglo original\n",
        "insertion_sort(temp)\n",
        "print(temp)"
      ]
    },
    {
      "cell_type": "markdown",
      "metadata": {
        "id": "8j8t7aNCAmy5"
      },
      "source": [
        "* **Tiempo:** En el peor de los casos, el arreglo está ordenado al revés. Entonces, tendremos que comparar cada elemento con todos los elementos anteriores; en otras palabras, en la primera iteración haremos 1 comparación, luego 2, luego 3, y así hasta $n$. Por lo tanto, el número total de comparaciones es igual a la suma de los primeros $n$ naturales, que sabemos es de orden $O(n^2)$.\n",
        "\n",
        "De manera implícita tenemos la suma de los primeros n números:\n",
        "\n",
        "$$\\frac{n(n+1)}{2} = \\frac{n^2+n}{2}$$\n",
        "\n",
        "\n",
        "* **Espacio:** Como solo maneja variables simples, la complejidad es $O(1)$. - sin considerar el arreglo\n",
        "\n",
        "![image.png](attachment:image.png)"
      ]
    },
    {
      "cell_type": "markdown",
      "metadata": {
        "id": "8PJ6QnUqAmy6"
      },
      "source": [
        "## Bubble sort\n",
        "\n",
        "1. Recorremos el arreglo, comparando cada par de elementos.\n",
        "2. Si un par no está ordenado, los intercambiamos.\n",
        "3. Repetimos esto hasta llegar al final del arreglo.\n",
        "4. Si hicimos al menos un intercambio (i.e., la lista no estaba ordenada), volvemos a empezar."
      ]
    },
    {
      "cell_type": "code",
      "execution_count": null,
      "metadata": {
        "id": "jZV_ap6BAmy6"
      },
      "outputs": [],
      "source": [
        "def bubble_sort(a):\n",
        "    swapped = True\n",
        "    while swapped:\n",
        "        swapped = False\n",
        "        for i in range(len(a)-1): #recorremos todo el arreglo\n",
        "            if a[i] > a[i+1]: #comparamos\n",
        "                a[i], a[i+1] = a[i+1], a[i]\n",
        "                swapped = True #Si hicimos un intercambio"
      ]
    },
    {
      "cell_type": "code",
      "execution_count": null,
      "metadata": {
        "id": "PERRwoGjAmy6",
        "outputId": "c1f9d45d-4f8e-4e18-cdea-3dc711976714"
      },
      "outputs": [
        {
          "name": "stdout",
          "output_type": "stream",
          "text": [
            "[3 4 5 6 7 7 8 8 8 9]\n"
          ]
        }
      ],
      "source": [
        "temp = L.copy()\n",
        "bubble_sort(temp)\n",
        "print(temp)"
      ]
    },
    {
      "cell_type": "markdown",
      "metadata": {
        "id": "m5xr29FUAmy7"
      },
      "source": [
        "* **Tiempo:** Si el arreglo está ordenado al revés, en la primera iteración \"llevaremos\" el elemento más grande al último lugar. Después, en la siguiente iteración haremos lo mismo con el segundo más grande, y así sucesivamente. Entonces, la complejidad será de $O(n^2)$.\n",
        "* **Espacio:** Como solo maneja variables simples, la complejidad es $O(1)$.\n",
        "\n",
        "![image.png](attachment:image.png)\n",
        "\n",
        "Podemos mejorar este algoritmo notando que, en la $n$-ésima iteración, estamos colocando el $n$-ésimo elemento más grande en su lugar final. Entonces, no tenemos que revisarlo en iteraciones subsecuentes:"
      ]
    },
    {
      "cell_type": "code",
      "execution_count": null,
      "metadata": {
        "id": "e4r40cgqAmy7"
      },
      "outputs": [],
      "source": [
        "def bubble_sort_optim(a):\n",
        "    swapped = True\n",
        "    n = len(a)\n",
        "    while swapped:\n",
        "        swapped = False\n",
        "        for i in range(n-1):\n",
        "            if a[i] > a[i+1]:\n",
        "                a[i], a[i+1] = a[i+1], a[i]\n",
        "                swapped = True\n",
        "        n -= 1 #le descontamos los que ya están en su posición"
      ]
    },
    {
      "cell_type": "code",
      "execution_count": null,
      "metadata": {
        "id": "FKlEivmJAmy7",
        "outputId": "ed9c2476-0e2b-4376-ba87-f0cf2c0cba54"
      },
      "outputs": [
        {
          "name": "stdout",
          "output_type": "stream",
          "text": [
            "[3 4 5 6 7 7 8 8 8 9]\n"
          ]
        }
      ],
      "source": [
        "temp = L.copy()\n",
        "bubble_sort_optim(temp)\n",
        "print(temp)"
      ]
    },
    {
      "cell_type": "markdown",
      "metadata": {
        "id": "-Kurq0AdAmy7"
      },
      "source": [
        "Por desgracia, esto no cambia la complejidad en el peor de los casos.\n",
        "\n",
        "Solo cambia la cota."
      ]
    },
    {
      "cell_type": "markdown",
      "metadata": {
        "id": "BoTxy4wGAmy7"
      },
      "source": [
        "## Merge sort\n",
        "\n",
        "1. Partimos la lista a la mitad, en parte izquierda (`L`) y derecha (`R`):\n",
        "2. Ordenamos las dos partes de manera recursiva.\n",
        "3. *Combinamos* las partes ordenadas en la lista final.\n",
        "\n",
        "El último paso lo logramos a través de la función `merge(L, R)`. Dadas las dos mitades de la lista, esta hace lo siguiente:\n",
        "1. Inicializa una lista vacía `out`.\n",
        "2. Compara el primer elemento de `L` con el primero de `R`, y añade el más pequeño a `out`.\n",
        "3. Repite esto hasta que una de las listas esté vacía.\n",
        "4. Añade todos los elementos restantes de la lista no vacía a `out`."
      ]
    },
    {
      "cell_type": "code",
      "execution_count": null,
      "metadata": {
        "id": "TERy8eZRAmy8"
      },
      "outputs": [],
      "source": [
        "def merge_sort(a):\n",
        "    if len(a) <= 1: #nos quedamos con listas de un elemento\n",
        "        return a\n",
        "\n",
        "    mid = len(a) // 2 #partimos\n",
        "    left = a[:mid]\n",
        "    right = a[mid:]\n",
        "\n",
        "    #paso recursivo\n",
        "    left = merge_sort(left)\n",
        "    right = merge_sort(right)\n",
        "    return merge(left, right) #juntamos\n",
        "\n",
        "#Hasta aquí todo cool, solo hicimos recursión dividiendo por la mitad\n",
        "#La mágia es al momento de juntar las mitades\n",
        "\n",
        "def merge(left, right):\n",
        "    out = []\n",
        "    while len(left) > 0 and len(right) > 0:\n",
        "        if left[0] <= right[0]: #verificamos el orden, cual agregar primero\n",
        "            elem = left.pop(0)\n",
        "            out.append(elem)\n",
        "        else:\n",
        "            elem = right.pop(0)\n",
        "            out.append(elem)\n",
        "\n",
        "    for elem in left: # una vez que pusimos lo que estaba fuera de lu ugar agregamos el resto\n",
        "        out.append(elem)\n",
        "    for elem in right:\n",
        "        out.append(elem)\n",
        "    return out"
      ]
    },
    {
      "cell_type": "code",
      "execution_count": null,
      "metadata": {
        "id": "4H8I1VnQAmy8",
        "outputId": "bbd16368-d4ef-4e3a-876c-ab34c1f448f0"
      },
      "outputs": [
        {
          "name": "stdout",
          "output_type": "stream",
          "text": [
            "[3, 4, 5, 6, 7, 7, 8, 8, 8, 9]\n"
          ]
        }
      ],
      "source": [
        "temp = list(L.copy())\n",
        "temp = merge_sort(temp)\n",
        "print(temp)"
      ]
    },
    {
      "cell_type": "markdown",
      "metadata": {
        "id": "mD2g90pvAmy8"
      },
      "source": [
        "**Tiempo**\n",
        "\n",
        "Notemos que el tiempo de ejecución sigue la siguiente relación de recurrencia:\n",
        "\n",
        "$$\n",
        "T(n) = 2T\\left(\\frac{n}{2}\\right) + n\n",
        "$$\n",
        "\n",
        "El primer término corresponde a ordenar las dos mitades de la lista de manera recursiva, mientras que el segundo es el ocupado por la función `merge`.\n",
        "\n",
        "![image.png](attachment:image.png)\n",
        "\n",
        "Podemos obtener una expresión cerrada utilizando el [teorema maestro](https://en.wikipedia.org/wiki/Master_theorem_(analysis_of_algorithms)). Primero, el exponente crítico es:\n",
        "\n",
        "$$\n",
        "c_\\text{crit}=\\log_2(2)=1\n",
        "$$\n",
        "\n",
        "Dado que $f(n) = n = \\Theta(n^{c_\\text{crit}}\\log^k n)$, con $k=0$, concluimos que estamos en el caso 2 de la tabla. Por lo tanto:\n",
        "\n",
        "$$\n",
        "T(n) = \\Theta(n\\log n)\n",
        "$$\n",
        "\n",
        "**Espacio**\n",
        "\n",
        "Dado que partimos la lista en 2 recursivamente hasta llegar a una lista con 1 o 0 elementos, el tamaño máximo de la pila de llamada será de $O(\\log n)$. Por otro lado, en la función `merge` tenemos el arreglo `out` al cual vamos añadiendo los elementos ordenados. Al finalizar la ejecución, este tendrá tamaño $O(n)$.\n",
        "\n",
        "Por lo tanto, la complejidad en espacio es $O(\\log n) + O(n) \\sim O(n)$."
      ]
    },
    {
      "cell_type": "markdown",
      "metadata": {
        "id": "a1Obj3bFDwLU"
      },
      "source": [
        "## Counting sort\n",
        "\n",
        "TENEMOS INFO EXTRA\n",
        "\n",
        "1. Calculamos el máximo y mínimo del arreglo (`max` y `min`). Para nuestro arreglo de ejemplo, `min=2` y `max=9`.\n",
        "2. Generamos un arreglo auxiliar `counts` de tamaño `max - min + 1`. La `i`-ésima entrada corresponde a cuántas veces está el elemento `i + min` en el arreglo a ordenar.\n",
        "\n",
        "En nuestro ejemplo, este arreglo se ve de la siguiente forma:\n",
        "\n",
        "```\n",
        "counts = [2, 0, 2, 1, 3, 0, 1, 1]\n",
        "```\n",
        "\n",
        "Es decir, el `2` aparece 2 veces, el `3` 0 veces, etc.\n",
        "\n",
        "3. Sumamos el elemento `i` del arreglo `counts` con el `i+1`, y lo guardamos en la posición `i`. Después de hacer esto para cada par de elementos, la entrada `i` nos dice *hasta dónde llegan* el elemento `i + min` de la lista a ordenar.\n",
        "\n",
        "Aplicándolo a nuestro ejemplo:\n",
        "\n",
        "```\n",
        "counts = [2, 2, 4, 5, 8, 8, 9, 10]\n",
        "```\n",
        "\n",
        "* La primera entrada nos dice que el elemento `2` de la lista va en las posiciones 0 y 1 de la lista ordenada.\n",
        "* La segunda entrada nos dice que el elemento `3` no va en ninguna posición.\n",
        "* La tercera nos dice que el elemento `4` va en las posiciones 3 y 4.\n",
        "* Luego, el elemento `5` van en la posición 5.\n",
        "* Etcétera"
      ]
    },
    {
      "cell_type": "code",
      "execution_count": null,
      "metadata": {
        "id": "HbJhHPEIEOkY"
      },
      "outputs": [],
      "source": [
        "def counting_sort(a):\n",
        "    min_ = min(a)\n",
        "    max_ = max(a)\n",
        "    k = max_ - min_ + 1\n",
        "    #creamos nuestros arreglos\n",
        "    count = [0] * k #para la cuenta\n",
        "    out = [None] * len(a) #final\n",
        "\n",
        "    for i in range(len(a)): #contamos\n",
        "        key = a[i] - min_\n",
        "        count[key] += 1\n",
        "\n",
        "    acc = count.copy() #le agregué esta línea\n",
        "\n",
        "    for i in range(1, k): #para saber cuales se repiten\n",
        "        count[i] += count[i-1]\n",
        "\n",
        "    for i in range(len(a)-1, -1, -1): #Recrear la lista\n",
        "        key = a[i] - min_\n",
        "        count[key] -= 1\n",
        "        out[count[key]] = a[i]\n",
        "\n",
        "    return acc, count, out"
      ]
    },
    {
      "cell_type": "code",
      "execution_count": null,
      "metadata": {
        "colab": {
          "base_uri": "https://localhost:8080/"
        },
        "outputId": "6a67d5b6-ce7e-43cd-ab9a-adf06714b829",
        "id": "YXSs_RbMAmy9"
      },
      "outputs": [
        {
          "name": "stdout",
          "output_type": "stream",
          "text": [
            "[1, 1, 1, 1, 2, 3, 1]\n",
            "[0, 1, 2, 3, 4, 6, 9]\n",
            "[3, 4, 5, 6, 7, 7, 8, 8, 8, 9]\n"
          ]
        }
      ],
      "source": [
        "temp = L.copy()\n",
        "acc, count, temp = counting_sort(temp)\n",
        "print(acc)\n",
        "print(count)\n",
        "print(temp)"
      ]
    },
    {
      "cell_type": "markdown",
      "metadata": {
        "id": "O0HZKs24Amy9"
      },
      "source": [
        "* **Tiempo:** Analizando los bucles *for*, vemos que la complejidad es $O(n) + O(k) + O(n) \\sim O(k+n)$\n",
        "* **Espacio:** Dado que la lista `count` tiene tamaño $k$, y la lista `out` $n$, se concluye que la complejidad es $O(k+n)$."
      ]
    },
    {
      "cell_type": "markdown",
      "metadata": {
        "id": "V9K7B7baAmy9"
      },
      "source": [
        "# Tries"
      ]
    },
    {
      "cell_type": "markdown",
      "metadata": {
        "id": "FG8hqhC0Amy-"
      },
      "source": [
        "Un trie es una estructura de datos basada en árboles que se utiliza para encontrar *strings* específicos en un conjunto.\n",
        "\n",
        "Por ejemplo, si tenemos la lista de palabras: `toro, tino, agua, asa, asta, vara`, el trie correspondiente se estructura de la siguiente manera:\n",
        "\n",
        "```\n",
        "                         ____ RAÍZ ____\n",
        "                       /         |       \\\n",
        "                      A          T        V\n",
        "                    /   \\       / \\       |\n",
        "                   G     S     O   I      A\n",
        "                   |    / \\    |   |      |\n",
        "                   U   A   T   R   N      R\n",
        "                   |       |   |   |      |\n",
        "                   A       A   O   O      A\n",
        "\n",
        "```\n",
        "\n",
        "Cada caracter tiene como hijos a todos los posibles caracteres subsecuentes que aparecen en el conjunto.\n",
        "\n",
        "A continuación, creamos una clase que represente a uno de los nodos de esta estructura de datos; tiene muchas similitudes con la clase de árboles de búsqueda binarios vista en la clase pasada:"
      ]
    },
    {
      "cell_type": "markdown",
      "metadata": {
        "id": "ZG28VGUFAmy-"
      },
      "source": [
        "Si les interesa cosas de PLN\n",
        "\n",
        "https://www.instagram.com/giil_unam?utm_source=ig_web_button_share_sheet&igsh=ZDNlZDc0MzIxNw==\n",
        "\n",
        "https://puedjs.unam.mx/tlatelolcolab/"
      ]
    },
    {
      "cell_type": "markdown",
      "metadata": {
        "id": "kEfqvZGAAmy-"
      },
      "source": [
        "Esta clase tiene dos atributos:\n",
        "\n",
        "* `key`: La llave (caracter) correspondiente al nodo.\n",
        "* `children`: Todos los hijos del nodo, al inicio vacío.\n",
        "\n",
        "Nótese que este último atributo es un diccionario; las llaves serán los atributos `key` de cada uno de los hijos, mientras que los valores serán los hijos correspondientes. Además, explotamos el *dunder* `__getitem__` para poder accesar los hijos del nodo de una manera más compacta."
      ]
    },
    {
      "cell_type": "markdown",
      "metadata": {
        "id": "kMXATl46Amy-"
      },
      "source": [
        "## Inserción\n",
        "\n",
        "Para insertar una palabra al trie, vamos iterando letra por letra. En cada iteración, revisamos si el nodo en el que estamos parados actualmente tiene un hijo con la letra actual; si sí, simplemente pasamos a dicho hijo y a la siguiente letra de la palabra. En caso contrario, creamos un nodo, nos movemos a él, y pasamos a la siguiente letra:"
      ]
    },
    {
      "cell_type": "code",
      "execution_count": null,
      "metadata": {
        "id": "Fh5-7hwHAmy-"
      },
      "outputs": [],
      "source": [
        "class TrieNode:\n",
        "    def __init__(self, key=None):\n",
        "        self.key = key\n",
        "        self.children = {}\n",
        "\n",
        "    def __repr__(self): #mostrarlo de una manera linda\n",
        "        return f\"Llave: {self.key}\\nHijos: {list(self.children.keys())}\"\n",
        "\n",
        "    def __getitem__(self, key):\n",
        "        assert isinstance(key, str) #verificamos\n",
        "\n",
        "        if len(key) == 1:\n",
        "            return self.children[key]\n",
        "        else:\n",
        "            return self.children[key[0]][key[1:]] #obtener al hijo recursivo\n",
        "\n",
        "    def insert(self, word):\n",
        "        current = self\n",
        "        for c in word:\n",
        "            if c not in current.children:\n",
        "                current.children[c] = TrieNode(c)\n",
        "            current = current.children[c]"
      ]
    },
    {
      "cell_type": "code",
      "execution_count": null,
      "metadata": {
        "id": "BTCsjyG9Amy-"
      },
      "outputs": [],
      "source": [
        "root = TrieNode()\n",
        "root.insert(\"hola\")"
      ]
    },
    {
      "cell_type": "code",
      "execution_count": null,
      "metadata": {
        "id": "4rIXGGiNAmy_",
        "outputId": "07e8fb0a-d749-4947-ddc5-5df377709381"
      },
      "outputs": [
        {
          "data": {
            "text/plain": [
              "Llave: h\n",
              "Hijos: ['o']"
            ]
          },
          "execution_count": 47,
          "metadata": {},
          "output_type": "execute_result"
        }
      ],
      "source": [
        "root.__getitem__('h')"
      ]
    },
    {
      "cell_type": "code",
      "execution_count": null,
      "metadata": {
        "id": "FSuE8TrKAmy_",
        "outputId": "8089b583-bd32-4c58-eb82-1fc4c1ae4ee1"
      },
      "outputs": [
        {
          "data": {
            "text/plain": [
              "Llave: h\n",
              "Hijos: ['o']"
            ]
          },
          "execution_count": 48,
          "metadata": {},
          "output_type": "execute_result"
        }
      ],
      "source": [
        "root['h']"
      ]
    },
    {
      "cell_type": "code",
      "execution_count": null,
      "metadata": {
        "id": "Z_0ec8auAmy_",
        "outputId": "3841af41-f193-4f8d-ccdf-89088cd369b3"
      },
      "outputs": [
        {
          "data": {
            "text/plain": [
              "Llave: l\n",
              "Hijos: ['a']"
            ]
          },
          "execution_count": 39,
          "metadata": {},
          "output_type": "execute_result"
        }
      ],
      "source": [
        "root.__getitem__('hol')"
      ]
    },
    {
      "cell_type": "code",
      "execution_count": null,
      "metadata": {
        "id": "RThBZyybAmy_",
        "outputId": "f52962e1-d385-44b1-a97f-4166f8c457c7"
      },
      "outputs": [
        {
          "data": {
            "text/plain": [
              "Llave: l\n",
              "Hijos: ['a']"
            ]
          },
          "execution_count": 49,
          "metadata": {},
          "output_type": "execute_result"
        }
      ],
      "source": [
        "root['hol']"
      ]
    },
    {
      "cell_type": "markdown",
      "metadata": {
        "id": "kg_FiZc-Amy_"
      },
      "source": [
        "## Búsqueda\n",
        "\n",
        "Para determinar si un *string* está contenido en un trie, basta con iterar sobre cada uno de sus caracteres, e ir recorriendo el trie a la par. Si en algún momento intentamos desplazarnos a un nodo que no existe, significa que la palabra no está en el trie:"
      ]
    },
    {
      "cell_type": "code",
      "execution_count": null,
      "metadata": {
        "id": "-cN1eURTAmzA"
      },
      "outputs": [],
      "source": [
        "class TrieNode:\n",
        "    def __init__(self, key=None):\n",
        "        self.key = key\n",
        "        self.children = {}\n",
        "\n",
        "    def __repr__(self):\n",
        "        return f\"Llave: {self.key}\\nHijos: {list(self.children.keys())}\"\n",
        "\n",
        "    def __getitem__(self, key):\n",
        "        assert isinstance(key, str)\n",
        "\n",
        "        if len(key) == 1:\n",
        "            return self.children[key]\n",
        "        else:\n",
        "            return self.children[key[0]][key[1:]]\n",
        "\n",
        "\n",
        "    def insert(self, word):\n",
        "        current = self\n",
        "        for c in word:\n",
        "            if c not in current.children:\n",
        "                current.children[c] = TrieNode(c)\n",
        "            current = current.children[c]\n",
        "\n",
        "    def search(self, word):\n",
        "        current = self\n",
        "        for c in word: #para cada caracter de la palabra\n",
        "            if c not in current.children: #vemos si está en sus hijos\n",
        "                return False\n",
        "            current = current.children[c] #nos movemos de caracter\n",
        "        return True"
      ]
    },
    {
      "cell_type": "code",
      "execution_count": null,
      "metadata": {
        "id": "AocXPrryAmzE"
      },
      "outputs": [],
      "source": [
        "root = TrieNode()\n",
        "#Construir el árbol y buscar\n",
        "root.insert(\"hola\")\n",
        "root.insert(\"hoja\")\n",
        "root.insert(\"papa\")\n",
        "root.insert(\"piedra\")\n",
        "root.insert(\"papel\")"
      ]
    },
    {
      "cell_type": "code",
      "execution_count": null,
      "metadata": {
        "id": "-_0Z24NsAmzE",
        "outputId": "2cacf024-0feb-4c3c-c7d5-77dc3a9b3188"
      },
      "outputs": [
        {
          "data": {
            "text/plain": [
              "False"
            ]
          },
          "execution_count": 45,
          "metadata": {},
          "output_type": "execute_result"
        }
      ],
      "source": [
        "root.search(\"ha\")"
      ]
    },
    {
      "cell_type": "markdown",
      "metadata": {
        "id": "Pd7j7zB0AmzE"
      },
      "source": [
        "## Borrado\n",
        "\n",
        "La manera más sencilla y eficiente de borrar una palabra es introduciendo un atributo `parent`, que apunte al padre del nodo actual. De esta manera, una vez que hayamos determinado que la palabra se encuentra en el trie, solo necesitamos ir subiendo, borrando todos los nodos que tengan un solo hijo, y parando cuando encontremos uno que tiene dos o más.\n",
        "\n",
        "Naturalmente, modificamos la función de inserción para que actualice de manera correcta el campo de `parent`:"
      ]
    },
    {
      "cell_type": "markdown",
      "metadata": {
        "id": "PxLVnbkiAmzE"
      },
      "source": [
        "Algunos casos:\n",
        "1. La palabra no está = no hacemos nada\n",
        "2. La palabra no comparte una clave con otras palabras Ej: hola y cel\n",
        "3. Que sea comparta prefijo Ej: hola- holograma"
      ]
    },
    {
      "cell_type": "code",
      "execution_count": null,
      "metadata": {
        "id": "HS58pXN5AmzF"
      },
      "outputs": [],
      "source": [
        "class TrieNode:\n",
        "    def __init__(self, key=None, parent=None):\n",
        "        self.key = key\n",
        "        self.children = {}\n",
        "        self.parent = parent #agregamos\n",
        "\n",
        "    def __repr__(self):\n",
        "        parent_key = None if self.parent is None else self.parent.key\n",
        "        return f\"Llave: {self.key}\\nPadre: {parent_key}\\nHijos: {list(self.children.keys())}\" #modificamos\n",
        "\n",
        "    def __getitem__(self, key):\n",
        "        assert isinstance(key, str)\n",
        "\n",
        "        if len(key) == 1:\n",
        "            return self.children[key]\n",
        "        else:\n",
        "            return self.children[key[0]][key[1:]]\n",
        "\n",
        "    def insert(self, word):\n",
        "        current = self\n",
        "        for c in word:\n",
        "            if c not in current.children:\n",
        "                current.children[c] = TrieNode(key=c, parent=current) #modificamos\n",
        "            current = current.children[c]\n",
        "\n",
        "    def search(self, word): #se queda igual\n",
        "        current = self\n",
        "        for c in word:\n",
        "            if c not in current.children:\n",
        "                return False\n",
        "            current = current.children[c]\n",
        "        return True\n",
        "\n",
        "    def delete(self, word):\n",
        "        #--- se parece a la función de arriba\n",
        "        current = self\n",
        "        for c in word:\n",
        "            if c not in current.children:\n",
        "                return #Si no está no hacemos nada\n",
        "            current = current.children[c] #encontramos el final de la palabra\n",
        "\n",
        "        num_deleted = 0\n",
        "        while len(current.parent.children) == 1: #seguimos subiendo mientra solo exista un hijo\n",
        "            current = current.parent\n",
        "            current.children = {}\n",
        "            num_deleted += 1 #para saber cuantos eliminar\n",
        "\n",
        "        final_letter = word[-num_deleted - 1] #quitamos el númeor de hijos que sobra\n",
        "        #aquí utilizamos el método __getitem__\n",
        "        del current.parent.children[final_letter] #borramos"
      ]
    },
    {
      "cell_type": "code",
      "execution_count": null,
      "metadata": {
        "id": "SyR6l5VDAmzF"
      },
      "outputs": [],
      "source": [
        "root = TrieNode()\n",
        "root.insert(\"hola\")\n",
        "root.insert(\"hoja\")\n",
        "root.insert(\"papa\")\n",
        "root.insert(\"piedra\")\n",
        "root.insert(\"papel\")\n",
        "\n",
        "root.delete(\"hola\")"
      ]
    },
    {
      "cell_type": "code",
      "execution_count": null,
      "metadata": {
        "id": "c7d_N4IuAmzF",
        "outputId": "caf2696e-c0f1-4a7e-b8e0-40b02a496e44"
      },
      "outputs": [
        {
          "data": {
            "text/plain": [
              "False"
            ]
          },
          "execution_count": 53,
          "metadata": {},
          "output_type": "execute_result"
        }
      ],
      "source": [
        "root.search('hola')"
      ]
    },
    {
      "cell_type": "code",
      "execution_count": null,
      "metadata": {
        "id": "byaqVxckAmzF",
        "outputId": "fe2be3f7-f44d-4d0b-b3ce-b4201c05a8c1"
      },
      "outputs": [
        {
          "data": {
            "text/plain": [
              "False"
            ]
          },
          "execution_count": 54,
          "metadata": {},
          "output_type": "execute_result"
        }
      ],
      "source": [
        "root.search('hol')"
      ]
    },
    {
      "cell_type": "code",
      "execution_count": null,
      "metadata": {
        "id": "7ETMYWCLAmzF",
        "outputId": "e0204582-79ec-4b24-a93e-982e523cfb92"
      },
      "outputs": [
        {
          "data": {
            "text/plain": [
              "True"
            ]
          },
          "execution_count": 55,
          "metadata": {},
          "output_type": "execute_result"
        }
      ],
      "source": [
        "root.search('ho')"
      ]
    },
    {
      "cell_type": "markdown",
      "metadata": {
        "id": "ABnzWT7mAmzG"
      },
      "source": [
        "# Ejercicios"
      ]
    },
    {
      "cell_type": "markdown",
      "metadata": {
        "id": "cZD8fKueAmzG"
      },
      "source": [
        "## 1\n",
        "\n",
        "Para un arreglo $A$, decimos que ocurre un *volteo* si para un par de índices $i, j$ con $i<j$, ocurre que $A[i] > A[j]$.\n",
        "\n",
        "Escribe un algoritmo que cuente el número de volteos. Debe de tener complejidad en tiempo $O(n\\log n)$, donde $n$ es el número de elementos del arreglo. Calcula su complejidad en espacio."
      ]
    },
    {
      "cell_type": "markdown",
      "metadata": {
        "id": "yAbdcZ6tAmzG"
      },
      "source": [
        "*Aquí va la explicación de tu algoritmo*"
      ]
    },
    {
      "cell_type": "code",
      "execution_count": null,
      "metadata": {
        "id": "539hNwX2AmzG"
      },
      "outputs": [],
      "source": [
        "# Aquí va el código"
      ]
    },
    {
      "cell_type": "markdown",
      "metadata": {
        "id": "TUssEKA-AmzG"
      },
      "source": [
        "## 2\n",
        "\n",
        "Dado un arreglo $A$ de números enteros, y un entero $k>0$, escribe un algoritmo que regrese todos los pares $(a,b)$ con $a,b\\in A$ que cumplen $a-b=k$. Este debe de correr en tiempo lineal, y el resultado no debe de tener pares repetidos."
      ]
    },
    {
      "cell_type": "markdown",
      "metadata": {
        "id": "QU4ztTbHAmzG"
      },
      "source": [
        "*Aquí va la explicación de tu algoritmo*"
      ]
    },
    {
      "cell_type": "code",
      "execution_count": null,
      "metadata": {
        "id": "ZeciZEWaAmzG"
      },
      "outputs": [],
      "source": [
        "# Aquí va el código"
      ]
    },
    {
      "cell_type": "markdown",
      "metadata": {
        "id": "JY7iCJBPAmzH"
      },
      "source": [
        "## 3\n",
        "\n",
        "Dado un arreglo $A$, escribe un algoritmo que determine la tupla $(a, b, c)$ con $a, b, c\\in A$ tal que el producto $a\\cdot b\\cdot c$ es máximo. Este debe de correr en tiempo lineal."
      ]
    },
    {
      "cell_type": "markdown",
      "metadata": {
        "id": "DZ84WXotAmzH"
      },
      "source": [
        "*Aquí va la explicación de tu algoritmo*"
      ]
    },
    {
      "cell_type": "code",
      "execution_count": null,
      "metadata": {
        "id": "Ixg7Fr2uAmzH"
      },
      "outputs": [],
      "source": [
        "# Aquí va el código"
      ]
    }
  ],
  "metadata": {
    "colab": {
      "provenance": []
    },
    "kernelspec": {
      "display_name": "Python 3",
      "language": "python",
      "name": "python3"
    },
    "language_info": {
      "codemirror_mode": {
        "name": "ipython",
        "version": 3
      },
      "file_extension": ".py",
      "mimetype": "text/x-python",
      "name": "python",
      "nbconvert_exporter": "python",
      "pygments_lexer": "ipython3",
      "version": "3.9.6"
    }
  },
  "nbformat": 4,
  "nbformat_minor": 0
}