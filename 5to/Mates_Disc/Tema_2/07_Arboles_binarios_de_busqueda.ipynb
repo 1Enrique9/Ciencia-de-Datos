{
 "cells": [
  {
   "cell_type": "code",
   "execution_count": 1,
   "metadata": {},
   "outputs": [],
   "source": [
    "import matplotlib.pyplot as plt\n",
    "\n",
    "import networkx as nx\n",
    "from networkx.drawing.nx_pydot import graphviz_layout"
   ]
  },
  {
   "cell_type": "markdown",
   "metadata": {
    "id": "wY45CICJXqRW"
   },
   "source": [
    "En esta sesión veremos algunas operaciones y algoritmos que se pueden hacer en un árbol binario de búsqueda (BST por sus siglas en inglés), por ejemplo buscar e insertar elementos, así como construir un BST a partir de una lista de números dada."
   ]
  },
  {
   "cell_type": "markdown",
   "metadata": {
    "id": "0aU3GD13Yrrw"
   },
   "source": [
    "Para trabajar con un BST, lo primero que debemos hacer es definir la estructura de nuestros nodos en el árbol, donde cada nodo tiene un valor asignado, y dos apuntadores, uno para su hijo izquierdo y otro para su hijo derecho."
   ]
  },
  {
   "cell_type": "code",
   "execution_count": 2,
   "metadata": {
    "id": "uq08iW4oZG2c"
   },
   "outputs": [],
   "source": [
    "class Node:\n",
    "    def __init__(self, val):\n",
    "        self.val = val\n",
    "        self.left = None\n",
    "        self.right = None\n",
    "        \n",
    "    def __repr__(self):\n",
    "        left = None if self.left is None else self.left.val\n",
    "        right = None if self.right is None else self.right.val\n",
    "        return f\"Valor: {self.val}\\nIzquierda: {left}\\nDerecha: {right}\""
   ]
  },
  {
   "cell_type": "code",
   "execution_count": 3,
   "metadata": {},
   "outputs": [
    {
     "name": "stdout",
     "output_type": "stream",
     "text": [
      "Valor: 4\n",
      "Izquierda: 3\n",
      "Derecha: 5\n"
     ]
    }
   ],
   "source": [
    "n = Node(4)\n",
    "n.left = Node(3)\n",
    "n.right = Node(5)\n",
    "print(n)"
   ]
  },
  {
   "cell_type": "markdown",
   "metadata": {},
   "source": [
    "# Inserción y búsqueda"
   ]
  },
  {
   "cell_type": "markdown",
   "metadata": {
    "id": "3SLk58FxZaSv"
   },
   "source": [
    "Veamos las primeras dos operaciones básicas en un BST: buscar elementos, e insertar elementos. Para insertar elementos en un BST, procedemos de una forma muy similar a como se hace una búsqueda binaria: si queremos insertar el valor `x` y estamos en el nodo `n`, comparamos `n.value` con `x`, para lo cual existen tres casos posibles:\n",
    "\n",
    "* `x < n.value`: Nos desplazamos hacia el hijo de la izquierda. Si este no existe, lo volvemos `x`.\n",
    "* `x > n.value`: Nos desplazamos hacia el hijo de la derecha. Si este no existe, lo volvemos `x`.\n",
    "* `x = n.value`: No hacemos nada, ya que no puede haber elementos duplicados en el BST."
   ]
  },
  {
   "cell_type": "code",
   "execution_count": 4,
   "metadata": {},
   "outputs": [],
   "source": [
    "class Node:\n",
    "    def __init__(self, val):\n",
    "        self.val = val\n",
    "        self.left = None\n",
    "        self.right = None\n",
    "        \n",
    "    def __repr__(self):\n",
    "        left = None if self.left is None else self.left.val\n",
    "        right = None if self.right is None else self.right.val\n",
    "        return f\"Valor: {self.val}\\nIzquierda: {left}\\nDerecha: {right}\"\n",
    "    \n",
    "    def insert(self, x):\n",
    "        if self.val == x:\n",
    "            return\n",
    "\n",
    "        elif x < self.val:\n",
    "            if self.left is not None:\n",
    "                self.left.insert(x)\n",
    "            else:\n",
    "                self.left = Node(x)\n",
    "        else:\n",
    "            if self.right is not None:\n",
    "                self.right.insert(x)\n",
    "            else:\n",
    "                self.right = Node(x)"
   ]
  },
  {
   "cell_type": "code",
   "execution_count": 5,
   "metadata": {},
   "outputs": [
    {
     "name": "stdout",
     "output_type": "stream",
     "text": [
      "Valor: 1\n",
      "Izquierda: None\n",
      "Derecha: 2\n"
     ]
    }
   ],
   "source": [
    "root = Node(0)\n",
    "root.insert(1)\n",
    "root.insert(-2)\n",
    "root.insert(2)\n",
    "root.left.insert(5)\n",
    "print(root.right)"
   ]
  },
  {
   "cell_type": "markdown",
   "metadata": {},
   "source": [
    "Para buscar un elemento, el procedimiento es prácticamente el mismo que en la inserción:\n",
    "\n",
    "* `x < n.value`: Nos desplazamos hacia el hijo de la izquierda. Si este no existe, significa que `x` no está en el árbol.\n",
    "* `x > n.value`: Nos desplazamos hacia el hijo de la derecha. Si este no existe, significa que `x` no está en el árbol.\n",
    "* `x = n.value`: `n` es el nodo que buscamos, así que lo regresamos."
   ]
  },
  {
   "cell_type": "code",
   "execution_count": 6,
   "metadata": {
    "colab": {
     "base_uri": "https://localhost:8080/"
    },
    "id": "VwDWOY5QbBlF",
    "outputId": "4e2fea25-5847-4e69-c887-42da47e2ebc5"
   },
   "outputs": [],
   "source": [
    "class Node:\n",
    "    def __init__(self, val):\n",
    "        self.val = val\n",
    "        self.left = None\n",
    "        self.right = None\n",
    "        \n",
    "        \n",
    "    def __repr__(self):\n",
    "        left = None if self.left is None else self.left.val\n",
    "        right = None if self.right is None else self.right.val\n",
    "        return f\"Valor: {self.val}\\nIzquierda: {left}\\nDerecha: {right}\"\n",
    "       \n",
    "    \n",
    "    def insert(self, x):\n",
    "        if x == self.val:\n",
    "            return\n",
    "        elif x < self.val:\n",
    "            if self.left is not None:\n",
    "                self.left.insert(x)\n",
    "            else:\n",
    "                self.left = Node(x)\n",
    "        elif x > self.val:\n",
    "            if self.right is not None:\n",
    "                self.right.insert(x)\n",
    "            else:\n",
    "                self.right = Node(x)\n",
    "                \n",
    "                \n",
    "    def search(self, x):\n",
    "        if self.val == x:\n",
    "            return self\n",
    "        \n",
    "        elif x < self.val:\n",
    "            if self.left is None:\n",
    "                return\n",
    "            else:\n",
    "                return self.left.search(x)\n",
    "            \n",
    "        elif x > self.val:\n",
    "            if self.right is None:\n",
    "                return\n",
    "            else:\n",
    "                return self.right.search(x)"
   ]
  },
  {
   "cell_type": "code",
   "execution_count": 7,
   "metadata": {},
   "outputs": [
    {
     "data": {
      "text/plain": [
       "Valor: 2\n",
       "Izquierda: None\n",
       "Derecha: None"
      ]
     },
     "execution_count": 7,
     "metadata": {},
     "output_type": "execute_result"
    }
   ],
   "source": [
    "root = Node(0)\n",
    "root.insert(1)\n",
    "root.insert(-2)\n",
    "root.insert(2)\n",
    "\n",
    "root.search(2)"
   ]
  },
  {
   "cell_type": "markdown",
   "metadata": {
    "id": "xAo2PnbplvHU"
   },
   "source": [
    "# Recorridos\n",
    "\n",
    "Veremos ahora tres de las formas más comunes de recorrer un BST: in-order y pre-order traversal. Usaremos el siguiente árbol:\n",
    "\n",
    "```\n",
    "          4\n",
    "        /    \\\n",
    "       2      6\n",
    "      / \\    / \\\n",
    "     1   3  5   7\n",
    "    /            \\\n",
    "   0              8\n",
    "```   "
   ]
  },
  {
   "cell_type": "code",
   "execution_count": 8,
   "metadata": {},
   "outputs": [],
   "source": [
    "tree = Node(4)\n",
    "tree.insert(2)\n",
    "tree.insert(1)\n",
    "tree.insert(0)\n",
    "tree.insert(3)\n",
    "tree.insert(6)\n",
    "tree.insert(5)\n",
    "tree.insert(7)\n",
    "tree.insert(8)"
   ]
  },
  {
   "cell_type": "markdown",
   "metadata": {
    "id": "xAo2PnbplvHU"
   },
   "source": [
    "## In-order\n",
    "\n",
    "In-order traversal nos permite rescatar la lista de números de manera ordenada, visita primero todo lo que hay a la izquierda de la raíz, después la raíz y posteriormente el hijo derecho, haciendo esto de manera recursiva. Esto nos será muy útil para después poder eliminar elementos en un árbol binario de búsqueda. Veamos un ejemplo de un in-order traversal en un árbol de este tipo."
   ]
  },
  {
   "cell_type": "code",
   "execution_count": 9,
   "metadata": {
    "colab": {
     "base_uri": "https://localhost:8080/"
    },
    "id": "V1JkuiDrmY-s",
    "outputId": "96ceb005-420b-4500-efee-5c6a0e2812e8"
   },
   "outputs": [
    {
     "name": "stdout",
     "output_type": "stream",
     "text": [
      "0\n",
      "1\n",
      "2\n",
      "3\n",
      "4\n",
      "5\n",
      "6\n",
      "7\n",
      "8\n"
     ]
    }
   ],
   "source": [
    "def in_order(root):\n",
    "    if root is not None:\n",
    "        in_order(root.left)\n",
    "        print(root.val) # aquí es donde visitamos\n",
    "        in_order(root.right)\n",
    "    else:\n",
    "        return\n",
    "\n",
    "in_order(tree)"
   ]
  },
  {
   "cell_type": "markdown",
   "metadata": {
    "id": "VlxWH1BkmzLf"
   },
   "source": [
    "Notemos que con este tipo de ideas podemos encontrar el mínimo valor y el máximo valor en un árbol binario de búsqueda.\n",
    "\n",
    "## Pre-order\n",
    "\n",
    "Consiste en visitar el nodo actual, después lo que hay en su hijo izquierdo y después en su hijo derecho. Podemos notar que es un recorrido particular de un recorrido de DFS en un árbol."
   ]
  },
  {
   "cell_type": "code",
   "execution_count": 10,
   "metadata": {
    "colab": {
     "base_uri": "https://localhost:8080/"
    },
    "id": "WDcHJeRinEYW",
    "outputId": "e8f09047-be3f-4b83-b221-c98b425ddb78"
   },
   "outputs": [
    {
     "name": "stdout",
     "output_type": "stream",
     "text": [
      "4\n",
      "2\n",
      "1\n",
      "0\n",
      "3\n",
      "6\n",
      "5\n",
      "7\n",
      "8\n"
     ]
    }
   ],
   "source": [
    "def pre_order(root):\n",
    "    if root is not None:\n",
    "        print(root.val)\n",
    "        pre_order(root.left)\n",
    "        pre_order(root.right)\n",
    "    else:\n",
    "        return\n",
    "\n",
    "pre_order(tree)"
   ]
  },
  {
   "cell_type": "markdown",
   "metadata": {},
   "source": [
    "## Post-order\n",
    "\n",
    "Consiste en visitar el subárbol izquierdo, luego el derecho, y finalmente el nodo actual. "
   ]
  },
  {
   "cell_type": "code",
   "execution_count": 11,
   "metadata": {},
   "outputs": [
    {
     "name": "stdout",
     "output_type": "stream",
     "text": [
      "0\n",
      "1\n",
      "3\n",
      "2\n",
      "5\n",
      "8\n",
      "7\n",
      "6\n",
      "4\n"
     ]
    }
   ],
   "source": [
    "def post_order(root):\n",
    "    if root is not None:\n",
    "        post_order(root.left)\n",
    "        post_order(root.right)\n",
    "        print(root.val)\n",
    "    else:\n",
    "        return\n",
    "\n",
    "post_order(tree)"
   ]
  },
  {
   "cell_type": "markdown",
   "metadata": {},
   "source": [
    "# Graficado\n",
    "\n",
    "Nótese que podemos utilizar cualquiera de las caminatas anteriores para construir una gráfica de `networkx` a partir de nuestro árbol: cada vez que visitamos un nodo, lo añadimos a él y a sus hijos a la gráfica, junto con las aristas que los unen:"
   ]
  },
  {
   "cell_type": "code",
   "execution_count": 12,
   "metadata": {},
   "outputs": [],
   "source": [
    "def build_graph(root, g=None):\n",
    "    if g is None:\n",
    "        g = nx.Graph()\n",
    "    \n",
    "    if root is not None:\n",
    "        build_graph(root.left, g)\n",
    "        g.add_node(root.val)\n",
    "        if root.left is not None:\n",
    "            g.add_edge(root.val, root.left.val)\n",
    "        if root.right is not None:\n",
    "            g.add_edge(root.val, root.right.val)\n",
    "        build_graph(root.right, g)\n",
    "    return g"
   ]
  },
  {
   "cell_type": "markdown",
   "metadata": {},
   "source": [
    "Para asegurarnos que al momento de graficar se vea como un árbol, usamos el layout `dot` de `graphviz`:"
   ]
  },
  {
   "cell_type": "code",
   "execution_count": null,
   "metadata": {},
   "outputs": [],
   "source": [
    "impo+"
   ]
  },
  {
   "cell_type": "code",
   "execution_count": 15,
   "metadata": {},
   "outputs": [
    {
     "ename": "FileNotFoundError",
     "evalue": "[WinError 2] \"dot\" not found in path.",
     "output_type": "error",
     "traceback": [
      "\u001b[1;31m---------------------------------------------------------------------------\u001b[0m",
      "\u001b[1;31mFileNotFoundError\u001b[0m                         Traceback (most recent call last)",
      "File \u001b[1;32mc:\\Users\\ENRIQUE\\AppData\\Local\\Programs\\Python\\Python313\\Lib\\site-packages\\pydot\\core.py:1851\u001b[0m, in \u001b[0;36mDot.create\u001b[1;34m(self, prog, format, encoding)\u001b[0m\n\u001b[0;32m   1850\u001b[0m \u001b[38;5;28;01mtry\u001b[39;00m:\n\u001b[1;32m-> 1851\u001b[0m     stdout_data, stderr_data, process \u001b[38;5;241m=\u001b[39m \u001b[43mcall_graphviz\u001b[49m\u001b[43m(\u001b[49m\n\u001b[0;32m   1852\u001b[0m \u001b[43m        \u001b[49m\u001b[43mprogram\u001b[49m\u001b[38;5;241;43m=\u001b[39;49m\u001b[43mprog\u001b[49m\u001b[43m,\u001b[49m\n\u001b[0;32m   1853\u001b[0m \u001b[43m        \u001b[49m\u001b[43marguments\u001b[49m\u001b[38;5;241;43m=\u001b[39;49m\u001b[43marguments\u001b[49m\u001b[43m,\u001b[49m\n\u001b[0;32m   1854\u001b[0m \u001b[43m        \u001b[49m\u001b[43mworking_dir\u001b[49m\u001b[38;5;241;43m=\u001b[39;49m\u001b[43mtmp_dir\u001b[49m\u001b[43m,\u001b[49m\n\u001b[0;32m   1855\u001b[0m \u001b[43m    \u001b[49m\u001b[43m)\u001b[49m\n\u001b[0;32m   1856\u001b[0m \u001b[38;5;28;01mexcept\u001b[39;00m \u001b[38;5;167;01mOSError\u001b[39;00m \u001b[38;5;28;01mas\u001b[39;00m e:\n",
      "File \u001b[1;32mc:\\Users\\ENRIQUE\\AppData\\Local\\Programs\\Python\\Python313\\Lib\\site-packages\\pydot\\core.py:211\u001b[0m, in \u001b[0;36mcall_graphviz\u001b[1;34m(program, arguments, working_dir, **kwargs)\u001b[0m\n\u001b[0;32m    209\u001b[0m program_with_args \u001b[38;5;241m=\u001b[39m [program] \u001b[38;5;241m+\u001b[39m arguments\n\u001b[1;32m--> 211\u001b[0m process \u001b[38;5;241m=\u001b[39m \u001b[43msubprocess\u001b[49m\u001b[38;5;241;43m.\u001b[39;49m\u001b[43mPopen\u001b[49m\u001b[43m(\u001b[49m\n\u001b[0;32m    212\u001b[0m \u001b[43m    \u001b[49m\u001b[43mprogram_with_args\u001b[49m\u001b[43m,\u001b[49m\n\u001b[0;32m    213\u001b[0m \u001b[43m    \u001b[49m\u001b[43menv\u001b[49m\u001b[38;5;241;43m=\u001b[39;49m\u001b[43menv\u001b[49m\u001b[43m,\u001b[49m\n\u001b[0;32m    214\u001b[0m \u001b[43m    \u001b[49m\u001b[43mcwd\u001b[49m\u001b[38;5;241;43m=\u001b[39;49m\u001b[43mworking_dir\u001b[49m\u001b[43m,\u001b[49m\n\u001b[0;32m    215\u001b[0m \u001b[43m    \u001b[49m\u001b[43mshell\u001b[49m\u001b[38;5;241;43m=\u001b[39;49m\u001b[38;5;28;43;01mFalse\u001b[39;49;00m\u001b[43m,\u001b[49m\n\u001b[0;32m    216\u001b[0m \u001b[43m    \u001b[49m\u001b[43mstderr\u001b[49m\u001b[38;5;241;43m=\u001b[39;49m\u001b[43msubprocess\u001b[49m\u001b[38;5;241;43m.\u001b[39;49m\u001b[43mPIPE\u001b[49m\u001b[43m,\u001b[49m\n\u001b[0;32m    217\u001b[0m \u001b[43m    \u001b[49m\u001b[43mstdout\u001b[49m\u001b[38;5;241;43m=\u001b[39;49m\u001b[43msubprocess\u001b[49m\u001b[38;5;241;43m.\u001b[39;49m\u001b[43mPIPE\u001b[49m\u001b[43m,\u001b[49m\n\u001b[0;32m    218\u001b[0m \u001b[43m    \u001b[49m\u001b[38;5;241;43m*\u001b[39;49m\u001b[38;5;241;43m*\u001b[39;49m\u001b[43mkwargs\u001b[49m\u001b[43m,\u001b[49m\n\u001b[0;32m    219\u001b[0m \u001b[43m\u001b[49m\u001b[43m)\u001b[49m\n\u001b[0;32m    220\u001b[0m stdout_data, stderr_data \u001b[38;5;241m=\u001b[39m process\u001b[38;5;241m.\u001b[39mcommunicate()\n",
      "File \u001b[1;32mc:\\Users\\ENRIQUE\\AppData\\Local\\Programs\\Python\\Python313\\Lib\\subprocess.py:1036\u001b[0m, in \u001b[0;36mPopen.__init__\u001b[1;34m(self, args, bufsize, executable, stdin, stdout, stderr, preexec_fn, close_fds, shell, cwd, env, universal_newlines, startupinfo, creationflags, restore_signals, start_new_session, pass_fds, user, group, extra_groups, encoding, errors, text, umask, pipesize, process_group)\u001b[0m\n\u001b[0;32m   1033\u001b[0m             \u001b[38;5;28mself\u001b[39m\u001b[38;5;241m.\u001b[39mstderr \u001b[38;5;241m=\u001b[39m io\u001b[38;5;241m.\u001b[39mTextIOWrapper(\u001b[38;5;28mself\u001b[39m\u001b[38;5;241m.\u001b[39mstderr,\n\u001b[0;32m   1034\u001b[0m                     encoding\u001b[38;5;241m=\u001b[39mencoding, errors\u001b[38;5;241m=\u001b[39merrors)\n\u001b[1;32m-> 1036\u001b[0m     \u001b[38;5;28;43mself\u001b[39;49m\u001b[38;5;241;43m.\u001b[39;49m\u001b[43m_execute_child\u001b[49m\u001b[43m(\u001b[49m\u001b[43margs\u001b[49m\u001b[43m,\u001b[49m\u001b[43m \u001b[49m\u001b[43mexecutable\u001b[49m\u001b[43m,\u001b[49m\u001b[43m \u001b[49m\u001b[43mpreexec_fn\u001b[49m\u001b[43m,\u001b[49m\u001b[43m \u001b[49m\u001b[43mclose_fds\u001b[49m\u001b[43m,\u001b[49m\n\u001b[0;32m   1037\u001b[0m \u001b[43m                        \u001b[49m\u001b[43mpass_fds\u001b[49m\u001b[43m,\u001b[49m\u001b[43m \u001b[49m\u001b[43mcwd\u001b[49m\u001b[43m,\u001b[49m\u001b[43m \u001b[49m\u001b[43menv\u001b[49m\u001b[43m,\u001b[49m\n\u001b[0;32m   1038\u001b[0m \u001b[43m                        \u001b[49m\u001b[43mstartupinfo\u001b[49m\u001b[43m,\u001b[49m\u001b[43m \u001b[49m\u001b[43mcreationflags\u001b[49m\u001b[43m,\u001b[49m\u001b[43m \u001b[49m\u001b[43mshell\u001b[49m\u001b[43m,\u001b[49m\n\u001b[0;32m   1039\u001b[0m \u001b[43m                        \u001b[49m\u001b[43mp2cread\u001b[49m\u001b[43m,\u001b[49m\u001b[43m \u001b[49m\u001b[43mp2cwrite\u001b[49m\u001b[43m,\u001b[49m\n\u001b[0;32m   1040\u001b[0m \u001b[43m                        \u001b[49m\u001b[43mc2pread\u001b[49m\u001b[43m,\u001b[49m\u001b[43m \u001b[49m\u001b[43mc2pwrite\u001b[49m\u001b[43m,\u001b[49m\n\u001b[0;32m   1041\u001b[0m \u001b[43m                        \u001b[49m\u001b[43merrread\u001b[49m\u001b[43m,\u001b[49m\u001b[43m \u001b[49m\u001b[43merrwrite\u001b[49m\u001b[43m,\u001b[49m\n\u001b[0;32m   1042\u001b[0m \u001b[43m                        \u001b[49m\u001b[43mrestore_signals\u001b[49m\u001b[43m,\u001b[49m\n\u001b[0;32m   1043\u001b[0m \u001b[43m                        \u001b[49m\u001b[43mgid\u001b[49m\u001b[43m,\u001b[49m\u001b[43m \u001b[49m\u001b[43mgids\u001b[49m\u001b[43m,\u001b[49m\u001b[43m \u001b[49m\u001b[43muid\u001b[49m\u001b[43m,\u001b[49m\u001b[43m \u001b[49m\u001b[43mumask\u001b[49m\u001b[43m,\u001b[49m\n\u001b[0;32m   1044\u001b[0m \u001b[43m                        \u001b[49m\u001b[43mstart_new_session\u001b[49m\u001b[43m,\u001b[49m\u001b[43m \u001b[49m\u001b[43mprocess_group\u001b[49m\u001b[43m)\u001b[49m\n\u001b[0;32m   1045\u001b[0m \u001b[38;5;28;01mexcept\u001b[39;00m:\n\u001b[0;32m   1046\u001b[0m     \u001b[38;5;66;03m# Cleanup if the child failed starting.\u001b[39;00m\n",
      "File \u001b[1;32mc:\\Users\\ENRIQUE\\AppData\\Local\\Programs\\Python\\Python313\\Lib\\subprocess.py:1548\u001b[0m, in \u001b[0;36mPopen._execute_child\u001b[1;34m(self, args, executable, preexec_fn, close_fds, pass_fds, cwd, env, startupinfo, creationflags, shell, p2cread, p2cwrite, c2pread, c2pwrite, errread, errwrite, unused_restore_signals, unused_gid, unused_gids, unused_uid, unused_umask, unused_start_new_session, unused_process_group)\u001b[0m\n\u001b[0;32m   1547\u001b[0m \u001b[38;5;28;01mtry\u001b[39;00m:\n\u001b[1;32m-> 1548\u001b[0m     hp, ht, pid, tid \u001b[38;5;241m=\u001b[39m \u001b[43m_winapi\u001b[49m\u001b[38;5;241;43m.\u001b[39;49m\u001b[43mCreateProcess\u001b[49m\u001b[43m(\u001b[49m\u001b[43mexecutable\u001b[49m\u001b[43m,\u001b[49m\u001b[43m \u001b[49m\u001b[43margs\u001b[49m\u001b[43m,\u001b[49m\n\u001b[0;32m   1549\u001b[0m \u001b[43m                             \u001b[49m\u001b[38;5;66;43;03m# no special security\u001b[39;49;00m\n\u001b[0;32m   1550\u001b[0m \u001b[43m                             \u001b[49m\u001b[38;5;28;43;01mNone\u001b[39;49;00m\u001b[43m,\u001b[49m\u001b[43m \u001b[49m\u001b[38;5;28;43;01mNone\u001b[39;49;00m\u001b[43m,\u001b[49m\n\u001b[0;32m   1551\u001b[0m \u001b[43m                             \u001b[49m\u001b[38;5;28;43mint\u001b[39;49m\u001b[43m(\u001b[49m\u001b[38;5;129;43;01mnot\u001b[39;49;00m\u001b[43m \u001b[49m\u001b[43mclose_fds\u001b[49m\u001b[43m)\u001b[49m\u001b[43m,\u001b[49m\n\u001b[0;32m   1552\u001b[0m \u001b[43m                             \u001b[49m\u001b[43mcreationflags\u001b[49m\u001b[43m,\u001b[49m\n\u001b[0;32m   1553\u001b[0m \u001b[43m                             \u001b[49m\u001b[43menv\u001b[49m\u001b[43m,\u001b[49m\n\u001b[0;32m   1554\u001b[0m \u001b[43m                             \u001b[49m\u001b[43mcwd\u001b[49m\u001b[43m,\u001b[49m\n\u001b[0;32m   1555\u001b[0m \u001b[43m                             \u001b[49m\u001b[43mstartupinfo\u001b[49m\u001b[43m)\u001b[49m\n\u001b[0;32m   1556\u001b[0m \u001b[38;5;28;01mfinally\u001b[39;00m:\n\u001b[0;32m   1557\u001b[0m     \u001b[38;5;66;03m# Child is launched. Close the parent's copy of those pipe\u001b[39;00m\n\u001b[0;32m   1558\u001b[0m     \u001b[38;5;66;03m# handles that only the child should have open.  You need\u001b[39;00m\n\u001b[1;32m   (...)\u001b[0m\n\u001b[0;32m   1561\u001b[0m     \u001b[38;5;66;03m# pipe will not close when the child process exits and the\u001b[39;00m\n\u001b[0;32m   1562\u001b[0m     \u001b[38;5;66;03m# ReadFile will hang.\u001b[39;00m\n",
      "\u001b[1;31mFileNotFoundError\u001b[0m: [WinError 2] El sistema no puede encontrar el archivo especificado",
      "\nDuring handling of the above exception, another exception occurred:\n",
      "\u001b[1;31mFileNotFoundError\u001b[0m                         Traceback (most recent call last)",
      "Cell \u001b[1;32mIn[15], line 4\u001b[0m\n\u001b[0;32m      1\u001b[0m g \u001b[38;5;241m=\u001b[39m build_graph(tree)\n\u001b[0;32m      3\u001b[0m fig, ax \u001b[38;5;241m=\u001b[39m plt\u001b[38;5;241m.\u001b[39msubplots(figsize\u001b[38;5;241m=\u001b[39m(\u001b[38;5;241m10\u001b[39m,\u001b[38;5;241m8\u001b[39m))\n\u001b[1;32m----> 4\u001b[0m pos \u001b[38;5;241m=\u001b[39m \u001b[43mgraphviz_layout\u001b[49m\u001b[43m(\u001b[49m\u001b[43mg\u001b[49m\u001b[43m,\u001b[49m\u001b[43m \u001b[49m\u001b[43mprog\u001b[49m\u001b[38;5;241;43m=\u001b[39;49m\u001b[38;5;124;43m\"\u001b[39;49m\u001b[38;5;124;43mdot\u001b[39;49m\u001b[38;5;124;43m\"\u001b[39;49m\u001b[43m)\u001b[49m\n\u001b[0;32m      5\u001b[0m nx\u001b[38;5;241m.\u001b[39mdraw(g, with_labels\u001b[38;5;241m=\u001b[39m\u001b[38;5;28;01mTrue\u001b[39;00m, ax\u001b[38;5;241m=\u001b[39max, pos\u001b[38;5;241m=\u001b[39mpos, font_color\u001b[38;5;241m=\u001b[39m\u001b[38;5;124m\"\u001b[39m\u001b[38;5;124mwhite\u001b[39m\u001b[38;5;124m\"\u001b[39m)\n",
      "File \u001b[1;32mc:\\Users\\ENRIQUE\\AppData\\Local\\Programs\\Python\\Python313\\Lib\\site-packages\\networkx\\drawing\\nx_pydot.py:271\u001b[0m, in \u001b[0;36mgraphviz_layout\u001b[1;34m(G, prog, root)\u001b[0m\n\u001b[0;32m    241\u001b[0m \u001b[38;5;28;01mdef\u001b[39;00m \u001b[38;5;21mgraphviz_layout\u001b[39m(G, prog\u001b[38;5;241m=\u001b[39m\u001b[38;5;124m\"\u001b[39m\u001b[38;5;124mneato\u001b[39m\u001b[38;5;124m\"\u001b[39m, root\u001b[38;5;241m=\u001b[39m\u001b[38;5;28;01mNone\u001b[39;00m):\n\u001b[0;32m    242\u001b[0m \u001b[38;5;250m    \u001b[39m\u001b[38;5;124;03m\"\"\"Create node positions using Pydot and Graphviz.\u001b[39;00m\n\u001b[0;32m    243\u001b[0m \n\u001b[0;32m    244\u001b[0m \u001b[38;5;124;03m    Returns a dictionary of positions keyed by node.\u001b[39;00m\n\u001b[1;32m   (...)\u001b[0m\n\u001b[0;32m    269\u001b[0m \u001b[38;5;124;03m    This is a wrapper for pydot_layout.\u001b[39;00m\n\u001b[0;32m    270\u001b[0m \u001b[38;5;124;03m    \"\"\"\u001b[39;00m\n\u001b[1;32m--> 271\u001b[0m     \u001b[38;5;28;01mreturn\u001b[39;00m \u001b[43mpydot_layout\u001b[49m\u001b[43m(\u001b[49m\u001b[43mG\u001b[49m\u001b[38;5;241;43m=\u001b[39;49m\u001b[43mG\u001b[49m\u001b[43m,\u001b[49m\u001b[43m \u001b[49m\u001b[43mprog\u001b[49m\u001b[38;5;241;43m=\u001b[39;49m\u001b[43mprog\u001b[49m\u001b[43m,\u001b[49m\u001b[43m \u001b[49m\u001b[43mroot\u001b[49m\u001b[38;5;241;43m=\u001b[39;49m\u001b[43mroot\u001b[49m\u001b[43m)\u001b[49m\n",
      "File \u001b[1;32mc:\\Users\\ENRIQUE\\AppData\\Local\\Programs\\Python\\Python313\\Lib\\site-packages\\networkx\\drawing\\nx_pydot.py:320\u001b[0m, in \u001b[0;36mpydot_layout\u001b[1;34m(G, prog, root)\u001b[0m\n\u001b[0;32m    316\u001b[0m     P\u001b[38;5;241m.\u001b[39mset(\u001b[38;5;124m\"\u001b[39m\u001b[38;5;124mroot\u001b[39m\u001b[38;5;124m\"\u001b[39m, \u001b[38;5;28mstr\u001b[39m(root))\n\u001b[0;32m    318\u001b[0m \u001b[38;5;66;03m# List of low-level bytes comprising a string in the dot language converted\u001b[39;00m\n\u001b[0;32m    319\u001b[0m \u001b[38;5;66;03m# from the passed graph with the passed external GraphViz command.\u001b[39;00m\n\u001b[1;32m--> 320\u001b[0m D_bytes \u001b[38;5;241m=\u001b[39m \u001b[43mP\u001b[49m\u001b[38;5;241;43m.\u001b[39;49m\u001b[43mcreate_dot\u001b[49m\u001b[43m(\u001b[49m\u001b[43mprog\u001b[49m\u001b[38;5;241;43m=\u001b[39;49m\u001b[43mprog\u001b[49m\u001b[43m)\u001b[49m\n\u001b[0;32m    322\u001b[0m \u001b[38;5;66;03m# Unique string decoded from these bytes with the preferred locale encoding\u001b[39;00m\n\u001b[0;32m    323\u001b[0m D \u001b[38;5;241m=\u001b[39m \u001b[38;5;28mstr\u001b[39m(D_bytes, encoding\u001b[38;5;241m=\u001b[39mgetpreferredencoding())\n",
      "File \u001b[1;32mc:\\Users\\ENRIQUE\\AppData\\Local\\Programs\\Python\\Python313\\Lib\\site-packages\\pydot\\core.py:158\u001b[0m, in \u001b[0;36m__generate_format_methods.<locals>.__create_method\u001b[1;34m(self, f, prog, encoding)\u001b[0m\n\u001b[0;32m    156\u001b[0m \u001b[38;5;28;01mdef\u001b[39;00m \u001b[38;5;21m__create_method\u001b[39m(\u001b[38;5;28mself\u001b[39m, f\u001b[38;5;241m=\u001b[39mfrmt, prog\u001b[38;5;241m=\u001b[39m\u001b[38;5;28;01mNone\u001b[39;00m, encoding\u001b[38;5;241m=\u001b[39m\u001b[38;5;28;01mNone\u001b[39;00m):\n\u001b[0;32m    157\u001b[0m \u001b[38;5;250m    \u001b[39m\u001b[38;5;124;03m\"\"\"Refer to docstring of method `create`.\"\"\"\u001b[39;00m\n\u001b[1;32m--> 158\u001b[0m     \u001b[38;5;28;01mreturn\u001b[39;00m \u001b[38;5;28;43mself\u001b[39;49m\u001b[38;5;241;43m.\u001b[39;49m\u001b[43mcreate\u001b[49m\u001b[43m(\u001b[49m\u001b[38;5;28;43mformat\u001b[39;49m\u001b[38;5;241;43m=\u001b[39;49m\u001b[43mf\u001b[49m\u001b[43m,\u001b[49m\u001b[43m \u001b[49m\u001b[43mprog\u001b[49m\u001b[38;5;241;43m=\u001b[39;49m\u001b[43mprog\u001b[49m\u001b[43m,\u001b[49m\u001b[43m \u001b[49m\u001b[43mencoding\u001b[49m\u001b[38;5;241;43m=\u001b[39;49m\u001b[43mencoding\u001b[49m\u001b[43m)\u001b[49m\n",
      "File \u001b[1;32mc:\\Users\\ENRIQUE\\AppData\\Local\\Programs\\Python\\Python313\\Lib\\site-packages\\pydot\\core.py:1860\u001b[0m, in \u001b[0;36mDot.create\u001b[1;34m(self, prog, format, encoding)\u001b[0m\n\u001b[0;32m   1858\u001b[0m     args \u001b[38;5;241m=\u001b[39m \u001b[38;5;28mlist\u001b[39m(e\u001b[38;5;241m.\u001b[39margs)\n\u001b[0;32m   1859\u001b[0m     args[\u001b[38;5;241m1\u001b[39m] \u001b[38;5;241m=\u001b[39m \u001b[38;5;124mf\u001b[39m\u001b[38;5;124m'\u001b[39m\u001b[38;5;124m\"\u001b[39m\u001b[38;5;132;01m{\u001b[39;00mprog\u001b[38;5;132;01m}\u001b[39;00m\u001b[38;5;124m\"\u001b[39m\u001b[38;5;124m not found in path.\u001b[39m\u001b[38;5;124m'\u001b[39m\n\u001b[1;32m-> 1860\u001b[0m     \u001b[38;5;28;01mraise\u001b[39;00m \u001b[38;5;167;01mOSError\u001b[39;00m(\u001b[38;5;241m*\u001b[39margs)\n\u001b[0;32m   1861\u001b[0m \u001b[38;5;28;01melse\u001b[39;00m:\n\u001b[0;32m   1862\u001b[0m     \u001b[38;5;28;01mraise\u001b[39;00m\n",
      "\u001b[1;31mFileNotFoundError\u001b[0m: [WinError 2] \"dot\" not found in path."
     ]
    },
    {
     "data": {
      "image/png": "[encoded data removed]",
      "text/plain": [
       "<Figure size 1000x800 with 1 Axes>"
      ]
     },
     "metadata": {},
     "output_type": "display_data"
    }
   ],
   "source": [
    "g = build_graph(tree)\n",
    "\n",
    "fig, ax = plt.subplots(figsize=(10,8))\n",
    "pos = graphviz_layout(g, prog=\"dot\")\n",
    "nx.draw(g, with_labels=True, ax=ax, pos=pos, font_color=\"white\")"
   ]
  },
  {
   "cell_type": "markdown",
   "metadata": {
    "id": "JF8fyB0-pvrO"
   },
   "source": [
    "# Borrado\n",
    "\n",
    "Veamos ahora cómo eliminar un nodo $N$ de un BST. Notemos que hay tres casos posibles:\n",
    "\n",
    "\n",
    "*   Si $N$ no tiene hijos, es suficiente con eliminar dicho nodo.\n",
    "*   Si $N$ tiene únicamente un hijo, reemplazamos el nodo $N$ por su hijo.\n",
    "*   Si $N$ tiene dos hijos, tenemos que reacomodar de una manera más sofisticada los nodos para que siga siendo un BST. Esto podemos hacerlo con el siguiente algoritmo:\n",
    "\n",
    "    1. Encontramos el siguiente nodo con un valor mayor a $N$, i.e., su sucesor en in-order traversal; llámese $S$. Nótese que este nodo es el que tiene menor valor del subárbol derecho.  \n",
    "    2. Reemplazamos el valor de $N$ con el de $S$.\n",
    "    3. Borramos $S$, esto último se puede hacer sin problemas pues el sucesor de un nodo con dos hijos es necesariamente una hoja, ya que es el valor mínimo en el subárbol con raíz en su hijo derecho.\n",
    "\n",
    "Para hacer esto, necesitaremos una función que nos permita encontrar el valor mínimo en un sub árbol a partir de cierto nodo. "
   ]
  },
  {
   "cell_type": "code",
   "execution_count": 14,
   "metadata": {},
   "outputs": [],
   "source": [
    "def min_value(root):\n",
    "    if root is not None:\n",
    "        while root.left is not None:\n",
    "            root = root.left\n",
    "        return root\n",
    "    else:\n",
    "        return None"
   ]
  },
  {
   "cell_type": "markdown",
   "metadata": {
    "id": "JF8fyB0-pvrO"
   },
   "source": [
    "Ahora, implementamos el algoritmo de borrado de modo que si pedimos eliminar un valor que no existe, el BST no se vea modificado y no haya problemas."
   ]
  },
  {
   "cell_type": "code",
   "execution_count": 15,
   "metadata": {
    "colab": {
     "base_uri": "https://localhost:8080/"
    },
    "id": "IKSfTTRTsEi9",
    "outputId": "447e7d2f-8381-4a97-cb58-9338e1fcef61"
   },
   "outputs": [
    {
     "name": "stdout",
     "output_type": "stream",
     "text": [
      "0\n",
      "1\n",
      "2\n",
      "3\n",
      "5\n",
      "6\n",
      "7\n",
      "8\n"
     ]
    }
   ],
   "source": [
    "def delete(root, x):\n",
    "    if root is not None:\n",
    "        if root.val == x:\n",
    "            if root.left is None: # Tiene a lo más un hijo, el derecho\n",
    "                new = root.right\n",
    "                root = None # Vaciamos el nodo root\n",
    "                return new\n",
    "            elif root.right is None: # Tiene sólo el hijo izquierdo\n",
    "                new = root.left\n",
    "                root = None\n",
    "                return new\n",
    "            else: # Tiene ambos hijos\n",
    "                new = min_value(root.right)\n",
    "                root.val = new.val\n",
    "                root.right = delete(root.right, new.val)\n",
    "                return root\n",
    "        else: \n",
    "            if root.val < x:\n",
    "                root.right = delete(root.right, x)\n",
    "            else:\n",
    "                root.left = delete(root.left, x)\n",
    "            return root\n",
    "    else:\n",
    "        return None\n",
    "\n",
    "\n",
    "# rd = Node(L[0])\n",
    "# for l in L[1:]:\n",
    "#     rd.insert(l)\n",
    "\n",
    "delete(tree, 4)\n",
    "in_order(tree)"
   ]
  },
  {
   "cell_type": "markdown",
   "metadata": {},
   "source": [
    "# Reconstrucción"
   ]
  },
  {
   "cell_type": "markdown",
   "metadata": {
    "id": "KuLUDLW53IJq"
   },
   "source": [
    "Veamos un último ejemplo. Supongamos que se tiene una lista no vacía de enteros distintos $L$, tal que $L$ es el pre-order de un árbol binario de búsqueda, nuestro objetivo es reconstruir dicho BST.\n",
    "\n",
    "Una primer idea para atacar este problema sería hacer lo que ya hicimos previamente, ir agregando elemento por elemento usando nuestra función de insertar, sin ambargo, hacer esto nos puede tomar $O(n^2)$ en tiempo (si nuestro árbol resulta ser un camino). \n",
    "\n",
    "Optimizaremos nuestro algoritmo usando una pila. Comenzamos con una pila $P$ a la que agregamos el primer valor de la lista $L$, el cual también lo haremos la raíz de nuestro BST. Posteriormente vamos a iterar sobre los elementos de $L$, y tenemos dos casos:\n",
    "\n",
    "*   Si el elemento actual es menor que el elemento en la cima de la pila, hacemos que este elemento sea hijo izquierdo de la cima, y agregamos el nodo a la pila.\n",
    "*   Si el elemento actual es mayor que el elemento en la cima de la pila, removemos dicha cima de la pila, y continuamos removiendo elementos hasta llegar a que la pila sea vacía o que el elemento en la cima sea mayor que el actual, y hacemos que el elemento actual sea el hijo derecho del último elemento que se removió de la pila. Posteriormente agregamos el nodo con valor el elemento actual a la pila.\n",
    "\n",
    "Veamos una implementación de este algoritmo.\n",
    "\n"
   ]
  },
  {
   "cell_type": "code",
   "execution_count": 16,
   "metadata": {
    "colab": {
     "base_uri": "https://localhost:8080/"
    },
    "id": "ij2_W0wGnFX5",
    "outputId": "031e63c2-0d1f-4491-a87b-ef0d01b51ede"
   },
   "outputs": [
    {
     "name": "stdout",
     "output_type": "stream",
     "text": [
      "In order:\n",
      "1\n",
      "2\n",
      "3\n",
      "4\n",
      "5\n",
      "6\n",
      "7\n",
      "8\n",
      "Pre order:\n",
      "2\n",
      "1\n",
      "7\n",
      "4\n",
      "3\n",
      "6\n",
      "5\n",
      "8\n"
     ]
    }
   ],
   "source": [
    "from collections import deque\n",
    "\n",
    "def construct_BST(L):\n",
    "    root = Node(L[0])\n",
    "    queue = deque()\n",
    "    queue.append(root)\n",
    "    for i in range (1, len(L)):\n",
    "        if L[i] < queue[-1].val:\n",
    "            curr = Node(L[i])\n",
    "            queue[-1].left = curr\n",
    "            queue.append(curr)\n",
    "        else:\n",
    "            curr = Node(L[i])\n",
    "            last = queue[-1]\n",
    "            while queue:\n",
    "                if(L[i] < queue[-1].val):\n",
    "                    break\n",
    "                else:\n",
    "                    last = queue[-1]\n",
    "                    queue.pop()\n",
    "            last.right = curr\n",
    "            queue.append(curr)\n",
    "    return root\n",
    "\n",
    "BST_from_L = construct_BST([2, 1, 7, 4, 3, 6, 5, 8])\n",
    "print(\"In order:\")\n",
    "in_order(BST_from_L)\n",
    "print('Pre order:')\n",
    "pre_order(BST_from_L)"
   ]
  },
  {
   "cell_type": "markdown",
   "metadata": {
    "id": "OurqpW9Nvra5"
   },
   "source": [
    "# Ejercicios"
   ]
  },
  {
   "cell_type": "markdown",
   "metadata": {},
   "source": [
    "## Ejercicio 1\n",
    "\n",
    "Tenemos un BST con las siguientes reglas:\n",
    "\n",
    "* `root.val = 0`\n",
    "* Si `node.left != None` (donde `node` es un nodo arbitrario, incluyendo la raíz), y `node.val = x`, entonces `node.left.val = 2*x + 1`.\n",
    "* Si `node.right != None`, y `node.val = x`, entonces `node.right.val = 2*x + 2`.\n",
    "\n",
    "Asumiendo que tienes un árbol que sigue estas reglas (definido usando la clase `Node` previamente vista), y que no sabes el valor de ninguno de sus nodos, escribe una función que actualice el valor de todos los nodos.\n",
    "\n",
    "Pruébalo con el siguiente árbol:\n",
    "\n",
    "```\n",
    "    -1\n",
    "   /  \\\n",
    "  -1  -1\n",
    " /  \\\n",
    "-1  -1\n",
    "```"
   ]
  },
  {
   "cell_type": "code",
   "execution_count": 17,
   "metadata": {},
   "outputs": [],
   "source": [
    "root = Node(-1)\n",
    "root.left = Node(-1)\n",
    "root.left.left = Node(-1)\n",
    "root.left.right = Node(-1)\n",
    "root.right = Node(-1)"
   ]
  },
  {
   "cell_type": "markdown",
   "metadata": {},
   "source": [
    "Tu función debe de actualizar los valores a:\n",
    "\n",
    "```\n",
    "     0\n",
    "   /  \\\n",
    "  1    2\n",
    " /  \\\n",
    "3    4\n",
    "```"
   ]
  },
  {
   "cell_type": "markdown",
   "metadata": {},
   "source": [
    "**Explicación:**\n",
    "\n",
    "`enumerate_tree_nodes`: \n",
    "\n",
    "Esta es la función principal, la cual se invoca explícitamente.Su función es inicializar el valor del nodo raíz a 0 y luego llamar a `update_nodes` para propagar los valores a todos los nodos del árbol.\n",
    "\n",
    "- Si el árbol no está vacío (root no es None), asigna el valor 0 a la raíz y llama a `update_nodes` para actualizar el resto de los nodos.\n",
    "\n",
    "- Llama a `update_nodes(root)` para actualizar los valores de los hijos y el resto de los nodos del árbol, siguiendo las reglas ya mencionadas.\n",
    "\n",
    "- Si el árbol está vacío (root es None), retorna None.\n",
    "\n",
    "\n",
    "`update_nodes`: Esta función auxiliar recorre el árbol binario y actualizar los valores de cada nodo según su valor actual y el de sus hijos. \n",
    "\n",
    "- Si el nodo tiene un hijo izquierdo, se le asigna el valor 2*node.val + 1, y la función llama recursivamente a sí misma para seguir actualizando los valores del subárbol izquierdo.\n",
    "- Si el nodo tiene un hijo derecho, se le asigna el valor 2*node.val + 2, y de manera recursiva, la función actualiza los nodos del subárbol derecho.\n",
    "- Esto continúa hasta que todos los nodos hayan sido visitados."
   ]
  },
  {
   "cell_type": "code",
   "execution_count": 18,
   "metadata": {},
   "outputs": [
    {
     "name": "stdout",
     "output_type": "stream",
     "text": [
      "Root: 0\n",
      "Left: 1\n",
      "Right: 2\n",
      "Left Left: 3\n",
      "Left Right: 4\n"
     ]
    }
   ],
   "source": [
    "def update_nodes(node):\n",
    "    \"\"\"\n",
    "    Updates the value of each node according to the following rule:\n",
    "    - If the current node node has value x, then its left child (if it has) has value 2*x + 1\n",
    "    - Its right child (if it has) has value 2*x + 2.\n",
    "    \"\"\"\n",
    "    if node.left is not None:\n",
    "        node.left.val = 2*node.val + 1\n",
    "        update_nodes(node.left)\n",
    "    if node.right is not None:\n",
    "        node.right.val = 2*node.val + 2\n",
    "        update_nodes(node.right)\n",
    "\n",
    "def enumerate_tree_nodes(root):\n",
    "    \"\"\"\n",
    "    Updates the value of each node in the tree and returns the root node.\n",
    "    The tree values are an enumeration of the nodes in breadth-first order.\n",
    "    \"\"\"\n",
    "    if root is not None:\n",
    "        root.val = 0\n",
    "        update_nodes(root) # Above function\n",
    "        return root\n",
    "    else:\n",
    "        return None\n",
    "\n",
    "# Testing\n",
    "enumerated_tree = enumerate_tree_nodes(root)\n",
    "print('Root:', enumerated_tree.val)\n",
    "print('Left:', enumerated_tree.left.val)\n",
    "print('Right:', enumerated_tree.right.val)\n",
    "print('Left Left:', enumerated_tree.left.left.val)\n",
    "print('Left Right:', enumerated_tree.left.right.val)"
   ]
  },
  {
   "cell_type": "markdown",
   "metadata": {},
   "source": [
    "```\n",
    "        0       (root.val = 0)\n",
    "       /  \\\n",
    "     1     2    (left.val = 2*0 + 1, right.val = 2*0 + 2)\n",
    "    / \\\n",
    "   3   4       (left-left.val = 2*1 + 1, left-right.val = 2*1 + 2)\n",
    "```"
   ]
  },
  {
   "cell_type": "markdown",
   "metadata": {},
   "source": [
    "## Ejercicio 2\n",
    "\n",
    "Escribe una función para verificar si un árbol binario es un BST (i.e., que se cumplen las relaciones de menor que/mayor que para cada sub-árbol)."
   ]
  },
  {
   "cell_type": "markdown",
   "metadata": {},
   "source": [
    "**Explicación:**\n",
    "\n",
    "Se creó una función recursiva tal que:\n",
    "\n",
    "**Caso base**: \n",
    "\n",
    "Si el nodo es None hemos llegado al final de un subárbol (una hoja), lo cual es válido, así que retornamos True.\n",
    "\n",
    "**Rango de valores perimitidos**:\n",
    "\n",
    "- Cada nodo debe tener un valor que esté entre un min_val y un max_val.\n",
    "- Para el nodo actual, este valor debe estar entre min_val < node.val < max_val. Si no se cumple esta condición, se retorna False.\n",
    "\n",
    "**Recursión**: \n",
    "\n",
    "- Para el subárbol izquierdo, el valor máximo permitido es el valor del nodo actual (node.val), ya que todos los nodos en el subárbol izquierdo deben ser menores que este valor.\n",
    "- Para el subárbol derecho, el valor mínimo permitido es el valor del nodo actual, ya que todos los nodos en el subárbol derecho deben ser mayores que este valor."
   ]
  },
  {
   "cell_type": "code",
   "execution_count": 19,
   "metadata": {},
   "outputs": [
    {
     "name": "stdout",
     "output_type": "stream",
     "text": [
      "False\n",
      "True\n",
      "True\n"
     ]
    }
   ],
   "source": [
    "def is_BST(node, min_val=float('-inf'), max_val=float('inf')):\n",
    "    \"\"\"\n",
    "    Check if the tree is a binary search tree (BST).\n",
    "    \"\"\"\n",
    "    if node is None:\n",
    "        return True  # We reached a leaf node, thus it is a BST.\n",
    "\n",
    "    # Check if current node value is within the valid range.\n",
    "    if not (min_val < node.val < max_val):\n",
    "        return False\n",
    "\n",
    "    # Recursively check the left and right subtrees with updated valid ranges.\n",
    "    return (is_BST(node.left, min_val, node.val) and is_BST(node.right, node.val, max_val))\n",
    "\n",
    "# Testing\n",
    "print(is_BST(enumerated_tree)) # Should be FALSE\n",
    "# El arból enumerado no es un BST porque el nodo 1 tiene un valor mayor que el nodo 0, pero es su hijo izquierdo.\n",
    "print(is_BST(BST_from_L)) # Should be TRUE\n",
    "print(is_BST(tree)) # Should be TRUE"
   ]
  },
  {
   "cell_type": "markdown",
   "metadata": {},
   "source": [
    "Otro caso:\n",
    "```\n",
    "      10\n",
    "     /  \\\n",
    "    5   20\n",
    "   / \\\n",
    "  1   15\n",
    "``` "
   ]
  },
  {
   "cell_type": "code",
   "execution_count": 20,
   "metadata": {},
   "outputs": [
    {
     "name": "stdout",
     "output_type": "stream",
     "text": [
      "False\n"
     ]
    }
   ],
   "source": [
    "test_tree = Node(10)\n",
    "test_tree.left = Node(5)\n",
    "test_tree.right = Node(20)\n",
    "test_tree.left.left = Node(1)\n",
    "test_tree.left.right = Node(15)\n",
    "print(is_BST(test_tree)) # Should be FALSE"
   ]
  },
  {
   "cell_type": "markdown",
   "metadata": {},
   "source": [
    "## Ejercicio 3\n",
    "\n",
    "En un BST, los valores de dos nodos se intercambiaron accidentalmente. Escribe una función que encuentre estos dos nodos, y regrese el árbol a su estado original.\n",
    "\n",
    "Pruébalo con el siguiente árbol:\n",
    "\n",
    "```\n",
    "          4\n",
    "        /    \\\n",
    "       2      6\n",
    "      / \\    / \\\n",
    "     7   3  5   1\n",
    "    /            \\\n",
    "   0              8\n",
    "```   "
   ]
  },
  {
   "cell_type": "code",
   "execution_count": 21,
   "metadata": {},
   "outputs": [
    {
     "name": "stdout",
     "output_type": "stream",
     "text": [
      "0\n",
      "7\n",
      "2\n",
      "3\n",
      "4\n",
      "5\n",
      "6\n",
      "1\n",
      "8\n",
      "False\n"
     ]
    }
   ],
   "source": [
    "# Adding nodes of the example tree\n",
    "tree = Node(4)\n",
    "tree.left = Node(2)\n",
    "tree.right = Node(6)\n",
    "tree.left.left = Node(7)\n",
    "tree.left.right = Node(3)\n",
    "tree.right.left = Node(5)\n",
    "tree.right.right = Node(1)\n",
    "tree.left.left.left = Node(0)\n",
    "tree.right.right.right = Node(8)\n",
    "in_order(tree)\n",
    "print(is_BST(tree)) # Should be FALSE"
   ]
  },
  {
   "cell_type": "markdown",
   "metadata": {},
   "source": [
    "El árbol correcto es:\n",
    "\n",
    "```\n",
    "          4\n",
    "        /    \\\n",
    "       2      6\n",
    "      / \\    / \\\n",
    "     1   3  5   7\n",
    "    /            \\\n",
    "   0              8\n",
    "```   "
   ]
  },
  {
   "cell_type": "markdown",
   "metadata": {},
   "source": [
    "**Explicación:**\n",
    "\n",
    "`in_order_list`: \n",
    "\n",
    "Crea una lista con los valores del árbol recorrido en in-orden.\n",
    "\n",
    "`swap_nodes`:\n",
    "\n",
    "Intercambia los valores de los nodos con valores x y y en el árbol.\n",
    "- La función recibe el nodo raíz y los valores x y y que se quieren intercambiar.\n",
    "- Si el nodo actual tiene el valor x, su valor se cambia a y, y si tiene el valor y, se cambia a x.\n",
    "- La función se llama recursivamente para los subárboles izquierdo y derecho, asegurando que todos los nodos sean revisados.\n",
    "\n",
    "`undo_swap(tree)`:\n",
    "\n",
    "Restaura el orden original de un árbol binario de búsqueda (BST) si dos nodos han sido intercambiados por error.\n",
    "- Llama a `in_order_list(tree)` para obtener una lista L de los valores de los nodos en orden in-order. En un árbol BST correctamente ordenado, esta lista debe estar en orden ascendente.\n",
    "-  La función busca en la lista los dos elementos que no están en orden ascendente.\n",
    "- Encuentra el primer par de elementos que no respetan el orden, y luego busca el segundo elemento fuera de orden.\n",
    "- Utiliza swap_nodes(tree, x, y) para intercambiar los dos nodos que están fuera de orden."
   ]
  },
  {
   "cell_type": "code",
   "execution_count": 22,
   "metadata": {},
   "outputs": [
    {
     "name": "stdout",
     "output_type": "stream",
     "text": [
      "Original in-order:\n",
      "0\n",
      "7\n",
      "2\n",
      "3\n",
      "4\n",
      "5\n",
      "6\n",
      "1\n",
      "8\n",
      "Corrected in-order:\n",
      "0\n",
      "1\n",
      "2\n",
      "3\n",
      "4\n",
      "5\n",
      "6\n",
      "7\n",
      "8\n"
     ]
    },
    {
     "data": {
      "text/plain": [
       "True"
      ]
     },
     "execution_count": 22,
     "metadata": {},
     "output_type": "execute_result"
    }
   ],
   "source": [
    "def in_order_list(root, L=None):\n",
    "    \"\"\"Creates a list with the in-order traversal of the tree\"\"\"\n",
    "    if L is None:\n",
    "        L = []\n",
    "    if root is not None:\n",
    "        in_order_list(root.left, L)\n",
    "        L.append(root.val)\n",
    "        in_order_list(root.right, L)\n",
    "    return L\n",
    "\n",
    "def swap_nodes(root, x, y):\n",
    "    \"\"\"\n",
    "    Swap the values of the nodes with values x and y in the tree\n",
    "    \"\"\"\n",
    "    if root is not None:\n",
    "        # If the current node has value x or y, we swap it\n",
    "        if root.val == x:\n",
    "            root.val = y\n",
    "        elif root.val == y:\n",
    "            root.val = x\n",
    "        # We continue the search in the left and right subtrees\n",
    "        swap_nodes(root.left, x, y)\n",
    "        swap_nodes(root.right, x, y)\n",
    "\n",
    "def undo_swap(tree):\n",
    "    \"\"\"\n",
    "    Swap back the two elements that are not in order\n",
    "    in the tree to restore the original tree\n",
    "    \"\"\"\n",
    "    L = in_order_list(tree)\n",
    "    # We are going to find the two elements that are swapped\n",
    "    # i.e. the two elements that are not in order\n",
    "    # print(L)\n",
    "    unordered = []\n",
    "    index = 0\n",
    "    for i in range(len(L)-1):\n",
    "        if L[i] > L[i+1]:\n",
    "            unordered.append(L[i])\n",
    "            index = i+1\n",
    "            break\n",
    "    for i in range(index, len(L)-1):\n",
    "        if L[i] > L[i+1]:\n",
    "            unordered.append(L[i+1])\n",
    "            break\n",
    "    # We swap the values of the two elements\n",
    "    swap_nodes(tree, unordered[0], unordered[1])\n",
    "\n",
    "# We are going to swap 7 and 1\n",
    "print(\"Original in-order:\")\n",
    "in_order(tree)\n",
    "undo_swap(tree)\n",
    "print(\"Corrected in-order:\")\n",
    "in_order(tree)\n",
    "is_BST(tree) # Should be TRUE"
   ]
  }
 ],
 "metadata": {
  "colab": {
   "collapsed_sections": [],
   "include_colab_link": true,
   "name": "Árboles Binarios de Búsqueda.ipynb",
   "provenance": []
  },
  "kernelspec": {
   "display_name": "Python 3",
   "language": "python",
   "name": "python3"
  },
  "language_info": {
   "codemirror_mode": {
    "name": "ipython",
    "version": 3
   },
   "file_extension": ".py",
   "mimetype": "text/x-python",
   "name": "python",
   "nbconvert_exporter": "python",
   "pygments_lexer": "ipython3",
   "version": "3.13.0"
  }
 },
 "nbformat": 4,
 "nbformat_minor": 4
}
